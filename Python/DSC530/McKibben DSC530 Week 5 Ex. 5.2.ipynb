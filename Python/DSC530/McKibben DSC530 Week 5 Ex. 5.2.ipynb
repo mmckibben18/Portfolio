{
 "cells": [
  {
   "cell_type": "markdown",
   "metadata": {},
   "source": [
    "# Author: Makayla McKibben\n",
    "## Course: DSC 530 Data Exploration and Analysis\n",
    "## Date: 09.28.2024\n",
    "## Week 5\n",
    "## Exercise 5.2"
   ]
  },
  {
   "cell_type": "code",
   "execution_count": 2,
   "metadata": {},
   "outputs": [],
   "source": [
    "# Import relevant libraries/modules\n",
    "import numpy as np\n",
    "import pandas as pd\n",
    "from matplotlib import pyplot as plt\n",
    "import scipy.stats\n",
    "import thinkstats2\n",
    "import thinkplot\n",
    "import warnings\n",
    "import hinc\n",
    "from scipy.stats import pareto"
   ]
  },
  {
   "cell_type": "code",
   "execution_count": 3,
   "metadata": {},
   "outputs": [],
   "source": [
    "# Remove future warning\n",
    "warnings.simplefilter(action='ignore', category=FutureWarning)"
   ]
  },
  {
   "cell_type": "markdown",
   "metadata": {},
   "source": [
    "### Activity 5-1"
   ]
  },
  {
   "cell_type": "markdown",
   "metadata": {},
   "source": [
    "What percentage of the US male population are between 5'10\" and 6'1\"?"
   ]
  },
  {
   "cell_type": "code",
   "execution_count": 6,
   "metadata": {},
   "outputs": [],
   "source": [
    "# Create the distribution of male heights from the mean and standard deviation\n",
    "height_dist = scipy.stats.norm(loc = 178, scale = 7.7)"
   ]
  },
  {
   "cell_type": "code",
   "execution_count": 7,
   "metadata": {},
   "outputs": [
    {
     "name": "stdout",
     "output_type": "stream",
     "text": [
      "34.21 %\n"
     ]
    }
   ],
   "source": [
    "# Find the percentage of people between the heights give and print it\n",
    "print(round((height_dist.cdf(185.4) - height_dist.cdf(177.8))*100, 2), \"%\")"
   ]
  },
  {
   "cell_type": "markdown",
   "metadata": {},
   "source": [
    "### Activity 5-2"
   ]
  },
  {
   "cell_type": "code",
   "execution_count": 9,
   "metadata": {},
   "outputs": [
    {
     "data": {
      "text/plain": [
       "<function matplotlib.pyplot.show(close=None, block=None)>"
      ]
     },
     "execution_count": 9,
     "metadata": {},
     "output_type": "execute_result"
    },
    {
     "data": {
      "image/png": "[encoded data removed]",
      "text/plain": [
       "<Figure size 640x480 with 1 Axes>"
      ]
     },
     "metadata": {},
     "output_type": "display_data"
    }
   ],
   "source": [
    "# Plot this distribution.\n",
    "x = np.linspace(0.5, 10.5, 1000)\n",
    "output = np.array([pareto.pdf(x, scale = 1, b = 1.7)])\n",
    "plt.plot(x, output.T)\n",
    "plt.show"
   ]
  },
  {
   "cell_type": "code",
   "execution_count": 10,
   "metadata": {},
   "outputs": [],
   "source": [
    "# Create distribution\n",
    "pareto_dist = scipy.stats.pareto(b = 1.7, scale = 1)"
   ]
  },
  {
   "cell_type": "code",
   "execution_count": 11,
   "metadata": {},
   "outputs": [
    {
     "data": {
      "text/plain": [
       "2.428571428571429"
      ]
     },
     "execution_count": 11,
     "metadata": {},
     "output_type": "execute_result"
    }
   ],
   "source": [
    "# What is the mean human height in Pareto world?\n",
    "pareto_dist.mean()"
   ]
  },
  {
   "cell_type": "code",
   "execution_count": 12,
   "metadata": {},
   "outputs": [
    {
     "data": {
      "text/plain": [
       "0.778739697565288"
      ]
     },
     "execution_count": 12,
     "metadata": {},
     "output_type": "execute_result"
    }
   ],
   "source": [
    "# What fraction of the population is shorter than the mean? \n",
    "pareto_dist.cdf(pareto_dist.mean())"
   ]
  },
  {
   "cell_type": "code",
   "execution_count": 13,
   "metadata": {},
   "outputs": [
    {
     "name": "stdout",
     "output_type": "stream",
     "text": [
      "55602.98 people\n"
     ]
    }
   ],
   "source": [
    "# If there are 7 billion people in Pareto world, how many do we expect to be taller than 1 km?\n",
    "print(round((1 - pareto_dist.cdf(1000))*7e9, 2), \"people\")"
   ]
  },
  {
   "cell_type": "code",
   "execution_count": 14,
   "metadata": {},
   "outputs": [
    {
     "name": "stdout",
     "output_type": "stream",
     "text": [
      "618349.61 meters\n"
     ]
    }
   ],
   "source": [
    "# How tall do we expect the tallest person to be?\n",
    "# Calculate, round, and print the distribution value from the probability\n",
    "print(round(pareto_dist.ppf(1-1 / 7e9), 2), \"meters\")"
   ]
  },
  {
   "cell_type": "markdown",
   "metadata": {},
   "source": [
    "### Activity 6-1"
   ]
  },
  {
   "cell_type": "code",
   "execution_count": 16,
   "metadata": {},
   "outputs": [],
   "source": [
    "# Thinkstats2 functions\n",
    "    \n",
    "def RawMoment(xs, k):\n",
    "    return sum(x**k for x in xs) / len(xs)\n",
    "\n",
    "def CentralMoment(xs, k):\n",
    "    mean = RawMoment(xs, 1)\n",
    "    return sum((x - mean)**k for x in xs) / len(xs)\n",
    "\n",
    "def StandardizedMoment(xs, k):\n",
    "    var = CentralMoment(xs, 2)\n",
    "    std = np.sqrt(var)\n",
    "    return CentralMoment(xs, k) / std**k\n",
    "\n",
    "def Mean(xs):\n",
    "    return RawMoment(xs, 1)\n",
    "\n",
    "def Median(xs):\n",
    "    cdf = thinkstats2.Cdf(xs)\n",
    "    return cdf.Value(0.5)\n",
    "\n",
    "def Var(xs):\n",
    "    return CentralMoment(xs, 2)\n",
    "\n",
    "def Skewness(xs):\n",
    "    return StandardizedMoment(xs, 3)\n",
    "\n",
    "def PearsonMedianSkewness(xs):\n",
    "    median = Median(xs)\n",
    "    mean = RawMoment(xs, 1)\n",
    "    var = CentralMoment(xs, 2)\n",
    "    std = np.sqrt(var)\n",
    "    gp = 3 * (mean - median) / std\n",
    "    return gp\n",
    "\n",
    "def InterpolateSample(df, log_upper=6.0):\n",
    "    \"\"\"Makes a sample of log10 household income.\n",
    "\n",
    "    Assumes that log10 income is uniform in each range.\n",
    "\n",
    "    df: DataFrame with columns income and freq\n",
    "    log_upper: log10 of the assumed upper bound for the highest range\n",
    "\n",
    "    returns: NumPy array of log10 household income\n",
    "    \"\"\"\n",
    "    # compute the log10 of the upper bound for each range\n",
    "    df['log_upper'] = np.log10(df.income)\n",
    "\n",
    "    # get the lower bounds by shifting the upper bound and filling in\n",
    "    # the first element\n",
    "    df['log_lower'] = df.log_upper.shift(1)\n",
    "    df.loc[0, 'log_lower'] = 3.0\n",
    "\n",
    "    # plug in a value for the unknown upper bound of the highest range\n",
    "    df.loc[41, 'log_upper'] = log_upper\n",
    "    \n",
    "    # use the freq column to generate the right number of values in\n",
    "    # each range\n",
    "    arrays = []\n",
    "    for _, row in df.iterrows():\n",
    "        vals = np.linspace(row.log_lower, row.log_upper, int(row.freq))\n",
    "        arrays.append(vals)\n",
    "\n",
    "    # collect the arrays into a single sample\n",
    "    log_sample = np.concatenate(arrays)\n",
    "    return log_sample\n",
    "\n"
   ]
  },
  {
   "cell_type": "code",
   "execution_count": 17,
   "metadata": {},
   "outputs": [
    {
     "data": {
      "text/html": [
       "<div>\n",
       "<style scoped>\n",
       "    .dataframe tbody tr th:only-of-type {\n",
       "        vertical-align: middle;\n",
       "    }\n",
       "\n",
       "    .dataframe tbody tr th {\n",
       "        vertical-align: top;\n",
       "    }\n",
       "\n",
       "    .dataframe thead th {\n",
       "        text-align: right;\n",
       "    }\n",
       "</style>\n",
       "<table border=\"1\" class=\"dataframe\">\n",
       "  <thead>\n",
       "    <tr style=\"text-align: right;\">\n",
       "      <th></th>\n",
       "      <th>income</th>\n",
       "      <th>freq</th>\n",
       "      <th>cumsum</th>\n",
       "      <th>ps</th>\n",
       "    </tr>\n",
       "  </thead>\n",
       "  <tbody>\n",
       "    <tr>\n",
       "      <th>0</th>\n",
       "      <td>4999.0</td>\n",
       "      <td>4204</td>\n",
       "      <td>4204</td>\n",
       "      <td>0.034330</td>\n",
       "    </tr>\n",
       "    <tr>\n",
       "      <th>1</th>\n",
       "      <td>9999.0</td>\n",
       "      <td>4729</td>\n",
       "      <td>8933</td>\n",
       "      <td>0.072947</td>\n",
       "    </tr>\n",
       "    <tr>\n",
       "      <th>2</th>\n",
       "      <td>14999.0</td>\n",
       "      <td>6982</td>\n",
       "      <td>15915</td>\n",
       "      <td>0.129963</td>\n",
       "    </tr>\n",
       "    <tr>\n",
       "      <th>3</th>\n",
       "      <td>19999.0</td>\n",
       "      <td>7157</td>\n",
       "      <td>23072</td>\n",
       "      <td>0.188407</td>\n",
       "    </tr>\n",
       "    <tr>\n",
       "      <th>4</th>\n",
       "      <td>24999.0</td>\n",
       "      <td>7131</td>\n",
       "      <td>30203</td>\n",
       "      <td>0.246640</td>\n",
       "    </tr>\n",
       "  </tbody>\n",
       "</table>\n",
       "</div>"
      ],
      "text/plain": [
       "    income  freq  cumsum        ps\n",
       "0   4999.0  4204    4204  0.034330\n",
       "1   9999.0  4729    8933  0.072947\n",
       "2  14999.0  6982   15915  0.129963\n",
       "3  19999.0  7157   23072  0.188407\n",
       "4  24999.0  7131   30203  0.246640"
      ]
     },
     "execution_count": 17,
     "metadata": {},
     "output_type": "execute_result"
    }
   ],
   "source": [
    "# Get data and take a look at it\n",
    "income = hinc.ReadData()\n",
    "income.head()"
   ]
  },
  {
   "cell_type": "code",
   "execution_count": 18,
   "metadata": {},
   "outputs": [],
   "source": [
    "# Create the sample by raising 10 to the power of the log sample\n",
    "million_cap_sample = np.power(10, InterpolateSample(income, log_upper = 6.0))\n",
    "million_cdf = thinkstats2.Cdf(million_cap_sample)"
   ]
  },
  {
   "cell_type": "code",
   "execution_count": 19,
   "metadata": {},
   "outputs": [
    {
     "name": "stdout",
     "output_type": "stream",
     "text": [
      "The mean of the sample with an upper bound of one million is: $ 74278.71\n",
      "The median of the sample with an upper bound of one million is: $ 51226.45\n",
      "The skewness of the sample with an upper bound of one million is:  4.95\n",
      "The Pearson skewness of the sample with an upper bound of one million is:  0.74\n",
      "The number of people below the mean of the sample with an upper bound of one million is:  66.0 %\n"
     ]
    }
   ],
   "source": [
    "# Round and print the relevant information\n",
    "print('The mean of the sample with an upper bound of one million is: $', round(Mean(million_cap_sample), 2))\n",
    "print('The median of the sample with an upper bound of one million is: $', round(Median(million_cap_sample), 2))\n",
    "print('The skewness of the sample with an upper bound of one million is: ', round(Skewness(million_cap_sample), 2))\n",
    "print('The Pearson skewness of the sample with an upper bound of one million is: ', round(PearsonMedianSkewness(million_cap_sample), 2))\n",
    "print('The number of people below the mean of the sample with an upper bound of one million is: ', round(million_cdf.Prob(Mean(million_cap_sample))*100, 2), '%')"
   ]
  },
  {
   "cell_type": "code",
   "execution_count": 20,
   "metadata": {},
   "outputs": [],
   "source": [
    "# Create the sample by raising 10 to the power of the log sample\n",
    "hun_million_sample = np.power(10, InterpolateSample(income, log_upper = 8.0))\n",
    "hun_million_cdf = thinkstats2.Cdf(hun_million_sample)"
   ]
  },
  {
   "cell_type": "code",
   "execution_count": 22,
   "metadata": {},
   "outputs": [
    {
     "name": "stdout",
     "output_type": "stream",
     "text": [
      "The mean of the sample with an upper bound of one hundred million is: $ 457453.49\n",
      "The median of the sample with an upper bound of one hundred million is: $ 51226.45\n",
      "The skewness of the sample with an upper bound of one hundred million is:  14.89\n",
      "The Pearson median skewness of the sample with an upper bound of one hundred million is:  0.27\n",
      "The number of people below the mean of the sample with an upper bound of one hundred million is:  97.86 %\n"
     ]
    }
   ],
   "source": [
    "# Round and print the relevant information\n",
    "print('The mean of the sample with an upper bound of one hundred million is: $', round(Mean(hun_million_sample), 2))\n",
    "print('The median of the sample with an upper bound of one hundred million is: $', round(Median(hun_million_sample), 2))\n",
    "print('The skewness of the sample with an upper bound of one hundred million is: ', round(Skewness(hun_million_sample), 2))\n",
    "print('The Pearson median skewness of the sample with an upper bound of one hundred million is: ', round(PearsonMedianSkewness(hun_million_sample), 2))\n",
    "print('The number of people below the mean of the sample with an upper bound of one hundred million is: ', round(hun_million_cdf.Prob(Mean(hun_million_sample))*100, 2), '%')"
   ]
  },
  {
   "cell_type": "markdown",
   "metadata": {},
   "source": [
    "### How do the data change with a different upper bound?\n",
    "\n",
    "\n",
    "\n",
    "Because InterpolateSample generates a sample that is equally spaced on a log10 scale, raising the upper bound of income changes the scale pretty drastically. It increases the mean by nearly $400000 and that puts 98% of people below the mean with the increased cap. The median is a good statistic to look at here as it remains unchanged with the cap increase, this tells us that just because the 1% have that much money, it doesn't really impact the average person. Raising the cap increases the skewness but lowers the PearsonMedianSkewness which tells us that maybe the Pearson skewness is not a good statistic for this as we know skewness should increase with an increased cap. "
   ]
  },
  {
   "cell_type": "code",
   "execution_count": null,
   "metadata": {},
   "outputs": [],
   "source": []
  }
 ],
 "metadata": {
  "kernelspec": {
   "display_name": "Python 3 (ipykernel)",
   "language": "python",
   "name": "python3"
  },
  "language_info": {
   "codemirror_mode": {
    "name": "ipython",
    "version": 3
   },
   "file_extension": ".py",
   "mimetype": "text/x-python",
   "name": "python",
   "nbconvert_exporter": "python",
   "pygments_lexer": "ipython3",
   "version": "3.12.4"
  }
 },
 "nbformat": 4,
 "nbformat_minor": 4
}
