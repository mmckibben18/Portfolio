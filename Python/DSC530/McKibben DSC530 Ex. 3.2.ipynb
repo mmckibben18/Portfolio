{
 "cells": [
  {
   "cell_type": "markdown",
   "metadata": {},
   "source": [
    "# Chapter 1\n",
    "\n",
    "Examples and Exercises from Think Stats, 2nd Edition\n",
    "\n",
    "http://thinkstats2.com\n",
    "\n",
    "Copyright 2016 Allen B. Downey\n",
    "\n",
    "MIT License: https://opensource.org/licenses/MIT\n"
   ]
  },
  {
   "cell_type": "code",
   "execution_count": 2,
   "metadata": {},
   "outputs": [],
   "source": [
    "import warnings\n",
    "warnings.simplefilter(action='ignore', category=FutureWarning)"
   ]
  },
  {
   "cell_type": "markdown",
   "metadata": {},
   "source": [
    "### Ex. 1-1"
   ]
  },
  {
   "cell_type": "code",
   "execution_count": 4,
   "metadata": {},
   "outputs": [],
   "source": [
    "from os.path import basename, exists\n",
    "\n",
    "\n",
    "def download(url):\n",
    "    filename = basename(url)\n",
    "    if not exists(filename):\n",
    "        from urllib.request import urlretrieve\n",
    "\n",
    "        local, _ = urlretrieve(url, filename)\n",
    "        print(\"Downloaded \" + local)\n",
    "\n",
    "\n",
    "download(\"https://github.com/AllenDowney/ThinkStats2/raw/master/code/thinkstats2.py\")\n",
    "download(\"https://github.com/AllenDowney/ThinkStats2/raw/master/code/thinkplot.py\")"
   ]
  },
  {
   "cell_type": "code",
   "execution_count": 5,
   "metadata": {},
   "outputs": [],
   "source": [
    "download(\"https://github.com/AllenDowney/ThinkStats2/raw/master/code/nsfg.py\")\n",
    "\n",
    "download(\"https://github.com/AllenDowney/ThinkStats2/raw/master/code/2002FemPreg.dct\")\n",
    "download(\n",
    "    \"https://github.com/AllenDowney/ThinkStats2/raw/master/code/2002FemPreg.dat.gz\"\n",
    ")"
   ]
  },
  {
   "cell_type": "markdown",
   "metadata": {},
   "source": [
    "## Examples from Chapter 1\n",
    "\n",
    "Read NSFG data into a Pandas DataFrame."
   ]
  },
  {
   "cell_type": "code",
   "execution_count": 7,
   "metadata": {},
   "outputs": [],
   "source": [
    "import nsfg"
   ]
  },
  {
   "cell_type": "code",
   "execution_count": 8,
   "metadata": {},
   "outputs": [
    {
     "data": {
      "text/html": [
       "<div>\n",
       "<style scoped>\n",
       "    .dataframe tbody tr th:only-of-type {\n",
       "        vertical-align: middle;\n",
       "    }\n",
       "\n",
       "    .dataframe tbody tr th {\n",
       "        vertical-align: top;\n",
       "    }\n",
       "\n",
       "    .dataframe thead th {\n",
       "        text-align: right;\n",
       "    }\n",
       "</style>\n",
       "<table border=\"1\" class=\"dataframe\">\n",
       "  <thead>\n",
       "    <tr style=\"text-align: right;\">\n",
       "      <th></th>\n",
       "      <th>caseid</th>\n",
       "      <th>pregordr</th>\n",
       "      <th>howpreg_n</th>\n",
       "      <th>howpreg_p</th>\n",
       "      <th>moscurrp</th>\n",
       "      <th>nowprgdk</th>\n",
       "      <th>pregend1</th>\n",
       "      <th>pregend2</th>\n",
       "      <th>nbrnaliv</th>\n",
       "      <th>multbrth</th>\n",
       "      <th>...</th>\n",
       "      <th>laborfor_i</th>\n",
       "      <th>religion_i</th>\n",
       "      <th>metro_i</th>\n",
       "      <th>basewgt</th>\n",
       "      <th>adj_mod_basewgt</th>\n",
       "      <th>finalwgt</th>\n",
       "      <th>secu_p</th>\n",
       "      <th>sest</th>\n",
       "      <th>cmintvw</th>\n",
       "      <th>totalwgt_lb</th>\n",
       "    </tr>\n",
       "  </thead>\n",
       "  <tbody>\n",
       "    <tr>\n",
       "      <th>0</th>\n",
       "      <td>1</td>\n",
       "      <td>1</td>\n",
       "      <td>NaN</td>\n",
       "      <td>NaN</td>\n",
       "      <td>NaN</td>\n",
       "      <td>NaN</td>\n",
       "      <td>6.0</td>\n",
       "      <td>NaN</td>\n",
       "      <td>1.0</td>\n",
       "      <td>NaN</td>\n",
       "      <td>...</td>\n",
       "      <td>0</td>\n",
       "      <td>0</td>\n",
       "      <td>0</td>\n",
       "      <td>3410.389399</td>\n",
       "      <td>3869.349602</td>\n",
       "      <td>6448.271112</td>\n",
       "      <td>2</td>\n",
       "      <td>9</td>\n",
       "      <td>NaN</td>\n",
       "      <td>8.8125</td>\n",
       "    </tr>\n",
       "    <tr>\n",
       "      <th>1</th>\n",
       "      <td>1</td>\n",
       "      <td>2</td>\n",
       "      <td>NaN</td>\n",
       "      <td>NaN</td>\n",
       "      <td>NaN</td>\n",
       "      <td>NaN</td>\n",
       "      <td>6.0</td>\n",
       "      <td>NaN</td>\n",
       "      <td>1.0</td>\n",
       "      <td>NaN</td>\n",
       "      <td>...</td>\n",
       "      <td>0</td>\n",
       "      <td>0</td>\n",
       "      <td>0</td>\n",
       "      <td>3410.389399</td>\n",
       "      <td>3869.349602</td>\n",
       "      <td>6448.271112</td>\n",
       "      <td>2</td>\n",
       "      <td>9</td>\n",
       "      <td>NaN</td>\n",
       "      <td>7.8750</td>\n",
       "    </tr>\n",
       "    <tr>\n",
       "      <th>2</th>\n",
       "      <td>2</td>\n",
       "      <td>1</td>\n",
       "      <td>NaN</td>\n",
       "      <td>NaN</td>\n",
       "      <td>NaN</td>\n",
       "      <td>NaN</td>\n",
       "      <td>5.0</td>\n",
       "      <td>NaN</td>\n",
       "      <td>3.0</td>\n",
       "      <td>5.0</td>\n",
       "      <td>...</td>\n",
       "      <td>0</td>\n",
       "      <td>0</td>\n",
       "      <td>0</td>\n",
       "      <td>7226.301740</td>\n",
       "      <td>8567.549110</td>\n",
       "      <td>12999.542264</td>\n",
       "      <td>2</td>\n",
       "      <td>12</td>\n",
       "      <td>NaN</td>\n",
       "      <td>9.1250</td>\n",
       "    </tr>\n",
       "    <tr>\n",
       "      <th>3</th>\n",
       "      <td>2</td>\n",
       "      <td>2</td>\n",
       "      <td>NaN</td>\n",
       "      <td>NaN</td>\n",
       "      <td>NaN</td>\n",
       "      <td>NaN</td>\n",
       "      <td>6.0</td>\n",
       "      <td>NaN</td>\n",
       "      <td>1.0</td>\n",
       "      <td>NaN</td>\n",
       "      <td>...</td>\n",
       "      <td>0</td>\n",
       "      <td>0</td>\n",
       "      <td>0</td>\n",
       "      <td>7226.301740</td>\n",
       "      <td>8567.549110</td>\n",
       "      <td>12999.542264</td>\n",
       "      <td>2</td>\n",
       "      <td>12</td>\n",
       "      <td>NaN</td>\n",
       "      <td>7.0000</td>\n",
       "    </tr>\n",
       "    <tr>\n",
       "      <th>4</th>\n",
       "      <td>2</td>\n",
       "      <td>3</td>\n",
       "      <td>NaN</td>\n",
       "      <td>NaN</td>\n",
       "      <td>NaN</td>\n",
       "      <td>NaN</td>\n",
       "      <td>6.0</td>\n",
       "      <td>NaN</td>\n",
       "      <td>1.0</td>\n",
       "      <td>NaN</td>\n",
       "      <td>...</td>\n",
       "      <td>0</td>\n",
       "      <td>0</td>\n",
       "      <td>0</td>\n",
       "      <td>7226.301740</td>\n",
       "      <td>8567.549110</td>\n",
       "      <td>12999.542264</td>\n",
       "      <td>2</td>\n",
       "      <td>12</td>\n",
       "      <td>NaN</td>\n",
       "      <td>6.1875</td>\n",
       "    </tr>\n",
       "  </tbody>\n",
       "</table>\n",
       "<p>5 rows × 244 columns</p>\n",
       "</div>"
      ],
      "text/plain": [
       "   caseid  pregordr  howpreg_n  howpreg_p  moscurrp  nowprgdk  pregend1  \\\n",
       "0       1         1        NaN        NaN       NaN       NaN       6.0   \n",
       "1       1         2        NaN        NaN       NaN       NaN       6.0   \n",
       "2       2         1        NaN        NaN       NaN       NaN       5.0   \n",
       "3       2         2        NaN        NaN       NaN       NaN       6.0   \n",
       "4       2         3        NaN        NaN       NaN       NaN       6.0   \n",
       "\n",
       "   pregend2  nbrnaliv  multbrth  ...  laborfor_i  religion_i  metro_i  \\\n",
       "0       NaN       1.0       NaN  ...           0           0        0   \n",
       "1       NaN       1.0       NaN  ...           0           0        0   \n",
       "2       NaN       3.0       5.0  ...           0           0        0   \n",
       "3       NaN       1.0       NaN  ...           0           0        0   \n",
       "4       NaN       1.0       NaN  ...           0           0        0   \n",
       "\n",
       "       basewgt  adj_mod_basewgt      finalwgt  secu_p  sest  cmintvw  \\\n",
       "0  3410.389399      3869.349602   6448.271112       2     9      NaN   \n",
       "1  3410.389399      3869.349602   6448.271112       2     9      NaN   \n",
       "2  7226.301740      8567.549110  12999.542264       2    12      NaN   \n",
       "3  7226.301740      8567.549110  12999.542264       2    12      NaN   \n",
       "4  7226.301740      8567.549110  12999.542264       2    12      NaN   \n",
       "\n",
       "   totalwgt_lb  \n",
       "0       8.8125  \n",
       "1       7.8750  \n",
       "2       9.1250  \n",
       "3       7.0000  \n",
       "4       6.1875  \n",
       "\n",
       "[5 rows x 244 columns]"
      ]
     },
     "execution_count": 8,
     "metadata": {},
     "output_type": "execute_result"
    }
   ],
   "source": [
    "preg = nsfg.ReadFemPreg()\n",
    "preg.head()"
   ]
  },
  {
   "cell_type": "markdown",
   "metadata": {},
   "source": [
    "Print the column names."
   ]
  },
  {
   "cell_type": "code",
   "execution_count": 10,
   "metadata": {},
   "outputs": [
    {
     "data": {
      "text/plain": [
       "Index(['caseid', 'pregordr', 'howpreg_n', 'howpreg_p', 'moscurrp', 'nowprgdk',\n",
       "       'pregend1', 'pregend2', 'nbrnaliv', 'multbrth',\n",
       "       ...\n",
       "       'laborfor_i', 'religion_i', 'metro_i', 'basewgt', 'adj_mod_basewgt',\n",
       "       'finalwgt', 'secu_p', 'sest', 'cmintvw', 'totalwgt_lb'],\n",
       "      dtype='object', length=244)"
      ]
     },
     "execution_count": 10,
     "metadata": {},
     "output_type": "execute_result"
    }
   ],
   "source": [
    "preg.columns"
   ]
  },
  {
   "cell_type": "markdown",
   "metadata": {},
   "source": [
    "Select a single column name."
   ]
  },
  {
   "cell_type": "code",
   "execution_count": 12,
   "metadata": {},
   "outputs": [
    {
     "data": {
      "text/plain": [
       "'pregordr'"
      ]
     },
     "execution_count": 12,
     "metadata": {},
     "output_type": "execute_result"
    }
   ],
   "source": [
    "preg.columns[1]"
   ]
  },
  {
   "cell_type": "markdown",
   "metadata": {},
   "source": [
    "Select a column and check what type it is."
   ]
  },
  {
   "cell_type": "code",
   "execution_count": 14,
   "metadata": {},
   "outputs": [
    {
     "data": {
      "text/plain": [
       "pandas.core.series.Series"
      ]
     },
     "execution_count": 14,
     "metadata": {},
     "output_type": "execute_result"
    }
   ],
   "source": [
    "pregordr = preg['pregordr']\n",
    "type(pregordr)"
   ]
  },
  {
   "cell_type": "markdown",
   "metadata": {},
   "source": [
    "Print a column."
   ]
  },
  {
   "cell_type": "code",
   "execution_count": 16,
   "metadata": {},
   "outputs": [
    {
     "data": {
      "text/plain": [
       "0        1\n",
       "1        2\n",
       "2        1\n",
       "3        2\n",
       "4        3\n",
       "        ..\n",
       "13588    1\n",
       "13589    2\n",
       "13590    3\n",
       "13591    4\n",
       "13592    5\n",
       "Name: pregordr, Length: 13593, dtype: int64"
      ]
     },
     "execution_count": 16,
     "metadata": {},
     "output_type": "execute_result"
    }
   ],
   "source": [
    "pregordr"
   ]
  },
  {
   "cell_type": "markdown",
   "metadata": {},
   "source": [
    "Select a single element from a column."
   ]
  },
  {
   "cell_type": "code",
   "execution_count": 18,
   "metadata": {},
   "outputs": [
    {
     "data": {
      "text/plain": [
       "1"
      ]
     },
     "execution_count": 18,
     "metadata": {},
     "output_type": "execute_result"
    }
   ],
   "source": [
    "pregordr[0]"
   ]
  },
  {
   "cell_type": "markdown",
   "metadata": {},
   "source": [
    "Select a slice from a column."
   ]
  },
  {
   "cell_type": "code",
   "execution_count": 20,
   "metadata": {},
   "outputs": [
    {
     "data": {
      "text/plain": [
       "2    1\n",
       "3    2\n",
       "4    3\n",
       "Name: pregordr, dtype: int64"
      ]
     },
     "execution_count": 20,
     "metadata": {},
     "output_type": "execute_result"
    }
   ],
   "source": [
    "pregordr[2:5]"
   ]
  },
  {
   "cell_type": "markdown",
   "metadata": {},
   "source": [
    "Select a column using dot notation."
   ]
  },
  {
   "cell_type": "code",
   "execution_count": 22,
   "metadata": {},
   "outputs": [],
   "source": [
    "pregordr = preg.pregordr"
   ]
  },
  {
   "cell_type": "markdown",
   "metadata": {},
   "source": [
    "Count the number of times each value occurs."
   ]
  },
  {
   "cell_type": "code",
   "execution_count": 24,
   "metadata": {},
   "outputs": [
    {
     "data": {
      "text/plain": [
       "outcome\n",
       "1    9148\n",
       "2    1862\n",
       "3     120\n",
       "4    1921\n",
       "5     190\n",
       "6     352\n",
       "Name: count, dtype: int64"
      ]
     },
     "execution_count": 24,
     "metadata": {},
     "output_type": "execute_result"
    }
   ],
   "source": [
    "preg.outcome.value_counts().sort_index()"
   ]
  },
  {
   "cell_type": "markdown",
   "metadata": {},
   "source": [
    "Check the values of another variable."
   ]
  },
  {
   "cell_type": "code",
   "execution_count": 26,
   "metadata": {},
   "outputs": [
    {
     "data": {
      "text/plain": [
       "birthwgt_lb\n",
       "0.0        8\n",
       "1.0       40\n",
       "2.0       53\n",
       "3.0       98\n",
       "4.0      229\n",
       "5.0      697\n",
       "6.0     2223\n",
       "7.0     3049\n",
       "8.0     1889\n",
       "9.0      623\n",
       "10.0     132\n",
       "11.0      26\n",
       "12.0      10\n",
       "13.0       3\n",
       "14.0       3\n",
       "15.0       1\n",
       "Name: count, dtype: int64"
      ]
     },
     "execution_count": 26,
     "metadata": {},
     "output_type": "execute_result"
    }
   ],
   "source": [
    "preg.birthwgt_lb.value_counts().sort_index()"
   ]
  },
  {
   "cell_type": "markdown",
   "metadata": {},
   "source": [
    "Make a dictionary that maps from each respondent's `caseid` to a list of indices into the pregnancy `DataFrame`.  Use it to select the pregnancy outcomes for a single respondent."
   ]
  },
  {
   "cell_type": "code",
   "execution_count": 28,
   "metadata": {},
   "outputs": [
    {
     "data": {
      "text/plain": [
       "array([4, 4, 4, 4, 4, 4, 1], dtype=int64)"
      ]
     },
     "execution_count": 28,
     "metadata": {},
     "output_type": "execute_result"
    }
   ],
   "source": [
    "caseid = 10229\n",
    "preg_map = nsfg.MakePregMap(preg)\n",
    "indices = preg_map[caseid]\n",
    "preg.outcome[indices].values"
   ]
  },
  {
   "cell_type": "markdown",
   "metadata": {
    "collapsed": true,
    "jupyter": {
     "outputs_hidden": true
    }
   },
   "source": [
    "## Exercises"
   ]
  },
  {
   "cell_type": "markdown",
   "metadata": {},
   "source": [
    "Select the `birthord` column, print the value counts, and compare to results published in the [codebook](https://ftp.cdc.gov/pub/Health_Statistics/NCHS/Dataset_Documentation/NSFG/Cycle6Codebook-Pregnancy.pdf)"
   ]
  },
  {
   "cell_type": "code",
   "execution_count": 31,
   "metadata": {},
   "outputs": [
    {
     "data": {
      "text/plain": [
       "birthord\n",
       "1.0     4413\n",
       "2.0     2874\n",
       "3.0     1234\n",
       "4.0      421\n",
       "5.0      126\n",
       "6.0       50\n",
       "7.0       20\n",
       "8.0        7\n",
       "9.0        2\n",
       "10.0       1\n",
       "Name: count, dtype: int64"
      ]
     },
     "execution_count": 31,
     "metadata": {},
     "output_type": "execute_result"
    }
   ],
   "source": [
    "# Print value counts, sort for readability\n",
    "preg.birthord.value_counts().sort_index()"
   ]
  },
  {
   "cell_type": "markdown",
   "metadata": {},
   "source": [
    "We can also use `isnull` to count the number of nans."
   ]
  },
  {
   "cell_type": "code",
   "execution_count": 33,
   "metadata": {},
   "outputs": [
    {
     "data": {
      "text/plain": [
       "4445"
      ]
     },
     "execution_count": 33,
     "metadata": {},
     "output_type": "execute_result"
    }
   ],
   "source": [
    "# Count the number of not a number entries in the dataframe\n",
    "preg.birthord.isnull().sum()"
   ]
  },
  {
   "cell_type": "markdown",
   "metadata": {},
   "source": [
    "Select the `prglngth` column, print the value counts, and compare to results published in the [codebook](https://ftp.cdc.gov/pub/Health_Statistics/NCHS/Dataset_Documentation/NSFG/Cycle6Codebook-Pregnancy.pdf)"
   ]
  },
  {
   "cell_type": "code",
   "execution_count": 35,
   "metadata": {},
   "outputs": [
    {
     "data": {
      "text/plain": [
       "prglngth\n",
       "0       15\n",
       "1        9\n",
       "2       78\n",
       "3      151\n",
       "4      412\n",
       "5      181\n",
       "6      543\n",
       "7      175\n",
       "8      409\n",
       "9      594\n",
       "10     137\n",
       "11     202\n",
       "12     170\n",
       "13     446\n",
       "14      29\n",
       "15      39\n",
       "16      44\n",
       "17     253\n",
       "18      17\n",
       "19      34\n",
       "20      18\n",
       "21      37\n",
       "22     147\n",
       "23      12\n",
       "24      31\n",
       "25      15\n",
       "26     117\n",
       "27       8\n",
       "28      38\n",
       "29      23\n",
       "30     198\n",
       "31      29\n",
       "32     122\n",
       "33      50\n",
       "34      60\n",
       "35     357\n",
       "36     329\n",
       "37     457\n",
       "38     609\n",
       "39    4744\n",
       "40    1120\n",
       "41     591\n",
       "42     328\n",
       "43     148\n",
       "44      46\n",
       "45      10\n",
       "46       1\n",
       "47       1\n",
       "48       7\n",
       "50       2\n",
       "Name: count, dtype: int64"
      ]
     },
     "execution_count": 35,
     "metadata": {},
     "output_type": "execute_result"
    }
   ],
   "source": [
    "# Print value counts, sort for readability\n",
    "preg.prglngth.value_counts().sort_index()"
   ]
  },
  {
   "cell_type": "markdown",
   "metadata": {},
   "source": [
    "To compute the mean of a column, you can invoke the `mean` method on a Series.  For example, here is the mean birthweight in pounds:"
   ]
  },
  {
   "cell_type": "code",
   "execution_count": 37,
   "metadata": {},
   "outputs": [
    {
     "data": {
      "text/plain": [
       "7.265628457623368"
      ]
     },
     "execution_count": 37,
     "metadata": {},
     "output_type": "execute_result"
    }
   ],
   "source": [
    "preg.totalwgt_lb.mean()"
   ]
  },
  {
   "cell_type": "markdown",
   "metadata": {},
   "source": [
    "Create a new column named <tt>totalwgt_kg</tt> that contains birth weight in kilograms.  Compute its mean.  Remember that when you create a new column, you have to use dictionary syntax, not dot notation."
   ]
  },
  {
   "cell_type": "code",
   "execution_count": 39,
   "metadata": {},
   "outputs": [
    {
     "data": {
      "text/plain": [
       "3.2956309433502984"
      ]
     },
     "execution_count": 39,
     "metadata": {},
     "output_type": "execute_result"
    }
   ],
   "source": [
    "# Create new column for weight in kilograms\n",
    "preg['totalwgt_kg'] = preg.totalwgt_lb*0.453592\n",
    "# Find the mean of the new column\n",
    "preg.totalwgt_kg.mean()"
   ]
  },
  {
   "cell_type": "markdown",
   "metadata": {},
   "source": [
    "`nsfg.py` also provides `ReadFemResp`, which reads the female respondents file and returns a `DataFrame`:"
   ]
  },
  {
   "cell_type": "code",
   "execution_count": 41,
   "metadata": {},
   "outputs": [],
   "source": [
    "download(\"https://github.com/AllenDowney/ThinkStats2/raw/master/code/2002FemResp.dct\")\n",
    "download(\"https://github.com/AllenDowney/ThinkStats2/raw/master/code/2002FemResp.dat.gz\")"
   ]
  },
  {
   "cell_type": "code",
   "execution_count": 42,
   "metadata": {},
   "outputs": [],
   "source": [
    "# New data frame for the responses\n",
    "resp = nsfg.ReadFemResp()"
   ]
  },
  {
   "cell_type": "markdown",
   "metadata": {},
   "source": [
    "`DataFrame` provides a method `head` that displays the first five rows:"
   ]
  },
  {
   "cell_type": "code",
   "execution_count": 44,
   "metadata": {},
   "outputs": [
    {
     "data": {
      "text/html": [
       "<div>\n",
       "<style scoped>\n",
       "    .dataframe tbody tr th:only-of-type {\n",
       "        vertical-align: middle;\n",
       "    }\n",
       "\n",
       "    .dataframe tbody tr th {\n",
       "        vertical-align: top;\n",
       "    }\n",
       "\n",
       "    .dataframe thead th {\n",
       "        text-align: right;\n",
       "    }\n",
       "</style>\n",
       "<table border=\"1\" class=\"dataframe\">\n",
       "  <thead>\n",
       "    <tr style=\"text-align: right;\">\n",
       "      <th></th>\n",
       "      <th>caseid</th>\n",
       "      <th>rscrinf</th>\n",
       "      <th>rdormres</th>\n",
       "      <th>rostscrn</th>\n",
       "      <th>rscreenhisp</th>\n",
       "      <th>rscreenrace</th>\n",
       "      <th>age_a</th>\n",
       "      <th>age_r</th>\n",
       "      <th>cmbirth</th>\n",
       "      <th>agescrn</th>\n",
       "      <th>...</th>\n",
       "      <th>pubassis_i</th>\n",
       "      <th>basewgt</th>\n",
       "      <th>adj_mod_basewgt</th>\n",
       "      <th>finalwgt</th>\n",
       "      <th>secu_r</th>\n",
       "      <th>sest</th>\n",
       "      <th>cmintvw</th>\n",
       "      <th>cmlstyr</th>\n",
       "      <th>screentime</th>\n",
       "      <th>intvlngth</th>\n",
       "    </tr>\n",
       "  </thead>\n",
       "  <tbody>\n",
       "    <tr>\n",
       "      <th>0</th>\n",
       "      <td>2298</td>\n",
       "      <td>1</td>\n",
       "      <td>5</td>\n",
       "      <td>5</td>\n",
       "      <td>1</td>\n",
       "      <td>5.0</td>\n",
       "      <td>27</td>\n",
       "      <td>27</td>\n",
       "      <td>902</td>\n",
       "      <td>27</td>\n",
       "      <td>...</td>\n",
       "      <td>0</td>\n",
       "      <td>3247.916977</td>\n",
       "      <td>5123.759559</td>\n",
       "      <td>5556.717241</td>\n",
       "      <td>2</td>\n",
       "      <td>18</td>\n",
       "      <td>1234</td>\n",
       "      <td>1222</td>\n",
       "      <td>18:26:36</td>\n",
       "      <td>110.492667</td>\n",
       "    </tr>\n",
       "    <tr>\n",
       "      <th>1</th>\n",
       "      <td>5012</td>\n",
       "      <td>1</td>\n",
       "      <td>5</td>\n",
       "      <td>1</td>\n",
       "      <td>5</td>\n",
       "      <td>5.0</td>\n",
       "      <td>42</td>\n",
       "      <td>42</td>\n",
       "      <td>718</td>\n",
       "      <td>42</td>\n",
       "      <td>...</td>\n",
       "      <td>0</td>\n",
       "      <td>2335.279149</td>\n",
       "      <td>2846.799490</td>\n",
       "      <td>4744.191350</td>\n",
       "      <td>2</td>\n",
       "      <td>18</td>\n",
       "      <td>1233</td>\n",
       "      <td>1221</td>\n",
       "      <td>16:30:59</td>\n",
       "      <td>64.294000</td>\n",
       "    </tr>\n",
       "    <tr>\n",
       "      <th>2</th>\n",
       "      <td>11586</td>\n",
       "      <td>1</td>\n",
       "      <td>5</td>\n",
       "      <td>1</td>\n",
       "      <td>5</td>\n",
       "      <td>5.0</td>\n",
       "      <td>43</td>\n",
       "      <td>43</td>\n",
       "      <td>708</td>\n",
       "      <td>43</td>\n",
       "      <td>...</td>\n",
       "      <td>0</td>\n",
       "      <td>2335.279149</td>\n",
       "      <td>2846.799490</td>\n",
       "      <td>4744.191350</td>\n",
       "      <td>2</td>\n",
       "      <td>18</td>\n",
       "      <td>1234</td>\n",
       "      <td>1222</td>\n",
       "      <td>18:19:09</td>\n",
       "      <td>75.149167</td>\n",
       "    </tr>\n",
       "    <tr>\n",
       "      <th>3</th>\n",
       "      <td>6794</td>\n",
       "      <td>5</td>\n",
       "      <td>5</td>\n",
       "      <td>4</td>\n",
       "      <td>1</td>\n",
       "      <td>5.0</td>\n",
       "      <td>15</td>\n",
       "      <td>15</td>\n",
       "      <td>1042</td>\n",
       "      <td>15</td>\n",
       "      <td>...</td>\n",
       "      <td>0</td>\n",
       "      <td>3783.152221</td>\n",
       "      <td>5071.464231</td>\n",
       "      <td>5923.977368</td>\n",
       "      <td>2</td>\n",
       "      <td>18</td>\n",
       "      <td>1234</td>\n",
       "      <td>1222</td>\n",
       "      <td>15:54:43</td>\n",
       "      <td>28.642833</td>\n",
       "    </tr>\n",
       "    <tr>\n",
       "      <th>4</th>\n",
       "      <td>616</td>\n",
       "      <td>1</td>\n",
       "      <td>5</td>\n",
       "      <td>4</td>\n",
       "      <td>1</td>\n",
       "      <td>5.0</td>\n",
       "      <td>20</td>\n",
       "      <td>20</td>\n",
       "      <td>991</td>\n",
       "      <td>20</td>\n",
       "      <td>...</td>\n",
       "      <td>0</td>\n",
       "      <td>5341.329968</td>\n",
       "      <td>6437.335772</td>\n",
       "      <td>7229.128072</td>\n",
       "      <td>2</td>\n",
       "      <td>18</td>\n",
       "      <td>1233</td>\n",
       "      <td>1221</td>\n",
       "      <td>14:19:44</td>\n",
       "      <td>69.502667</td>\n",
       "    </tr>\n",
       "  </tbody>\n",
       "</table>\n",
       "<p>5 rows × 3087 columns</p>\n",
       "</div>"
      ],
      "text/plain": [
       "   caseid  rscrinf  rdormres  rostscrn  rscreenhisp  rscreenrace  age_a  \\\n",
       "0    2298        1         5         5            1          5.0     27   \n",
       "1    5012        1         5         1            5          5.0     42   \n",
       "2   11586        1         5         1            5          5.0     43   \n",
       "3    6794        5         5         4            1          5.0     15   \n",
       "4     616        1         5         4            1          5.0     20   \n",
       "\n",
       "   age_r  cmbirth  agescrn  ...  pubassis_i      basewgt  adj_mod_basewgt  \\\n",
       "0     27      902       27  ...           0  3247.916977      5123.759559   \n",
       "1     42      718       42  ...           0  2335.279149      2846.799490   \n",
       "2     43      708       43  ...           0  2335.279149      2846.799490   \n",
       "3     15     1042       15  ...           0  3783.152221      5071.464231   \n",
       "4     20      991       20  ...           0  5341.329968      6437.335772   \n",
       "\n",
       "      finalwgt  secu_r  sest  cmintvw  cmlstyr  screentime   intvlngth  \n",
       "0  5556.717241       2    18     1234     1222    18:26:36  110.492667  \n",
       "1  4744.191350       2    18     1233     1221    16:30:59   64.294000  \n",
       "2  4744.191350       2    18     1234     1222    18:19:09   75.149167  \n",
       "3  5923.977368       2    18     1234     1222    15:54:43   28.642833  \n",
       "4  7229.128072       2    18     1233     1221    14:19:44   69.502667  \n",
       "\n",
       "[5 rows x 3087 columns]"
      ]
     },
     "execution_count": 44,
     "metadata": {},
     "output_type": "execute_result"
    }
   ],
   "source": [
    "# Display first five rows of the dataframe\n",
    "resp.head()"
   ]
  },
  {
   "cell_type": "markdown",
   "metadata": {},
   "source": [
    "Select the `age_r` column from `resp` and print the value counts.  How old are the youngest and oldest respondents?"
   ]
  },
  {
   "cell_type": "code",
   "execution_count": 46,
   "metadata": {},
   "outputs": [
    {
     "data": {
      "text/plain": [
       "age_r\n",
       "15    217\n",
       "16    223\n",
       "17    234\n",
       "18    235\n",
       "19    241\n",
       "20    258\n",
       "21    267\n",
       "22    287\n",
       "23    282\n",
       "24    269\n",
       "25    267\n",
       "26    260\n",
       "27    255\n",
       "28    252\n",
       "29    262\n",
       "30    292\n",
       "31    278\n",
       "32    273\n",
       "33    257\n",
       "34    255\n",
       "35    262\n",
       "36    266\n",
       "37    271\n",
       "38    256\n",
       "39    215\n",
       "40    256\n",
       "41    250\n",
       "42    215\n",
       "43    253\n",
       "44    235\n",
       "Name: count, dtype: int64"
      ]
     },
     "execution_count": 46,
     "metadata": {},
     "output_type": "execute_result"
    }
   ],
   "source": [
    "# Print value counts, sort for readability\n",
    "resp.age_r.value_counts().sort_index()\n",
    "# 15 is the youngest\n",
    "# 44 is the oldest"
   ]
  },
  {
   "cell_type": "markdown",
   "metadata": {},
   "source": [
    "We can use the `caseid` to match up rows from `resp` and `preg`.  For example, we can select the row from `resp` for `caseid` 2298 like this:"
   ]
  },
  {
   "cell_type": "code",
   "execution_count": 48,
   "metadata": {},
   "outputs": [
    {
     "data": {
      "text/html": [
       "<div>\n",
       "<style scoped>\n",
       "    .dataframe tbody tr th:only-of-type {\n",
       "        vertical-align: middle;\n",
       "    }\n",
       "\n",
       "    .dataframe tbody tr th {\n",
       "        vertical-align: top;\n",
       "    }\n",
       "\n",
       "    .dataframe thead th {\n",
       "        text-align: right;\n",
       "    }\n",
       "</style>\n",
       "<table border=\"1\" class=\"dataframe\">\n",
       "  <thead>\n",
       "    <tr style=\"text-align: right;\">\n",
       "      <th></th>\n",
       "      <th>caseid</th>\n",
       "      <th>rscrinf</th>\n",
       "      <th>rdormres</th>\n",
       "      <th>rostscrn</th>\n",
       "      <th>rscreenhisp</th>\n",
       "      <th>rscreenrace</th>\n",
       "      <th>age_a</th>\n",
       "      <th>age_r</th>\n",
       "      <th>cmbirth</th>\n",
       "      <th>agescrn</th>\n",
       "      <th>...</th>\n",
       "      <th>pubassis_i</th>\n",
       "      <th>basewgt</th>\n",
       "      <th>adj_mod_basewgt</th>\n",
       "      <th>finalwgt</th>\n",
       "      <th>secu_r</th>\n",
       "      <th>sest</th>\n",
       "      <th>cmintvw</th>\n",
       "      <th>cmlstyr</th>\n",
       "      <th>screentime</th>\n",
       "      <th>intvlngth</th>\n",
       "    </tr>\n",
       "  </thead>\n",
       "  <tbody>\n",
       "    <tr>\n",
       "      <th>0</th>\n",
       "      <td>2298</td>\n",
       "      <td>1</td>\n",
       "      <td>5</td>\n",
       "      <td>5</td>\n",
       "      <td>1</td>\n",
       "      <td>5.0</td>\n",
       "      <td>27</td>\n",
       "      <td>27</td>\n",
       "      <td>902</td>\n",
       "      <td>27</td>\n",
       "      <td>...</td>\n",
       "      <td>0</td>\n",
       "      <td>3247.916977</td>\n",
       "      <td>5123.759559</td>\n",
       "      <td>5556.717241</td>\n",
       "      <td>2</td>\n",
       "      <td>18</td>\n",
       "      <td>1234</td>\n",
       "      <td>1222</td>\n",
       "      <td>18:26:36</td>\n",
       "      <td>110.492667</td>\n",
       "    </tr>\n",
       "  </tbody>\n",
       "</table>\n",
       "<p>1 rows × 3087 columns</p>\n",
       "</div>"
      ],
      "text/plain": [
       "   caseid  rscrinf  rdormres  rostscrn  rscreenhisp  rscreenrace  age_a  \\\n",
       "0    2298        1         5         5            1          5.0     27   \n",
       "\n",
       "   age_r  cmbirth  agescrn  ...  pubassis_i      basewgt  adj_mod_basewgt  \\\n",
       "0     27      902       27  ...           0  3247.916977      5123.759559   \n",
       "\n",
       "      finalwgt  secu_r  sest  cmintvw  cmlstyr  screentime   intvlngth  \n",
       "0  5556.717241       2    18     1234     1222    18:26:36  110.492667  \n",
       "\n",
       "[1 rows x 3087 columns]"
      ]
     },
     "execution_count": 48,
     "metadata": {},
     "output_type": "execute_result"
    }
   ],
   "source": [
    "resp[resp.caseid==2298]"
   ]
  },
  {
   "cell_type": "markdown",
   "metadata": {},
   "source": [
    "And we can get the corresponding rows from `preg` like this:"
   ]
  },
  {
   "cell_type": "code",
   "execution_count": 50,
   "metadata": {},
   "outputs": [
    {
     "data": {
      "text/html": [
       "<div>\n",
       "<style scoped>\n",
       "    .dataframe tbody tr th:only-of-type {\n",
       "        vertical-align: middle;\n",
       "    }\n",
       "\n",
       "    .dataframe tbody tr th {\n",
       "        vertical-align: top;\n",
       "    }\n",
       "\n",
       "    .dataframe thead th {\n",
       "        text-align: right;\n",
       "    }\n",
       "</style>\n",
       "<table border=\"1\" class=\"dataframe\">\n",
       "  <thead>\n",
       "    <tr style=\"text-align: right;\">\n",
       "      <th></th>\n",
       "      <th>caseid</th>\n",
       "      <th>pregordr</th>\n",
       "      <th>howpreg_n</th>\n",
       "      <th>howpreg_p</th>\n",
       "      <th>moscurrp</th>\n",
       "      <th>nowprgdk</th>\n",
       "      <th>pregend1</th>\n",
       "      <th>pregend2</th>\n",
       "      <th>nbrnaliv</th>\n",
       "      <th>multbrth</th>\n",
       "      <th>...</th>\n",
       "      <th>religion_i</th>\n",
       "      <th>metro_i</th>\n",
       "      <th>basewgt</th>\n",
       "      <th>adj_mod_basewgt</th>\n",
       "      <th>finalwgt</th>\n",
       "      <th>secu_p</th>\n",
       "      <th>sest</th>\n",
       "      <th>cmintvw</th>\n",
       "      <th>totalwgt_lb</th>\n",
       "      <th>totalwgt_kg</th>\n",
       "    </tr>\n",
       "  </thead>\n",
       "  <tbody>\n",
       "    <tr>\n",
       "      <th>2610</th>\n",
       "      <td>2298</td>\n",
       "      <td>1</td>\n",
       "      <td>NaN</td>\n",
       "      <td>NaN</td>\n",
       "      <td>NaN</td>\n",
       "      <td>NaN</td>\n",
       "      <td>6.0</td>\n",
       "      <td>NaN</td>\n",
       "      <td>1.0</td>\n",
       "      <td>NaN</td>\n",
       "      <td>...</td>\n",
       "      <td>0</td>\n",
       "      <td>0</td>\n",
       "      <td>3247.916977</td>\n",
       "      <td>5123.759559</td>\n",
       "      <td>5556.717241</td>\n",
       "      <td>2</td>\n",
       "      <td>18</td>\n",
       "      <td>NaN</td>\n",
       "      <td>6.8750</td>\n",
       "      <td>3.118445</td>\n",
       "    </tr>\n",
       "    <tr>\n",
       "      <th>2611</th>\n",
       "      <td>2298</td>\n",
       "      <td>2</td>\n",
       "      <td>NaN</td>\n",
       "      <td>NaN</td>\n",
       "      <td>NaN</td>\n",
       "      <td>NaN</td>\n",
       "      <td>6.0</td>\n",
       "      <td>NaN</td>\n",
       "      <td>1.0</td>\n",
       "      <td>NaN</td>\n",
       "      <td>...</td>\n",
       "      <td>0</td>\n",
       "      <td>0</td>\n",
       "      <td>3247.916977</td>\n",
       "      <td>5123.759559</td>\n",
       "      <td>5556.717241</td>\n",
       "      <td>2</td>\n",
       "      <td>18</td>\n",
       "      <td>NaN</td>\n",
       "      <td>5.5000</td>\n",
       "      <td>2.494756</td>\n",
       "    </tr>\n",
       "    <tr>\n",
       "      <th>2612</th>\n",
       "      <td>2298</td>\n",
       "      <td>3</td>\n",
       "      <td>NaN</td>\n",
       "      <td>NaN</td>\n",
       "      <td>NaN</td>\n",
       "      <td>NaN</td>\n",
       "      <td>6.0</td>\n",
       "      <td>NaN</td>\n",
       "      <td>1.0</td>\n",
       "      <td>NaN</td>\n",
       "      <td>...</td>\n",
       "      <td>0</td>\n",
       "      <td>0</td>\n",
       "      <td>3247.916977</td>\n",
       "      <td>5123.759559</td>\n",
       "      <td>5556.717241</td>\n",
       "      <td>2</td>\n",
       "      <td>18</td>\n",
       "      <td>NaN</td>\n",
       "      <td>4.1875</td>\n",
       "      <td>1.899417</td>\n",
       "    </tr>\n",
       "    <tr>\n",
       "      <th>2613</th>\n",
       "      <td>2298</td>\n",
       "      <td>4</td>\n",
       "      <td>NaN</td>\n",
       "      <td>NaN</td>\n",
       "      <td>NaN</td>\n",
       "      <td>NaN</td>\n",
       "      <td>6.0</td>\n",
       "      <td>NaN</td>\n",
       "      <td>1.0</td>\n",
       "      <td>NaN</td>\n",
       "      <td>...</td>\n",
       "      <td>0</td>\n",
       "      <td>0</td>\n",
       "      <td>3247.916977</td>\n",
       "      <td>5123.759559</td>\n",
       "      <td>5556.717241</td>\n",
       "      <td>2</td>\n",
       "      <td>18</td>\n",
       "      <td>NaN</td>\n",
       "      <td>6.8750</td>\n",
       "      <td>3.118445</td>\n",
       "    </tr>\n",
       "  </tbody>\n",
       "</table>\n",
       "<p>4 rows × 245 columns</p>\n",
       "</div>"
      ],
      "text/plain": [
       "      caseid  pregordr  howpreg_n  howpreg_p  moscurrp  nowprgdk  pregend1  \\\n",
       "2610    2298         1        NaN        NaN       NaN       NaN       6.0   \n",
       "2611    2298         2        NaN        NaN       NaN       NaN       6.0   \n",
       "2612    2298         3        NaN        NaN       NaN       NaN       6.0   \n",
       "2613    2298         4        NaN        NaN       NaN       NaN       6.0   \n",
       "\n",
       "      pregend2  nbrnaliv  multbrth  ...  religion_i  metro_i      basewgt  \\\n",
       "2610       NaN       1.0       NaN  ...           0        0  3247.916977   \n",
       "2611       NaN       1.0       NaN  ...           0        0  3247.916977   \n",
       "2612       NaN       1.0       NaN  ...           0        0  3247.916977   \n",
       "2613       NaN       1.0       NaN  ...           0        0  3247.916977   \n",
       "\n",
       "      adj_mod_basewgt     finalwgt  secu_p  sest  cmintvw  totalwgt_lb  \\\n",
       "2610      5123.759559  5556.717241       2    18      NaN       6.8750   \n",
       "2611      5123.759559  5556.717241       2    18      NaN       5.5000   \n",
       "2612      5123.759559  5556.717241       2    18      NaN       4.1875   \n",
       "2613      5123.759559  5556.717241       2    18      NaN       6.8750   \n",
       "\n",
       "      totalwgt_kg  \n",
       "2610     3.118445  \n",
       "2611     2.494756  \n",
       "2612     1.899417  \n",
       "2613     3.118445  \n",
       "\n",
       "[4 rows x 245 columns]"
      ]
     },
     "execution_count": 50,
     "metadata": {},
     "output_type": "execute_result"
    }
   ],
   "source": [
    "preg[preg.caseid==2298]"
   ]
  },
  {
   "cell_type": "markdown",
   "metadata": {},
   "source": [
    "How old is the respondent with `caseid` 1?"
   ]
  },
  {
   "cell_type": "code",
   "execution_count": 52,
   "metadata": {},
   "outputs": [
    {
     "data": {
      "text/plain": [
       "1069    44\n",
       "Name: age_r, dtype: int64"
      ]
     },
     "execution_count": 52,
     "metadata": {},
     "output_type": "execute_result"
    }
   ],
   "source": [
    "# Find the data for respondent with caseid 1\n",
    "resp[resp.caseid==1].age_r\n",
    "# Respondent is 44 years old"
   ]
  },
  {
   "cell_type": "markdown",
   "metadata": {},
   "source": [
    "What are the pregnancy lengths for the respondent with `caseid` 2298?"
   ]
  },
  {
   "cell_type": "code",
   "execution_count": 54,
   "metadata": {},
   "outputs": [
    {
     "data": {
      "text/plain": [
       "2610    40\n",
       "2611    36\n",
       "2612    30\n",
       "2613    40\n",
       "Name: prglngth, dtype: int64"
      ]
     },
     "execution_count": 54,
     "metadata": {},
     "output_type": "execute_result"
    }
   ],
   "source": [
    "# We know there are four entries for this respondent with corresponding index numbers 2610-2613\n",
    "len_2298 = preg[2610:2614]\n",
    "# Output all four values of pregnancy length\n",
    "len_2298['prglngth']"
   ]
  },
  {
   "cell_type": "markdown",
   "metadata": {},
   "source": [
    "What was the birthweight of the first baby born to the respondent with `caseid` 5013?"
   ]
  },
  {
   "cell_type": "code",
   "execution_count": 56,
   "metadata": {},
   "outputs": [
    {
     "data": {
      "text/plain": [
       "5516    7.0\n",
       "5517    NaN\n",
       "5518    8.0\n",
       "5519    8.0\n",
       "Name: birthwgt_lb, dtype: float64"
      ]
     },
     "execution_count": 56,
     "metadata": {},
     "output_type": "execute_result"
    }
   ],
   "source": [
    "# Create new dataframe for respondent 5013\n",
    "frst_5013 = preg[preg.caseid==5013]\n",
    "# Output all birth weight results for respondent 5013\n",
    "frst_5013['birthwgt_lb']\n",
    "# The first baby was 7lbs"
   ]
  },
  {
   "cell_type": "code",
   "execution_count": 57,
   "metadata": {},
   "outputs": [
    {
     "data": {
      "text/plain": [
       "5516    7.0\n",
       "Name: birthwgt_lb, dtype: float64"
      ]
     },
     "execution_count": 57,
     "metadata": {},
     "output_type": "execute_result"
    }
   ],
   "source": [
    "# By using this and statement we require our output to be from the respondent with caseid 5013 \n",
    "# and by selecting the pregnancy order to be the first pregnancy we ensure we're getting the first baby's birth weight\n",
    "preg[(preg.caseid==5013) & (preg.pregordr==1)].birthwgt_lb"
   ]
  },
  {
   "cell_type": "markdown",
   "metadata": {},
   "source": [
    "### Ex. 1-2"
   ]
  },
  {
   "cell_type": "code",
   "execution_count": 59,
   "metadata": {},
   "outputs": [
    {
     "name": "stdout",
     "output_type": "stream",
     "text": [
      "Shape of respondent file is:  (7643, 3087)\n",
      "Shape of pregnancy file is:  (13593, 244)\n",
      "pregnum\n",
      "0     2610\n",
      "1     1267\n",
      "2     1432\n",
      "3     1110\n",
      "4      611\n",
      "5      305\n",
      "6      150\n",
      "7       80\n",
      "8       40\n",
      "9       21\n",
      "10       9\n",
      "11       3\n",
      "12       2\n",
      "14       2\n",
      "19       1\n",
      "Name: count, dtype: int64\n",
      "Number of pregnancies match and the total is:  13593  pregnancies.\n",
      "defaultdict(<class 'list'>, {1: [0, 1], 2: [2, 3, 4], 6: [5, 6, 7], 7: [8, 9], 12: [10], 14: [11, 12, 13], 15: [14, 15, 16], 18: [17, 18], 21: [19, 20], 23: [21, 22], 24: [23, 24, 25], 28: [26], 31: [27, 28, 29], 36: [30, 31], 38: [32, 33, 34], 39: [35, 36], 44: [37, 38, 39, 40], 45: [41], 46: [42, 43], 49: [44, 45, 46, 47], 51: [48, 49, 50], 52: [51], 57: [52, 53, 54], 60: [55, 56], 63: [57, 58, 59], 69: [60], 70: [61, 62, 63, 64], 71: [65], 72: [66, 67], 73: [68, 69], 77: [70, 71], 80: [72, 73, 74, 75, 76], 81: [77], 86: [78, 79, 80], 90: [81, 82], 91: [83, 84, 85, 86, 87, 88, 89], 92: [90, 91, 92], 95: [93, 94], 101: [95, 96], 106: [97, 98, 99], 114: [100], 115: [101], 116: [102, 103], 118: [104, 105, 106], 119: [107, 108], 123: [109, 110], 129: [111], 132: [112, 113], 135: [114], 138: [115], 139: [116, 117], 142: [118, 119, 120, 121], 143: [122, 123], 145: [124, 125, 126, 127, 128, 129], 149: [130, 131, 132], 150: [133, 134, 135, 136, 137, 138], 151: [139], 152: [140, 141, 142, 143, 144, 145, 146], 153: [147, 148], 156: [149], 159: [150, 151], 160: [152, 153, 154, 155, 156], 172: [157, 158, 159], 173: [160], 176: [161, 162], 181: [163, 164], 183: [165, 166], 184: [167], 186: [168, 169], 190: [170, 171, 172, 173, 174], 193: [175, 176], 204: [177], 209: [178], 210: [179, 180, 181, 182], 213: [183, 184, 185], 215: [186, 187], 218: [188, 189, 190], 219: [191, 192], 222: [193], 223: [194, 195, 196, 197, 198, 199, 200, 201], 225: [202], 226: [203], 227: [204, 205], 230: [206, 207], 234: [208, 209], 235: [210], 238: [211], 244: [212, 213, 214], 245: [215, 216], 246: [217, 218, 219, 220], 247: [221, 222], 248: [223, 224, 225], 249: [226, 227, 228], 251: [229, 230, 231, 232], 252: [233, 234], 253: [235, 236, 237, 238], 254: [239, 240, 241], 255: [242, 243, 244, 245, 246], 256: [247, 248, 249], 259: [250, 251, 252], 263: [253, 254, 255, 256, 257], 269: [258, 259, 260, 261], 275: [262], 277: [263, 264, 265], 278: [266, 267, 268, 269, 270, 271, 272, 273], 281: [274, 275, 276], 284: [277, 278, 279, 280, 281], 285: [282, 283], 286: [284], 287: [285, 286, 287], 288: [288, 289, 290], 290: [291], 292: [292, 293, 294, 295], 294: [296, 297, 298], 299: [299], 300: [300, 301, 302, 303, 304, 305], 302: [306, 307], 309: [308, 309, 310, 311, 312, 313], 314: [314, 315, 316, 317, 318], 315: [319, 320, 321, 322], 319: [323, 324, 325, 326], 320: [327, 328, 329], 324: [330, 331, 332, 333, 334], 325: [335, 336], 327: [337, 338], 328: [339, 340], 334: [341, 342, 343, 344, 345, 346], 336: [347, 348, 349], 340: [350, 351, 352, 353], 343: [354, 355, 356], 344: [357, 358], 348: [359, 360, 361], 349: [362, 363], 350: [364, 365, 366, 367], 354: [368, 369], 356: [370, 371], 357: [372, 373, 374], 361: [375], 362: [376, 377, 378, 379], 364: [380], 365: [381, 382, 383, 384], 368: [385, 386, 387, 388], 372: [389, 390, 391, 392, 393, 394], 374: [395], 379: [396, 397, 398, 399], 382: [400, 401, 402], 383: [403, 404, 405, 406], 385: [407, 408, 409, 410], 390: [411, 412, 413], 398: [414], 402: [415], 403: [416], 404: [417, 418], 407: [419], 408: [420, 421], 410: [422], 413: [423, 424, 425, 426, 427, 428, 429, 430, 431, 432], 415: [433, 434, 435, 436, 437], 416: [438], 418: [439, 440, 441], 419: [442, 443, 444, 445, 446], 420: [447, 448], 421: [449], 425: [450, 451], 427: [452, 453], 428: [454], 429: [455], 432: [456, 457, 458], 434: [459], 437: [460, 461, 462], 438: [463, 464, 465, 466, 467], 442: [468], 444: [469, 470, 471, 472, 473, 474], 445: [475], 451: [476, 477, 478], 452: [479], 455: [480, 481], 456: [482, 483, 484], 457: [485], 459: [486, 487, 488, 489], 462: [490, 491], 465: [492, 493], 467: [494, 495], 468: [496], 472: [497], 473: [498, 499, 500], 478: [501, 502], 479: [503, 504], 480: [505], 481: [506, 507, 508, 509, 510, 511, 512], 491: [513, 514, 515, 516], 494: [517, 518, 519], 497: [520], 505: [521, 522, 523], 506: [524, 525], 508: [526], 509: [527, 528, 529], 510: [530, 531, 532, 533], 512: [534], 514: [535, 536], 515: [537, 538, 539, 540, 541, 542], 519: [543], 520: [544, 545, 546, 547, 548], 522: [549], 523: [550, 551, 552], 524: [553], 530: [554, 555, 556, 557, 558], 535: [559, 560], 539: [561], 540: [562, 563, 564, 565], 541: [566], 542: [567, 568, 569, 570], 545: [571], 546: [572], 548: [573], 551: [574, 575, 576], 552: [577, 578], 553: [579, 580], 555: [581, 582], 556: [583], 560: [584, 585, 586], 561: [587], 562: [588, 589, 590], 564: [591, 592], 567: [593, 594, 595], 569: [596], 571: [597, 598], 572: [599, 600, 601], 573: [602, 603, 604], 574: [605, 606, 607, 608, 609, 610, 611], 576: [612, 613], 578: [614], 580: [615, 616], 581: [617, 618, 619, 620], 582: [621, 622], 583: [623], 586: [624, 625, 626, 627], 587: [628, 629], 589: [630, 631, 632, 633], 590: [634, 635], 591: [636], 594: [637], 595: [638, 639, 640, 641], 596: [642], 599: [643, 644], 600: [645], 601: [646, 647, 648, 649, 650, 651, 652, 653, 654, 655], 602: [656], 606: [657, 658, 659, 660, 661], 607: [662, 663], 609: [664, 665, 666], 618: [667], 620: [668], 622: [669, 670], 623: [671], 627: [672], 628: [673, 674], 629: [675], 632: [676, 677, 678, 679], 635: [680, 681, 682, 683, 684, 685, 686, 687, 688], 637: [689, 690, 691, 692], 642: [693, 694, 695], 652: [696, 697, 698], 653: [699, 700, 701], 656: [702, 703, 704], 657: [705, 706, 707], 659: [708, 709, 710], 663: [711, 712, 713], 664: [714, 715], 665: [716, 717, 718], 668: [719, 720], 671: [721], 675: [722, 723], 676: [724, 725], 678: [726], 679: [727, 728, 729], 681: [730], 684: [731, 732], 685: [733, 734, 735, 736, 737], 686: [738, 739], 687: [740], 689: [741, 742], 693: [743, 744, 745, 746], 695: [747, 748, 749], 697: [750], 701: [751, 752, 753, 754, 755], 702: [756, 757, 758, 759, 760, 761, 762, 763], 704: [764], 706: [765], 707: [766, 767, 768, 769, 770], 708: [771, 772, 773, 774, 775], 710: [776, 777, 778], 711: [779], 712: [780, 781, 782], 714: [783, 784], 723: [785, 786, 787], 724: [788, 789, 790, 791, 792], 732: [793, 794], 734: [795, 796, 797], 737: [798, 799, 800], 739: [801, 802], 742: [803], 743: [804, 805, 806, 807], 745: [808, 809, 810, 811, 812], 750: [813, 814], 752: [815, 816, 817], 755: [818, 819, 820], 756: [821, 822, 823, 824], 758: [825, 826, 827, 828], 759: [829, 830], 760: [831, 832, 833, 834, 835], 761: [836, 837, 838, 839, 840], 768: [841], 772: [842, 843], 775: [844, 845], 776: [846, 847], 778: [848, 849], 781: [850], 782: [851, 852, 853], 784: [854, 855, 856], 785: [857], 786: [858, 859], 787: [860, 861], 788: [862, 863], 789: [864, 865], 790: [866, 867, 868], 792: [869], 796: [870, 871, 872, 873, 874], 803: [875, 876], 804: [877, 878], 805: [879, 880, 881, 882], 808: [883, 884, 885, 886, 887], 810: [888], 811: [889, 890, 891], 814: [892, 893, 894, 895], 816: [896, 897, 898, 899], 820: [900, 901, 902, 903], 822: [904, 905], 826: [906, 907, 908], 827: [909, 910, 911], 829: [912, 913], 830: [914, 915, 916], 832: [917, 918, 919, 920, 921, 922, 923], 835: [924], 836: [925, 926], 841: [927], 843: [928, 929, 930], 844: [931, 932, 933, 934, 935], 845: [936, 937, 938, 939, 940, 941, 942, 943], 847: [944, 945], 848: [946, 947, 948, 949], 849: [950, 951, 952, 953, 954], 852: [955, 956, 957, 958, 959], 854: [960, 961, 962], 859: [963, 964], 861: [965, 966, 967, 968], 862: [969, 970], 863: [971, 972, 973], 864: [974, 975, 976, 977], 865: [978, 979, 980, 981], 867: [982, 983], 868: [984, 985, 986], 872: [987, 988, 989, 990], 874: [991, 992, 993], 876: [994, 995], 877: [996, 997, 998, 999, 1000], 880: [1001, 1002], 881: [1003, 1004], 882: [1005, 1006, 1007, 1008, 1009], 884: [1010, 1011], 885: [1012], 886: [1013, 1014], 890: [1015, 1016], 895: [1017, 1018], 897: [1019, 1020, 1021, 1022], 899: [1023, 1024], 900: [1025], 901: [1026, 1027, 1028, 1029, 1030], 904: [1031, 1032], 907: [1033], 910: [1034], 917: [1035], 918: [1036, 1037], 921: [1038, 1039], 928: [1040, 1041], 929: [1042, 1043, 1044], 930: [1045, 1046], 932: [1047, 1048, 1049, 1050], 938: [1051, 1052, 1053], 941: [1054, 1055], 943: [1056], 945: [1057, 1058, 1059], 947: [1060, 1061], 948: [1062, 1063], 950: [1064], 953: [1065, 1066], 954: [1067, 1068, 1069, 1070, 1071], 957: [1072, 1073], 959: [1074, 1075], 960: [1076], 961: [1077, 1078, 1079, 1080], 966: [1081, 1082, 1083], 967: [1084, 1085, 1086, 1087, 1088], 969: [1089, 1090], 971: [1091, 1092], 972: [1093, 1094, 1095, 1096], 974: [1097], 980: [1098, 1099, 1100, 1101, 1102], 984: [1103, 1104], 985: [1105], 989: [1106, 1107, 1108, 1109, 1110, 1111, 1112, 1113, 1114], 990: [1115, 1116], 992: [1117, 1118], 996: [1119, 1120], 997: [1121, 1122], 999: [1123, 1124, 1125], 1000: [1126, 1127, 1128, 1129], 1004: [1130], 1005: [1131], 1007: [1132, 1133, 1134, 1135], 1010: [1136, 1137], 1014: [1138], 1015: [1139, 1140], 1016: [1141, 1142, 1143, 1144], 1017: [1145, 1146, 1147, 1148], 1025: [1149], 1026: [1150, 1151], 1028: [1152, 1153, 1154], 1029: [1155, 1156], 1030: [1157, 1158, 1159], 1031: [1160, 1161, 1162], 1040: [1163], 1042: [1164, 1165, 1166, 1167, 1168, 1169, 1170, 1171], 1044: [1172, 1173], 1045: [1174, 1175], 1050: [1176], 1058: [1177, 1178, 1179, 1180, 1181], 1060: [1182, 1183], 1061: [1184, 1185], 1062: [1186, 1187, 1188], 1063: [1189, 1190, 1191, 1192], 1064: [1193], 1068: [1194, 1195, 1196], 1069: [1197], 1070: [1198], 1072: [1199], 1075: [1200, 1201, 1202, 1203, 1204], 1077: [1205, 1206, 1207], 1084: [1208, 1209], 1086: [1210, 1211, 1212, 1213, 1214, 1215], 1087: [1216, 1217], 1088: [1218, 1219, 1220, 1221], 1089: [1222, 1223, 1224, 1225, 1226, 1227], 1090: [1228], 1091: [1229, 1230, 1231], 1092: [1232, 1233, 1234, 1235], 1094: [1236], 1095: [1237], 1098: [1238, 1239], 1099: [1240], 1100: [1241, 1242, 1243, 1244], 1101: [1245, 1246, 1247, 1248, 1249, 1250], 1107: [1251], 1111: [1252], 1113: [1253, 1254, 1255, 1256], 1115: [1257], 1120: [1258, 1259], 1121: [1260, 1261, 1262], 1122: [1263], 1123: [1264, 1265], 1129: [1266], 1130: [1267, 1268, 1269, 1270], 1131: [1271, 1272, 1273], 1134: [1274, 1275, 1276], 1138: [1277, 1278, 1279], 1139: [1280], 1140: [1281], 1145: [1282, 1283], 1147: [1284, 1285], 1151: [1286, 1287, 1288], 1153: [1289, 1290, 1291, 1292], 1159: [1293], 1160: [1294, 1295, 1296], 1161: [1297, 1298], 1164: [1299, 1300], 1165: [1301, 1302], 1166: [1303, 1304, 1305], 1167: [1306, 1307], 1168: [1308], 1169: [1309, 1310, 1311, 1312, 1313, 1314, 1315, 1316, 1317, 1318, 1319], 1171: [1320, 1321], 1172: [1322, 1323, 1324], 1174: [1325], 1175: [1326], 1176: [1327, 1328, 1329], 1185: [1330, 1331, 1332], 1190: [1333, 1334, 1335, 1336], 1191: [1337, 1338, 1339, 1340, 1341], 1197: [1342, 1343], 1203: [1344, 1345], 1204: [1346, 1347, 1348], 1207: [1349], 1209: [1350, 1351, 1352], 1210: [1353, 1354, 1355], 1211: [1356, 1357, 1358, 1359, 1360, 1361], 1214: [1362, 1363, 1364, 1365, 1366, 1367, 1368, 1369, 1370], 1217: [1371, 1372], 1218: [1373], 1219: [1374, 1375, 1376, 1377, 1378], 1223: [1379, 1380], 1226: [1381, 1382, 1383], 1236: [1384, 1385, 1386], 1237: [1387, 1388, 1389], 1239: [1390, 1391], 1241: [1392, 1393], 1242: [1394, 1395], 1244: [1396, 1397, 1398, 1399], 1246: [1400, 1401, 1402], 1251: [1403, 1404, 1405, 1406], 1255: [1407], 1258: [1408, 1409], 1261: [1410, 1411, 1412, 1413], 1264: [1414, 1415], 1265: [1416, 1417, 1418, 1419], 1266: [1420], 1268: [1421, 1422, 1423, 1424], 1275: [1425, 1426, 1427, 1428], 1277: [1429, 1430, 1431, 1432, 1433], 1279: [1434, 1435, 1436, 1437], 1280: [1438, 1439, 1440, 1441, 1442, 1443], 1282: [1444, 1445], 1283: [1446, 1447, 1448], 1284: [1449, 1450, 1451], 1286: [1452], 1288: [1453, 1454, 1455], 1292: [1456, 1457, 1458, 1459], 1295: [1460, 1461, 1462, 1463], 1296: [1464, 1465, 1466, 1467], 1298: [1468], 1302: [1469, 1470], 1304: [1471, 1472], 1305: [1473, 1474, 1475], 1306: [1476], 1307: [1477, 1478, 1479], 1309: [1480, 1481, 1482], 1311: [1483, 1484], 1314: [1485, 1486, 1487, 1488], 1315: [1489, 1490], 1319: [1491, 1492], 1321: [1493, 1494, 1495], 1333: [1496, 1497, 1498, 1499], 1338: [1500, 1501, 1502], 1339: [1503, 1504, 1505], 1342: [1506, 1507, 1508, 1509], 1343: [1510], 1344: [1511], 1345: [1512], 1346: [1513, 1514, 1515], 1349: [1516, 1517, 1518, 1519], 1351: [1520, 1521, 1522, 1523], 1353: [1524], 1359: [1525, 1526, 1527, 1528, 1529], 1360: [1530], 1362: [1531, 1532, 1533, 1534, 1535], 1364: [1536, 1537], 1366: [1538, 1539, 1540, 1541, 1542], 1373: [1543, 1544], 1380: [1545, 1546, 1547, 1548], 1384: [1549, 1550, 1551, 1552], 1386: [1553], 1388: [1554, 1555, 1556], 1391: [1557, 1558], 1393: [1559, 1560, 1561, 1562], 1396: [1563, 1564, 1565, 1566], 1397: [1567, 1568, 1569, 1570], 1398: [1571], 1399: [1572, 1573, 1574, 1575], 1401: [1576, 1577], 1403: [1578, 1579], 1404: [1580], 1405: [1581, 1582], 1406: [1583, 1584], 1408: [1585], 1409: [1586, 1587, 1588], 1410: [1589, 1590, 1591, 1592], 1411: [1593, 1594, 1595, 1596], 1414: [1597, 1598, 1599, 1600], 1415: [1601, 1602], 1417: [1603, 1604, 1605], 1425: [1606, 1607], 1426: [1608, 1609, 1610, 1611], 1432: [1612, 1613], 1433: [1614, 1615], 1434: [1616, 1617, 1618, 1619], 1435: [1620, 1621], 1436: [1622, 1623], 1438: [1624], 1440: [1625, 1626, 1627, 1628], 1442: [1629, 1630, 1631, 1632], 1443: [1633, 1634, 1635, 1636, 1637, 1638], 1446: [1639, 1640, 1641], 1447: [1642, 1643], 1448: [1644], 1455: [1645, 1646], 1456: [1647], 1460: [1648, 1649], 1465: [1650, 1651, 1652, 1653, 1654], 1466: [1655, 1656, 1657, 1658, 1659], 1474: [1660, 1661], 1476: [1662, 1663], 1477: [1664, 1665, 1666, 1667], 1478: [1668], 1481: [1669, 1670], 1491: [1671, 1672, 1673, 1674, 1675], 1493: [1676, 1677], 1494: [1678, 1679, 1680], 1503: [1681, 1682, 1683, 1684, 1685], 1507: [1686, 1687, 1688], 1510: [1689], 1511: [1690, 1691, 1692], 1512: [1693, 1694], 1513: [1695, 1696], 1515: [1697, 1698, 1699], 1516: [1700, 1701], 1518: [1702, 1703, 1704, 1705, 1706], 1522: [1707], 1524: [1708], 1527: [1709, 1710, 1711, 1712], 1531: [1713], 1532: [1714], 1535: [1715, 1716], 1536: [1717, 1718], 1538: [1719, 1720], 1539: [1721], 1541: [1722, 1723], 1542: [1724, 1725], 1545: [1726, 1727], 1547: [1728], 1548: [1729, 1730], 1549: [1731, 1732, 1733, 1734, 1735], 1555: [1736, 1737, 1738, 1739], 1556: [1740, 1741], 1558: [1742], 1560: [1743], 1561: [1744, 1745], 1565: [1746, 1747], 1568: [1748], 1570: [1749, 1750], 1571: [1751], 1572: [1752, 1753, 1754], 1575: [1755, 1756, 1757, 1758], 1577: [1759, 1760, 1761], 1579: [1762], 1582: [1763, 1764], 1588: [1765, 1766, 1767, 1768], 1595: [1769, 1770, 1771], 1596: [1772, 1773, 1774, 1775, 1776, 1777, 1778], 1597: [1779, 1780, 1781, 1782, 1783, 1784, 1785, 1786, 1787, 1788, 1789, 1790], 1598: [1791, 1792], 1599: [1793, 1794], 1606: [1795, 1796, 1797, 1798, 1799], 1611: [1800, 1801, 1802, 1803, 1804, 1805, 1806, 1807], 1618: [1808, 1809, 1810, 1811], 1621: [1812, 1813], 1626: [1814, 1815, 1816, 1817], 1628: [1818, 1819, 1820], 1629: [1821, 1822, 1823], 1630: [1824, 1825, 1826, 1827], 1633: [1828, 1829], 1635: [1830], 1636: [1831, 1832, 1833, 1834, 1835, 1836], 1638: [1837, 1838], 1639: [1839, 1840, 1841], 1641: [1842], 1642: [1843, 1844], 1647: [1845, 1846], 1649: [1847, 1848, 1849], 1652: [1850, 1851, 1852, 1853, 1854, 1855, 1856, 1857], 1654: [1858, 1859], 1655: [1860, 1861, 1862, 1863, 1864, 1865], 1656: [1866, 1867, 1868], 1657: [1869, 1870], 1658: [1871], 1659: [1872, 1873, 1874], 1660: [1875], 1665: [1876, 1877, 1878], 1666: [1879], 1668: [1880, 1881, 1882], 1670: [1883, 1884], 1674: [1885, 1886], 1681: [1887, 1888, 1889, 1890], 1682: [1891, 1892, 1893], 1684: [1894, 1895, 1896, 1897, 1898, 1899], 1685: [1900, 1901, 1902, 1903], 1689: [1904, 1905, 1906], 1690: [1907, 1908], 1691: [1909], 1692: [1910, 1911, 1912, 1913, 1914, 1915, 1916], 1694: [1917, 1918, 1919], 1697: [1920, 1921], 1698: [1922, 1923], 1699: [1924], 1702: [1925, 1926, 1927, 1928, 1929], 1703: [1930, 1931], 1707: [1932, 1933, 1934], 1709: [1935, 1936, 1937, 1938, 1939], 1711: [1940, 1941, 1942, 1943, 1944], 1715: [1945], 1716: [1946], 1717: [1947, 1948], 1719: [1949, 1950, 1951, 1952, 1953, 1954], 1722: [1955, 1956, 1957, 1958], 1724: [1959, 1960, 1961], 1725: [1962, 1963, 1964], 1727: [1965], 1729: [1966, 1967, 1968, 1969, 1970, 1971], 1733: [1972, 1973, 1974, 1975], 1734: [1976, 1977], 1735: [1978], 1737: [1979, 1980], 1738: [1981, 1982, 1983], 1739: [1984, 1985], 1740: [1986], 1744: [1987, 1988, 1989], 1747: [1990, 1991, 1992, 1993, 1994, 1995, 1996, 1997, 1998], 1748: [1999, 2000], 1751: [2001, 2002, 2003], 1752: [2004, 2005, 2006, 2007, 2008, 2009], 1753: [2010, 2011, 2012, 2013, 2014], 1755: [2015, 2016, 2017, 2018], 1757: [2019], 1761: [2020, 2021, 2022, 2023, 2024, 2025, 2026, 2027], 1764: [2028, 2029, 2030], 1765: [2031, 2032, 2033], 1766: [2034, 2035], 1768: [2036, 2037, 2038, 2039], 1773: [2040], 1774: [2041], 1775: [2042, 2043, 2044], 1777: [2045, 2046, 2047], 1778: [2048, 2049], 1784: [2050, 2051, 2052], 1790: [2053, 2054], 1791: [2055, 2056, 2057, 2058, 2059, 2060, 2061, 2062, 2063], 1800: [2064], 1803: [2065, 2066], 1805: [2067], 1808: [2068], 1810: [2069, 2070, 2071], 1812: [2072, 2073], 1814: [2074, 2075, 2076], 1816: [2077, 2078], 1817: [2079, 2080, 2081, 2082], 1819: [2083, 2084, 2085, 2086], 1821: [2087, 2088], 1825: [2089, 2090, 2091], 1829: [2092, 2093], 1830: [2094, 2095], 1831: [2096, 2097], 1833: [2098, 2099], 1835: [2100, 2101], 1837: [2102], 1840: [2103, 2104, 2105, 2106, 2107], 1846: [2108, 2109, 2110, 2111], 1848: [2112], 1852: [2113, 2114, 2115], 1855: [2116, 2117, 2118], 1858: [2119, 2120], 1865: [2121], 1873: [2122, 2123, 2124, 2125, 2126], 1877: [2127], 1879: [2128, 2129], 1880: [2130, 2131], 1886: [2132, 2133, 2134, 2135], 1891: [2136, 2137, 2138], 1892: [2139, 2140, 2141, 2142], 1894: [2143, 2144, 2145, 2146, 2147, 2148], 1897: [2149, 2150], 1899: [2151, 2152, 2153], 1901: [2154, 2155, 2156, 2157], 1904: [2158], 1908: [2159, 2160, 2161, 2162], 1910: [2163, 2164], 1913: [2165], 1914: [2166], 1916: [2167, 2168, 2169], 1920: [2170], 1923: [2171, 2172], 1924: [2173], 1926: [2174, 2175], 1934: [2176, 2177], 1935: [2178, 2179, 2180], 1936: [2181], 1944: [2182, 2183, 2184, 2185, 2186], 1948: [2187], 1951: [2188, 2189], 1960: [2190, 2191], 1962: [2192], 1964: [2193, 2194, 2195, 2196, 2197, 2198, 2199, 2200], 1965: [2201], 1966: [2202], 1969: [2203, 2204], 1982: [2205], 1985: [2206, 2207, 2208, 2209], 1986: [2210, 2211, 2212, 2213, 2214], 1988: [2215, 2216], 1992: [2217, 2218, 2219, 2220], 1994: [2221], 1995: [2222, 2223], 1997: [2224, 2225], 2000: [2226, 2227, 2228], 2002: [2229, 2230], 2004: [2231, 2232, 2233], 2005: [2234], 2006: [2235], 2007: [2236, 2237], 2009: [2238, 2239, 2240], 2010: [2241, 2242], 2011: [2243], 2012: [2244, 2245, 2246], 2013: [2247, 2248, 2249, 2250, 2251], 2015: [2252], 2016: [2253, 2254], 2017: [2255, 2256, 2257], 2018: [2258, 2259, 2260], 2019: [2261, 2262], 2022: [2263, 2264], 2024: [2265], 2026: [2266, 2267], 2027: [2268, 2269], 2030: [2270, 2271, 2272], 2031: [2273, 2274], 2041: [2275, 2276, 2277], 2042: [2278, 2279, 2280], 2045: [2281, 2282, 2283], 2047: [2284, 2285, 2286, 2287], 2048: [2288, 2289, 2290, 2291, 2292], 2049: [2293, 2294, 2295], 2050: [2296, 2297, 2298], 2051: [2299], 2052: [2300, 2301, 2302, 2303, 2304], 2054: [2305, 2306, 2307], 2055: [2308, 2309], 2056: [2310, 2311, 2312, 2313, 2314], 2057: [2315, 2316, 2317, 2318], 2059: [2319], 2062: [2320], 2064: [2321], 2065: [2322, 2323, 2324, 2325, 2326], 2066: [2327, 2328], 2071: [2329], 2072: [2330, 2331], 2076: [2332, 2333, 2334], 2080: [2335, 2336, 2337, 2338], 2081: [2339, 2340, 2341], 2083: [2342, 2343], 2085: [2344, 2345], 2086: [2346, 2347], 2087: [2348, 2349], 2090: [2350, 2351], 2091: [2352], 2092: [2353, 2354, 2355], 2093: [2356], 2095: [2357, 2358, 2359], 2096: [2360], 2098: [2361, 2362], 2110: [2363, 2364], 2111: [2365, 2366, 2367, 2368, 2369], 2113: [2370, 2371], 2117: [2372], 2118: [2373, 2374, 2375, 2376, 2377], 2119: [2378], 2122: [2379, 2380, 2381], 2125: [2382, 2383], 2126: [2384, 2385, 2386, 2387, 2388, 2389, 2390, 2391, 2392], 2128: [2393], 2129: [2394, 2395, 2396], 2133: [2397, 2398, 2399], 2134: [2400], 2135: [2401, 2402, 2403, 2404, 2405, 2406, 2407], 2139: [2408, 2409, 2410], 2141: [2411, 2412, 2413], 2145: [2414, 2415, 2416, 2417], 2146: [2418, 2419], 2149: [2420, 2421, 2422, 2423], 2150: [2424, 2425], 2153: [2426, 2427, 2428], 2154: [2429, 2430], 2155: [2431, 2432, 2433], 2157: [2434, 2435], 2158: [2436, 2437], 2160: [2438, 2439], 2162: [2440], 2165: [2441, 2442], 2168: [2443, 2444, 2445, 2446], 2170: [2447], 2171: [2448, 2449, 2450, 2451, 2452, 2453, 2454], 2175: [2455], 2178: [2456, 2457], 2180: [2458, 2459, 2460, 2461], 2182: [2462], 2183: [2463], 2184: [2464, 2465], 2187: [2466, 2467, 2468], 2188: [2469, 2470, 2471], 2190: [2472, 2473, 2474], 2191: [2475, 2476, 2477, 2478], 2193: [2479, 2480, 2481], 2194: [2482, 2483, 2484], 2195: [2485, 2486, 2487, 2488, 2489, 2490, 2491, 2492, 2493, 2494, 2495, 2496], 2196: [2497], 2198: [2498, 2499], 2200: [2500, 2501], 2202: [2502], 2204: [2503, 2504], 2211: [2505, 2506, 2507], 2214: [2508, 2509, 2510, 2511, 2512, 2513], 2215: [2514], 2216: [2515, 2516, 2517, 2518], 2218: [2519], 2219: [2520], 2220: [2521, 2522], 2222: [2523, 2524, 2525], 2225: [2526], 2227: [2527], 2229: [2528], 2231: [2529, 2530], 2233: [2531, 2532, 2533], 2234: [2534], 2237: [2535, 2536], 2239: [2537, 2538], 2245: [2539, 2540], 2246: [2541, 2542, 2543, 2544, 2545], 2247: [2546], 2250: [2547], 2252: [2548, 2549, 2550, 2551, 2552], 2253: [2553, 2554], 2255: [2555, 2556], 2259: [2557, 2558, 2559], 2260: [2560, 2561, 2562], 2261: [2563, 2564, 2565], 2263: [2566, 2567], 2264: [2568], 2265: [2569, 2570, 2571, 2572, 2573, 2574, 2575, 2576, 2577, 2578], 2266: [2579, 2580, 2581], 2271: [2582], 2272: [2583], 2274: [2584], 2276: [2585, 2586], 2279: [2587], 2280: [2588], 2287: [2589, 2590, 2591, 2592, 2593], 2288: [2594, 2595, 2596, 2597], 2292: [2598, 2599, 2600], 2296: [2601, 2602, 2603, 2604, 2605, 2606], 2297: [2607, 2608, 2609], 2298: [2610, 2611, 2612, 2613], 2300: [2614], 2301: [2615], 2302: [2616, 2617, 2618, 2619, 2620], 2303: [2621, 2622, 2623], 2305: [2624], 2306: [2625, 2626, 2627], 2307: [2628, 2629, 2630, 2631], 2310: [2632, 2633, 2634, 2635, 2636], 2311: [2637, 2638], 2312: [2639, 2640, 2641, 2642], 2313: [2643, 2644], 2318: [2645, 2646, 2647], 2319: [2648], 2320: [2649], 2323: [2650, 2651], 2326: [2652, 2653, 2654], 2328: [2655], 2329: [2656, 2657, 2658, 2659], 2334: [2660, 2661, 2662, 2663], 2336: [2664, 2665], 2338: [2666, 2667, 2668, 2669, 2670], 2339: [2671], 2345: [2672, 2673, 2674], 2346: [2675, 2676], 2347: [2677], 2348: [2678, 2679], 2349: [2680], 2350: [2681], 2353: [2682, 2683], 2356: [2684, 2685], 2361: [2686, 2687], 2362: [2688, 2689, 2690], 2365: [2691], 2366: [2692, 2693], 2367: [2694, 2695], 2369: [2696], 2370: [2697, 2698, 2699, 2700], 2376: [2701, 2702], 2379: [2703, 2704, 2705], 2380: [2706, 2707, 2708], 2383: [2709, 2710], 2385: [2711], 2393: [2712], 2394: [2713, 2714], 2396: [2715, 2716, 2717, 2718], 2397: [2719, 2720], 2401: [2721, 2722], 2402: [2723, 2724, 2725], 2405: [2726], 2406: [2727, 2728, 2729, 2730], 2408: [2731, 2732, 2733, 2734, 2735, 2736, 2737, 2738, 2739], 2410: [2740], 2412: [2741, 2742, 2743, 2744, 2745], 2415: [2746], 2421: [2747, 2748, 2749, 2750, 2751], 2422: [2752, 2753, 2754], 2425: [2755, 2756, 2757, 2758], 2426: [2759, 2760, 2761], 2428: [2762], 2429: [2763, 2764], 2430: [2765, 2766], 2433: [2767, 2768, 2769, 2770], 2437: [2771, 2772, 2773], 2438: [2774], 2439: [2775, 2776, 2777], 2440: [2778], 2441: [2779], 2443: [2780], 2447: [2781], 2448: [2782], 2449: [2783, 2784, 2785], 2452: [2786, 2787], 2456: [2788], 2457: [2789, 2790], 2461: [2791, 2792], 2463: [2793, 2794, 2795, 2796, 2797, 2798], 2469: [2799], 2472: [2800, 2801, 2802], 2473: [2803, 2804], 2474: [2805, 2806, 2807, 2808, 2809], 2475: [2810, 2811, 2812, 2813, 2814, 2815], 2476: [2816, 2817, 2818], 2478: [2819, 2820], 2479: [2821, 2822, 2823], 2486: [2824, 2825], 2490: [2826, 2827, 2828], 2492: [2829], 2494: [2830, 2831], 2495: [2832, 2833], 2500: [2834], 2503: [2835], 2505: [2836], 2506: [2837, 2838, 2839], 2507: [2840, 2841], 2514: [2842, 2843, 2844], 2518: [2845, 2846, 2847], 2519: [2848, 2849, 2850], 2520: [2851, 2852], 2525: [2853, 2854, 2855, 2856], 2527: [2857, 2858, 2859], 2530: [2860, 2861], 2531: [2862], 2534: [2863], 2538: [2864, 2865, 2866], 2539: [2867], 2542: [2868], 2545: [2869, 2870, 2871, 2872], 2546: [2873], 2550: [2874], 2551: [2875, 2876, 2877], 2553: [2878, 2879, 2880, 2881, 2882], 2554: [2883, 2884], 2557: [2885], 2559: [2886], 2560: [2887, 2888], 2561: [2889], 2564: [2890, 2891, 2892], 2565: [2893, 2894, 2895, 2896], 2568: [2897, 2898, 2899, 2900, 2901], 2570: [2902, 2903, 2904, 2905], 2571: [2906, 2907, 2908], 2576: [2909], 2580: [2910], 2588: [2911, 2912], 2596: [2913, 2914, 2915], 2598: [2916], 2601: [2917, 2918], 2604: [2919, 2920, 2921], 2605: [2922, 2923, 2924, 2925, 2926], 2607: [2927], 2608: [2928, 2929], 2609: [2930, 2931, 2932, 2933], 2612: [2934, 2935, 2936], 2613: [2937, 2938, 2939, 2940, 2941], 2616: [2942, 2943], 2617: [2944, 2945], 2618: [2946], 2621: [2947, 2948, 2949], 2623: [2950, 2951, 2952, 2953, 2954, 2955], 2624: [2956, 2957, 2958, 2959, 2960, 2961], 2629: [2962, 2963], 2632: [2964, 2965, 2966], 2640: [2967, 2968, 2969, 2970], 2641: [2971, 2972, 2973], 2642: [2974, 2975, 2976], 2643: [2977, 2978, 2979, 2980, 2981, 2982, 2983], 2645: [2984, 2985], 2648: [2986, 2987, 2988, 2989], 2654: [2990, 2991, 2992], 2655: [2993, 2994, 2995], 2658: [2996, 2997, 2998], 2660: [2999, 3000, 3001, 3002, 3003], 2666: [3004, 3005, 3006, 3007, 3008], 2667: [3009, 3010, 3011], 2671: [3012], 2675: [3013, 3014, 3015], 2677: [3016], 2678: [3017, 3018, 3019, 3020, 3021, 3022, 3023, 3024, 3025, 3026], 2679: [3027, 3028, 3029, 3030], 2680: [3031, 3032, 3033], 2681: [3034], 2682: [3035], 2684: [3036, 3037, 3038], 2687: [3039, 3040, 3041], 2688: [3042, 3043, 3044], 2697: [3045], 2698: [3046, 3047, 3048], 2700: [3049], 2702: [3050, 3051, 3052], 2704: [3053, 3054, 3055], 2706: [3056, 3057], 2707: [3058, 3059, 3060], 2709: [3061, 3062], 2710: [3063, 3064, 3065], 2715: [3066], 2719: [3067, 3068, 3069, 3070], 2721: [3071, 3072, 3073, 3074], 2725: [3075, 3076, 3077], 2727: [3078, 3079], 2730: [3080, 3081, 3082, 3083, 3084], 2732: [3085, 3086, 3087, 3088, 3089, 3090, 3091], 2733: [3092, 3093], 2734: [3094], 2740: [3095, 3096, 3097], 2741: [3098, 3099, 3100, 3101, 3102, 3103, 3104], 2745: [3105, 3106, 3107, 3108], 2747: [3109, 3110], 2749: [3111, 3112], 2753: [3113, 3114, 3115], 2754: [3116, 3117, 3118, 3119], 2758: [3120], 2759: [3121], 2763: [3122, 3123, 3124, 3125], 2767: [3126, 3127, 3128], 2769: [3129], 2770: [3130], 2771: [3131, 3132, 3133, 3134], 2774: [3135], 2775: [3136, 3137], 2784: [3138, 3139], 2785: [3140], 2788: [3141, 3142, 3143, 3144], 2789: [3145, 3146, 3147, 3148, 3149, 3150], 2790: [3151], 2791: [3152, 3153, 3154], 2792: [3155, 3156, 3157], 2795: [3158], 2798: [3159, 3160, 3161], 2799: [3162, 3163], 2806: [3164, 3165, 3166], 2807: [3167, 3168, 3169], 2808: [3170, 3171], 2815: [3172, 3173, 3174], 2817: [3175, 3176, 3177], 2818: [3178], 2825: [3179], 2828: [3180, 3181], 2831: [3182, 3183], 2839: [3184], 2840: [3185, 3186], 2841: [3187, 3188, 3189, 3190, 3191], 2842: [3192, 3193], 2844: [3194, 3195, 3196, 3197, 3198, 3199, 3200], 2853: [3201, 3202, 3203, 3204], 2855: [3205, 3206], 2859: [3207, 3208, 3209], 2863: [3210], 2865: [3211, 3212, 3213, 3214], 2866: [3215, 3216, 3217, 3218], 2877: [3219, 3220, 3221, 3222, 3223], 2881: [3224, 3225, 3226], 2882: [3227, 3228, 3229, 3230], 2883: [3231], 2887: [3232], 2888: [3233, 3234, 3235], 2891: [3236], 2893: [3237], 2894: [3238, 3239, 3240], 2896: [3241], 2899: [3242, 3243, 3244, 3245, 3246], 2908: [3247, 3248, 3249, 3250], 2909: [3251, 3252, 3253, 3254], 2910: [3255, 3256, 3257, 3258, 3259, 3260, 3261], 2912: [3262, 3263], 2914: [3264, 3265, 3266], 2915: [3267, 3268, 3269, 3270], 2916: [3271, 3272, 3273, 3274], 2922: [3275, 3276], 2923: [3277], 2924: [3278, 3279, 3280, 3281, 3282], 2926: [3283, 3284, 3285, 3286], 2929: [3287, 3288], 2930: [3289, 3290, 3291], 2934: [3292], 2936: [3293], 2941: [3294, 3295], 2943: [3296], 2944: [3297, 3298, 3299, 3300, 3301], 2945: [3302, 3303], 2947: [3304, 3305, 3306], 2949: [3307], 2950: [3308, 3309], 2951: [3310, 3311, 3312, 3313], 2952: [3314, 3315], 2954: [3316], 2956: [3317, 3318, 3319], 2959: [3320, 3321, 3322, 3323], 2961: [3324], 2963: [3325, 3326], 2965: [3327, 3328], 2966: [3329, 3330, 3331, 3332], 2967: [3333, 3334, 3335], 2968: [3336, 3337], 2972: [3338, 3339], 2973: [3340, 3341, 3342], 2974: [3343], 2975: [3344, 3345, 3346], 2977: [3347, 3348, 3349, 3350], 2978: [3351, 3352, 3353], 2980: [3354, 3355, 3356, 3357], 2982: [3358, 3359, 3360, 3361, 3362], 2983: [3363], 2985: [3364], 2989: [3365, 3366, 3367], 2993: [3368, 3369], 2999: [3370, 3371, 3372, 3373, 3374], 3000: [3375], 3002: [3376, 3377, 3378], 3004: [3379], 3005: [3380, 3381], 3008: [3382], 3010: [3383], 3011: [3384, 3385, 3386, 3387], 3015: [3388, 3389, 3390, 3391], 3016: [3392, 3393], 3019: [3394, 3395], 3021: [3396, 3397], 3022: [3398], 3025: [3399, 3400, 3401, 3402, 3403], 3027: [3404], 3035: [3405, 3406], 3036: [3407, 3408, 3409], 3037: [3410], 3038: [3411, 3412], 3039: [3413, 3414], 3043: [3415, 3416], 3044: [3417, 3418], 3046: [3419, 3420, 3421, 3422], 3047: [3423, 3424, 3425, 3426, 3427, 3428, 3429], 3051: [3430, 3431], 3054: [3432, 3433], 3055: [3434, 3435, 3436], 3056: [3437, 3438], 3057: [3439, 3440, 3441, 3442, 3443], 3060: [3444, 3445, 3446, 3447], 3061: [3448], 3063: [3449], 3064: [3450, 3451, 3452, 3453], 3066: [3454, 3455], 3070: [3456, 3457], 3072: [3458, 3459, 3460, 3461], 3075: [3462, 3463, 3464], 3078: [3465, 3466, 3467], 3079: [3468, 3469], 3080: [3470, 3471], 3082: [3472, 3473], 3084: [3474, 3475, 3476], 3086: [3477, 3478, 3479, 3480, 3481, 3482], 3090: [3483, 3484, 3485, 3486], 3093: [3487, 3488, 3489], 3095: [3490, 3491, 3492], 3098: [3493, 3494], 3101: [3495, 3496], 3103: [3497, 3498], 3107: [3499, 3500, 3501], 3109: [3502, 3503], 3111: [3504, 3505, 3506, 3507, 3508], 3112: [3509, 3510], 3113: [3511, 3512, 3513], 3115: [3514, 3515, 3516, 3517, 3518, 3519, 3520], 3116: [3521], 3118: [3522, 3523, 3524, 3525, 3526, 3527], 3120: [3528], 3122: [3529, 3530], 3129: [3531, 3532, 3533], 3130: [3534, 3535, 3536, 3537], 3131: [3538, 3539, 3540], 3136: [3541], 3139: [3542, 3543, 3544], 3140: [3545, 3546], 3145: [3547, 3548, 3549], 3150: [3550], 3152: [3551], 3153: [3552, 3553, 3554], 3154: [3555, 3556], 3155: [3557, 3558, 3559, 3560], 3157: [3561, 3562], 3159: [3563, 3564, 3565, 3566], 3160: [3567, 3568, 3569], 3162: [3570], 3163: [3571], 3167: [3572], 3168: [3573, 3574, 3575], 3171: [3576, 3577, 3578, 3579, 3580], 3172: [3581, 3582], 3178: [3583], 3179: [3584, 3585, 3586, 3587], 3180: [3588, 3589], 3182: [3590, 3591, 3592], 3185: [3593, 3594, 3595], 3187: [3596, 3597], 3188: [3598, 3599], 3190: [3600, 3601], 3195: [3602, 3603, 3604], 3197: [3605, 3606], 3199: [3607], 3200: [3608, 3609], 3203: [3610], 3212: [3611, 3612, 3613, 3614, 3615], 3213: [3616], 3217: [3617, 3618, 3619, 3620], 3218: [3621], 3219: [3622, 3623, 3624, 3625], 3222: [3626, 3627, 3628], 3226: [3629, 3630, 3631, 3632, 3633], 3229: [3634, 3635, 3636], 3232: [3637, 3638, 3639, 3640], 3234: [3641, 3642, 3643, 3644, 3645], 3235: [3646, 3647, 3648, 3649], 3237: [3650, 3651], 3243: [3652], 3248: [3653, 3654, 3655, 3656, 3657, 3658], 3249: [3659, 3660, 3661, 3662], 3250: [3663, 3664, 3665], 3251: [3666, 3667, 3668, 3669, 3670, 3671, 3672, 3673], 3252: [3674, 3675], 3254: [3676, 3677, 3678, 3679, 3680, 3681, 3682], 3255: [3683, 3684, 3685, 3686, 3687, 3688, 3689, 3690], 3256: [3691, 3692], 3259: [3693], 3260: [3694, 3695], 3261: [3696, 3697], 3267: [3698, 3699, 3700, 3701], 3269: [3702], 3270: [3703, 3704], 3271: [3705], 3272: [3706, 3707], 3273: [3708, 3709], 3276: [3710, 3711, 3712, 3713], 3279: [3714, 3715], 3281: [3716], 3282: [3717], 3283: [3718], 3286: [3719], 3287: [3720, 3721], 3296: [3722, 3723], 3298: [3724, 3725, 3726], 3300: [3727, 3728, 3729], 3302: [3730, 3731], 3303: [3732, 3733], 3305: [3734], 3310: [3735], 3315: [3736, 3737, 3738], 3316: [3739], 3317: [3740, 3741], 3318: [3742, 3743, 3744], 3321: [3745, 3746], 3323: [3747, 3748, 3749, 3750], 3325: [3751], 3326: [3752], 3331: [3753, 3754, 3755, 3756], 3332: [3757, 3758, 3759], 3334: [3760, 3761, 3762, 3763], 3336: [3764], 3339: [3765], 3340: [3766, 3767, 3768, 3769, 3770], 3346: [3771, 3772, 3773, 3774], 3349: [3775, 3776], 3351: [3777], 3352: [3778, 3779], 3353: [3780], 3356: [3781, 3782, 3783], 3358: [3784], 3360: [3785, 3786, 3787, 3788], 3362: [3789, 3790, 3791], 3364: [3792, 3793, 3794, 3795], 3369: [3796, 3797, 3798], 3376: [3799], 3379: [3800, 3801, 3802], 3382: [3803, 3804], 3384: [3805, 3806], 3386: [3807, 3808, 3809, 3810], 3391: [3811, 3812, 3813, 3814, 3815], 3397: [3816, 3817, 3818], 3400: [3819, 3820], 3402: [3821], 3406: [3822, 3823], 3408: [3824, 3825, 3826, 3827], 3416: [3828], 3417: [3829, 3830, 3831], 3418: [3832, 3833, 3834, 3835, 3836, 3837, 3838], 3422: [3839, 3840, 3841, 3842], 3423: [3843, 3844, 3845], 3424: [3846, 3847, 3848], 3427: [3849], 3428: [3850, 3851, 3852, 3853, 3854], 3429: [3855, 3856, 3857], 3430: [3858, 3859, 3860], 3432: [3861], 3433: [3862, 3863, 3864], 3437: [3865, 3866], 3438: [3867, 3868, 3869, 3870], 3443: [3871], 3447: [3872, 3873, 3874, 3875, 3876], 3449: [3877, 3878, 3879, 3880, 3881, 3882], 3455: [3883, 3884, 3885, 3886, 3887], 3456: [3888], 3457: [3889], 3458: [3890], 3459: [3891, 3892], 3460: [3893, 3894], 3462: [3895, 3896, 3897, 3898, 3899], 3463: [3900, 3901, 3902, 3903], 3464: [3904, 3905], 3465: [3906, 3907, 3908], 3466: [3909, 3910], 3468: [3911, 3912], 3470: [3913, 3914, 3915], 3474: [3916, 3917, 3918], 3482: [3919, 3920], 3483: [3921, 3922, 3923, 3924], 3485: [3925, 3926, 3927, 3928], 3486: [3929, 3930, 3931, 3932], 3488: [3933, 3934], 3490: [3935], 3495: [3936], 3497: [3937, 3938, 3939], 3498: [3940, 3941, 3942, 3943, 3944, 3945, 3946], 3508: [3947, 3948], 3516: [3949, 3950, 3951, 3952], 3518: [3953, 3954], 3520: [3955, 3956, 3957], 3521: [3958, 3959, 3960, 3961], 3523: [3962, 3963, 3964, 3965, 3966, 3967, 3968, 3969, 3970, 3971], 3532: [3972, 3973, 3974, 3975, 3976], 3534: [3977, 3978, 3979], 3537: [3980, 3981], 3540: [3982, 3983], 3541: [3984, 3985, 3986], 3544: [3987, 3988, 3989, 3990], 3545: [3991, 3992], 3546: [3993, 3994, 3995, 3996, 3997, 3998, 3999], 3548: [4000, 4001], 3550: [4002], 3552: [4003, 4004, 4005], 3555: [4006, 4007, 4008, 4009, 4010, 4011, 4012], 3556: [4013, 4014], 3558: [4015], 3559: [4016], 3560: [4017, 4018], 3563: [4019], 3567: [4020, 4021, 4022], 3568: [4023], 3570: [4024, 4025, 4026, 4027, 4028, 4029, 4030, 4031], 3573: [4032, 4033], 3575: [4034, 4035], 3578: [4036, 4037], 3579: [4038, 4039], 3580: [4040], 3585: [4041, 4042, 4043, 4044], 3587: [4045, 4046], 3590: [4047, 4048], 3592: [4049], 3598: [4050, 4051], 3602: [4052], 3610: [4053, 4054, 4055], 3611: [4056, 4057, 4058, 4059, 4060], 3618: [4061], 3622: [4062, 4063, 4064, 4065, 4066, 4067], 3623: [4068, 4069, 4070], 3628: [4071, 4072], 3629: [4073, 4074], 3633: [4075, 4076, 4077, 4078, 4079], 3638: [4080, 4081, 4082], 3639: [4083], 3642: [4084, 4085], 3645: [4086], 3647: [4087, 4088, 4089, 4090], 3651: [4091, 4092, 4093, 4094], 3654: [4095, 4096], 3657: [4097, 4098, 4099], 3661: [4100, 4101, 4102, 4103, 4104], 3662: [4105, 4106], 3664: [4107, 4108, 4109], 3666: [4110, 4111, 4112], 3667: [4113], 3675: [4114, 4115], 3676: [4116, 4117, 4118, 4119], 3677: [4120, 4121], 3678: [4122, 4123], 3681: [4124, 4125, 4126], 3683: [4127], 3685: [4128], 3689: [4129, 4130], 3690: [4131, 4132, 4133], 3691: [4134, 4135, 4136], 3692: [4137, 4138, 4139], 3693: [4140, 4141, 4142, 4143], 3694: [4144, 4145, 4146], 3699: [4147, 4148, 4149, 4150, 4151], 3700: [4152, 4153, 4154, 4155, 4156], 3703: [4157, 4158, 4159, 4160], 3704: [4161, 4162, 4163], 3705: [4164], 3708: [4165, 4166], 3709: [4167], 3710: [4168, 4169], 3713: [4170, 4171, 4172], 3714: [4173, 4174], 3715: [4175, 4176, 4177], 3719: [4178], 3722: [4179, 4180, 4181, 4182, 4183], 3728: [4184], 3729: [4185, 4186, 4187], 3730: [4188, 4189], 3733: [4190, 4191, 4192], 3734: [4193, 4194, 4195, 4196], 3735: [4197, 4198, 4199, 4200], 3737: [4201, 4202, 4203], 3738: [4204, 4205], 3743: [4206, 4207], 3744: [4208], 3745: [4209, 4210, 4211], 3746: [4212, 4213, 4214], 3750: [4215, 4216, 4217, 4218], 3751: [4219, 4220, 4221], 3753: [4222, 4223, 4224], 3759: [4225, 4226, 4227], 3764: [4228, 4229, 4230, 4231], 3766: [4232, 4233, 4234], 3769: [4235, 4236, 4237, 4238, 4239], 3770: [4240, 4241, 4242, 4243, 4244], 3772: [4245, 4246, 4247, 4248, 4249], 3773: [4250, 4251], 3774: [4252, 4253], 3778: [4254, 4255], 3779: [4256], 3782: [4257], 3788: [4258, 4259, 4260], 3789: [4261, 4262, 4263], 3794: [4264, 4265], 3798: [4266], 3801: [4267], 3803: [4268, 4269, 4270, 4271, 4272, 4273, 4274, 4275], 3808: [4276, 4277, 4278, 4279, 4280, 4281, 4282, 4283, 4284], 3811: [4285], 3812: [4286, 4287, 4288, 4289], 3814: [4290, 4291], 3820: [4292], 3821: [4293, 4294, 4295], 3825: [4296], 3833: [4297, 4298, 4299, 4300], 3834: [4301, 4302], 3836: [4303], 3840: [4304], 3842: [4305], 3843: [4306, 4307, 4308], 3850: [4309, 4310], 3853: [4311, 4312, 4313], 3855: [4314], 3856: [4315], 3860: [4316, 4317], 3862: [4318, 4319, 4320], 3872: [4321, 4322, 4323], 3876: [4324, 4325, 4326], 3880: [4327], 3884: [4328, 4329, 4330], 3885: [4331, 4332], 3886: [4333, 4334], 3888: [4335, 4336, 4337], 3893: [4338, 4339, 4340, 4341], 3898: [4342], 3899: [4343, 4344], 3901: [4345, 4346], 3902: [4347, 4348, 4349, 4350], 3903: [4351, 4352, 4353], 3905: [4354, 4355, 4356], 3906: [4357, 4358, 4359], 3909: [4360], 3911: [4361], 3912: [4362], 3913: [4363, 4364], 3914: [4365], 3918: [4366, 4367], 3919: [4368, 4369], 3921: [4370, 4371], 3925: [4372, 4373, 4374, 4375, 4376, 4377, 4378, 4379], 3927: [4380, 4381, 4382], 3931: [4383, 4384], 3932: [4385, 4386], 3933: [4387], 3938: [4388, 4389], 3940: [4390], 3941: [4391, 4392, 4393], 3944: [4394, 4395, 4396], 3946: [4397, 4398], 3947: [4399, 4400], 3953: [4401, 4402], 3954: [4403, 4404], 3956: [4405, 4406, 4407], 3957: [4408, 4409, 4410, 4411, 4412], 3959: [4413, 4414, 4415], 3961: [4416, 4417], 3965: [4418, 4419], 3968: [4420, 4421, 4422, 4423], 3972: [4424, 4425], 3973: [4426, 4427, 4428, 4429], 3976: [4430, 4431], 3980: [4432, 4433], 3982: [4434, 4435], 3983: [4436], 3984: [4437, 4438, 4439, 4440, 4441, 4442, 4443, 4444], 3986: [4445, 4446, 4447], 3987: [4448, 4449], 3988: [4450, 4451], 3991: [4452, 4453, 4454], 3993: [4455, 4456], 3994: [4457, 4458, 4459, 4460, 4461], 3996: [4462, 4463, 4464], 3997: [4465], 4001: [4466, 4467, 4468, 4469], 4005: [4470], 4006: [4471], 4007: [4472, 4473, 4474, 4475, 4476, 4477], 4009: [4478, 4479, 4480], 4010: [4481, 4482, 4483, 4484], 4012: [4485, 4486], 4013: [4487, 4488, 4489], 4014: [4490, 4491, 4492], 4017: [4493, 4494, 4495, 4496], 4018: [4497, 4498, 4499, 4500], 4020: [4501, 4502, 4503], 4021: [4504, 4505, 4506, 4507, 4508, 4509], 4023: [4510, 4511, 4512, 4513], 4026: [4514, 4515, 4516], 4027: [4517, 4518, 4519, 4520, 4521, 4522, 4523], 4030: [4524, 4525, 4526, 4527], 4031: [4528, 4529, 4530], 4034: [4531, 4532, 4533, 4534, 4535], 4036: [4536], 4041: [4537], 4042: [4538, 4539, 4540], 4045: [4541, 4542], 4046: [4543], 4047: [4544, 4545, 4546], 4048: [4547], 4055: [4548, 4549, 4550, 4551], 4057: [4552, 4553], 4062: [4554], 4063: [4555, 4556, 4557, 4558, 4559], 4065: [4560], 4066: [4561], 4068: [4562], 4072: [4563, 4564, 4565], 4074: [4566, 4567, 4568], 4075: [4569], 4078: [4570, 4571, 4572], 4079: [4573], 4080: [4574, 4575, 4576, 4577], 4081: [4578, 4579, 4580], 4086: [4581, 4582], 4088: [4583, 4584, 4585], 4092: [4586, 4587], 4093: [4588, 4589, 4590], 4095: [4591], 4097: [4592, 4593, 4594, 4595], 4099: [4596], 4100: [4597], 4101: [4598, 4599], 4102: [4600, 4601], 4103: [4602, 4603], 4105: [4604, 4605], 4110: [4606, 4607, 4608, 4609, 4610], 4114: [4611, 4612, 4613, 4614], 4115: [4615, 4616], 4121: [4617], 4122: [4618, 4619, 4620, 4621, 4622], 4123: [4623], 4130: [4624], 4131: [4625], 4132: [4626], 4134: [4627, 4628, 4629], 4136: [4630], 4141: [4631], 4148: [4632, 4633], 4150: [4634, 4635, 4636], 4153: [4637, 4638], 4154: [4639, 4640, 4641, 4642, 4643, 4644, 4645], 4156: [4646, 4647, 4648], 4163: [4649, 4650], 4164: [4651, 4652], 4167: [4653], 4168: [4654, 4655, 4656, 4657, 4658], 4169: [4659, 4660, 4661, 4662], 4171: [4663, 4664, 4665, 4666], 4175: [4667, 4668, 4669, 4670, 4671, 4672], 4183: [4673, 4674], 4184: [4675, 4676, 4677], 4192: [4678, 4679], 4193: [4680, 4681, 4682, 4683], 4196: [4684, 4685, 4686, 4687], 4197: [4688, 4689, 4690], 4198: [4691, 4692, 4693, 4694], 4199: [4695, 4696], 4203: [4697, 4698], 4205: [4699, 4700], 4206: [4701, 4702, 4703], 4207: [4704, 4705, 4706], 4209: [4707, 4708, 4709, 4710], 4213: [4711, 4712], 4214: [4713, 4714, 4715, 4716, 4717, 4718], 4217: [4719, 4720], 4220: [4721, 4722], 4224: [4723, 4724], 4228: [4725, 4726, 4727, 4728, 4729, 4730], 4229: [4731, 4732, 4733], 4231: [4734, 4735, 4736, 4737, 4738, 4739, 4740], 4232: [4741], 4241: [4742], 4243: [4743], 4246: [4744, 4745, 4746, 4747, 4748, 4749, 4750, 4751, 4752, 4753, 4754], 4249: [4755, 4756, 4757], 4251: [4758, 4759, 4760, 4761, 4762], 4254: [4763, 4764, 4765], 4255: [4766, 4767], 4260: [4768, 4769], 4266: [4770, 4771, 4772], 4269: [4773, 4774, 4775, 4776, 4777, 4778], 4277: [4779, 4780], 4284: [4781], 4285: [4782, 4783, 4784, 4785], 4289: [4786, 4787, 4788, 4789, 4790, 4791, 4792, 4793, 4794], 4291: [4795, 4796, 4797, 4798, 4799], 4292: [4800, 4801], 4293: [4802, 4803, 4804, 4805, 4806, 4807], 4294: [4808, 4809, 4810, 4811], 4297: [4812, 4813], 4298: [4814, 4815, 4816, 4817], 4300: [4818, 4819, 4820], 4301: [4821, 4822, 4823, 4824], 4302: [4825, 4826, 4827, 4828], 4303: [4829, 4830, 4831], 4305: [4832, 4833], 4306: [4834, 4835], 4308: [4836, 4837, 4838, 4839, 4840], 4310: [4841, 4842, 4843], 4311: [4844], 4313: [4845, 4846], 4315: [4847], 4319: [4848, 4849, 4850], 4321: [4851, 4852, 4853], 4325: [4854], 4327: [4855, 4856], 4330: [4857, 4858], 4332: [4859], 4335: [4860, 4861, 4862, 4863, 4864], 4337: [4865], 4338: [4866, 4867, 4868], 4340: [4869, 4870, 4871, 4872], 4341: [4873, 4874, 4875], 4342: [4876, 4877, 4878], 4352: [4879], 4354: [4880], 4355: [4881, 4882], 4359: [4883], 4365: [4884, 4885, 4886, 4887, 4888], 4366: [4889, 4890, 4891], 4368: [4892], 4370: [4893], 4372: [4894, 4895], 4375: [4896, 4897], 4376: [4898, 4899, 4900], 4377: [4901], 4378: [4902, 4903], 4380: [4904, 4905, 4906, 4907, 4908, 4909], 4381: [4910, 4911], 4387: [4912, 4913, 4914, 4915, 4916], 4388: [4917, 4918, 4919, 4920], 4391: [4921, 4922, 4923], 4394: [4924, 4925], 4397: [4926, 4927, 4928], 4399: [4929, 4930, 4931, 4932], 4400: [4933, 4934], 4401: [4935, 4936], 4411: [4937, 4938, 4939, 4940], 4412: [4941, 4942, 4943], 4416: [4944, 4945, 4946, 4947, 4948], 4418: [4949, 4950], 4420: [4951], 4422: [4952, 4953, 4954, 4955], 4423: [4956, 4957, 4958, 4959], 4431: [4960, 4961, 4962, 4963], 4432: [4964], 4437: [4965, 4966, 4967, 4968, 4969], 4439: [4970, 4971], 4440: [4972, 4973, 4974, 4975, 4976], 4441: [4977, 4978, 4979], 4446: [4980, 4981], 4447: [4982, 4983, 4984], 4450: [4985, 4986], 4454: [4987], 4455: [4988, 4989], 4457: [4990, 4991, 4992], 4459: [4993, 4994, 4995], 4461: [4996, 4997, 4998], 4462: [4999], 4463: [5000, 5001, 5002, 5003], 4464: [5004, 5005, 5006, 5007, 5008], 4468: [5009], 4469: [5010], 4470: [5011, 5012], 4471: [5013, 5014, 5015], 4472: [5016], 4475: [5017, 5018, 5019], 4479: [5020, 5021, 5022, 5023, 5024, 5025, 5026], 4480: [5027, 5028, 5029, 5030], 4486: [5031, 5032], 4487: [5033, 5034, 5035], 4488: [5036, 5037, 5038, 5039, 5040, 5041, 5042, 5043], 4490: [5044, 5045, 5046], 4495: [5047, 5048, 5049], 4496: [5050, 5051], 4499: [5052, 5053], 4503: [5054, 5055, 5056, 5057, 5058, 5059], 4504: [5060, 5061, 5062, 5063], 4506: [5064, 5065], 4511: [5066, 5067, 5068, 5069], 4512: [5070, 5071, 5072, 5073], 4514: [5074, 5075, 5076], 4515: [5077, 5078, 5079, 5080], 4523: [5081], 4525: [5082, 5083], 4528: [5084, 5085, 5086], 4534: [5087], 4536: [5088], 4544: [5089, 5090, 5091, 5092], 4545: [5093], 4547: [5094], 4548: [5095, 5096, 5097, 5098, 5099], 4549: [5100, 5101, 5102], 4551: [5103, 5104], 4553: [5105, 5106], 4555: [5107, 5108, 5109, 5110], 4558: [5111], 4561: [5112, 5113, 5114], 4562: [5115], 4563: [5116, 5117], 4570: [5118, 5119, 5120, 5121, 5122, 5123, 5124], 4571: [5125, 5126], 4577: [5127, 5128, 5129, 5130], 4578: [5131, 5132], 4579: [5133, 5134], 4590: [5135, 5136, 5137, 5138], 4593: [5139, 5140, 5141, 5142], 4598: [5143, 5144], 4601: [5145], 4604: [5146, 5147], 4610: [5148, 5149, 5150, 5151, 5152], 4612: [5153, 5154], 4614: [5155], 4617: [5156, 5157], 4618: [5158], 4619: [5159, 5160, 5161, 5162, 5163, 5164], 4623: [5165, 5166, 5167], 4624: [5168, 5169], 4636: [5170, 5171, 5172, 5173, 5174, 5175, 5176], 4638: [5177, 5178, 5179], 4645: [5180, 5181], 4646: [5182, 5183], 4647: [5184, 5185], 4652: [5186], 4654: [5187, 5188, 5189], 4655: [5190, 5191, 5192], 4659: [5193, 5194, 5195, 5196], 4661: [5197, 5198, 5199, 5200, 5201], 4667: [5202, 5203, 5204, 5205], 4669: [5206], 4670: [5207], 4679: [5208], 4682: [5209, 5210], 4684: [5211, 5212, 5213], 4689: [5214], 4694: [5215, 5216, 5217], 4707: [5218, 5219], 4713: [5220], 4720: [5221, 5222, 5223], 4722: [5224], 4724: [5225, 5226, 5227], 4726: [5228, 5229, 5230, 5231, 5232, 5233, 5234, 5235], 4727: [5236, 5237, 5238, 5239, 5240], 4738: [5241, 5242], 4739: [5243, 5244], 4740: [5245], 4754: [5246, 5247], 4755: [5248, 5249], 4757: [5250, 5251, 5252], 4758: [5253], 4759: [5254], 4763: [5255, 5256], 4770: [5257], 4773: [5258, 5259, 5260], 4777: [5261], 4778: [5262], 4780: [5263, 5264, 5265], 4781: [5266, 5267, 5268, 5269, 5270], 4787: [5271, 5272, 5273], 4788: [5274, 5275, 5276], 4790: [5277, 5278, 5279], 4793: [5280], 4794: [5281, 5282], 4795: [5283], 4796: [5284, 5285, 5286, 5287], 4797: [5288, 5289, 5290, 5291], 4798: [5292, 5293], 4799: [5294, 5295, 5296], 4801: [5297], 4802: [5298, 5299, 5300], 4805: [5301, 5302, 5303, 5304, 5305, 5306, 5307], 4807: [5308, 5309], 4810: [5310, 5311], 4812: [5312, 5313], 4817: [5314], 4818: [5315], 4820: [5316, 5317], 4821: [5318, 5319, 5320, 5321], 4823: [5322, 5323], 4826: [5324, 5325], 4828: [5326, 5327], 4829: [5328, 5329, 5330, 5331, 5332], 4830: [5333], 4832: [5334, 5335], 4833: [5336], 4837: [5337, 5338], 4845: [5339], 4846: [5340, 5341, 5342, 5343], 4849: [5344, 5345, 5346, 5347], 4852: [5348, 5349, 5350], 4853: [5351], 4854: [5352, 5353, 5354], 4855: [5355, 5356], 4857: [5357, 5358], 4858: [5359, 5360], 4866: [5361, 5362, 5363, 5364, 5365], 4867: [5366], 4871: [5367, 5368], 4876: [5369, 5370], 4881: [5371, 5372, 5373], 4884: [5374, 5375], 4886: [5376, 5377, 5378], 4889: [5379, 5380, 5381, 5382], 4890: [5383, 5384], 4893: [5385, 5386, 5387, 5388], 4898: [5389, 5390], 4899: [5391, 5392], 4904: [5393, 5394, 5395, 5396], 4910: [5397, 5398, 5399], 4912: [5400, 5401, 5402, 5403], 4913: [5404], 4914: [5405, 5406, 5407], 4917: [5408], 4918: [5409], 4919: [5410, 5411, 5412], 4921: [5413, 5414, 5415], 4922: [5416], 4923: [5417, 5418, 5419, 5420], 4924: [5421], 4926: [5422, 5423, 5424, 5425, 5426, 5427, 5428], 4928: [5429, 5430, 5431, 5432, 5433], 4929: [5434, 5435, 5436], 4932: [5437, 5438, 5439], 4934: [5440, 5441, 5442], 4935: [5443], 4937: [5444], 4938: [5445, 5446], 4940: [5447, 5448], 4946: [5449, 5450, 5451], 4947: [5452, 5453], 4951: [5454, 5455], 4953: [5456, 5457], 4955: [5458], 4957: [5459, 5460, 5461], 4960: [5462], 4964: [5463, 5464, 5465, 5466, 5467, 5468], 4966: [5469, 5470], 4968: [5471, 5472, 5473, 5474, 5475, 5476, 5477, 5478], 4972: [5479, 5480, 5481], 4973: [5482, 5483, 5484], 4982: [5485, 5486], 4983: [5487, 5488], 4984: [5489, 5490], 4986: [5491, 5492, 5493, 5494], 4987: [5495], 4989: [5496, 5497, 5498], 4991: [5499, 5500, 5501, 5502], 4993: [5503], 5002: [5504, 5505, 5506, 5507], 5003: [5508, 5509], 5004: [5510, 5511, 5512, 5513], 5010: [5514], 5012: [5515], 5013: [5516, 5517, 5518, 5519], 5015: [5520], 5017: [5521, 5522, 5523, 5524], 5018: [5525], 5020: [5526], 5022: [5527], 5023: [5528], 5025: [5529, 5530], 5026: [5531, 5532], 5028: [5533], 5030: [5534], 5031: [5535, 5536, 5537, 5538], 5033: [5539], 5036: [5540, 5541], 5038: [5542, 5543, 5544, 5545, 5546], 5041: [5547, 5548, 5549], 5042: [5550, 5551], 5046: [5552, 5553], 5048: [5554, 5555, 5556], 5052: [5557], 5053: [5558], 5054: [5559, 5560], 5056: [5561, 5562, 5563], 5060: [5564, 5565, 5566, 5567], 5064: [5568], 5065: [5569], 5066: [5570, 5571, 5572], 5067: [5573, 5574, 5575], 5070: [5576, 5577, 5578], 5071: [5579], 5073: [5580], 5074: [5581, 5582, 5583], 5076: [5584, 5585, 5586, 5587], 5080: [5588, 5589], 5082: [5590], 5083: [5591, 5592], 5084: [5593, 5594, 5595], 5098: [5596], 5099: [5597, 5598], 5102: [5599], 5108: [5600, 5601, 5602], 5109: [5603, 5604], 5118: [5605, 5606, 5607], 5123: [5608], 5126: [5609, 5610, 5611, 5612, 5613, 5614], 5127: [5615, 5616], 5128: [5617, 5618, 5619, 5620], 5129: [5621], 5139: [5622, 5623, 5624], 5143: [5625, 5626], 5145: [5627], 5147: [5628], 5151: [5629, 5630, 5631, 5632], 5152: [5633, 5634, 5635], 5158: [5636, 5637, 5638, 5639], 5159: [5640], 5160: [5641], 5161: [5642], 5167: [5643, 5644, 5645], 5168: [5646, 5647, 5648, 5649], 5171: [5650, 5651, 5652], 5172: [5653, 5654], 5177: [5655, 5656, 5657], 5182: [5658, 5659, 5660, 5661], 5187: [5662, 5663], 5188: [5664], 5189: [5665, 5666, 5667], 5194: [5668, 5669, 5670], 5197: [5671, 5672], 5200: [5673, 5674, 5675, 5676, 5677], 5201: [5678, 5679, 5680], 5205: [5681, 5682, 5683, 5684], 5206: [5685, 5686, 5687], 5209: [5688, 5689], 5210: [5690, 5691], 5212: [5692, 5693, 5694], 5213: [5695], 5215: [5696, 5697], 5220: [5698, 5699], 5222: [5700, 5701, 5702, 5703], 5224: [5704, 5705], 5225: [5706, 5707], 5236: [5708], 5238: [5709, 5710, 5711, 5712, 5713, 5714], 5243: [5715, 5716], 5248: [5717, 5718, 5719, 5720], 5249: [5721, 5722, 5723, 5724], 5254: [5725, 5726, 5727, 5728], 5255: [5729, 5730], 5260: [5731], 5263: [5732, 5733, 5734], 5267: [5735, 5736, 5737], 5268: [5738, 5739, 5740, 5741, 5742, 5743, 5744, 5745, 5746, 5747], 5269: [5748, 5749, 5750], 5270: [5751, 5752], 5271: [5753, 5754, 5755, 5756, 5757, 5758], 5272: [5759, 5760, 5761, 5762, 5763, 5764, 5765, 5766, 5767, 5768, 5769, 5770, 5771, 5772], 5273: [5773, 5774], 5276: [5775, 5776], 5278: [5777], 5279: [5778, 5779, 5780, 5781], 5284: [5782], 5287: [5783, 5784], 5289: [5785], 5292: [5786], 5295: [5787, 5788, 5789], 5297: [5790, 5791], 5311: [5792, 5793], 5312: [5794, 5795, 5796, 5797], 5314: [5798, 5799], 5316: [5800, 5801, 5802], 5317: [5803, 5804, 5805, 5806], 5322: [5807, 5808, 5809, 5810, 5811], 5324: [5812, 5813, 5814], 5325: [5815, 5816, 5817, 5818], 5327: [5819, 5820, 5821, 5822], 5331: [5823, 5824], 5333: [5825], 5335: [5826], 5336: [5827, 5828, 5829], 5339: [5830, 5831], 5340: [5832, 5833, 5834, 5835], 5345: [5836, 5837], 5346: [5838, 5839, 5840], 5349: [5841, 5842, 5843, 5844, 5845], 5351: [5846, 5847, 5848, 5849, 5850], 5353: [5851, 5852], 5356: [5853, 5854, 5855], 5358: [5856, 5857], 5359: [5858, 5859, 5860], 5361: [5861, 5862, 5863, 5864], 5365: [5865], 5367: [5866, 5867], 5370: [5868, 5869, 5870], 5371: [5871], 5376: [5872, 5873], 5377: [5874, 5875], 5378: [5876, 5877, 5878], 5383: [5879, 5880], 5384: [5881, 5882, 5883, 5884, 5885, 5886], 5386: [5887, 5888, 5889, 5890, 5891, 5892], 5387: [5893], 5390: [5894], 5391: [5895], 5392: [5896, 5897, 5898], 5396: [5899, 5900, 5901, 5902, 5903, 5904], 5398: [5905, 5906, 5907], 5400: [5908, 5909], 5401: [5910, 5911], 5403: [5912], 5405: [5913, 5914, 5915], 5406: [5916, 5917, 5918, 5919], 5413: [5920, 5921, 5922], 5418: [5923, 5924], 5422: [5925, 5926], 5424: [5927, 5928, 5929, 5930], 5427: [5931, 5932, 5933, 5934, 5935, 5936, 5937], 5428: [5938, 5939, 5940, 5941, 5942, 5943], 5432: [5944, 5945], 5434: [5946], 5435: [5947, 5948, 5949], 5436: [5950, 5951, 5952], 5437: [5953, 5954, 5955, 5956, 5957, 5958], 5438: [5959, 5960], 5440: [5961], 5444: [5962, 5963, 5964, 5965, 5966, 5967], 5445: [5968], 5453: [5969, 5970, 5971], 5455: [5972], 5457: [5973, 5974, 5975], 5458: [5976, 5977], 5459: [5978, 5979, 5980], 5460: [5981, 5982], 5463: [5983], 5464: [5984, 5985], 5465: [5986, 5987], 5466: [5988, 5989, 5990, 5991, 5992], 5468: [5993, 5994, 5995], 5470: [5996, 5997, 5998], 5471: [5999, 6000], 5473: [6001, 6002], 5479: [6003, 6004], 5482: [6005, 6006], 5485: [6007], 5487: [6008, 6009], 5488: [6010], 5489: [6011, 6012, 6013], 5493: [6014, 6015], 5495: [6016, 6017, 6018], 5496: [6019, 6020], 5498: [6021, 6022], 5499: [6023], 5501: [6024], 5502: [6025, 6026], 5504: [6027, 6028], 5506: [6029, 6030, 6031, 6032, 6033], 5507: [6034, 6035, 6036], 5509: [6037, 6038, 6039, 6040], 5510: [6041, 6042, 6043, 6044], 5513: [6045, 6046, 6047], 5519: [6048, 6049], 5528: [6050, 6051, 6052], 5532: [6053, 6054], 5533: [6055, 6056, 6057], 5534: [6058, 6059, 6060], 5535: [6061, 6062], 5536: [6063, 6064], 5537: [6065, 6066], 5538: [6067], 5540: [6068, 6069, 6070, 6071, 6072, 6073, 6074], 5542: [6075, 6076], 5543: [6077, 6078], 5545: [6079, 6080, 6081], 5547: [6082, 6083, 6084, 6085], 5554: [6086, 6087, 6088], 5559: [6089, 6090, 6091], 5562: [6092, 6093], 5564: [6094], 5566: [6095, 6096, 6097], 5573: [6098, 6099, 6100, 6101, 6102], 5574: [6103], 5576: [6104], 5578: [6105], 5580: [6106, 6107, 6108, 6109, 6110, 6111], 5581: [6112], 5583: [6113, 6114, 6115, 6116, 6117], 5585: [6118, 6119, 6120], 5586: [6121, 6122, 6123], 5587: [6124], 5589: [6125, 6126, 6127, 6128, 6129], 5590: [6130], 5592: [6131, 6132, 6133, 6134], 5595: [6135, 6136, 6137, 6138], 5596: [6139, 6140, 6141], 5597: [6142, 6143], 5598: [6144, 6145, 6146, 6147], 5599: [6148], 5600: [6149], 5601: [6150, 6151, 6152, 6153], 5607: [6154], 5608: [6155, 6156], 5609: [6157, 6158], 5610: [6159, 6160, 6161], 5611: [6162, 6163, 6164, 6165, 6166, 6167], 5616: [6168, 6169, 6170, 6171, 6172, 6173, 6174], 5620: [6175, 6176, 6177, 6178, 6179, 6180], 5627: [6181, 6182], 5630: [6183, 6184, 6185, 6186, 6187], 5631: [6188, 6189], 5638: [6190, 6191], 5641: [6192, 6193], 5642: [6194, 6195], 5644: [6196], 5646: [6197, 6198], 5647: [6199], 5650: [6200], 5652: [6201, 6202, 6203, 6204, 6205], 5654: [6206, 6207, 6208], 5656: [6209, 6210], 5660: [6211, 6212, 6213], 5664: [6214, 6215, 6216, 6217], 5665: [6218, 6219, 6220], 5669: [6221, 6222, 6223, 6224], 5674: [6225], 5676: [6226, 6227, 6228], 5677: [6229, 6230, 6231, 6232, 6233], 5682: [6234, 6235], 5685: [6236, 6237, 6238, 6239, 6240, 6241, 6242, 6243, 6244], 5688: [6245, 6246, 6247, 6248, 6249], 5689: [6250, 6251], 5691: [6252, 6253, 6254], 5693: [6255, 6256], 5694: [6257], 5697: [6258, 6259], 5699: [6260, 6261, 6262, 6263, 6264, 6265, 6266, 6267, 6268], 5702: [6269], 5706: [6270, 6271, 6272, 6273], 5707: [6274], 5712: [6275, 6276], 5719: [6277, 6278, 6279], 5720: [6280, 6281], 5722: [6282, 6283, 6284, 6285], 5724: [6286, 6287], 5725: [6288], 5726: [6289, 6290, 6291], 5728: [6292, 6293, 6294], 5730: [6295, 6296, 6297], 5731: [6298, 6299, 6300], 5732: [6301, 6302], 5734: [6303, 6304, 6305], 5735: [6306], 5737: [6307, 6308, 6309], 5741: [6310, 6311], 5743: [6312, 6313], 5744: [6314], 5747: [6315, 6316, 6317, 6318, 6319, 6320, 6321, 6322], 5750: [6323, 6324, 6325], 5751: [6326, 6327, 6328], 5757: [6329, 6330, 6331, 6332, 6333, 6334, 6335], 5759: [6336], 5762: [6337, 6338], 5763: [6339, 6340, 6341, 6342, 6343], 5765: [6344, 6345, 6346, 6347, 6348], 5767: [6349, 6350, 6351, 6352, 6353], 5769: [6354, 6355, 6356, 6357], 5771: [6358], 5773: [6359, 6360, 6361], 5774: [6362, 6363, 6364], 5775: [6365, 6366, 6367], 5777: [6368, 6369, 6370], 5784: [6371, 6372], 5785: [6373], 5787: [6374], 5788: [6375, 6376], 5790: [6377, 6378, 6379, 6380, 6381], 5791: [6382], 5792: [6383], 5794: [6384, 6385], 5796: [6386, 6387], 5799: [6388, 6389, 6390], 5800: [6391, 6392], 5801: [6393, 6394], 5803: [6395], 5807: [6396, 6397, 6398, 6399, 6400], 5808: [6401, 6402, 6403], 5809: [6404, 6405, 6406, 6407, 6408, 6409], 5814: [6410, 6411], 5818: [6412], 5820: [6413, 6414], 5821: [6415, 6416], 5823: [6417], 5824: [6418, 6419, 6420, 6421, 6422, 6423], 5825: [6424], 5826: [6425, 6426, 6427], 5828: [6428, 6429, 6430], 5832: [6431, 6432, 6433, 6434, 6435, 6436], 5834: [6437, 6438, 6439, 6440, 6441], 5836: [6442, 6443, 6444, 6445, 6446], 5840: [6447, 6448], 5842: [6449, 6450], 5846: [6451, 6452, 6453, 6454, 6455, 6456], 5849: [6457, 6458, 6459], 5857: [6460, 6461, 6462, 6463], 5862: [6464, 6465, 6466, 6467], 5863: [6468, 6469], 5867: [6470, 6471, 6472], 5872: [6473, 6474, 6475], 5873: [6476], 5879: [6477, 6478, 6479], 5880: [6480, 6481, 6482, 6483], 5885: [6484, 6485], 5886: [6486], 5888: [6487, 6488], 5890: [6489], 5891: [6490], 5893: [6491], 5894: [6492, 6493, 6494], 5897: [6495, 6496, 6497], 5898: [6498, 6499], 5901: [6500, 6501], 5902: [6502], 5904: [6503, 6504, 6505], 5905: [6506, 6507, 6508, 6509, 6510, 6511], 5911: [6512, 6513, 6514, 6515], 5912: [6516], 5917: [6517, 6518], 5923: [6519, 6520, 6521, 6522, 6523], 5924: [6524], 5926: [6525, 6526], 5927: [6527], 5930: [6528, 6529], 5931: [6530, 6531, 6532, 6533], 5936: [6534, 6535, 6536, 6537], 5941: [6538, 6539, 6540], 5943: [6541, 6542], 5944: [6543, 6544], 5947: [6545, 6546, 6547], 5948: [6548, 6549], 5949: [6550, 6551, 6552], 5951: [6553, 6554], 5954: [6555], 5956: [6556, 6557, 6558, 6559], 5957: [6560, 6561], 5962: [6562], 5964: [6563, 6564], 5965: [6565, 6566, 6567], 5966: [6568, 6569], 5967: [6570], 5968: [6571], 5969: [6572, 6573, 6574], 5970: [6575, 6576, 6577], 5973: [6578, 6579, 6580, 6581, 6582, 6583], 5976: [6584, 6585, 6586, 6587], 5977: [6588, 6589], 5979: [6590], 5980: [6591, 6592, 6593, 6594, 6595, 6596], 5981: [6597, 6598], 5982: [6599, 6600, 6601], 5984: [6602], 5987: [6603, 6604, 6605, 6606], 5990: [6607, 6608], 5991: [6609, 6610, 6611, 6612, 6613], 5992: [6614, 6615, 6616, 6617], 5996: [6618], 5997: [6619], 5999: [6620, 6621, 6622], 6001: [6623, 6624, 6625, 6626], 6003: [6627, 6628, 6629, 6630], 6004: [6631, 6632, 6633, 6634], 6005: [6635, 6636], 6006: [6637, 6638, 6639], 6008: [6640, 6641], 6010: [6642, 6643, 6644, 6645], 6014: [6646, 6647], 6016: [6648, 6649, 6650], 6020: [6651], 6021: [6652, 6653], 6022: [6654, 6655, 6656], 6023: [6657, 6658, 6659], 6026: [6660], 6029: [6661, 6662, 6663, 6664, 6665, 6666], 6036: [6667, 6668], 6037: [6669, 6670], 6044: [6671, 6672, 6673], 6046: [6674, 6675, 6676, 6677, 6678, 6679, 6680, 6681], 6047: [6682, 6683, 6684, 6685, 6686, 6687, 6688, 6689], 6048: [6690, 6691], 6051: [6692, 6693, 6694, 6695, 6696, 6697], 6052: [6698, 6699, 6700], 6059: [6701], 6060: [6702, 6703, 6704, 6705, 6706, 6707, 6708], 6065: [6709], 6072: [6710], 6073: [6711, 6712], 6077: [6713, 6714, 6715, 6716], 6078: [6717], 6081: [6718, 6719, 6720, 6721], 6083: [6722], 6088: [6723, 6724], 6090: [6725], 6091: [6726, 6727], 6094: [6728, 6729, 6730, 6731], 6096: [6732, 6733], 6098: [6734, 6735, 6736], 6106: [6737, 6738, 6739, 6740], 6109: [6741], 6112: [6742, 6743, 6744, 6745, 6746, 6747, 6748, 6749], 6113: [6750, 6751], 6116: [6752], 6117: [6753, 6754], 6122: [6755, 6756], 6123: [6757, 6758, 6759], 6126: [6760, 6761], 6127: [6762], 6130: [6763, 6764], 6131: [6765, 6766, 6767, 6768, 6769, 6770, 6771], 6140: [6772], 6141: [6773, 6774], 6144: [6775, 6776], 6145: [6777, 6778], 6147: [6779, 6780, 6781], 6149: [6782], 6154: [6783, 6784, 6785], 6155: [6786, 6787], 6156: [6788, 6789], 6157: [6790, 6791, 6792, 6793], 6161: [6794, 6795, 6796], 6162: [6797, 6798], 6164: [6799], 6168: [6800, 6801, 6802, 6803, 6804, 6805], 6173: [6806], 6177: [6807, 6808], 6179: [6809], 6184: [6810, 6811], 6187: [6812, 6813, 6814, 6815, 6816], 6188: [6817], 6192: [6818, 6819], 6193: [6820, 6821, 6822], 6194: [6823, 6824, 6825, 6826, 6827, 6828], 6197: [6829, 6830], 6204: [6831], 6206: [6832, 6833], 6209: [6834], 6210: [6835, 6836, 6837], 6212: [6838, 6839], 6214: [6840], 6216: [6841], 6217: [6842, 6843, 6844], 6220: [6845, 6846, 6847, 6848], 6221: [6849, 6850], 6222: [6851, 6852], 6226: [6853, 6854, 6855, 6856, 6857, 6858], 6229: [6859, 6860, 6861, 6862, 6863], 6230: [6864, 6865], 6235: [6866, 6867], 6238: [6868], 6240: [6869], 6242: [6870, 6871], 6243: [6872, 6873, 6874, 6875, 6876, 6877, 6878], 6246: [6879, 6880, 6881], 6248: [6882, 6883, 6884], 6250: [6885, 6886, 6887, 6888], 6251: [6889, 6890], 6254: [6891, 6892], 6255: [6893], 6256: [6894, 6895], 6259: [6896, 6897], 6260: [6898], 6264: [6899, 6900, 6901], 6268: [6902, 6903, 6904, 6905, 6906], 6270: [6907, 6908, 6909], 6273: [6910, 6911, 6912, 6913, 6914, 6915, 6916], 6276: [6917, 6918, 6919], 6277: [6920, 6921, 6922, 6923, 6924, 6925, 6926, 6927, 6928], 6278: [6929], 6280: [6930, 6931], 6281: [6932, 6933], 6282: [6934], 6289: [6935], 6291: [6936, 6937], 6292: [6938], 6294: [6939, 6940, 6941, 6942, 6943], 6297: [6944, 6945, 6946, 6947, 6948, 6949, 6950, 6951, 6952, 6953, 6954], 6298: [6955, 6956, 6957], 6299: [6958, 6959], 6301: [6960], 6303: [6961, 6962], 6306: [6963, 6964, 6965, 6966, 6967], 6307: [6968, 6969], 6308: [6970, 6971, 6972, 6973, 6974], 6309: [6975], 6310: [6976], 6317: [6977, 6978, 6979], 6320: [6980, 6981], 6323: [6982], 6324: [6983, 6984, 6985], 6329: [6986, 6987], 6330: [6988, 6989, 6990, 6991, 6992], 6331: [6993, 6994, 6995], 6335: [6996, 6997, 6998], 6339: [6999, 7000, 7001], 6340: [7002, 7003, 7004, 7005], 6342: [7006, 7007, 7008], 6348: [7009, 7010, 7011, 7012, 7013], 6349: [7014, 7015, 7016, 7017], 6351: [7018], 6360: [7019], 6370: [7020], 6371: [7021, 7022, 7023, 7024, 7025, 7026], 6376: [7027], 6378: [7028], 6379: [7029, 7030, 7031, 7032], 6384: [7033, 7034, 7035], 6386: [7036, 7037, 7038], 6392: [7039, 7040, 7041], 6393: [7042, 7043, 7044, 7045], 6396: [7046, 7047, 7048], 6397: [7049, 7050, 7051, 7052, 7053, 7054, 7055], 6402: [7056, 7057, 7058, 7059, 7060], 6405: [7061, 7062, 7063], 6406: [7064], 6407: [7065, 7066], 6409: [7067, 7068, 7069], 6412: [7070, 7071], 6413: [7072, 7073, 7074], 6414: [7075, 7076, 7077], 6415: [7078], 6417: [7079], 6420: [7080], 6423: [7081, 7082], 6426: [7083, 7084, 7085], 6429: [7086, 7087, 7088], 6430: [7089], 6431: [7090, 7091, 7092, 7093], 6435: [7094], 6438: [7095, 7096, 7097], 6441: [7098, 7099, 7100, 7101, 7102], 6442: [7103, 7104, 7105], 6444: [7106, 7107, 7108, 7109, 7110, 7111], 6445: [7112], 6446: [7113, 7114, 7115, 7116, 7117, 7118, 7119, 7120, 7121, 7122], 6450: [7123, 7124, 7125], 6454: [7126, 7127], 6458: [7128, 7129], 6459: [7130], 6464: [7131, 7132, 7133, 7134], 6471: [7135, 7136, 7137], 6473: [7138, 7139], 6479: [7140], 6481: [7141, 7142, 7143, 7144, 7145, 7146, 7147], 6484: [7148, 7149, 7150, 7151], 6485: [7152], 6486: [7153, 7154, 7155], 6488: [7156], 6495: [7157], 6496: [7158, 7159, 7160, 7161, 7162], 6497: [7163, 7164, 7165, 7166, 7167], 6498: [7168], 6499: [7169, 7170], 6500: [7171], 6503: [7172, 7173, 7174, 7175, 7176, 7177, 7178], 6504: [7179, 7180, 7181, 7182, 7183, 7184], 6506: [7185, 7186, 7187, 7188], 6510: [7189], 6511: [7190, 7191, 7192], 6513: [7193], 6515: [7194, 7195], 6516: [7196], 6519: [7197, 7198, 7199], 6520: [7200], 6522: [7201, 7202, 7203], 6524: [7204, 7205, 7206, 7207, 7208, 7209, 7210], 6527: [7211, 7212], 6541: [7213], 6542: [7214, 7215, 7216], 6544: [7217, 7218], 6545: [7219, 7220, 7221, 7222, 7223, 7224, 7225], 6547: [7226, 7227, 7228], 6548: [7229], 6549: [7230], 6551: [7231, 7232, 7233, 7234, 7235], 6552: [7236, 7237], 6553: [7238, 7239, 7240, 7241, 7242], 6557: [7243, 7244, 7245, 7246], 6558: [7247], 6560: [7248, 7249, 7250, 7251, 7252, 7253], 6561: [7254, 7255, 7256, 7257], 6562: [7258, 7259], 6571: [7260, 7261], 6576: [7262, 7263, 7264], 6577: [7265, 7266, 7267], 6579: [7268], 6581: [7269, 7270, 7271, 7272], 6582: [7273, 7274, 7275, 7276, 7277], 6585: [7278, 7279, 7280, 7281, 7282], 6592: [7283, 7284, 7285], 6594: [7286], 6597: [7287], 6601: [7288, 7289, 7290], 6603: [7291], 6604: [7292, 7293, 7294, 7295], 6607: [7296, 7297], 6614: [7298, 7299], 6621: [7300, 7301], 6622: [7302], 6623: [7303, 7304, 7305], 6627: [7306, 7307], 6628: [7308, 7309], 6631: [7310, 7311, 7312], 6633: [7313, 7314, 7315, 7316, 7317], 6634: [7318, 7319, 7320], 6635: [7321], 6636: [7322], 6637: [7323, 7324], 6641: [7325, 7326], 6643: [7327], 6644: [7328, 7329, 7330, 7331, 7332, 7333, 7334], 6645: [7335, 7336], 6646: [7337], 6647: [7338], 6648: [7339, 7340, 7341], 6651: [7342], 6652: [7343, 7344, 7345, 7346, 7347, 7348, 7349, 7350], 6659: [7351, 7352, 7353, 7354], 6660: [7355, 7356, 7357, 7358], 6664: [7359], 6673: [7360], 6674: [7361, 7362, 7363, 7364], 6677: [7365], 6678: [7366, 7367, 7368, 7369, 7370], 6679: [7371, 7372, 7373, 7374], 6680: [7375], 6681: [7376, 7377], 6686: [7378, 7379], 6687: [7380, 7381], 6689: [7382, 7383], 6692: [7384, 7385], 6694: [7386, 7387], 6699: [7388, 7389, 7390, 7391, 7392, 7393, 7394, 7395, 7396], 6701: [7397], 6705: [7398, 7399, 7400], 6707: [7401, 7402, 7403], 6709: [7404, 7405, 7406], 6711: [7407], 6712: [7408, 7409, 7410, 7411], 6715: [7412, 7413, 7414, 7415], 6716: [7416, 7417, 7418, 7419], 6719: [7420, 7421], 6720: [7422], 6723: [7423], 6725: [7424, 7425], 6731: [7426, 7427], 6733: [7428, 7429, 7430, 7431], 6740: [7432, 7433, 7434], 6742: [7435, 7436], 6745: [7437, 7438, 7439, 7440], 6747: [7441], 6748: [7442, 7443, 7444], 6750: [7445, 7446], 6753: [7447, 7448, 7449, 7450, 7451, 7452], 6758: [7453], 6760: [7454, 7455, 7456, 7457], 6763: [7458, 7459], 6764: [7460], 6767: [7461, 7462, 7463, 7464, 7465, 7466], 6768: [7467, 7468, 7469], 6773: [7470], 6777: [7471, 7472, 7473, 7474, 7475], 6782: [7476, 7477, 7478], 6785: [7479, 7480], 6787: [7481, 7482, 7483, 7484, 7485], 6790: [7486, 7487], 6792: [7488], 6793: [7489, 7490], 6796: [7491, 7492], 6798: [7493, 7494], 6799: [7495, 7496, 7497, 7498], 6804: [7499], 6806: [7500, 7501, 7502, 7503, 7504, 7505], 6807: [7506, 7507], 6808: [7508, 7509, 7510, 7511], 6812: [7512], 6814: [7513, 7514], 6815: [7515, 7516, 7517, 7518], 6817: [7519, 7520], 6826: [7521], 6827: [7522, 7523, 7524], 6828: [7525], 6829: [7526, 7527, 7528], 6837: [7529, 7530, 7531, 7532, 7533, 7534], 6838: [7535, 7536, 7537], 6839: [7538], 6840: [7539, 7540, 7541, 7542], 6846: [7543, 7544, 7545], 6847: [7546, 7547], 6848: [7548, 7549], 6850: [7550], 6851: [7551, 7552], 6852: [7553, 7554, 7555, 7556, 7557, 7558], 6853: [7559, 7560, 7561], 6856: [7562, 7563, 7564, 7565], 6857: [7566, 7567], 6863: [7568, 7569], 6868: [7570], 6874: [7571, 7572, 7573, 7574], 6875: [7575, 7576], 6877: [7577, 7578, 7579], 6883: [7580], 6890: [7581], 6891: [7582, 7583], 6894: [7584, 7585], 6896: [7586, 7587, 7588, 7589, 7590, 7591, 7592], 6897: [7593, 7594], 6898: [7595], 6900: [7596], 6901: [7597, 7598], 6902: [7599, 7600], 6908: [7601], 6910: [7602, 7603, 7604], 6912: [7605, 7606], 6916: [7607], 6922: [7608, 7609, 7610, 7611], 6927: [7612], 6928: [7613, 7614], 6929: [7615, 7616, 7617], 6933: [7618, 7619], 6936: [7620, 7621], 6938: [7622], 6944: [7623, 7624], 6949: [7625, 7626, 7627], 6951: [7628, 7629, 7630, 7631], 6953: [7632, 7633, 7634], 6956: [7635], 6957: [7636, 7637], 6965: [7638, 7639, 7640], 6967: [7641, 7642, 7643], 6968: [7644, 7645, 7646], 6971: [7647, 7648], 6972: [7649, 7650, 7651, 7652, 7653], 6977: [7654], 6990: [7655, 7656, 7657], 6994: [7658], 6995: [7659, 7660], 6997: [7661, 7662, 7663, 7664, 7665, 7666], 6999: [7667], 7000: [7668, 7669], 7007: [7670, 7671], 7008: [7672, 7673, 7674, 7675, 7676, 7677], 7011: [7678, 7679, 7680, 7681], 7014: [7682], 7015: [7683], 7029: [7684], 7032: [7685, 7686, 7687], 7035: [7688, 7689, 7690], 7040: [7691, 7692, 7693, 7694], 7041: [7695, 7696, 7697], 7046: [7698, 7699, 7700, 7701], 7050: [7702], 7051: [7703, 7704, 7705], 7055: [7706, 7707, 7708, 7709, 7710], 7056: [7711, 7712, 7713, 7714], 7058: [7715], 7059: [7716, 7717, 7718, 7719], 7069: [7720], 7075: [7721, 7722, 7723], 7076: [7724, 7725], 7078: [7726, 7727, 7728, 7729, 7730], 7080: [7731, 7732, 7733, 7734, 7735], 7081: [7736, 7737, 7738, 7739], 7084: [7740, 7741, 7742, 7743, 7744], 7085: [7745, 7746], 7090: [7747], 7096: [7748], 7107: [7749, 7750], 7109: [7751, 7752, 7753], 7110: [7754, 7755, 7756, 7757, 7758], 7111: [7759, 7760, 7761, 7762], 7113: [7763, 7764, 7765, 7766, 7767], 7115: [7768], 7116: [7769, 7770, 7771, 7772], 7117: [7773, 7774, 7775], 7118: [7776, 7777, 7778, 7779], 7123: [7780], 7125: [7781, 7782], 7126: [7783], 7127: [7784, 7785, 7786], 7130: [7787, 7788], 7137: [7789, 7790, 7791, 7792, 7793, 7794, 7795], 7138: [7796, 7797, 7798], 7139: [7799], 7140: [7800, 7801], 7141: [7802], 7142: [7803, 7804, 7805, 7806, 7807, 7808, 7809, 7810, 7811, 7812, 7813, 7814, 7815, 7816], 7143: [7817], 7146: [7818], 7151: [7819], 7153: [7820, 7821, 7822], 7156: [7823], 7158: [7824, 7825], 7159: [7826], 7161: [7827, 7828, 7829], 7168: [7830, 7831, 7832], 7170: [7833, 7834, 7835, 7836, 7837], 7177: [7838, 7839, 7840], 7183: [7841, 7842, 7843], 7184: [7844], 7192: [7845, 7846, 7847], 7193: [7848, 7849, 7850], 7195: [7851], 7197: [7852], 7199: [7853, 7854], 7200: [7855, 7856, 7857, 7858, 7859, 7860], 7204: [7861, 7862, 7863], 7208: [7864, 7865, 7866, 7867], 7209: [7868, 7869, 7870, 7871, 7872], 7210: [7873], 7214: [7874, 7875], 7215: [7876, 7877], 7216: [7878, 7879, 7880], 7218: [7881, 7882], 7222: [7883, 7884, 7885, 7886, 7887, 7888, 7889], 7226: [7890, 7891, 7892], 7228: [7893, 7894, 7895, 7896, 7897], 7235: [7898], 7238: [7899, 7900, 7901, 7902], 7241: [7903, 7904, 7905], 7244: [7906], 7248: [7907], 7249: [7908, 7909], 7252: [7910], 7254: [7911, 7912], 7258: [7913, 7914, 7915, 7916], 7261: [7917, 7918], 7262: [7919, 7920, 7921], 7263: [7922, 7923, 7924, 7925, 7926], 7271: [7927, 7928], 7275: [7929, 7930, 7931, 7932], 7277: [7933, 7934, 7935], 7278: [7936, 7937, 7938, 7939], 7280: [7940, 7941, 7942], 7281: [7943, 7944, 7945, 7946], 7283: [7947, 7948, 7949], 7289: [7950], 7291: [7951, 7952, 7953], 7294: [7954, 7955], 7300: [7956], 7303: [7957, 7958, 7959, 7960, 7961], 7304: [7962, 7963], 7305: [7964, 7965, 7966], 7306: [7967, 7968, 7969, 7970, 7971], 7307: [7972, 7973], 7309: [7974, 7975, 7976, 7977], 7310: [7978], 7314: [7979], 7320: [7980, 7981], 7322: [7982], 7327: [7983, 7984], 7330: [7985], 7331: [7986, 7987, 7988], 7332: [7989, 7990, 7991, 7992, 7993, 7994, 7995], 7333: [7996, 7997, 7998, 7999], 7337: [8000], 7341: [8001, 8002, 8003, 8004], 7342: [8005], 7343: [8006, 8007, 8008, 8009], 7346: [8010, 8011], 7349: [8012], 7351: [8013, 8014, 8015, 8016, 8017], 7352: [8018, 8019], 7354: [8020, 8021, 8022, 8023, 8024, 8025, 8026], 7356: [8027, 8028, 8029, 8030, 8031, 8032, 8033, 8034], 7357: [8035, 8036], 7358: [8037, 8038], 7361: [8039, 8040, 8041], 7367: [8042, 8043, 8044], 7370: [8045], 7372: [8046, 8047, 8048], 7373: [8049, 8050, 8051], 7376: [8052, 8053], 7383: [8054], 7386: [8055, 8056], 7387: [8057, 8058, 8059, 8060], 7392: [8061, 8062, 8063, 8064], 7394: [8065], 7397: [8066, 8067, 8068], 7399: [8069, 8070], 7402: [8071, 8072, 8073], 7404: [8074], 7405: [8075, 8076], 7406: [8077, 8078, 8079, 8080, 8081], 7407: [8082, 8083, 8084], 7409: [8085, 8086], 7410: [8087, 8088], 7412: [8089], 7413: [8090], 7414: [8091, 8092], 7417: [8093, 8094, 8095, 8096, 8097, 8098, 8099], 7419: [8100, 8101, 8102, 8103, 8104, 8105, 8106, 8107], 7421: [8108, 8109, 8110], 7422: [8111], 7427: [8112, 8113, 8114], 7434: [8115, 8116, 8117], 7436: [8118, 8119], 7441: [8120, 8121, 8122, 8123, 8124, 8125], 7442: [8126], 7444: [8127, 8128, 8129, 8130, 8131, 8132, 8133], 7446: [8134, 8135], 7448: [8136, 8137], 7450: [8138, 8139, 8140], 7452: [8141], 7460: [8142, 8143, 8144, 8145], 7462: [8146], 7464: [8147, 8148], 7467: [8149, 8150], 7469: [8151], 7470: [8152, 8153], 7471: [8154, 8155, 8156], 7473: [8157, 8158, 8159, 8160, 8161, 8162, 8163], 7478: [8164, 8165, 8166, 8167], 7483: [8168, 8169], 7484: [8170, 8171, 8172], 7485: [8173], 7487: [8174, 8175], 7488: [8176], 7492: [8177, 8178, 8179], 7494: [8180, 8181, 8182], 7496: [8183, 8184, 8185], 7498: [8186], 7500: [8187, 8188, 8189, 8190, 8191], 7505: [8192, 8193], 7506: [8194], 7507: [8195, 8196, 8197, 8198], 7511: [8199], 7513: [8200, 8201], 7515: [8202, 8203, 8204, 8205], 7516: [8206, 8207], 7517: [8208, 8209], 7526: [8210], 7530: [8211, 8212], 7531: [8213, 8214, 8215], 7535: [8216, 8217], 7536: [8218], 7537: [8219, 8220, 8221, 8222], 7539: [8223, 8224], 7540: [8225, 8226], 7541: [8227, 8228, 8229, 8230], 7542: [8231, 8232, 8233, 8234, 8235, 8236], 7543: [8237, 8238], 7544: [8239], 7546: [8240, 8241], 7550: [8242, 8243], 7551: [8244, 8245, 8246, 8247], 7554: [8248, 8249], 7556: [8250, 8251], 7562: [8252, 8253, 8254], 7566: [8255, 8256, 8257, 8258, 8259], 7571: [8260, 8261], 7577: [8262], 7579: [8263, 8264], 7581: [8265, 8266], 7582: [8267, 8268, 8269], 7584: [8270, 8271], 7585: [8272, 8273, 8274], 7588: [8275], 7589: [8276, 8277, 8278], 7591: [8279], 7592: [8280, 8281, 8282], 7593: [8283, 8284, 8285, 8286, 8287], 7598: [8288], 7600: [8289, 8290, 8291, 8292, 8293, 8294], 7601: [8295, 8296], 7603: [8297], 7609: [8298], 7610: [8299, 8300, 8301], 7612: [8302, 8303, 8304], 7615: [8305, 8306, 8307], 7616: [8308], 7619: [8309, 8310, 8311], 7620: [8312, 8313, 8314, 8315], 7625: [8316], 7630: [8317, 8318], 7631: [8319, 8320, 8321, 8322, 8323], 7632: [8324, 8325, 8326], 7633: [8327], 7635: [8328], 7637: [8329], 7639: [8330, 8331], 7640: [8332, 8333], 7642: [8334, 8335], 7643: [8336, 8337, 8338, 8339, 8340], 7645: [8341, 8342, 8343, 8344], 7653: [8345, 8346, 8347, 8348], 7654: [8349], 7657: [8350, 8351, 8352], 7660: [8353, 8354, 8355], 7662: [8356, 8357, 8358], 7664: [8359, 8360, 8361], 7666: [8362, 8363, 8364, 8365, 8366], 7667: [8367, 8368], 7668: [8369, 8370, 8371, 8372], 7669: [8373], 7670: [8374, 8375, 8376, 8377], 7672: [8378, 8379, 8380], 7675: [8381], 7678: [8382, 8383, 8384], 7680: [8385, 8386], 7687: [8387, 8388], 7692: [8389, 8390], 7695: [8391], 7697: [8392, 8393], 7701: [8394, 8395], 7702: [8396, 8397], 7703: [8398, 8399, 8400], 7704: [8401], 7705: [8402], 7707: [8403, 8404], 7708: [8405, 8406, 8407], 7709: [8408, 8409, 8410], 7713: [8411], 7714: [8412], 7716: [8413, 8414, 8415, 8416], 7719: [8417, 8418, 8419], 7720: [8420, 8421, 8422, 8423, 8424, 8425, 8426], 7727: [8427], 7729: [8428, 8429], 7730: [8430, 8431, 8432], 7733: [8433], 7735: [8434, 8435], 7736: [8436, 8437, 8438], 7737: [8439], 7741: [8440, 8441, 8442, 8443, 8444], 7744: [8445], 7746: [8446, 8447, 8448, 8449], 7749: [8450, 8451, 8452], 7752: [8453, 8454, 8455, 8456, 8457], 7755: [8458, 8459, 8460], 7756: [8461, 8462, 8463, 8464], 7758: [8465, 8466], 7760: [8467, 8468, 8469], 7767: [8470, 8471, 8472], 7769: [8473, 8474, 8475, 8476, 8477], 7770: [8478, 8479, 8480, 8481, 8482, 8483, 8484, 8485], 7771: [8486, 8487], 7772: [8488, 8489, 8490, 8491, 8492, 8493, 8494, 8495], 7777: [8496, 8497], 7778: [8498, 8499], 7781: [8500, 8501], 7787: [8502], 7788: [8503, 8504], 7791: [8505], 7794: [8506, 8507, 8508], 7799: [8509, 8510, 8511, 8512], 7804: [8513], 7807: [8514, 8515, 8516], 7808: [8517, 8518, 8519], 7810: [8520, 8521, 8522], 7814: [8523, 8524], 7817: [8525, 8526], 7822: [8527], 7825: [8528, 8529, 8530], 7826: [8531], 7828: [8532], 7830: [8533, 8534], 7831: [8535, 8536, 8537], 7833: [8538, 8539, 8540], 7835: [8541, 8542, 8543, 8544], 7837: [8545, 8546, 8547], 7839: [8548], 7845: [8549, 8550, 8551], 7848: [8552, 8553, 8554], 7849: [8555, 8556], 7861: [8557, 8558, 8559, 8560], 7863: [8561, 8562], 7864: [8563], 7867: [8564, 8565, 8566, 8567, 8568], 7869: [8569, 8570, 8571], 7870: [8572, 8573, 8574, 8575, 8576, 8577, 8578], 7878: [8579], 7881: [8580], 7882: [8581], 7885: [8582, 8583, 8584, 8585, 8586, 8587], 7887: [8588, 8589, 8590], 7888: [8591, 8592], 7891: [8593, 8594], 7895: [8595, 8596], 7900: [8597, 8598], 7901: [8599, 8600], 7903: [8601, 8602], 7904: [8603, 8604, 8605, 8606], 7908: [8607, 8608, 8609, 8610], 7909: [8611, 8612, 8613, 8614, 8615, 8616, 8617], 7911: [8618], 7912: [8619, 8620], 7913: [8621, 8622, 8623], 7915: [8624, 8625, 8626, 8627], 7916: [8628, 8629], 7921: [8630, 8631, 8632], 7922: [8633], 7926: [8634, 8635, 8636, 8637], 7930: [8638], 7932: [8639], 7933: [8640], 7934: [8641], 7936: [8642], 7939: [8643], 7941: [8644, 8645, 8646, 8647], 7944: [8648, 8649, 8650, 8651], 7946: [8652], 7948: [8653, 8654, 8655], 7952: [8656, 8657, 8658, 8659], 7955: [8660, 8661, 8662, 8663], 7956: [8664, 8665, 8666, 8667], 7957: [8668], 7959: [8669], 7961: [8670], 7963: [8671, 8672], 7964: [8673, 8674, 8675], 7979: [8676], 7983: [8677, 8678, 8679, 8680], 7984: [8681, 8682, 8683, 8684, 8685, 8686], 7986: [8687, 8688, 8689, 8690, 8691], 7987: [8692, 8693], 7990: [8694, 8695, 8696], 7991: [8697], 7992: [8698, 8699, 8700], 7996: [8701, 8702, 8703], 7998: [8704, 8705, 8706, 8707, 8708, 8709, 8710, 8711], 8000: [8712, 8713, 8714], 8001: [8715, 8716], 8003: [8717], 8004: [8718, 8719], 8005: [8720, 8721, 8722, 8723, 8724, 8725, 8726], 8007: [8727], 8012: [8728, 8729, 8730, 8731, 8732], 8014: [8733, 8734, 8735], 8015: [8736, 8737], 8017: [8738], 8018: [8739, 8740, 8741, 8742, 8743, 8744], 8019: [8745], 8022: [8746, 8747], 8023: [8748], 8025: [8749, 8750, 8751, 8752, 8753], 8026: [8754, 8755, 8756, 8757, 8758, 8759], 8027: [8760, 8761], 8033: [8762, 8763, 8764], 8036: [8765], 8040: [8766], 8042: [8767], 8043: [8768, 8769], 8049: [8770], 8052: [8771, 8772], 8053: [8773], 8054: [8774, 8775, 8776], 8055: [8777, 8778], 8057: [8779, 8780, 8781, 8782, 8783, 8784, 8785, 8786], 8062: [8787, 8788, 8789], 8063: [8790, 8791], 8064: [8792, 8793, 8794, 8795], 8065: [8796, 8797], 8070: [8798, 8799], 8075: [8800, 8801, 8802, 8803, 8804, 8805], 8076: [8806, 8807, 8808, 8809], 8077: [8810, 8811], 8081: [8812, 8813, 8814], 8082: [8815, 8816], 8085: [8817], 8086: [8818, 8819, 8820], 8089: [8821], 8091: [8822, 8823, 8824, 8825], 8092: [8826, 8827, 8828], 8099: [8829], 8100: [8830, 8831, 8832], 8101: [8833, 8834], 8102: [8835, 8836], 8103: [8837, 8838], 8104: [8839, 8840, 8841], 8105: [8842, 8843, 8844], 8108: [8845, 8846, 8847], 8109: [8848, 8849], 8113: [8850, 8851], 8114: [8852, 8853, 8854, 8855, 8856, 8857], 8115: [8858], 8116: [8859, 8860], 8117: [8861, 8862, 8863, 8864], 8119: [8865, 8866], 8125: [8867, 8868], 8126: [8869, 8870], 8128: [8871, 8872], 8130: [8873, 8874], 8131: [8875, 8876, 8877, 8878, 8879], 8134: [8880, 8881], 8135: [8882, 8883, 8884, 8885, 8886], 8139: [8887, 8888, 8889], 8140: [8890, 8891, 8892, 8893], 8144: [8894], 8146: [8895, 8896], 8147: [8897, 8898, 8899, 8900], 8150: [8901], 8151: [8902, 8903], 8154: [8904, 8905], 8155: [8906, 8907], 8159: [8908, 8909, 8910], 8162: [8911, 8912, 8913, 8914, 8915, 8916], 8165: [8917], 8166: [8918], 8171: [8919, 8920, 8921], 8176: [8922, 8923, 8924], 8178: [8925, 8926, 8927], 8180: [8928, 8929, 8930, 8931, 8932], 8181: [8933], 8182: [8934], 8183: [8935, 8936, 8937, 8938, 8939], 8184: [8940, 8941, 8942], 8185: [8943, 8944], 8186: [8945, 8946], 8193: [8947, 8948], 8194: [8949, 8950, 8951], 8195: [8952], 8196: [8953, 8954], 8197: [8955, 8956, 8957], 8200: [8958], 8202: [8959], 8208: [8960], 8209: [8961, 8962, 8963], 8212: [8964], 8219: [8965, 8966, 8967], 8221: [8968], 8223: [8969, 8970, 8971, 8972, 8973], 8224: [8974, 8975], 8228: [8976, 8977, 8978], 8229: [8979, 8980], 8230: [8981, 8982, 8983, 8984], 8233: [8985, 8986, 8987, 8988], 8239: [8989, 8990, 8991, 8992, 8993], 8248: [8994, 8995, 8996], 8250: [8997, 8998], 8252: [8999, 9000], 8253: [9001, 9002], 8254: [9003, 9004, 9005, 9006, 9007], 8255: [9008], 8256: [9009], 8261: [9010, 9011], 8265: [9012, 9013], 8269: [9014, 9015, 9016], 8270: [9017, 9018, 9019], 8273: [9020, 9021, 9022], 8274: [9023, 9024], 8278: [9025], 8279: [9026, 9027, 9028, 9029], 8288: [9030, 9031, 9032], 8290: [9033], 8292: [9034], 8296: [9035, 9036], 8298: [9037, 9038, 9039], 8300: [9040, 9041, 9042], 8301: [9043, 9044], 8303: [9045, 9046, 9047, 9048, 9049], 8308: [9050, 9051, 9052, 9053, 9054], 8311: [9055, 9056], 8313: [9057, 9058], 8314: [9059, 9060], 8319: [9061, 9062, 9063, 9064, 9065, 9066], 8322: [9067], 8326: [9068, 9069, 9070, 9071], 8327: [9072, 9073, 9074], 8328: [9075, 9076, 9077], 8330: [9078, 9079], 8336: [9080], 8337: [9081, 9082], 8339: [9083, 9084, 9085], 8340: [9086], 8345: [9087, 9088, 9089], 8347: [9090, 9091], 8348: [9092, 9093, 9094], 8349: [9095, 9096, 9097, 9098, 9099], 8350: [9100, 9101], 8352: [9102, 9103, 9104], 8355: [9105, 9106, 9107, 9108], 8357: [9109], 8360: [9110, 9111, 9112], 8361: [9113, 9114, 9115, 9116], 8362: [9117, 9118], 8366: [9119, 9120, 9121, 9122], 8374: [9123, 9124, 9125], 8377: [9126, 9127], 8378: [9128, 9129, 9130], 8380: [9131, 9132], 8383: [9133], 8384: [9134], 8386: [9135], 8389: [9136], 8391: [9137, 9138], 8392: [9139, 9140], 8393: [9141, 9142, 9143, 9144, 9145], 8394: [9146, 9147, 9148], 8397: [9149, 9150, 9151], 8398: [9152], 8399: [9153, 9154], 8405: [9155, 9156], 8409: [9157, 9158, 9159], 8410: [9160, 9161], 8416: [9162], 8418: [9163, 9164, 9165], 8421: [9166, 9167, 9168, 9169], 8422: [9170, 9171], 8432: [9172, 9173, 9174], 8434: [9175], 8439: [9176, 9177], 8440: [9178], 8442: [9179, 9180, 9181], 8443: [9182, 9183, 9184], 8448: [9185, 9186], 8449: [9187], 8452: [9188, 9189, 9190, 9191], 8454: [9192, 9193, 9194, 9195, 9196, 9197, 9198], 8455: [9199, 9200, 9201], 8464: [9202, 9203, 9204], 8472: [9205], 8473: [9206, 9207, 9208], 8475: [9209], 8476: [9210, 9211, 9212, 9213], 8477: [9214], 8478: [9215, 9216], 8481: [9217, 9218], 8482: [9219, 9220, 9221], 8483: [9222, 9223], 8486: [9224, 9225, 9226, 9227, 9228], 8488: [9229, 9230], 8490: [9231], 8491: [9232], 8495: [9233, 9234, 9235, 9236, 9237, 9238], 8500: [9239, 9240], 8506: [9241], 8508: [9242, 9243, 9244], 8513: [9245, 9246, 9247], 8514: [9248], 8517: [9249, 9250], 8518: [9251, 9252], 8519: [9253, 9254], 8520: [9255, 9256], 8524: [9257, 9258, 9259, 9260, 9261], 8528: [9262, 9263, 9264], 8529: [9265, 9266, 9267], 8531: [9268, 9269, 9270, 9271, 9272], 8532: [9273, 9274, 9275], 8534: [9276, 9277, 9278, 9279], 8538: [9280], 8539: [9281], 8542: [9282, 9283], 8545: [9284, 9285, 9286], 8546: [9287, 9288], 8549: [9289, 9290], 8552: [9291], 8553: [9292], 8554: [9293], 8555: [9294, 9295], 8559: [9296, 9297, 9298, 9299, 9300, 9301, 9302], 8561: [9303, 9304, 9305, 9306, 9307, 9308], 8564: [9309, 9310, 9311], 8571: [9312, 9313, 9314, 9315], 8575: [9316, 9317, 9318, 9319, 9320, 9321], 8576: [9322, 9323], 8577: [9324, 9325], 8581: [9326, 9327], 8582: [9328, 9329], 8583: [9330, 9331], 8585: [9332, 9333, 9334, 9335, 9336], 8589: [9337], 8595: [9338], 8596: [9339], 8598: [9340, 9341, 9342, 9343, 9344], 8599: [9345], 8600: [9346, 9347, 9348, 9349], 8601: [9350, 9351, 9352, 9353], 8602: [9354, 9355], 8603: [9356, 9357, 9358], 8605: [9359, 9360], 8606: [9361, 9362], 8610: [9363, 9364], 8611: [9365], 8616: [9366, 9367, 9368], 8617: [9369], 8620: [9370, 9371, 9372, 9373], 8622: [9374, 9375, 9376], 8624: [9377], 8625: [9378, 9379, 9380], 8628: [9381, 9382, 9383, 9384], 8629: [9385, 9386], 8636: [9387, 9388], 8638: [9389, 9390, 9391, 9392], 8639: [9393, 9394, 9395], 8641: [9396, 9397], 8644: [9398, 9399], 8646: [9400], 8649: [9401], 8650: [9402, 9403, 9404], 8651: [9405], 8652: [9406], 8653: [9407, 9408, 9409], 8654: [9410, 9411], 8656: [9412, 9413, 9414], 8658: [9415, 9416, 9417, 9418, 9419, 9420], 8661: [9421, 9422, 9423], 8662: [9424], 8672: [9425, 9426, 9427, 9428], 8674: [9429, 9430, 9431], 8675: [9432, 9433], 8677: [9434, 9435, 9436, 9437, 9438], 8679: [9439], 8681: [9440, 9441, 9442, 9443, 9444, 9445], 8682: [9446], 8684: [9447], 8691: [9448, 9449, 9450], 8693: [9451], 8696: [9452], 8699: [9453, 9454], 8700: [9455], 8701: [9456], 8702: [9457, 9458, 9459, 9460, 9461, 9462, 9463, 9464, 9465], 8704: [9466, 9467], 8709: [9468, 9469], 8710: [9470, 9471], 8713: [9472, 9473, 9474], 8714: [9475, 9476, 9477], 8715: [9478, 9479, 9480], 8718: [9481, 9482], 8720: [9483, 9484, 9485], 8722: [9486, 9487, 9488, 9489, 9490], 8724: [9491, 9492], 8727: [9493, 9494], 8728: [9495, 9496, 9497, 9498], 8731: [9499, 9500, 9501], 8733: [9502, 9503], 8735: [9504, 9505], 8737: [9506], 8740: [9507, 9508], 8743: [9509, 9510, 9511], 8748: [9512, 9513], 8755: [9514, 9515, 9516], 8757: [9517, 9518], 8759: [9519], 8760: [9520, 9521, 9522, 9523, 9524], 8763: [9525, 9526, 9527, 9528], 8766: [9529, 9530], 8767: [9531], 8773: [9532, 9533, 9534, 9535], 8774: [9536], 8775: [9537], 8782: [9538, 9539, 9540, 9541, 9542], 8783: [9543, 9544, 9545], 8784: [9546], 8785: [9547], 8789: [9548, 9549, 9550], 8797: [9551, 9552, 9553, 9554, 9555, 9556], 8800: [9557, 9558, 9559], 8802: [9560, 9561], 8808: [9562, 9563], 8811: [9564, 9565, 9566], 8812: [9567], 8817: [9568, 9569], 8819: [9570], 8826: [9571], 8827: [9572, 9573, 9574], 8830: [9575], 8831: [9576, 9577, 9578, 9579], 8835: [9580, 9581, 9582, 9583, 9584, 9585, 9586], 8838: [9587], 8839: [9588, 9589, 9590, 9591], 8841: [9592, 9593, 9594, 9595], 8844: [9596, 9597], 8845: [9598, 9599], 8846: [9600, 9601, 9602], 8847: [9603, 9604, 9605], 8848: [9606, 9607, 9608], 8850: [9609, 9610], 8856: [9611, 9612, 9613, 9614], 8857: [9615], 8859: [9616, 9617, 9618], 8861: [9619, 9620, 9621], 8865: [9622], 8866: [9623, 9624, 9625], 8867: [9626, 9627, 9628, 9629, 9630, 9631, 9632], 8869: [9633, 9634], 8871: [9635, 9636, 9637], 8872: [9638, 9639, 9640], 8874: [9641], 8880: [9642, 9643], 8881: [9644, 9645], 8884: [9646, 9647, 9648, 9649], 8887: [9650, 9651, 9652], 8890: [9653, 9654], 8893: [9655, 9656], 8900: [9657, 9658, 9659, 9660, 9661], 8903: [9662, 9663, 9664, 9665], 8905: [9666], 8906: [9667, 9668, 9669, 9670], 8908: [9671, 9672], 8912: [9673, 9674], 8913: [9675, 9676], 8918: [9677, 9678], 8920: [9679, 9680, 9681, 9682], 8922: [9683], 8923: [9684], 8924: [9685], 8925: [9686, 9687], 8931: [9688, 9689, 9690], 8932: [9691], 8934: [9692, 9693], 8935: [9694, 9695, 9696, 9697], 8937: [9698, 9699], 8938: [9700, 9701, 9702, 9703, 9704], 8944: [9705, 9706, 9707], 8945: [9708, 9709, 9710, 9711, 9712], 8951: [9713], 8954: [9714], 8959: [9715], 8962: [9716], 8965: [9717, 9718, 9719, 9720], 8972: [9721], 8975: [9722], 8977: [9723], 8978: [9724], 8979: [9725, 9726], 8980: [9727], 8981: [9728, 9729], 8982: [9730, 9731, 9732, 9733], 8986: [9734, 9735], 8991: [9736, 9737], 8994: [9738], 8997: [9739, 9740], 8998: [9741], 8999: [9742, 9743, 9744, 9745], 9001: [9746, 9747, 9748], 9003: [9749], 9007: [9750], 9009: [9751], 9013: [9752, 9753, 9754, 9755], 9014: [9756], 9021: [9757, 9758], 9024: [9759, 9760, 9761, 9762], 9026: [9763, 9764, 9765, 9766], 9033: [9767, 9768, 9769, 9770, 9771], 9036: [9772, 9773], 9037: [9774, 9775], 9039: [9776, 9777, 9778], 9040: [9779], 9042: [9780, 9781], 9043: [9782, 9783, 9784], 9046: [9785], 9049: [9786, 9787, 9788], 9051: [9789, 9790, 9791], 9053: [9792, 9793, 9794], 9054: [9795], 9059: [9796, 9797, 9798], 9061: [9799, 9800, 9801, 9802, 9803, 9804, 9805, 9806], 9062: [9807, 9808, 9809], 9066: [9810], 9067: [9811, 9812, 9813, 9814], 9069: [9815], 9070: [9816], 9072: [9817, 9818], 9073: [9819, 9820, 9821], 9074: [9822, 9823, 9824, 9825], 9075: [9826, 9827, 9828], 9076: [9829], 9081: [9830, 9831], 9083: [9832], 9085: [9833, 9834], 9087: [9835, 9836, 9837, 9838], 9088: [9839, 9840], 9090: [9841, 9842], 9093: [9843, 9844], 9096: [9845, 9846, 9847, 9848], 9099: [9849, 9850], 9102: [9851, 9852, 9853], 9103: [9854, 9855, 9856, 9857], 9106: [9858], 9109: [9859], 9111: [9860, 9861, 9862, 9863, 9864], 9113: [9865], 9114: [9866, 9867, 9868, 9869], 9115: [9870], 9116: [9871], 9118: [9872, 9873, 9874], 9120: [9875, 9876, 9877, 9878], 9121: [9879], 9124: [9880, 9881, 9882, 9883, 9884], 9128: [9885, 9886, 9887], 9129: [9888], 9131: [9889, 9890], 9140: [9891], 9142: [9892, 9893], 9149: [9894, 9895], 9152: [9896, 9897, 9898], 9154: [9899, 9900, 9901, 9902, 9903], 9157: [9904, 9905, 9906, 9907, 9908, 9909, 9910, 9911], 9158: [9912, 9913, 9914, 9915, 9916], 9160: [9917, 9918], 9161: [9919, 9920, 9921, 9922], 9166: [9923, 9924], 9169: [9925, 9926, 9927, 9928], 9171: [9929, 9930], 9174: [9931, 9932, 9933, 9934], 9176: [9935, 9936, 9937, 9938], 9181: [9939, 9940, 9941, 9942, 9943, 9944], 9184: [9945, 9946], 9185: [9947], 9186: [9948, 9949, 9950], 9192: [9951, 9952], 9200: [9953], 9202: [9954, 9955, 9956], 9203: [9957, 9958, 9959], 9204: [9960, 9961], 9207: [9962], 9208: [9963, 9964, 9965], 9210: [9966, 9967, 9968], 9213: [9969, 9970, 9971, 9972, 9973], 9215: [9974, 9975], 9218: [9976, 9977, 9978], 9225: [9979], 9227: [9980, 9981, 9982], 9228: [9983, 9984, 9985, 9986], 9229: [9987, 9988, 9989], 9230: [9990], 9232: [9991, 9992, 9993, 9994], 9233: [9995, 9996, 9997], 9235: [9998, 9999, 10000, 10001], 9236: [10002], 9237: [10003], 9239: [10004], 9241: [10005], 9244: [10006, 10007, 10008], 9247: [10009], 9250: [10010, 10011], 9255: [10012, 10013], 9258: [10014, 10015, 10016], 9259: [10017, 10018], 9262: [10019, 10020, 10021], 9266: [10022, 10023, 10024, 10025, 10026], 9268: [10027], 9270: [10028, 10029], 9272: [10030], 9273: [10031, 10032, 10033], 9275: [10034, 10035, 10036, 10037, 10038], 9276: [10039, 10040], 9277: [10041, 10042, 10043, 10044], 9278: [10045, 10046, 10047], 9283: [10048], 9288: [10049, 10050, 10051], 9292: [10052, 10053, 10054], 9293: [10055], 9296: [10056], 9298: [10057, 10058], 9299: [10059, 10060, 10061], 9301: [10062, 10063], 9302: [10064, 10065, 10066, 10067], 9304: [10068, 10069], 9305: [10070], 9306: [10071], 9309: [10072, 10073], 9311: [10074, 10075, 10076, 10077], 9315: [10078, 10079, 10080, 10081, 10082, 10083, 10084], 9318: [10085, 10086], 9319: [10087, 10088, 10089], 9320: [10090, 10091], 9322: [10092, 10093, 10094, 10095, 10096, 10097], 9325: [10098, 10099, 10100], 9326: [10101, 10102], 9327: [10103], 9328: [10104], 9329: [10105], 9331: [10106, 10107], 9334: [10108, 10109, 10110, 10111], 9338: [10112, 10113, 10114, 10115, 10116, 10117], 9339: [10118], 9340: [10119, 10120], 9341: [10121, 10122, 10123], 9342: [10124], 9348: [10125, 10126], 9350: [10127], 9357: [10128, 10129, 10130, 10131, 10132, 10133], 9368: [10134], 9371: [10135, 10136], 9373: [10137, 10138], 9374: [10139, 10140], 9376: [10141], 9383: [10142], 9385: [10143, 10144], 9388: [10145, 10146, 10147, 10148], 9389: [10149, 10150, 10151, 10152], 9390: [10153, 10154], 9391: [10155, 10156, 10157], 9393: [10158, 10159], 9398: [10160, 10161, 10162], 9401: [10163, 10164], 9402: [10165], 9403: [10166, 10167, 10168, 10169, 10170], 9406: [10171, 10172, 10173], 9407: [10174], 9409: [10175, 10176], 9411: [10177, 10178, 10179], 9413: [10180, 10181, 10182, 10183, 10184, 10185], 9415: [10186, 10187], 9416: [10188], 9418: [10189, 10190], 9419: [10191, 10192, 10193], 9423: [10194, 10195, 10196], 9424: [10197], 9429: [10198, 10199], 9433: [10200, 10201], 9436: [10202, 10203, 10204], 9440: [10205, 10206], 9441: [10207, 10208], 9443: [10209, 10210, 10211], 9444: [10212, 10213, 10214], 9446: [10215, 10216, 10217, 10218, 10219, 10220, 10221], 9448: [10222, 10223], 9450: [10224, 10225, 10226], 9455: [10227], 9458: [10228, 10229, 10230, 10231, 10232], 9459: [10233, 10234, 10235, 10236, 10237], 9463: [10238, 10239], 9464: [10240, 10241, 10242], 9465: [10243, 10244, 10245, 10246], 9466: [10247, 10248, 10249, 10250, 10251, 10252, 10253, 10254, 10255], 9470: [10256, 10257, 10258], 9471: [10259, 10260, 10261], 9472: [10262, 10263], 9473: [10264, 10265, 10266], 9478: [10267], 9479: [10268, 10269], 9482: [10270, 10271], 9485: [10272, 10273, 10274], 9492: [10275, 10276, 10277], 9493: [10278, 10279], 9494: [10280, 10281, 10282, 10283], 9495: [10284], 9501: [10285, 10286, 10287, 10288, 10289], 9502: [10290, 10291], 9506: [10292, 10293], 9510: [10294], 9512: [10295], 9514: [10296, 10297], 9515: [10298, 10299], 9516: [10300], 9517: [10301, 10302, 10303, 10304, 10305, 10306, 10307, 10308, 10309, 10310], 9518: [10311, 10312, 10313], 9519: [10314, 10315, 10316, 10317], 9522: [10318, 10319, 10320, 10321], 9526: [10322, 10323, 10324, 10325], 9538: [10326, 10327], 9541: [10328], 9546: [10329, 10330, 10331], 9547: [10332], 9550: [10333, 10334, 10335, 10336], 9552: [10337, 10338], 9555: [10339, 10340, 10341], 9558: [10342, 10343], 9559: [10344, 10345], 9560: [10346, 10347, 10348, 10349, 10350], 9564: [10351, 10352], 9567: [10353, 10354, 10355, 10356, 10357, 10358], 9569: [10359, 10360, 10361], 9571: [10362], 9572: [10363, 10364, 10365, 10366, 10367], 9573: [10368, 10369], 9576: [10370, 10371], 9577: [10372, 10373, 10374], 9579: [10375, 10376, 10377, 10378, 10379, 10380], 9580: [10381, 10382, 10383, 10384, 10385], 9582: [10386, 10387, 10388], 9584: [10389, 10390], 9585: [10391, 10392, 10393], 9587: [10394], 9589: [10395], 9590: [10396, 10397], 9595: [10398], 9598: [10399, 10400], 9599: [10401, 10402, 10403, 10404, 10405], 9601: [10406], 9602: [10407, 10408], 9605: [10409], 9606: [10410], 9607: [10411, 10412, 10413, 10414], 9608: [10415, 10416, 10417], 9611: [10418, 10419], 9612: [10420, 10421], 9613: [10422, 10423, 10424, 10425], 9617: [10426], 9622: [10427], 9624: [10428, 10429, 10430, 10431], 9627: [10432, 10433], 9631: [10434, 10435, 10436], 9634: [10437, 10438, 10439, 10440, 10441, 10442], 9635: [10443], 9636: [10444, 10445, 10446, 10447, 10448, 10449], 9640: [10450, 10451], 9642: [10452, 10453, 10454], 9643: [10455], 9644: [10456, 10457, 10458, 10459, 10460], 9645: [10461, 10462], 9646: [10463], 9647: [10464], 9648: [10465, 10466, 10467, 10468], 9650: [10469, 10470, 10471], 9652: [10472, 10473], 9657: [10474], 9658: [10475, 10476, 10477], 9659: [10478, 10479], 9663: [10480, 10481], 9667: [10482], 9669: [10483], 9670: [10484, 10485], 9674: [10486, 10487], 9675: [10488], 9680: [10489, 10490, 10491, 10492], 9681: [10493], 9682: [10494, 10495, 10496, 10497], 9686: [10498, 10499], 9687: [10500, 10501], 9689: [10502, 10503], 9690: [10504, 10505, 10506, 10507], 9695: [10508], 9696: [10509, 10510, 10511, 10512, 10513], 9701: [10514, 10515], 9707: [10516], 9708: [10517, 10518, 10519, 10520, 10521, 10522], 9709: [10523], 9713: [10524, 10525, 10526], 9714: [10527, 10528, 10529, 10530], 9718: [10531, 10532, 10533, 10534], 9720: [10535, 10536, 10537, 10538], 9722: [10539, 10540], 9726: [10541], 9728: [10542, 10543, 10544], 9729: [10545, 10546], 9731: [10547, 10548], 9735: [10549, 10550, 10551], 9740: [10552], 9747: [10553], 9750: [10554, 10555, 10556], 9751: [10557, 10558, 10559], 9756: [10560, 10561, 10562], 9759: [10563], 9760: [10564, 10565], 9761: [10566, 10567, 10568], 9762: [10569, 10570], 9764: [10571, 10572, 10573], 9766: [10574, 10575, 10576, 10577, 10578, 10579, 10580], 9770: [10581, 10582, 10583, 10584], 9772: [10585], 9774: [10586], 9776: [10587, 10588], 9778: [10589, 10590, 10591], 9779: [10592, 10593, 10594], 9781: [10595, 10596, 10597], 9785: [10598, 10599, 10600, 10601], 9786: [10602, 10603, 10604, 10605, 10606, 10607, 10608, 10609, 10610, 10611, 10612, 10613, 10614, 10615, 10616, 10617, 10618, 10619, 10620], 9788: [10621, 10622, 10623], 9791: [10624, 10625, 10626, 10627, 10628, 10629, 10630, 10631], 9796: [10632, 10633, 10634, 10635], 9797: [10636], 9799: [10637, 10638, 10639, 10640], 9800: [10641], 9802: [10642, 10643, 10644, 10645], 9803: [10646, 10647, 10648, 10649, 10650], 9804: [10651, 10652, 10653], 9809: [10654, 10655, 10656, 10657, 10658, 10659], 9812: [10660, 10661, 10662], 9815: [10663, 10664, 10665], 9817: [10666], 9819: [10667, 10668], 9820: [10669, 10670, 10671, 10672, 10673, 10674, 10675], 9821: [10676, 10677], 9824: [10678, 10679, 10680, 10681], 9825: [10682, 10683, 10684], 9830: [10685], 9832: [10686, 10687, 10688, 10689], 9833: [10690, 10691], 9841: [10692, 10693, 10694, 10695, 10696, 10697], 9846: [10698], 9847: [10699, 10700, 10701, 10702, 10703], 9853: [10704, 10705, 10706, 10707, 10708], 9855: [10709, 10710], 9859: [10711, 10712, 10713], 9868: [10714, 10715], 9871: [10716, 10717], 9873: [10718, 10719, 10720, 10721, 10722], 9875: [10723, 10724, 10725], 9877: [10726, 10727], 9878: [10728, 10729], 9879: [10730, 10731, 10732, 10733, 10734], 9881: [10735], 9882: [10736, 10737, 10738, 10739], 9887: [10740, 10741, 10742, 10743], 9892: [10744, 10745], 9893: [10746, 10747], 9895: [10748, 10749, 10750], 9899: [10751, 10752, 10753], 9900: [10754, 10755], 9904: [10756], 9905: [10757, 10758, 10759, 10760], 9906: [10761, 10762, 10763], 9908: [10764, 10765, 10766, 10767, 10768, 10769], 9909: [10770, 10771, 10772], 9916: [10773, 10774], 9922: [10775, 10776], 9923: [10777, 10778, 10779, 10780], 9924: [10781, 10782, 10783], 9926: [10784, 10785, 10786, 10787], 9927: [10788], 9932: [10789], 9935: [10790, 10791, 10792], 9937: [10793, 10794, 10795], 9940: [10796], 9943: [10797], 9949: [10798, 10799, 10800], 9950: [10801, 10802], 9951: [10803, 10804, 10805, 10806, 10807, 10808, 10809, 10810, 10811], 9953: [10812], 9959: [10813], 9960: [10814, 10815], 9963: [10816, 10817, 10818, 10819], 9969: [10820], 9971: [10821, 10822, 10823, 10824, 10825, 10826], 9972: [10827], 9974: [10828, 10829, 10830], 9979: [10831, 10832, 10833, 10834], 9980: [10835], 9981: [10836], 9985: [10837], 9986: [10838, 10839, 10840], 9987: [10841, 10842, 10843], 9988: [10844, 10845, 10846, 10847, 10848, 10849], 9997: [10850], 10004: [10851, 10852], 10006: [10853, 10854, 10855], 10012: [10856, 10857], 10013: [10858, 10859, 10860], 10014: [10861, 10862], 10015: [10863, 10864, 10865, 10866, 10867], 10017: [10868], 10019: [10869], 10020: [10870], 10021: [10871, 10872], 10028: [10873], 10033: [10874, 10875, 10876], 10034: [10877], 10035: [10878, 10879], 10045: [10880, 10881], 10048: [10882, 10883], 10051: [10884, 10885, 10886, 10887], 10055: [10888, 10889], 10057: [10890, 10891, 10892, 10893], 10059: [10894, 10895, 10896], 10060: [10897, 10898, 10899], 10061: [10900, 10901, 10902], 10063: [10903, 10904], 10067: [10905, 10906], 10070: [10907], 10071: [10908], 10072: [10909, 10910], 10078: [10911, 10912, 10913], 10079: [10914, 10915, 10916, 10917], 10080: [10918], 10081: [10919, 10920], 10083: [10921, 10922, 10923, 10924, 10925], 10084: [10926], 10088: [10927, 10928], 10091: [10929], 10094: [10930, 10931, 10932, 10933], 10095: [10934], 10100: [10935, 10936, 10937], 10103: [10938, 10939, 10940, 10941], 10109: [10942, 10943, 10944, 10945], 10111: [10946], 10113: [10947, 10948], 10114: [10949, 10950], 10117: [10951, 10952, 10953, 10954], 10120: [10955, 10956, 10957], 10121: [10958], 10122: [10959, 10960], 10124: [10961, 10962], 10125: [10963, 10964, 10965], 10130: [10966, 10967, 10968], 10132: [10969, 10970, 10971, 10972, 10973, 10974, 10975], 10133: [10976, 10977, 10978, 10979, 10980], 10134: [10981], 10135: [10982, 10983], 10137: [10984, 10985, 10986], 10140: [10987, 10988], 10143: [10989, 10990, 10991], 10145: [10992], 10150: [10993, 10994, 10995], 10152: [10996, 10997], 10153: [10998], 10154: [10999, 11000, 11001, 11002, 11003, 11004], 10155: [11005, 11006], 10156: [11007, 11008], 10159: [11009, 11010, 11011], 10162: [11012], 10165: [11013, 11014, 11015, 11016], 10168: [11017], 10169: [11018], 10171: [11019, 11020, 11021], 10173: [11022, 11023], 10175: [11024, 11025, 11026, 11027, 11028, 11029], 10178: [11030, 11031], 10179: [11032, 11033], 10181: [11034, 11035, 11036], 10184: [11037], 10185: [11038, 11039, 11040, 11041, 11042, 11043, 11044, 11045, 11046], 10186: [11047, 11048], 10189: [11049, 11050, 11051, 11052], 10193: [11053, 11054, 11055, 11056, 11057], 10198: [11058], 10200: [11059, 11060], 10201: [11061], 10203: [11062, 11063, 11064], 10204: [11065], 10205: [11066], 10206: [11067, 11068, 11069, 11070], 10209: [11071, 11072], 10213: [11073, 11074, 11075], 10214: [11076, 11077, 11078], 10216: [11079, 11080], 10217: [11081], 10222: [11082, 11083, 11084, 11085], 10223: [11086, 11087], 10224: [11088, 11089], 10228: [11090, 11091, 11092], 10229: [11093, 11094, 11095, 11096, 11097, 11098, 11099], 10232: [11100, 11101, 11102, 11103], 10233: [11104, 11105], 10236: [11106, 11107, 11108, 11109], 10242: [11110, 11111, 11112, 11113, 11114, 11115], 10243: [11116, 11117, 11118, 11119, 11120, 11121], 10246: [11122, 11123, 11124], 10247: [11125, 11126], 10248: [11127, 11128], 10249: [11129, 11130, 11131], 10250: [11132, 11133], 10251: [11134], 10261: [11135, 11136, 11137, 11138, 11139, 11140, 11141, 11142], 10268: [11143, 11144, 11145, 11146], 10270: [11147, 11148], 10272: [11149], 10273: [11150, 11151], 10275: [11152, 11153, 11154, 11155, 11156, 11157], 10277: [11158, 11159], 10290: [11160], 10291: [11161], 10292: [11162, 11163, 11164], 10295: [11165], 10296: [11166, 11167, 11168, 11169], 10297: [11170], 10298: [11171, 11172], 10301: [11173], 10303: [11174], 10307: [11175, 11176, 11177, 11178], 10310: [11179, 11180], 10311: [11181, 11182, 11183], 10313: [11184, 11185], 10321: [11186, 11187, 11188], 10324: [11189, 11190], 10325: [11191, 11192], 10332: [11193, 11194], 10334: [11195, 11196, 11197], 10335: [11198], 10338: [11199, 11200, 11201], 10341: [11202], 10347: [11203, 11204, 11205], 10349: [11206, 11207, 11208], 10351: [11209], 10352: [11210, 11211, 11212, 11213, 11214, 11215, 11216], 10353: [11217, 11218, 11219, 11220, 11221], 10354: [11222, 11223, 11224], 10355: [11225, 11226, 11227, 11228, 11229, 11230], 10356: [11231], 10357: [11232, 11233, 11234, 11235, 11236, 11237], 10359: [11238, 11239, 11240, 11241], 10362: [11242, 11243], 10363: [11244, 11245, 11246, 11247, 11248], 10364: [11249, 11250], 10371: [11251], 10372: [11252, 11253, 11254], 10374: [11255, 11256, 11257, 11258, 11259], 10375: [11260, 11261], 10376: [11262, 11263, 11264, 11265], 10377: [11266], 10379: [11267, 11268, 11269], 10380: [11270, 11271, 11272], 10383: [11273, 11274, 11275], 10384: [11276, 11277], 10387: [11278], 10389: [11279, 11280], 10394: [11281, 11282], 10395: [11283, 11284, 11285, 11286], 10401: [11287, 11288, 11289], 10403: [11290], 10404: [11291], 10405: [11292, 11293, 11294], 10407: [11295, 11296, 11297], 10408: [11298, 11299], 10409: [11300, 11301, 11302, 11303, 11304], 10410: [11305, 11306, 11307, 11308], 10411: [11309, 11310, 11311], 10413: [11312, 11313, 11314, 11315, 11316], 10416: [11317], 10423: [11318], 10426: [11319], 10428: [11320, 11321, 11322], 10431: [11323, 11324, 11325, 11326, 11327, 11328], 10437: [11329, 11330, 11331, 11332], 10438: [11333, 11334, 11335, 11336], 10439: [11337, 11338, 11339], 10441: [11340, 11341, 11342], 10442: [11343, 11344, 11345, 11346, 11347, 11348, 11349, 11350], 10443: [11351, 11352, 11353], 10445: [11354], 10447: [11355, 11356], 10451: [11357], 10452: [11358, 11359], 10454: [11360], 10455: [11361], 10456: [11362, 11363], 10459: [11364, 11365, 11366, 11367, 11368], 10461: [11369, 11370, 11371, 11372], 10462: [11373, 11374], 10466: [11375, 11376, 11377], 10467: [11378, 11379, 11380], 10468: [11381, 11382], 10471: [11383, 11384, 11385, 11386, 11387], 10473: [11388, 11389, 11390, 11391, 11392], 10477: [11393], 10484: [11394, 11395, 11396, 11397, 11398], 10488: [11399, 11400, 11401, 11402, 11403, 11404], 10489: [11405, 11406], 10491: [11407], 10492: [11408, 11409], 10493: [11410, 11411], 10494: [11412, 11413, 11414], 10496: [11415, 11416, 11417], 10498: [11418, 11419, 11420, 11421, 11422, 11423], 10501: [11424, 11425, 11426, 11427], 10502: [11428], 10504: [11429, 11430], 10510: [11431, 11432, 11433], 10511: [11434], 10512: [11435, 11436, 11437], 10513: [11438], 10514: [11439], 10517: [11440], 10518: [11441, 11442, 11443], 10520: [11444, 11445], 10521: [11446, 11447], 10522: [11448, 11449], 10524: [11450, 11451], 10530: [11452, 11453, 11454, 11455], 10532: [11456, 11457, 11458, 11459], 10534: [11460, 11461, 11462], 10536: [11463, 11464], 10540: [11465], 10541: [11466, 11467], 10542: [11468, 11469], 10543: [11470], 10544: [11471], 10545: [11472, 11473], 10549: [11474, 11475, 11476, 11477, 11478, 11479, 11480], 10552: [11481, 11482, 11483, 11484], 10555: [11485], 10557: [11486, 11487, 11488], 10560: [11489, 11490], 10564: [11491, 11492, 11493], 10575: [11494, 11495, 11496], 10576: [11497, 11498], 10577: [11499, 11500], 10579: [11501, 11502, 11503, 11504, 11505, 11506], 10587: [11507], 10588: [11508, 11509], 10592: [11510, 11511, 11512, 11513, 11514, 11515], 10595: [11516, 11517], 10598: [11518], 10599: [11519], 10600: [11520, 11521], 10602: [11522, 11523, 11524], 10603: [11525, 11526], 10605: [11527, 11528], 10606: [11529, 11530, 11531], 10609: [11532], 10613: [11533, 11534, 11535, 11536, 11537, 11538, 11539, 11540], 10617: [11541, 11542], 10621: [11543], 10625: [11544, 11545], 10633: [11546], 10635: [11547], 10639: [11548, 11549], 10640: [11550], 10641: [11551, 11552], 10642: [11553, 11554, 11555, 11556], 10654: [11557, 11558], 10655: [11559, 11560, 11561, 11562, 11563], 10657: [11564, 11565], 10658: [11566, 11567], 10659: [11568], 10660: [11569, 11570], 10662: [11571, 11572], 10663: [11573], 10665: [11574, 11575, 11576], 10666: [11577, 11578, 11579, 11580], 10667: [11581, 11582, 11583, 11584], 10669: [11585, 11586, 11587, 11588, 11589], 10670: [11590, 11591, 11592, 11593], 10672: [11594, 11595], 10674: [11596], 10676: [11597, 11598], 10678: [11599, 11600], 10681: [11601, 11602, 11603], 10683: [11604, 11605, 11606, 11607], 10688: [11608], 10689: [11609, 11610, 11611], 10699: [11612, 11613, 11614, 11615, 11616, 11617], 10702: [11618], 10704: [11619, 11620, 11621, 11622, 11623, 11624, 11625], 10706: [11626], 10708: [11627, 11628, 11629], 10709: [11630, 11631, 11632], 10711: [11633, 11634, 11635], 10714: [11636, 11637], 10715: [11638, 11639, 11640], 10717: [11641, 11642], 10718: [11643, 11644, 11645], 10724: [11646, 11647], 10726: [11648, 11649, 11650, 11651], 10727: [11652, 11653, 11654], 10729: [11655, 11656], 10730: [11657, 11658, 11659], 10731: [11660], 10737: [11661, 11662, 11663], 10741: [11664, 11665], 10748: [11666, 11667, 11668], 10749: [11669, 11670, 11671], 10750: [11672], 10752: [11673, 11674, 11675], 10755: [11676, 11677], 10761: [11678, 11679, 11680], 10762: [11681, 11682, 11683], 10763: [11684, 11685, 11686], 10764: [11687, 11688], 10766: [11689, 11690], 10767: [11691], 10768: [11692], 10771: [11693, 11694, 11695], 10773: [11696, 11697, 11698, 11699], 10774: [11700, 11701, 11702, 11703], 10775: [11704, 11705, 11706], 10778: [11707], 10780: [11708], 10781: [11709, 11710, 11711, 11712], 10794: [11713, 11714], 10795: [11715, 11716, 11717, 11718], 10797: [11719, 11720, 11721], 10802: [11722], 10803: [11723], 10804: [11724, 11725, 11726, 11727], 10807: [11728, 11729, 11730, 11731, 11732, 11733, 11734], 10810: [11735, 11736, 11737], 10812: [11738, 11739, 11740], 10813: [11741, 11742], 10814: [11743], 10818: [11744], 10819: [11745, 11746], 10821: [11747], 10823: [11748, 11749], 10824: [11750, 11751, 11752], 10826: [11753], 10827: [11754, 11755], 10828: [11756, 11757, 11758], 10829: [11759, 11760, 11761], 10831: [11762], 10834: [11763, 11764, 11765], 10835: [11766], 10836: [11767, 11768, 11769, 11770, 11771, 11772], 10838: [11773, 11774, 11775, 11776, 11777], 10842: [11778, 11779, 11780, 11781], 10844: [11782, 11783], 10846: [11784], 10847: [11785, 11786, 11787], 10848: [11788, 11789], 10852: [11790, 11791, 11792], 10854: [11793, 11794, 11795, 11796, 11797], 10855: [11798, 11799, 11800], 10856: [11801], 10859: [11802], 10860: [11803, 11804, 11805], 10862: [11806, 11807, 11808, 11809, 11810, 11811, 11812, 11813], 10864: [11814], 10867: [11815], 10868: [11816, 11817, 11818, 11819], 10873: [11820, 11821, 11822], 10877: [11823, 11824, 11825], 10881: [11826], 10885: [11827, 11828], 10889: [11829, 11830, 11831], 10891: [11832, 11833], 10894: [11834, 11835], 10899: [11836], 10903: [11837], 10906: [11838], 10908: [11839], 10915: [11840], 10916: [11841], 10917: [11842, 11843], 10918: [11844], 10919: [11845, 11846], 10924: [11847, 11848, 11849, 11850, 11851], 10925: [11852, 11853], 10926: [11854, 11855, 11856, 11857], 10929: [11858], 10930: [11859, 11860, 11861], 10936: [11862, 11863, 11864], 10937: [11865, 11866, 11867, 11868], 10941: [11869, 11870, 11871], 10943: [11872], 10945: [11873, 11874], 10946: [11875, 11876, 11877], 10949: [11878, 11879, 11880], 10951: [11881, 11882, 11883, 11884, 11885, 11886, 11887], 10952: [11888, 11889], 10953: [11890, 11891, 11892], 10955: [11893, 11894], 10956: [11895, 11896, 11897, 11898, 11899], 10957: [11900, 11901, 11902], 10958: [11903], 10960: [11904, 11905], 10961: [11906, 11907], 10963: [11908], 10964: [11909], 10969: [11910, 11911, 11912, 11913, 11914], 10970: [11915, 11916], 10971: [11917, 11918, 11919], 10974: [11920], 10975: [11921, 11922], 10978: [11923], 10986: [11924, 11925, 11926], 10988: [11927], 10996: [11928, 11929], 11004: [11930, 11931], 11006: [11932], 11010: [11933, 11934], 11012: [11935], 11018: [11936], 11021: [11937, 11938, 11939], 11030: [11940, 11941, 11942, 11943], 11031: [11944, 11945], 11032: [11946], 11034: [11947], 11035: [11948, 11949, 11950], 11037: [11951], 11038: [11952], 11044: [11953, 11954], 11047: [11955], 11050: [11956, 11957, 11958, 11959, 11960], 11054: [11961, 11962, 11963, 11964, 11965], 11055: [11966, 11967], 11058: [11968, 11969], 11059: [11970, 11971], 11066: [11972, 11973, 11974], 11068: [11975, 11976, 11977, 11978], 11071: [11979, 11980, 11981], 11072: [11982, 11983, 11984, 11985, 11986, 11987, 11988], 11076: [11989, 11990], 11077: [11991, 11992, 11993, 11994], 11078: [11995, 11996, 11997, 11998], 11083: [11999, 12000], 11086: [12001, 12002, 12003], 11090: [12004, 12005], 11092: [12006, 12007, 12008, 12009], 11096: [12010, 12011], 11097: [12012, 12013], 11098: [12014, 12015, 12016], 11099: [12017, 12018, 12019, 12020], 11101: [12021], 11102: [12022, 12023, 12024], 11103: [12025, 12026, 12027], 11104: [12028, 12029, 12030, 12031], 11105: [12032], 11106: [12033, 12034], 11107: [12035], 11110: [12036, 12037, 12038], 11112: [12039, 12040], 11120: [12041], 11122: [12042], 11130: [12043, 12044, 12045, 12046], 11133: [12047, 12048], 11138: [12049, 12050], 11142: [12051, 12052, 12053, 12054], 11144: [12055, 12056, 12057, 12058], 11145: [12059, 12060, 12061, 12062], 11147: [12063], 11151: [12064, 12065, 12066, 12067, 12068, 12069], 11152: [12070, 12071, 12072], 11153: [12073], 11155: [12074, 12075, 12076], 11156: [12077, 12078], 11158: [12079], 11159: [12080, 12081, 12082, 12083], 11161: [12084, 12085, 12086, 12087], 11163: [12088, 12089, 12090], 11164: [12091, 12092, 12093], 11165: [12094, 12095, 12096], 11166: [12097, 12098, 12099], 11168: [12100, 12101, 12102, 12103, 12104], 11169: [12105, 12106], 11172: [12107], 11175: [12108, 12109], 11177: [12110, 12111, 12112], 11178: [12113, 12114, 12115], 11179: [12116, 12117], 11180: [12118], 11182: [12119, 12120, 12121, 12122], 11183: [12123, 12124, 12125], 11185: [12126, 12127, 12128, 12129, 12130, 12131, 12132, 12133], 11187: [12134], 11189: [12135], 11191: [12136, 12137, 12138, 12139], 11193: [12140, 12141], 11195: [12142, 12143, 12144], 11196: [12145, 12146, 12147], 11197: [12148, 12149], 11198: [12150, 12151, 12152, 12153, 12154, 12155], 11210: [12156, 12157], 11212: [12158], 11215: [12159, 12160, 12161, 12162], 11216: [12163, 12164, 12165], 11217: [12166, 12167, 12168, 12169, 12170], 11219: [12171, 12172], 11221: [12173, 12174], 11229: [12175], 11230: [12176, 12177], 11239: [12178, 12179, 12180, 12181, 12182, 12183], 11240: [12184, 12185, 12186], 11242: [12187], 11247: [12188, 12189, 12190], 11248: [12191, 12192], 11259: [12193, 12194, 12195, 12196], 11267: [12197, 12198, 12199, 12200], 11271: [12201, 12202], 11273: [12203, 12204, 12205, 12206], 11275: [12207, 12208, 12209], 11276: [12210, 12211], 11277: [12212, 12213], 11278: [12214], 11282: [12215], 11283: [12216, 12217], 11285: [12218, 12219, 12220], 11287: [12221, 12222], 11291: [12223, 12224], 11296: [12225, 12226, 12227, 12228, 12229, 12230], 11299: [12231, 12232], 11301: [12233, 12234, 12235], 11302: [12236, 12237, 12238, 12239, 12240], 11307: [12241, 12242, 12243], 11309: [12244, 12245, 12246, 12247], 11310: [12248, 12249, 12250], 11317: [12251], 11321: [12252, 12253], 11325: [12254], 11326: [12255, 12256, 12257, 12258], 11328: [12259, 12260], 11332: [12261, 12262, 12263, 12264], 11333: [12265, 12266, 12267, 12268], 11337: [12269, 12270], 11342: [12271, 12272], 11343: [12273, 12274, 12275], 11348: [12276, 12277, 12278, 12279, 12280, 12281], 11349: [12282, 12283, 12284], 11352: [12285, 12286], 11354: [12287, 12288, 12289, 12290, 12291, 12292], 11356: [12293], 11357: [12294, 12295], 11362: [12296, 12297, 12298], 11364: [12299], 11366: [12300, 12301], 11369: [12302, 12303], 11371: [12304], 11377: [12305, 12306, 12307, 12308], 11378: [12309, 12310, 12311, 12312, 12313, 12314], 11382: [12315, 12316], 11383: [12317, 12318, 12319, 12320], 11384: [12321, 12322, 12323], 11385: [12324, 12325], 11387: [12326, 12327, 12328, 12329, 12330], 11390: [12331], 11398: [12332, 12333, 12334, 12335], 11400: [12336, 12337], 11408: [12338, 12339, 12340, 12341, 12342], 11412: [12343], 11413: [12344], 11420: [12345, 12346], 11421: [12347, 12348, 12349, 12350], 11423: [12351, 12352], 11425: [12353], 11426: [12354, 12355, 12356], 11428: [12357, 12358, 12359, 12360], 11430: [12361, 12362, 12363], 11431: [12364, 12365], 11438: [12366, 12367, 12368, 12369, 12370], 11441: [12371, 12372], 11445: [12373, 12374, 12375], 11446: [12376], 11450: [12377], 11451: [12378, 12379, 12380], 11453: [12381, 12382, 12383, 12384, 12385, 12386], 11454: [12387, 12388], 11455: [12389], 11457: [12390, 12391, 12392, 12393, 12394, 12395], 11460: [12396], 11461: [12397, 12398], 11462: [12399, 12400, 12401, 12402], 11463: [12403, 12404, 12405], 11470: [12406], 11472: [12407], 11473: [12408, 12409, 12410, 12411], 11475: [12412, 12413], 11476: [12414], 11482: [12415, 12416], 11486: [12417, 12418, 12419], 11488: [12420, 12421, 12422], 11490: [12423, 12424, 12425], 11495: [12426, 12427, 12428], 11496: [12429], 11503: [12430, 12431], 11504: [12432, 12433], 11506: [12434, 12435, 12436, 12437, 12438, 12439], 11508: [12440, 12441], 11509: [12442, 12443], 11516: [12444], 11517: [12445, 12446], 11519: [12447, 12448], 11523: [12449, 12450, 12451], 11525: [12452], 11526: [12453], 11532: [12454], 11535: [12455, 12456, 12457, 12458, 12459], 11538: [12460, 12461, 12462, 12463], 11539: [12464, 12465], 11540: [12466], 11542: [12467, 12468, 12469, 12470], 11544: [12471, 12472, 12473], 11545: [12474, 12475], 11547: [12476, 12477], 11554: [12478, 12479], 11556: [12480, 12481], 11557: [12482], 11558: [12483], 11559: [12484], 11560: [12485, 12486], 11567: [12487, 12488, 12489, 12490], 11568: [12491], 11569: [12492, 12493, 12494, 12495, 12496], 11570: [12497, 12498, 12499, 12500, 12501], 11571: [12502, 12503], 11573: [12504, 12505, 12506, 12507, 12508], 11577: [12509, 12510, 12511, 12512], 11579: [12513, 12514], 11580: [12515, 12516, 12517, 12518, 12519, 12520, 12521], 11585: [12522, 12523], 11586: [12524], 11587: [12525], 11591: [12526, 12527, 12528, 12529, 12530, 12531, 12532], 11593: [12533], 11595: [12534, 12535, 12536], 11598: [12537], 11599: [12538, 12539, 12540], 11601: [12541, 12542, 12543], 11603: [12544], 11605: [12545], 11606: [12546, 12547, 12548], 11607: [12549, 12550, 12551, 12552, 12553, 12554], 11611: [12555, 12556, 12557], 11612: [12558], 11613: [12559, 12560], 11616: [12561, 12562], 11620: [12563, 12564], 11622: [12565, 12566, 12567], 11623: [12568, 12569, 12570], 11625: [12571, 12572], 11627: [12573], 11633: [12574], 11636: [12575, 12576], 11637: [12577], 11639: [12578, 12579, 12580, 12581, 12582], 11641: [12583, 12584, 12585, 12586], 11642: [12587, 12588], 11644: [12589, 12590], 11647: [12591, 12592], 11649: [12593, 12594, 12595, 12596], 11651: [12597], 11652: [12598, 12599], 11655: [12600, 12601, 12602, 12603, 12604, 12605, 12606], 11660: [12607, 12608], 11662: [12609, 12610], 11663: [12611], 11664: [12612], 11665: [12613, 12614, 12615, 12616, 12617, 12618], 11668: [12619], 11669: [12620, 12621, 12622, 12623, 12624, 12625, 12626], 11670: [12627], 11672: [12628, 12629], 11674: [12630, 12631, 12632], 11676: [12633, 12634, 12635, 12636], 11678: [12637, 12638, 12639, 12640, 12641, 12642], 11679: [12643, 12644], 11680: [12645], 11681: [12646, 12647, 12648, 12649], 11684: [12650, 12651], 11691: [12652, 12653, 12654], 11693: [12655], 11694: [12656], 11700: [12657, 12658], 11701: [12659, 12660], 11703: [12661], 11704: [12662, 12663, 12664, 12665, 12666], 11706: [12667, 12668, 12669, 12670], 11707: [12671, 12672, 12673, 12674, 12675, 12676, 12677], 11709: [12678, 12679, 12680], 11715: [12681, 12682, 12683, 12684, 12685, 12686], 11717: [12687], 11719: [12688], 11720: [12689, 12690, 12691, 12692], 11721: [12693, 12694], 11724: [12695, 12696], 11725: [12697], 11728: [12698, 12699], 11730: [12700, 12701], 11731: [12702, 12703, 12704, 12705], 11732: [12706, 12707, 12708, 12709, 12710], 11733: [12711, 12712, 12713], 11736: [12714, 12715, 12716], 11737: [12717, 12718, 12719], 11740: [12720, 12721, 12722, 12723, 12724], 11746: [12725, 12726, 12727, 12728, 12729, 12730], 11749: [12731], 11752: [12732, 12733, 12734], 11753: [12735, 12736], 11760: [12737, 12738], 11762: [12739, 12740], 11767: [12741, 12742, 12743], 11772: [12744, 12745, 12746, 12747], 11774: [12748, 12749], 11776: [12750, 12751, 12752], 11777: [12753, 12754], 11778: [12755, 12756, 12757], 11785: [12758, 12759], 11786: [12760, 12761, 12762, 12763, 12764, 12765], 11788: [12766, 12767, 12768], 11792: [12769], 11795: [12770], 11798: [12771, 12772, 12773, 12774], 11801: [12775, 12776], 11803: [12777, 12778], 11805: [12779], 11808: [12780, 12781], 11812: [12782, 12783], 11814: [12784, 12785, 12786, 12787], 11815: [12788, 12789, 12790, 12791], 11818: [12792], 11820: [12793, 12794], 11822: [12795, 12796], 11826: [12797, 12798], 11828: [12799, 12800], 11829: [12801, 12802, 12803, 12804, 12805, 12806, 12807, 12808], 11832: [12809, 12810, 12811], 11833: [12812, 12813, 12814], 11834: [12815, 12816], 11836: [12817, 12818], 11837: [12819], 11841: [12820], 11844: [12821, 12822], 11845: [12823, 12824, 12825], 11848: [12826, 12827, 12828, 12829, 12830, 12831], 11849: [12832, 12833, 12834], 11853: [12835, 12836, 12837], 11857: [12838, 12839, 12840, 12841, 12842], 11858: [12843, 12844, 12845, 12846, 12847], 11862: [12848], 11863: [12849, 12850], 11865: [12851, 12852, 12853, 12854, 12855], 11869: [12856, 12857, 12858, 12859], 11870: [12860, 12861], 11871: [12862, 12863, 12864], 11873: [12865, 12866], 11874: [12867, 12868, 12869], 11875: [12870, 12871], 11876: [12872, 12873], 11878: [12874, 12875], 11879: [12876], 11883: [12877, 12878, 12879], 11885: [12880, 12881, 12882], 11886: [12883, 12884], 11889: [12885, 12886, 12887], 11891: [12888, 12889, 12890, 12891, 12892, 12893], 11895: [12894, 12895, 12896, 12897], 11897: [12898, 12899], 11898: [12900], 11901: [12901], 11904: [12902], 11907: [12903, 12904, 12905, 12906], 11910: [12907, 12908, 12909], 11913: [12910], 11914: [12911, 12912], 11917: [12913, 12914, 12915, 12916], 11919: [12917, 12918, 12919], 11920: [12920, 12921], 11921: [12922, 12923, 12924], 11923: [12925, 12926, 12927], 11927: [12928, 12929], 11928: [12930, 12931, 12932], 11929: [12933, 12934], 11934: [12935, 12936, 12937], 11935: [12938, 12939, 12940, 12941, 12942, 12943, 12944], 11936: [12945, 12946, 12947], 11940: [12948, 12949], 11943: [12950], 11945: [12951], 11949: [12952, 12953], 11950: [12954, 12955], 11953: [12956], 11957: [12957], 11958: [12958, 12959], 11962: [12960, 12961], 11964: [12962, 12963], 11965: [12964, 12965], 11966: [12966, 12967, 12968, 12969, 12970], 11973: [12971], 11975: [12972, 12973, 12974], 11977: [12975], 11978: [12976], 11986: [12977], 11988: [12978, 12979], 11991: [12980, 12981], 11996: [12982, 12983], 11997: [12984, 12985, 12986], 12005: [12987, 12988, 12989], 12007: [12990, 12991, 12992, 12993, 12994, 12995, 12996, 12997], 12010: [12998, 12999, 13000], 12013: [13001, 13002, 13003], 12014: [13004, 13005, 13006, 13007], 12016: [13008, 13009, 13010, 13011, 13012], 12018: [13013, 13014, 13015, 13016, 13017, 13018, 13019, 13020, 13021], 12020: [13022, 13023, 13024, 13025], 12025: [13026], 12029: [13027], 12031: [13028, 13029], 12037: [13030, 13031], 12038: [13032], 12041: [13033, 13034, 13035], 12043: [13036, 13037, 13038], 12044: [13039, 13040], 12045: [13041, 13042, 13043, 13044, 13045, 13046, 13047, 13048], 12049: [13049], 12050: [13050, 13051], 12051: [13052], 12052: [13053, 13054, 13055], 12053: [13056], 12059: [13057, 13058, 13059, 13060], 12060: [13061, 13062, 13063, 13064, 13065, 13066], 12062: [13067, 13068, 13069], 12065: [13070], 12066: [13071, 13072, 13073, 13074, 13075], 12069: [13076, 13077], 12072: [13078, 13079, 13080, 13081], 12073: [13082, 13083], 12075: [13084, 13085, 13086, 13087, 13088], 12078: [13089, 13090, 13091, 13092, 13093, 13094], 12079: [13095], 12082: [13096], 12083: [13097], 12087: [13098, 13099], 12088: [13100, 13101, 13102, 13103, 13104, 13105, 13106], 12089: [13107, 13108], 12094: [13109, 13110, 13111], 12098: [13112, 13113, 13114, 13115, 13116, 13117, 13118], 12102: [13119], 12103: [13120], 12104: [13121], 12107: [13122, 13123, 13124], 12108: [13125, 13126, 13127, 13128, 13129], 12109: [13130, 13131, 13132, 13133], 12112: [13134], 12113: [13135], 12114: [13136, 13137], 12117: [13138, 13139], 12118: [13140], 12121: [13141, 13142, 13143], 12122: [13144, 13145], 12125: [13146, 13147, 13148], 12126: [13149, 13150], 12129: [13151, 13152], 12130: [13153, 13154, 13155, 13156], 12131: [13157, 13158, 13159], 12133: [13160], 12134: [13161, 13162, 13163, 13164], 12135: [13165, 13166], 12137: [13167, 13168], 12142: [13169, 13170], 12143: [13171, 13172], 12145: [13173, 13174, 13175], 12146: [13176, 13177, 13178, 13179], 12147: [13180], 12149: [13181, 13182], 12154: [13183, 13184, 13185], 12156: [13186, 13187], 12159: [13188, 13189], 12160: [13190, 13191, 13192, 13193, 13194, 13195, 13196, 13197, 13198], 12162: [13199, 13200, 13201], 12164: [13202, 13203, 13204, 13205], 12167: [13206], 12171: [13207, 13208, 13209, 13210, 13211], 12172: [13212, 13213], 12175: [13214, 13215, 13216], 12176: [13217, 13218], 12179: [13219, 13220, 13221], 12180: [13222], 12181: [13223], 12185: [13224], 12186: [13225, 13226, 13227, 13228, 13229, 13230], 12188: [13231, 13232, 13233], 12192: [13234, 13235], 12193: [13236, 13237, 13238, 13239], 12194: [13240, 13241], 12196: [13242, 13243], 12197: [13244, 13245, 13246], 12202: [13247], 12203: [13248, 13249, 13250, 13251, 13252, 13253, 13254], 12205: [13255], 12208: [13256], 12215: [13257, 13258], 12216: [13259, 13260], 12225: [13261], 12228: [13262], 12232: [13263, 13264, 13265], 12233: [13266, 13267, 13268, 13269], 12237: [13270], 12238: [13271, 13272], 12239: [13273, 13274, 13275], 12240: [13276, 13277, 13278, 13279, 13280], 12241: [13281, 13282, 13283], 12248: [13284, 13285], 12254: [13286, 13287, 13288, 13289, 13290, 13291], 12255: [13292, 13293], 12259: [13294], 12260: [13295, 13296, 13297], 12263: [13298, 13299], 12267: [13300, 13301, 13302, 13303], 12268: [13304], 12271: [13305, 13306, 13307, 13308, 13309], 12272: [13310, 13311, 13312], 12275: [13313], 12278: [13314], 12283: [13315, 13316, 13317, 13318, 13319], 12284: [13320, 13321, 13322, 13323, 13324, 13325], 12286: [13326], 12289: [13327, 13328], 12292: [13329, 13330, 13331, 13332, 13333, 13334, 13335, 13336, 13337], 12295: [13338, 13339], 12296: [13340], 12300: [13341, 13342, 13343, 13344, 13345], 12301: [13346, 13347, 13348], 12303: [13349], 12305: [13350], 12312: [13351], 12313: [13352, 13353], 12315: [13354, 13355, 13356], 12317: [13357, 13358], 12318: [13359, 13360, 13361, 13362], 12322: [13363, 13364], 12323: [13365, 13366, 13367], 12326: [13368], 12327: [13369], 12330: [13370, 13371], 12331: [13372, 13373, 13374, 13375], 12345: [13376, 13377], 12357: [13378, 13379, 13380, 13381], 12362: [13382, 13383], 12363: [13384], 12366: [13385, 13386, 13387, 13388], 12368: [13389, 13390, 13391, 13392], 12370: [13393, 13394], 12371: [13395, 13396], 12374: [13397], 12375: [13398, 13399, 13400], 12381: [13401, 13402, 13403], 12382: [13404, 13405, 13406, 13407], 12383: [13408], 12386: [13409, 13410, 13411], 12388: [13412, 13413], 12389: [13414], 12391: [13415, 13416, 13417, 13418], 12398: [13419, 13420, 13421, 13422, 13423], 12407: [13424, 13425], 12408: [13426, 13427], 12413: [13428, 13429, 13430, 13431, 13432, 13433, 13434, 13435, 13436, 13437], 12415: [13438, 13439, 13440], 12416: [13441], 12417: [13442, 13443], 12418: [13444, 13445], 12421: [13446, 13447, 13448], 12424: [13449, 13450], 12426: [13451, 13452, 13453, 13454, 13455, 13456], 12427: [13457, 13458, 13459], 12428: [13460, 13461, 13462, 13463], 12433: [13464, 13465], 12434: [13466, 13467, 13468, 13469], 12447: [13470, 13471], 12450: [13472], 12451: [13473], 12453: [13474, 13475], 12456: [13476, 13477, 13478], 12464: [13479, 13480], 12466: [13481, 13482], 12467: [13483], 12470: [13484], 12477: [13485, 13486, 13487, 13488, 13489, 13490, 13491, 13492, 13493], 12478: [13494], 12482: [13495], 12483: [13496, 13497, 13498, 13499, 13500], 12486: [13501], 12488: [13502, 13503, 13504, 13505], 12490: [13506, 13507, 13508], 12494: [13509, 13510], 12497: [13511, 13512], 12499: [13513, 13514, 13515, 13516, 13517], 12501: [13518], 12507: [13519], 12508: [13520], 12510: [13521, 13522, 13523, 13524], 12511: [13525, 13526, 13527], 12514: [13528, 13529], 12517: [13530], 12518: [13531], 12520: [13532, 13533], 12521: [13534, 13535, 13536], 12525: [13537], 12528: [13538, 13539, 13540, 13541, 13542], 12534: [13543], 12535: [13544, 13545, 13546], 12539: [13547, 13548, 13549, 13550], 12541: [13551, 13552, 13553, 13554], 12544: [13555, 13556, 13557], 12545: [13558, 13559], 12546: [13560, 13561], 12547: [13562, 13563, 13564], 12550: [13565], 12551: [13566], 12554: [13567, 13568], 12556: [13569, 13570, 13571, 13572], 12561: [13573, 13574], 12564: [13575], 12565: [13576, 13577], 12566: [13578, 13579], 12568: [13580, 13581, 13582], 12569: [13583, 13584], 12570: [13585, 13586, 13587], 12571: [13588, 13589, 13590, 13591, 13592]})\n"
     ]
    }
   ],
   "source": [
    "import sys\n",
    "import numpy as np\n",
    "import thinkstats2\n",
    "\n",
    "from collections import defaultdict\n",
    "\n",
    "\n",
    "def ReadFemResp(dct_file='2002FemResp.dct',\n",
    "                dat_file='2002FemResp.dat.gz',\n",
    "                nrows=None):\n",
    "    \"\"\"Reads the NSFG respondent data.\n",
    "\n",
    "    dct_file: string file name\n",
    "    dat_file: string file name\n",
    "\n",
    "    returns: DataFrame\n",
    "    \"\"\"\n",
    "    dct = thinkstats2.ReadStataDct(dct_file)\n",
    "    df = dct.ReadFixedWidth(dat_file, compression='gzip', nrows=nrows)\n",
    "    CleanFemResp(df)\n",
    "    return df\n",
    "\n",
    "\n",
    "def CleanFemResp(df):\n",
    "    \"\"\"Recodes variables from the respondent frame.\n",
    "\n",
    "    df: DataFrame\n",
    "    \"\"\"\n",
    "    pass\n",
    "\n",
    "\n",
    "def ReadFemPreg(dct_file='2002FemPreg.dct',\n",
    "                dat_file='2002FemPreg.dat.gz'):\n",
    "    \"\"\"Reads the NSFG pregnancy data.\n",
    "\n",
    "    dct_file: string file name\n",
    "    dat_file: string file name\n",
    "\n",
    "    returns: DataFrame\n",
    "    \"\"\"\n",
    "    dct = thinkstats2.ReadStataDct(dct_file)\n",
    "    df = dct.ReadFixedWidth(dat_file, compression='gzip')\n",
    "    CleanFemPreg(df)\n",
    "    return df\n",
    "\n",
    "\n",
    "def CleanFemPreg(df):\n",
    "    \"\"\"Recodes variables from the pregnancy frame.\n",
    "\n",
    "    df: DataFrame\n",
    "    \"\"\"\n",
    "    # mother's age is encoded in centiyears; convert to years\n",
    "    df.agepreg /= 100.0\n",
    "\n",
    "    # birthwgt_lb contains at least one bogus value (51 lbs)\n",
    "    # replace with NaN\n",
    "    df.loc[df.birthwgt_lb > 20, 'birthwgt_lb'] = np.nan\n",
    "    \n",
    "    # replace 'not ascertained', 'refused', 'don't know' with NaN\n",
    "    na_vals = [97, 98, 99]\n",
    "    df.birthwgt_lb.replace(na_vals, np.nan, inplace=True)\n",
    "    df.birthwgt_oz.replace(na_vals, np.nan, inplace=True)\n",
    "    df.hpagelb.replace(na_vals, np.nan, inplace=True)\n",
    "\n",
    "    df.babysex.replace([7, 9], np.nan, inplace=True)\n",
    "    df.nbrnaliv.replace([9], np.nan, inplace=True)\n",
    "\n",
    "    # birthweight is stored in two columns, lbs and oz.\n",
    "    # convert to a single column in lb\n",
    "    # NOTE: creating a new column requires dictionary syntax,\n",
    "    # not attribute assignment (like df.totalwgt_lb)\n",
    "    df['totalwgt_lb'] = df.birthwgt_lb + df.birthwgt_oz / 16.0    \n",
    "\n",
    "    # due to a bug in ReadStataDct, the last variable gets clipped;\n",
    "    # so for now set it to NaN\n",
    "    df.cmintvw = np.nan\n",
    "\n",
    "\n",
    "def ValidatePregnum(resp, preg):\n",
    "    \"\"\"Validate pregnum in the respondent file.\n",
    "\n",
    "    resp: respondent DataFrame\n",
    "    preg: pregnancy DataFrame\n",
    "    \"\"\"\n",
    "    # make the map from caseid to list of pregnancy indices\n",
    "    preg_map = MakePregMap(preg)\n",
    "    \n",
    "    # iterate through the respondent pregnum series\n",
    "    for index, pregnum in resp.pregnum.items():\n",
    "        caseid = resp.caseid[index]\n",
    "        indices = preg_map[caseid]\n",
    "\n",
    "        # check that pregnum from the respondent file equals\n",
    "        # the number of records in the pregnancy file\n",
    "        if len(indices) != pregnum:\n",
    "            print(caseid, len(indices), pregnum)\n",
    "            return False\n",
    "\n",
    "    return True\n",
    "\n",
    "\n",
    "def MakePregMap(df):\n",
    "    \"\"\"Make a map from caseid to list of preg indices.\n",
    "\n",
    "    df: DataFrame\n",
    "\n",
    "    returns: dict that maps from caseid to list of indices into `preg`\n",
    "    \"\"\"\n",
    "    d = defaultdict(list)\n",
    "    for index, caseid in df.caseid.items():\n",
    "        d[caseid].append(index)\n",
    "    return d\n",
    "\n",
    "\n",
    "\n",
    "\n",
    "def main():\n",
    "    # Read the respondent file\n",
    "    resp = ReadFemResp()\n",
    "    print(\"Shape of respondent file is: \", resp.shape)\n",
    "    \n",
    "    # Read the pregnancy file\n",
    "    preg = ReadFemPreg()\n",
    "    print(\"Shape of pregnancy file is: \", preg.shape)\n",
    " \n",
    "    # Print value counts of respondent file sort for readability\n",
    "    print(resp.pregnum.value_counts().sort_index())\n",
    "\n",
    "    # Compare number of pregnancies from respondant file to pregnancy file\n",
    "    if resp.pregnum.sum() == preg.shape[0]:\n",
    "        print(\"Number of pregnancies match and the total is: \", resp.pregnum.sum(), \" pregnancies.\")\n",
    "        pass\n",
    "    else:\n",
    "        print(\"Number of pregnancies do not match\")\n",
    "        pass\n",
    "    \n",
    "    # Map values from caseid to indices in pregnancy file\n",
    "    map = nsfg.MakePregMap(preg)\n",
    "    print(map)\n",
    "\n",
    "if __name__ == '__main__':\n",
    "    main()"
   ]
  },
  {
   "cell_type": "markdown",
   "metadata": {},
   "source": [
    "#### Ex. 2-1\n",
    "You could use the mean and standard deviation of the pregnancy term to put this information on the news. That would provide hard numbers that you could present to the audience. \n",
    "To reassure an anxious patient, tell them the minimum or maximum number of weeks carrying babies to term resulted in a live birth in this dataset. This will give them reassurance that their baby can be born early or late and still be okay.\n",
    "\n",
    "While this dataset does not support the claim that first babies arrive late, it does support the claim that they arrive slightly early but later than other babies. The mean when the first babies are born is 38.601 weeks in this dataset, while other babies are born at 38.523 weeks. There is no enormous difference; it is only about 13 hours when doing the math. That said, the standard deviation is 2.7 weeks for all live births; this indicates that births from 35.9 weeks to 41.3 weeks account for roughly 68% of all births. 95% of all births fall within 33.2 - 44.0 weeks. With the mean time of first babies being born at 38.601 weeks, the distribution is centering around that, and therefore, there is a better chance of first babies being born early rather than late. "
   ]
  },
  {
   "cell_type": "markdown",
   "metadata": {},
   "source": [
    "### Ex. 2-4"
   ]
  },
  {
   "cell_type": "code",
   "execution_count": 62,
   "metadata": {},
   "outputs": [],
   "source": [
    "# Import necessary library\n",
    "import thinkplot"
   ]
  },
  {
   "cell_type": "code",
   "execution_count": 63,
   "metadata": {},
   "outputs": [],
   "source": [
    "# Create Cohen's Effect size function\n",
    "def cohen(group1, group2):\n",
    "    # Calculate the difference between the means of the two series of interest\n",
    "    diff = group1.mean() - group2.mean()\n",
    "\n",
    "    # Find the variance of the two series\n",
    "    vari1 = group1.var()\n",
    "    vari2 = group2.var()\n",
    "\n",
    "    # Find the number of terms in the series\n",
    "    n1 = len(group1)\n",
    "    n2 = len(group2)\n",
    "\n",
    "    # Calculate the pooled variance\n",
    "    pooled_vari = (n1 * vari1 + n2 * vari2)/(n1 + n2)\n",
    "\n",
    "    # Calculate Cohen's d\n",
    "    d = diff/np.sqrt(pooled_vari)\n",
    "    return d"
   ]
  },
  {
   "cell_type": "code",
   "execution_count": 64,
   "metadata": {},
   "outputs": [],
   "source": [
    "# Make the pregnancy dataframe\n",
    "preg = nsfg.ReadFemPreg()\n",
    "# Select only the live births\n",
    "live = preg[preg.outcome == 1]\n",
    "# Select only the firstborns\n",
    "first_born = live[live.birthord == 1]\n",
    "# Select every entry that's not a firstborn\n",
    "not_first = live[live.birthord != 1]"
   ]
  },
  {
   "cell_type": "code",
   "execution_count": 65,
   "metadata": {},
   "outputs": [
    {
     "data": {
      "image/png": "[encoded data removed]",
      "text/plain": [
       "<Figure size 640x480 with 1 Axes>"
      ]
     },
     "metadata": {},
     "output_type": "display_data"
    },
    {
     "data": {
      "text/plain": [
       "<Figure size 800x600 with 0 Axes>"
      ]
     },
     "metadata": {},
     "output_type": "display_data"
    }
   ],
   "source": [
    "# Use thinkplot package to print a histogram\n",
    "first_born_hist = thinkstats2.Hist(first_born.totalwgt_lb)\n",
    "not_first_hist = thinkstats2.Hist(not_first.totalwgt_lb)\n",
    "width = 0.018\n",
    "thinkplot.PrePlot(2)\n",
    "thinkplot.Hist(first_born_hist, align = 'left', width = width, color = 'purple')\n",
    "thinkplot.Hist(not_first_hist, align = 'right', width = width, color = 'orange')\n",
    "thinkplot.Show(xlabel = 'Weight', ylabel = 'Frequency')"
   ]
  },
  {
   "cell_type": "code",
   "execution_count": 66,
   "metadata": {},
   "outputs": [],
   "source": [
    "import matplotlib.pyplot as plt\n",
    "import numpy as np\n",
    "from matplotlib import colors \n",
    "import matplotlib.pylab"
   ]
  },
  {
   "cell_type": "code",
   "execution_count": 67,
   "metadata": {},
   "outputs": [
    {
     "data": {
      "image/png": "[encoded data removed]",
      "text/plain": [
       "<Figure size 640x480 with 1 Axes>"
      ]
     },
     "metadata": {},
     "output_type": "display_data"
    }
   ],
   "source": [
    "# Use matplotlib to print a histogram\n",
    "bins = np.linspace(0, 16, 88)\n",
    "plt.hist([first_born.totalwgt_lb, not_first.totalwgt_lb], label = ['First Born', 'All Others'], bins = bins, color = ['purple', 'orange'], width = 0.08)\n",
    "plt.xlabel('Weight')\n",
    "plt.ylabel('Frequency')\n",
    "plt.title('Weight of First Born Babies vs. All Others')\n",
    "plt.legend()\n",
    "plt.xlim(0, 16)\n",
    "plt.show()"
   ]
  },
  {
   "cell_type": "code",
   "execution_count": 68,
   "metadata": {},
   "outputs": [
    {
     "name": "stdout",
     "output_type": "stream",
     "text": [
      "-0.088672927072602\n"
     ]
    }
   ],
   "source": [
    "# Print Cohen's d for total weight\n",
    "print(cohen(first_born.totalwgt_lb, not_first.totalwgt_lb))"
   ]
  },
  {
   "cell_type": "code",
   "execution_count": 69,
   "metadata": {},
   "outputs": [
    {
     "name": "stdout",
     "output_type": "stream",
     "text": [
      "0.028879044654449883\n"
     ]
    }
   ],
   "source": [
    "# Print Cohen's d for pregnancy length\n",
    "print(cohen(first_born.prglngth, not_first.prglngth))"
   ]
  },
  {
   "cell_type": "markdown",
   "metadata": {},
   "source": [
    "The larger magnitude of Cohen's d in comparing weights versus comparing pregnancy term lengths means that being firstborn affects their weights more than their pregnancy term length. Looking at the negative value we obtained for Cohen's d, we know that the mean of firstborn weights is smaller than the mean for all others. Following the logic, we can say that firstborns are more likely to be lighter than they are to have a more prolonged pregnancy. The Cohen difference is still at only 0.089, which is very small, so they're not highly likely to be lighter but rather only slightly more likely."
   ]
  }
 ],
 "metadata": {
  "kernelspec": {
   "display_name": "Python 3 (ipykernel)",
   "language": "python",
   "name": "python3"
  },
  "language_info": {
   "codemirror_mode": {
    "name": "ipython",
    "version": 3
   },
   "file_extension": ".py",
   "mimetype": "text/x-python",
   "name": "python",
   "nbconvert_exporter": "python",
   "pygments_lexer": "ipython3",
   "version": "3.12.4"
  }
 },
 "nbformat": 4,
 "nbformat_minor": 4
}
