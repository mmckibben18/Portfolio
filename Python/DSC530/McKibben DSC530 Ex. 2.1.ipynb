{
 "cells": [
  {
   "cell_type": "markdown",
   "id": "41abfe7b-0860-4381-84b4-b20d64cdbdb6",
   "metadata": {},
   "source": [
    "## Author: Makayla McKibben\n",
    "### Date: 09/04/2024\n",
    "### Course: DSC530\n",
    "### Week 2"
   ]
  },
  {
   "cell_type": "markdown",
   "id": "9eaa35b7-719e-4718-9635-2d5d446ef645",
   "metadata": {},
   "source": [
    "**Ex. 2.1a**\n",
    "<ul>\n",
    "    <li> Display the text \"Hello World! My name is ....\"\n",
    "<ul>"
   ]
  },
  {
   "cell_type": "code",
   "execution_count": 31,
   "id": "e691d3d5-e5d0-4e25-bee2-8d3812e1795a",
   "metadata": {},
   "outputs": [
    {
     "name": "stdout",
     "output_type": "stream",
     "text": [
      "\"Hello World! My name is ....\"\n"
     ]
    }
   ],
   "source": [
    "print('\"Hello World! My name is ....\"')"
   ]
  },
  {
   "cell_type": "markdown",
   "id": "b63bb45a-0daf-4c99-887a-2cc5cb3a7688",
   "metadata": {},
   "source": [
    "**Ex. 2.1b**\n",
    "<ul>\n",
    "    <li> Add two numbers together\n",
    "<ul>"
   ]
  },
  {
   "cell_type": "code",
   "execution_count": 4,
   "id": "96c8dd6b-f5c3-4cd9-9c05-9d0a91bb6935",
   "metadata": {},
   "outputs": [
    {
     "data": {
      "text/plain": [
       "16"
      ]
     },
     "execution_count": 4,
     "metadata": {},
     "output_type": "execute_result"
    }
   ],
   "source": [
    "m = 8\n",
    "n = 8\n",
    "p = m + n\n",
    "p\n"
   ]
  },
  {
   "cell_type": "markdown",
   "id": "69e496e8-6282-45fe-935c-f67a5560a001",
   "metadata": {},
   "source": [
    "**Ex. 2.1c**\n",
    "<ul>\n",
    "    <li> Subtract a number from another number\n",
    "<ul>"
   ]
  },
  {
   "cell_type": "code",
   "execution_count": 12,
   "id": "d15a9dab-2643-4b21-9b06-2079e80f351d",
   "metadata": {},
   "outputs": [
    {
     "data": {
      "text/plain": [
       "8"
      ]
     },
     "execution_count": 12,
     "metadata": {},
     "output_type": "execute_result"
    }
   ],
   "source": [
    "q = p - m\n",
    "q"
   ]
  },
  {
   "cell_type": "markdown",
   "id": "0775cf59-21fc-4426-bcf3-c4f865d1ef1d",
   "metadata": {},
   "source": [
    "**Ex. 2.1d**\n",
    "<ul>\n",
    "    <li> Multiply two numbers\n",
    "<ul>"
   ]
  },
  {
   "cell_type": "code",
   "execution_count": 15,
   "id": "273c229f-0f93-4d08-b8d3-e07243d56794",
   "metadata": {},
   "outputs": [
    {
     "data": {
      "text/plain": [
       "64"
      ]
     },
     "execution_count": 15,
     "metadata": {},
     "output_type": "execute_result"
    }
   ],
   "source": [
    "r = m * n\n",
    "r"
   ]
  },
  {
   "cell_type": "markdown",
   "id": "62867fd3-6d7d-4b5a-aa55-0c0e7e5e2c17",
   "metadata": {},
   "source": [
    "**Ex. 2.1e**\n",
    "<ul>\n",
    "    <li> Divide between two numbers\n",
    "<ul>"
   ]
  },
  {
   "cell_type": "code",
   "execution_count": 18,
   "id": "26e4de1a-82b6-4582-a348-b62bb015fd33",
   "metadata": {},
   "outputs": [
    {
     "data": {
      "text/plain": [
       "8.0"
      ]
     },
     "execution_count": 18,
     "metadata": {},
     "output_type": "execute_result"
    }
   ],
   "source": [
    "s = r / m\n",
    "s"
   ]
  },
  {
   "cell_type": "markdown",
   "id": "757f1666-f4d9-4224-b0b6-f5558a44d9bb",
   "metadata": {},
   "source": [
    "**Ex. 2.1f**\n",
    "<ul>\n",
    "    <li> Concatenate two strings together (any words)\n",
    "<ul>"
   ]
  },
  {
   "cell_type": "code",
   "execution_count": 25,
   "id": "26830707-1253-43d5-a758-f818a4dddee2",
   "metadata": {},
   "outputs": [
    {
     "data": {
      "text/plain": [
       "'This is a concatenated string'"
      ]
     },
     "execution_count": 25,
     "metadata": {},
     "output_type": "execute_result"
    }
   ],
   "source": [
    "a = 'This is a '\n",
    "b = 'concatenated string'\n",
    "c = a + b\n",
    "c"
   ]
  },
  {
   "cell_type": "markdown",
   "id": "4a9a0f3f-9707-4e85-b8f8-773f3ade0331",
   "metadata": {},
   "source": [
    "**Ex. 2.1g**\n",
    "<ul>\n",
    "    <li> Create a list of 4 items (can be strings, numbers, both)\n",
    "<ul>"
   ]
  },
  {
   "cell_type": "code",
   "execution_count": 110,
   "id": "79a3ca24-122a-4a43-a4bd-552155399788",
   "metadata": {},
   "outputs": [
    {
     "name": "stdout",
     "output_type": "stream",
     "text": [
      "[8, 8, 16, 64]\n"
     ]
    }
   ],
   "source": [
    "d = [m, n, p, r]  \n",
    "print(d)"
   ]
  },
  {
   "cell_type": "markdown",
   "id": "8a3947ed-3490-4423-a83e-ab87534dd6ed",
   "metadata": {},
   "source": [
    "**Ex. 2.1h**\n",
    "<ul>\n",
    "    <li> Append an item to your list (again, can be a string, number)\n",
    "<ul>"
   ]
  },
  {
   "cell_type": "code",
   "execution_count": 112,
   "id": "ff9c2ce8-ebbf-48dd-bcb6-0230c01c1577",
   "metadata": {},
   "outputs": [
    {
     "name": "stdout",
     "output_type": "stream",
     "text": [
      "[8, 8, 16, 64, 'This is a concatenated string']\n"
     ]
    }
   ],
   "source": [
    "d.append(c)\n",
    "print(d)"
   ]
  },
  {
   "cell_type": "markdown",
   "id": "e58a9ccd-ed2c-4515-af07-3c72d008ff1b",
   "metadata": {},
   "source": [
    "**Ex. 2.1i**\n",
    "<ul>\n",
    "    <li> Create a tuple with 4 items (can be strings, numbers, both)\n",
    "<ul>"
   ]
  },
  {
   "cell_type": "code",
   "execution_count": 114,
   "id": "64fb1be4-00f1-40d3-8869-0ebade4f9571",
   "metadata": {},
   "outputs": [
    {
     "name": "stdout",
     "output_type": "stream",
     "text": [
      "(8, 'This is a ', 8, 'concatenated string')\n"
     ]
    }
   ],
   "source": [
    "e = (m, a, n, b)\n",
    "print(e)"
   ]
  }
 ],
 "metadata": {
  "kernelspec": {
   "display_name": "Python 3 (ipykernel)",
   "language": "python",
   "name": "python3"
  },
  "language_info": {
   "codemirror_mode": {
    "name": "ipython",
    "version": 3
   },
   "file_extension": ".py",
   "mimetype": "text/x-python",
   "name": "python",
   "nbconvert_exporter": "python",
   "pygments_lexer": "ipython3",
   "version": "3.12.4"
  }
 },
 "nbformat": 4,
 "nbformat_minor": 5
}
