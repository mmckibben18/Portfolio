{
 "cells": [
  {
   "cell_type": "markdown",
   "id": "013d8579-5d20-49a4-acc7-1ef545bebcd9",
   "metadata": {},
   "source": [
    "# Makayla McKibben\n",
    "## DSC 550\n",
    "## Ex. 3.2"
   ]
  },
  {
   "cell_type": "code",
   "execution_count": 254,
   "id": "6f646c12-daee-4261-b705-5033c2a9f44a",
   "metadata": {},
   "outputs": [
    {
     "name": "stderr",
     "output_type": "stream",
     "text": [
      "[nltk_data] Downloading package punkt to\n",
      "[nltk_data]     C:\\Users\\makay\\AppData\\Roaming\\nltk_data...\n",
      "[nltk_data]   Package punkt is already up-to-date!\n",
      "[nltk_data] Downloading package stopwords to\n",
      "[nltk_data]     C:\\Users\\makay\\AppData\\Roaming\\nltk_data...\n",
      "[nltk_data]   Package stopwords is already up-to-date!\n"
     ]
    },
    {
     "data": {
      "text/plain": [
       "True"
      ]
     },
     "execution_count": 254,
     "metadata": {},
     "output_type": "execute_result"
    }
   ],
   "source": [
    "# Import relevant libraries\n",
    "import pandas as pd\n",
    "import numpy as np\n",
    "import string\n",
    "import nltk\n",
    "nltk.download('punkt')\n",
    "nltk.download('stopwords')"
   ]
  },
  {
   "cell_type": "code",
   "execution_count": 255,
   "id": "92ead19a-87dc-40e6-aa26-220637cbc312",
   "metadata": {},
   "outputs": [],
   "source": [
    "from nltk.stem.porter import PorterStemmer"
   ]
  },
  {
   "cell_type": "code",
   "execution_count": 256,
   "id": "941fcd44-c789-40ae-a8cb-b368d45be349",
   "metadata": {},
   "outputs": [],
   "source": [
    "from nltk.corpus import stopwords"
   ]
  },
  {
   "cell_type": "code",
   "execution_count": 257,
   "id": "a6ee68e9-f72e-4f20-a3ba-3446211091e2",
   "metadata": {},
   "outputs": [],
   "source": [
    "from nltk.tokenize import word_tokenize"
   ]
  },
  {
   "cell_type": "code",
   "execution_count": 258,
   "id": "69fc46c3-711a-4e22-814a-72971d15b83d",
   "metadata": {},
   "outputs": [
    {
     "name": "stdout",
     "output_type": "stream",
     "text": [
      "Requirement already satisfied: textblob in c:\\users\\makay\\anaconda3\\lib\\site-packages (0.18.0.post0)\n",
      "Requirement already satisfied: nltk>=3.8 in c:\\users\\makay\\anaconda3\\lib\\site-packages (from textblob) (3.8.1)\n",
      "Requirement already satisfied: click in c:\\users\\makay\\anaconda3\\lib\\site-packages (from nltk>=3.8->textblob) (8.1.7)\n",
      "Requirement already satisfied: joblib in c:\\users\\makay\\anaconda3\\lib\\site-packages (from nltk>=3.8->textblob) (1.4.2)\n",
      "Requirement already satisfied: regex>=2021.8.3 in c:\\users\\makay\\anaconda3\\lib\\site-packages (from nltk>=3.8->textblob) (2023.10.3)\n",
      "Requirement already satisfied: tqdm in c:\\users\\makay\\anaconda3\\lib\\site-packages (from nltk>=3.8->textblob) (4.66.4)\n",
      "Requirement already satisfied: colorama in c:\\users\\makay\\anaconda3\\lib\\site-packages (from click->nltk>=3.8->textblob) (0.4.6)\n",
      "Note: you may need to restart the kernel to use updated packages.\n"
     ]
    }
   ],
   "source": [
    "pip install textblob"
   ]
  },
  {
   "cell_type": "code",
   "execution_count": 259,
   "id": "c7d493b5-78b6-4fc1-aaa2-727f1ed7c969",
   "metadata": {},
   "outputs": [],
   "source": [
    "from textblob import TextBlob"
   ]
  },
  {
   "cell_type": "code",
   "execution_count": 260,
   "id": "168f8f51-4849-4457-9c08-4601cb1407c0",
   "metadata": {},
   "outputs": [],
   "source": [
    "from sklearn.feature_extraction import DictVectorizer"
   ]
  },
  {
   "cell_type": "code",
   "execution_count": 261,
   "id": "10f871b5-872f-4dfd-bf6c-52d1b58d0ec2",
   "metadata": {},
   "outputs": [],
   "source": [
    "from sklearn.feature_extraction.text import CountVectorizer"
   ]
  },
  {
   "cell_type": "code",
   "execution_count": 262,
   "id": "cf251408-6968-458d-ae35-4738ab0b6c6a",
   "metadata": {},
   "outputs": [],
   "source": [
    "from sklearn.feature_extraction.text import TfidfVectorizer"
   ]
  },
  {
   "cell_type": "markdown",
   "id": "fb4d0e68-0f11-4bc3-9cfa-64e784202979",
   "metadata": {},
   "source": [
    "## Part 1 Using the TextBlob Sentiment Analyzer"
   ]
  },
  {
   "cell_type": "code",
   "execution_count": 264,
   "id": "fb037221-3912-4120-bef0-c67de14fe769",
   "metadata": {},
   "outputs": [],
   "source": [
    "# Read the file into a dataframe\n",
    "movie_reviews = pd.read_csv('labeledTrainData.tsv', sep = '\\t')"
   ]
  },
  {
   "cell_type": "code",
   "execution_count": 265,
   "id": "f01c279f-1aa6-4b99-8f31-091eac3f2f2e",
   "metadata": {},
   "outputs": [
    {
     "data": {
      "text/plain": [
       "pandas.core.frame.DataFrame"
      ]
     },
     "execution_count": 265,
     "metadata": {},
     "output_type": "execute_result"
    }
   ],
   "source": [
    "# Verify it's read in as a dataframe\n",
    "type(movie_reviews)"
   ]
  },
  {
   "cell_type": "code",
   "execution_count": 266,
   "id": "199fdb17-79ca-4904-9bcc-3fc6a90efe73",
   "metadata": {},
   "outputs": [
    {
     "data": {
      "text/html": [
       "<div>\n",
       "<style scoped>\n",
       "    .dataframe tbody tr th:only-of-type {\n",
       "        vertical-align: middle;\n",
       "    }\n",
       "\n",
       "    .dataframe tbody tr th {\n",
       "        vertical-align: top;\n",
       "    }\n",
       "\n",
       "    .dataframe thead th {\n",
       "        text-align: right;\n",
       "    }\n",
       "</style>\n",
       "<table border=\"1\" class=\"dataframe\">\n",
       "  <thead>\n",
       "    <tr style=\"text-align: right;\">\n",
       "      <th></th>\n",
       "      <th>id</th>\n",
       "      <th>sentiment</th>\n",
       "      <th>review</th>\n",
       "    </tr>\n",
       "  </thead>\n",
       "  <tbody>\n",
       "    <tr>\n",
       "      <th>0</th>\n",
       "      <td>5814_8</td>\n",
       "      <td>1</td>\n",
       "      <td>With all this stuff going down at the moment w...</td>\n",
       "    </tr>\n",
       "    <tr>\n",
       "      <th>1</th>\n",
       "      <td>2381_9</td>\n",
       "      <td>1</td>\n",
       "      <td>\\The Classic War of the Worlds\\\" by Timothy Hi...</td>\n",
       "    </tr>\n",
       "    <tr>\n",
       "      <th>2</th>\n",
       "      <td>7759_3</td>\n",
       "      <td>0</td>\n",
       "      <td>The film starts with a manager (Nicholas Bell)...</td>\n",
       "    </tr>\n",
       "    <tr>\n",
       "      <th>3</th>\n",
       "      <td>3630_4</td>\n",
       "      <td>0</td>\n",
       "      <td>It must be assumed that those who praised this...</td>\n",
       "    </tr>\n",
       "    <tr>\n",
       "      <th>4</th>\n",
       "      <td>9495_8</td>\n",
       "      <td>1</td>\n",
       "      <td>Superbly trashy and wondrously unpretentious 8...</td>\n",
       "    </tr>\n",
       "    <tr>\n",
       "      <th>...</th>\n",
       "      <td>...</td>\n",
       "      <td>...</td>\n",
       "      <td>...</td>\n",
       "    </tr>\n",
       "    <tr>\n",
       "      <th>24990</th>\n",
       "      <td>2034_9</td>\n",
       "      <td>1</td>\n",
       "      <td>I've never been huge on IMAX films. They're co...</td>\n",
       "    </tr>\n",
       "    <tr>\n",
       "      <th>24991</th>\n",
       "      <td>9416_3</td>\n",
       "      <td>0</td>\n",
       "      <td>Steve McQueen has certainly a lot of loyal fan...</td>\n",
       "    </tr>\n",
       "    <tr>\n",
       "      <th>24992</th>\n",
       "      <td>10994_1</td>\n",
       "      <td>0</td>\n",
       "      <td>Sometimes you wonder how some people get fundi...</td>\n",
       "    </tr>\n",
       "    <tr>\n",
       "      <th>24993</th>\n",
       "      <td>10957_3</td>\n",
       "      <td>0</td>\n",
       "      <td>I am a student of film, and have been for seve...</td>\n",
       "    </tr>\n",
       "    <tr>\n",
       "      <th>24994</th>\n",
       "      <td>2372_1</td>\n",
       "      <td>0</td>\n",
       "      <td>Unimaginably stupid, redundant and humiliating...</td>\n",
       "    </tr>\n",
       "  </tbody>\n",
       "</table>\n",
       "<p>24995 rows × 3 columns</p>\n",
       "</div>"
      ],
      "text/plain": [
       "            id  sentiment                                             review\n",
       "0       5814_8          1  With all this stuff going down at the moment w...\n",
       "1       2381_9          1  \\The Classic War of the Worlds\\\" by Timothy Hi...\n",
       "2       7759_3          0  The film starts with a manager (Nicholas Bell)...\n",
       "3       3630_4          0  It must be assumed that those who praised this...\n",
       "4       9495_8          1  Superbly trashy and wondrously unpretentious 8...\n",
       "...        ...        ...                                                ...\n",
       "24990   2034_9          1  I've never been huge on IMAX films. They're co...\n",
       "24991   9416_3          0  Steve McQueen has certainly a lot of loyal fan...\n",
       "24992  10994_1          0  Sometimes you wonder how some people get fundi...\n",
       "24993  10957_3          0  I am a student of film, and have been for seve...\n",
       "24994   2372_1          0  Unimaginably stupid, redundant and humiliating...\n",
       "\n",
       "[24995 rows x 3 columns]"
      ]
     },
     "execution_count": 266,
     "metadata": {},
     "output_type": "execute_result"
    }
   ],
   "source": [
    "# Look at the structure of the df\n",
    "movie_reviews.head(5)\n",
    "movie_reviews.head(-5)"
   ]
  },
  {
   "cell_type": "code",
   "execution_count": 267,
   "id": "f68349de-d4c6-487a-ad44-c411f9a4bf40",
   "metadata": {},
   "outputs": [
    {
     "data": {
      "text/plain": [
       "(25000, 3)"
      ]
     },
     "execution_count": 267,
     "metadata": {},
     "output_type": "execute_result"
    }
   ],
   "source": [
    "# Check the rows and columns length\n",
    "movie_reviews.shape"
   ]
  },
  {
   "cell_type": "code",
   "execution_count": 268,
   "id": "b9691e57-787d-4157-bb26-8b061ce79afb",
   "metadata": {},
   "outputs": [
    {
     "data": {
      "text/plain": [
       "12500"
      ]
     },
     "execution_count": 268,
     "metadata": {},
     "output_type": "execute_result"
    }
   ],
   "source": [
    "# Find number of reviews that are negative\n",
    "len(movie_reviews[(movie_reviews['sentiment'] == 0)])"
   ]
  },
  {
   "cell_type": "code",
   "execution_count": 269,
   "id": "8ba0b22f-2142-4aa6-a3e0-e335af85e19d",
   "metadata": {},
   "outputs": [
    {
     "data": {
      "text/plain": [
       "12500"
      ]
     },
     "execution_count": 269,
     "metadata": {},
     "output_type": "execute_result"
    }
   ],
   "source": [
    "# Find number of reviews that are positive\n",
    "len(movie_reviews[(movie_reviews['sentiment'] == 1)])"
   ]
  },
  {
   "cell_type": "code",
   "execution_count": 270,
   "id": "5de0ebb4-9e05-4faa-8470-abe500908bdf",
   "metadata": {},
   "outputs": [
    {
     "data": {
      "text/plain": [
       "Sentiment(polarity=0.001276742581090417, subjectivity=0.6067460317460317)"
      ]
     },
     "execution_count": 270,
     "metadata": {},
     "output_type": "execute_result"
    }
   ],
   "source": [
    "# Use TextBlob to see if the first entry is negative or positive\n",
    "first_review = movie_reviews['review'][0]\n",
    "first_review = TextBlob(first_review)\n",
    "first_review.sentiment"
   ]
  },
  {
   "cell_type": "code",
   "execution_count": 271,
   "id": "55f61c5b-b523-4f5c-9edd-8fd7f30d79e0",
   "metadata": {},
   "outputs": [],
   "source": [
    "# Define the function that will check the sentiment of each review\n",
    "def blob_maker(review):\n",
    "    review = TextBlob(review)\n",
    "    review_sentiment = review.sentiment\n",
    "    return review_sentiment"
   ]
  },
  {
   "cell_type": "code",
   "execution_count": 272,
   "id": "7fd04f5e-38fb-4b6f-b615-02da02492b66",
   "metadata": {},
   "outputs": [],
   "source": [
    "# Apply the function that sets each review to raw numbers and place it into a new column\n",
    "movie_reviews['sentiment_textblob'] = movie_reviews['review'].apply(blob_maker)"
   ]
  },
  {
   "cell_type": "code",
   "execution_count": 273,
   "id": "0935fed7-9765-4d26-a973-c91dd41d1882",
   "metadata": {},
   "outputs": [
    {
     "data": {
      "text/plain": [
       "0          (0.001276742581090417, 0.6067460317460317)\n",
       "1            (0.2563492063492064, 0.5311111111111111)\n",
       "2          (-0.05394123606889564, 0.5629331306990881)\n",
       "3           (0.1347530864197531, 0.49290123456790125)\n",
       "4        (-0.024841720779220786, 0.45981782106782115)\n",
       "                             ...                     \n",
       "24995       (0.10208333333333333, 0.5428571428571428)\n",
       "24996       (0.09081262939958591, 0.4623706004140787)\n",
       "24997      (0.14525641025641026, 0.48410256410256414)\n",
       "24998                  (0.065625, 0.5045138888888889)\n",
       "24999        (0.2392948717948718, 0.7358974358974358)\n",
       "Name: sentiment_textblob, Length: 25000, dtype: object"
      ]
     },
     "execution_count": 273,
     "metadata": {},
     "output_type": "execute_result"
    }
   ],
   "source": [
    "# Look at the output in the new column\n",
    "movie_reviews['sentiment_textblob']"
   ]
  },
  {
   "cell_type": "code",
   "execution_count": 274,
   "id": "251acfe8-b4e5-47fa-be02-6815ceae7ae5",
   "metadata": {},
   "outputs": [
    {
     "data": {
      "text/html": [
       "<div>\n",
       "<style scoped>\n",
       "    .dataframe tbody tr th:only-of-type {\n",
       "        vertical-align: middle;\n",
       "    }\n",
       "\n",
       "    .dataframe tbody tr th {\n",
       "        vertical-align: top;\n",
       "    }\n",
       "\n",
       "    .dataframe thead th {\n",
       "        text-align: right;\n",
       "    }\n",
       "</style>\n",
       "<table border=\"1\" class=\"dataframe\">\n",
       "  <thead>\n",
       "    <tr style=\"text-align: right;\">\n",
       "      <th></th>\n",
       "      <th>id</th>\n",
       "      <th>sentiment</th>\n",
       "      <th>review</th>\n",
       "      <th>sentiment_textblob</th>\n",
       "    </tr>\n",
       "  </thead>\n",
       "  <tbody>\n",
       "    <tr>\n",
       "      <th>0</th>\n",
       "      <td>5814_8</td>\n",
       "      <td>1</td>\n",
       "      <td>With all this stuff going down at the moment w...</td>\n",
       "      <td>(0.001276742581090417, 0.6067460317460317)</td>\n",
       "    </tr>\n",
       "    <tr>\n",
       "      <th>1</th>\n",
       "      <td>2381_9</td>\n",
       "      <td>1</td>\n",
       "      <td>\\The Classic War of the Worlds\\\" by Timothy Hi...</td>\n",
       "      <td>(0.2563492063492064, 0.5311111111111111)</td>\n",
       "    </tr>\n",
       "    <tr>\n",
       "      <th>2</th>\n",
       "      <td>7759_3</td>\n",
       "      <td>0</td>\n",
       "      <td>The film starts with a manager (Nicholas Bell)...</td>\n",
       "      <td>(-0.05394123606889564, 0.5629331306990881)</td>\n",
       "    </tr>\n",
       "    <tr>\n",
       "      <th>3</th>\n",
       "      <td>3630_4</td>\n",
       "      <td>0</td>\n",
       "      <td>It must be assumed that those who praised this...</td>\n",
       "      <td>(0.1347530864197531, 0.49290123456790125)</td>\n",
       "    </tr>\n",
       "    <tr>\n",
       "      <th>4</th>\n",
       "      <td>9495_8</td>\n",
       "      <td>1</td>\n",
       "      <td>Superbly trashy and wondrously unpretentious 8...</td>\n",
       "      <td>(-0.024841720779220786, 0.45981782106782115)</td>\n",
       "    </tr>\n",
       "  </tbody>\n",
       "</table>\n",
       "</div>"
      ],
      "text/plain": [
       "       id  sentiment                                             review  \\\n",
       "0  5814_8          1  With all this stuff going down at the moment w...   \n",
       "1  2381_9          1  \\The Classic War of the Worlds\\\" by Timothy Hi...   \n",
       "2  7759_3          0  The film starts with a manager (Nicholas Bell)...   \n",
       "3  3630_4          0  It must be assumed that those who praised this...   \n",
       "4  9495_8          1  Superbly trashy and wondrously unpretentious 8...   \n",
       "\n",
       "                             sentiment_textblob  \n",
       "0    (0.001276742581090417, 0.6067460317460317)  \n",
       "1      (0.2563492063492064, 0.5311111111111111)  \n",
       "2    (-0.05394123606889564, 0.5629331306990881)  \n",
       "3     (0.1347530864197531, 0.49290123456790125)  \n",
       "4  (-0.024841720779220786, 0.45981782106782115)  "
      ]
     },
     "execution_count": 274,
     "metadata": {},
     "output_type": "execute_result"
    }
   ],
   "source": [
    "# look at the whole df\n",
    "movie_reviews.head()"
   ]
  },
  {
   "cell_type": "code",
   "execution_count": 275,
   "id": "d7228914-3b5c-4ea7-99d2-f0c7c4f8c2af",
   "metadata": {},
   "outputs": [],
   "source": [
    "# Define the function that classifies each review as negative or positive\n",
    "def determine_sentiment(blob_output):\n",
    "    sentiment = blob_output[0]\n",
    "    if sentiment >= 0:\n",
    "        sentiment = 'Positive'\n",
    "        pass\n",
    "    else:\n",
    "        sentiment = 'Negative'\n",
    "        pass\n",
    "    return sentiment"
   ]
  },
  {
   "cell_type": "code",
   "execution_count": 276,
   "id": "bd9d1e56-1012-4ead-acc4-775360e8e534",
   "metadata": {},
   "outputs": [],
   "source": [
    "# Apply the function that determines if a review is negative or positive and assign it to a new column\n",
    "movie_reviews['blob_sentiment'] = movie_reviews['sentiment_textblob'].apply(determine_sentiment)"
   ]
  },
  {
   "cell_type": "code",
   "execution_count": 277,
   "id": "554ce4f9-a67a-44e9-b737-0837e148c6d0",
   "metadata": {},
   "outputs": [
    {
     "data": {
      "text/plain": [
       "0        Positive\n",
       "1        Positive\n",
       "2        Negative\n",
       "3        Positive\n",
       "4        Negative\n",
       "           ...   \n",
       "24995    Positive\n",
       "24996    Positive\n",
       "24997    Positive\n",
       "24998    Positive\n",
       "24999    Positive\n",
       "Name: blob_sentiment, Length: 25000, dtype: object"
      ]
     },
     "execution_count": 277,
     "metadata": {},
     "output_type": "execute_result"
    }
   ],
   "source": [
    "# Check the output for the new column\n",
    "movie_reviews['blob_sentiment']"
   ]
  },
  {
   "cell_type": "code",
   "execution_count": 278,
   "id": "cd56f9d8-2213-488a-9de6-00cd588aa2a8",
   "metadata": {},
   "outputs": [
    {
     "data": {
      "text/plain": [
       "19017"
      ]
     },
     "execution_count": 278,
     "metadata": {},
     "output_type": "execute_result"
    }
   ],
   "source": [
    "# Check how many reviews are positive\n",
    "len(movie_reviews[(movie_reviews['blob_sentiment'] == 'Positive')])"
   ]
  },
  {
   "cell_type": "code",
   "execution_count": 279,
   "id": "b876d022-c6dc-4b0b-9103-0a843ce4916a",
   "metadata": {},
   "outputs": [
    {
     "data": {
      "text/plain": [
       "5983"
      ]
     },
     "execution_count": 279,
     "metadata": {},
     "output_type": "execute_result"
    }
   ],
   "source": [
    "# Check how many reviews are negative\n",
    "len(movie_reviews[(movie_reviews['blob_sentiment'] == 'Negative')])"
   ]
  },
  {
   "cell_type": "code",
   "execution_count": 280,
   "id": "5dc4e736-4cac-4f4c-bb8c-3d1d9c966b00",
   "metadata": {},
   "outputs": [],
   "source": [
    "# Find the number of matches between the df assigned sentiment and the text blob sentiment\n",
    "text_blob_accuracy_pos = movie_reviews[(movie_reviews['blob_sentiment'] == 'Positive') & (movie_reviews['sentiment'] == 1)]"
   ]
  },
  {
   "cell_type": "code",
   "execution_count": 281,
   "id": "5ceef262-5dde-4d52-992a-55e5fd1ed095",
   "metadata": {},
   "outputs": [],
   "source": [
    "# Find the total number of positive matches\n",
    "positive_matches = len(text_blob_accuracy_pos)"
   ]
  },
  {
   "cell_type": "code",
   "execution_count": 282,
   "id": "429a0da4-b1fc-4a9a-8e45-39b859cbc025",
   "metadata": {},
   "outputs": [],
   "source": [
    "# Find the number of matches between the df assigned sentiment and the text blob sentiment\n",
    "text_blob_accuracy_neg = movie_reviews[(movie_reviews['blob_sentiment'] == 'Negative') & (movie_reviews['sentiment'] == 0)]"
   ]
  },
  {
   "cell_type": "code",
   "execution_count": 283,
   "id": "255f5146-5434-40f6-bb78-0840fa828cb6",
   "metadata": {},
   "outputs": [],
   "source": [
    "# Find the total number of negative matches\n",
    "negative_matches = len(text_blob_accuracy_neg)"
   ]
  },
  {
   "cell_type": "code",
   "execution_count": 284,
   "id": "134ca7b5-1fa5-4044-ba86-a8c4fb6f54b4",
   "metadata": {},
   "outputs": [
    {
     "name": "stdout",
     "output_type": "stream",
     "text": [
      "Overall accuracy of the textblob sentiment analysis is:  68.524 %\n"
     ]
    }
   ],
   "source": [
    "# Calculate and print accuracy of TextBlob sentiment analysis\n",
    "total_acc = ((positive_matches + negative_matches) / len(movie_reviews)) * 100\n",
    "print('Overall accuracy of the textblob sentiment analysis is: ', total_acc, '%')"
   ]
  },
  {
   "cell_type": "markdown",
   "id": "48b61938-6a68-4a93-bbd2-e1848b30a341",
   "metadata": {},
   "source": [
    "Logic would dictate that we should correctly predict 50% of the sentiment results through random guesses. The textblob model correctly predicted 68.524% which is a substantial improvement."
   ]
  },
  {
   "cell_type": "markdown",
   "id": "e5796506-b840-4601-8ae8-c78f5b441a78",
   "metadata": {},
   "source": [
    "## Part 2. Prepping Text for a Custom Model"
   ]
  },
  {
   "cell_type": "code",
   "execution_count": 287,
   "id": "8e4b3362-4ddf-40b6-9772-5a848a7c364c",
   "metadata": {},
   "outputs": [],
   "source": [
    "# Define the function to make all text lowercase\n",
    "def lowercase(text):\n",
    "    return text.lower()"
   ]
  },
  {
   "cell_type": "code",
   "execution_count": 288,
   "id": "c84bac1a-2ca7-4d03-8571-6f546cbac498",
   "metadata": {},
   "outputs": [],
   "source": [
    "# Apply the lowercase function\n",
    "movie_reviews['processed_text'] = movie_reviews['review'].apply(lowercase)"
   ]
  },
  {
   "cell_type": "code",
   "execution_count": 289,
   "id": "1de4058d-b8e4-4751-aca0-291a093f4d2c",
   "metadata": {},
   "outputs": [],
   "source": [
    "# Define the function to remove punctuation\n",
    "def remove_punc(text):\n",
    "    text = text.translate(str.maketrans('', '', string.punctuation))\n",
    "    return text"
   ]
  },
  {
   "cell_type": "code",
   "execution_count": 290,
   "id": "6217baae-5bd8-4a51-a23b-8f3fcb11d4ae",
   "metadata": {},
   "outputs": [],
   "source": [
    "# Apply function that removes punctuation\n",
    "movie_reviews['processed_text'] = movie_reviews['processed_text'].apply(remove_punc)"
   ]
  },
  {
   "cell_type": "code",
   "execution_count": 291,
   "id": "5d83eb9e-c766-492f-86c2-e93d8feecedf",
   "metadata": {},
   "outputs": [],
   "source": [
    "# Set up the stop words values\n",
    "stop_words = stopwords.words('english')"
   ]
  },
  {
   "cell_type": "code",
   "execution_count": 292,
   "id": "cffca62f-5889-4af8-b3bb-224d90bed3c8",
   "metadata": {},
   "outputs": [],
   "source": [
    "# Define the function that removes the stop words from the text\n",
    "def remove_stop_words(text):\n",
    "    tokenized_words = word_tokenize(text)\n",
    "    no_stops = [word for word in tokenized_words if word not in stop_words]\n",
    "    return no_stops"
   ]
  },
  {
   "cell_type": "code",
   "execution_count": 293,
   "id": "386554f5-a2e3-40c9-8fdd-ed3da9afde1e",
   "metadata": {},
   "outputs": [],
   "source": [
    "# Remove the stop words\n",
    "movie_reviews['processed_text'] = movie_reviews['processed_text'].apply(remove_stop_words)"
   ]
  },
  {
   "cell_type": "code",
   "execution_count": 294,
   "id": "74d56dfd-71a5-4675-9a27-1db10288c0d7",
   "metadata": {},
   "outputs": [
    {
     "data": {
      "text/plain": [
       "0    [stuff, going, moment, mj, ive, started, liste...\n",
       "1    [classic, war, worlds, timothy, hines, enterta...\n",
       "2    [film, starts, manager, nicholas, bell, giving...\n",
       "3    [must, assumed, praised, film, greatest, filme...\n",
       "4    [superbly, trashy, wondrously, unpretentious, ...\n",
       "Name: processed_text, dtype: object"
      ]
     },
     "execution_count": 294,
     "metadata": {},
     "output_type": "execute_result"
    }
   ],
   "source": [
    "# Look at the reviews\n",
    "movie_reviews['processed_text'].head()"
   ]
  },
  {
   "cell_type": "code",
   "execution_count": 295,
   "id": "bd33354e-08cd-4fdc-9429-9ae603b67799",
   "metadata": {},
   "outputs": [],
   "source": [
    "# Set up stem function\n",
    "porter = PorterStemmer()"
   ]
  },
  {
   "cell_type": "code",
   "execution_count": 296,
   "id": "90dba583-c5f7-4731-8b13-cba875127ed8",
   "metadata": {},
   "outputs": [],
   "source": [
    "# Define stemming function\n",
    "def stems(list_of_words):\n",
    "    stemmed = [porter.stem(word) for word in list_of_words]\n",
    "    return stemmed"
   ]
  },
  {
   "cell_type": "code",
   "execution_count": 297,
   "id": "3dd17419-54a0-4f17-b59d-ba0a1693ef53",
   "metadata": {},
   "outputs": [],
   "source": [
    "# Apply stem function\n",
    "movie_reviews['stemmed_text'] = movie_reviews['processed_text'].apply(stems)"
   ]
  },
  {
   "cell_type": "code",
   "execution_count": 298,
   "id": "c3048f89-5631-4522-921e-9bd51090c69b",
   "metadata": {},
   "outputs": [
    {
     "data": {
      "text/plain": [
       "0    [stuff, go, moment, mj, ive, start, listen, mu...\n",
       "1    [classic, war, world, timothi, hine, entertain...\n",
       "2    [film, start, manag, nichola, bell, give, welc...\n",
       "3    [must, assum, prais, film, greatest, film, ope...\n",
       "4    [superbl, trashi, wondrous, unpretenti, 80, ex...\n",
       "Name: stemmed_text, dtype: object"
      ]
     },
     "execution_count": 298,
     "metadata": {},
     "output_type": "execute_result"
    }
   ],
   "source": [
    "# Look at the processed reviews\n",
    "movie_reviews['stemmed_text'].head()"
   ]
  },
  {
   "cell_type": "code",
   "execution_count": 299,
   "id": "61afcd59-c97c-4f80-ae5e-4648029671f3",
   "metadata": {},
   "outputs": [],
   "source": [
    "# Join reviews into a single string for each row\n",
    "movie_reviews['stemmed_text'] = movie_reviews['stemmed_text'].apply(lambda lst: \" \". join(lst))"
   ]
  },
  {
   "cell_type": "code",
   "execution_count": 300,
   "id": "a95d6112-2101-475d-aad8-a95b9493eda5",
   "metadata": {},
   "outputs": [
    {
     "data": {
      "text/plain": [
       "0        stuff go moment mj ive start listen music watc...\n",
       "1        classic war world timothi hine entertain film ...\n",
       "2        film start manag nichola bell give welcom inve...\n",
       "3        must assum prais film greatest film opera ever...\n",
       "4        superbl trashi wondrous unpretenti 80 exploit ...\n",
       "                               ...                        \n",
       "24995    seem like consider gone imdb review film went ...\n",
       "24996    dont believ made film complet unnecessari firs...\n",
       "24997    guy loser cant get girl need build pick strong...\n",
       "24998    30 minut documentari buñuel made earli 1930 on...\n",
       "24999    saw movi child broke heart stori unfinish end ...\n",
       "Name: stemmed_text, Length: 25000, dtype: object"
      ]
     },
     "execution_count": 300,
     "metadata": {},
     "output_type": "execute_result"
    }
   ],
   "source": [
    "# Look at reviews to verify they've been stemmed\n",
    "movie_reviews['stemmed_text']"
   ]
  },
  {
   "cell_type": "code",
   "execution_count": 301,
   "id": "21a2b8ee-5d7a-4a69-9289-6e7858ddfeaf",
   "metadata": {},
   "outputs": [],
   "source": [
    "# Define the function that sets up the bag of words matrix\n",
    "def get_the_bag(text):\n",
    "    count = CountVectorizer()\n",
    "    bag_of_words = count.fit_transform(text)\n",
    "    return bag_of_words"
   ]
  },
  {
   "cell_type": "code",
   "execution_count": 302,
   "id": "f11e9b14-cd71-47bf-a8f3-0b70440c6faa",
   "metadata": {},
   "outputs": [],
   "source": [
    "# Convert string to text for bag of words to work\n",
    "movie_reviews['polished_text'] = movie_reviews['stemmed_text'].apply(lambda x: [x])"
   ]
  },
  {
   "cell_type": "code",
   "execution_count": 303,
   "id": "61c986db-be6a-4706-b86b-f91605a922c5",
   "metadata": {},
   "outputs": [],
   "source": [
    "# Apply the bag of words function\n",
    "bag_of_words = movie_reviews['polished_text'].apply(get_the_bag)"
   ]
  },
  {
   "cell_type": "code",
   "execution_count": 304,
   "id": "971c189f-e549-4c2c-8dab-aa9a42818cf7",
   "metadata": {},
   "outputs": [
    {
     "data": {
      "text/plain": [
       "(25000,)"
      ]
     },
     "execution_count": 304,
     "metadata": {},
     "output_type": "execute_result"
    }
   ],
   "source": [
    "# Check the shape of the bag of words\n",
    "bag_of_words.shape"
   ]
  },
  {
   "cell_type": "code",
   "execution_count": 305,
   "id": "b6ab55c1-46e6-4adc-8a08-f3d0423bacb1",
   "metadata": {},
   "outputs": [
    {
     "data": {
      "text/plain": [
       "<1x161 sparse matrix of type '<class 'numpy.int64'>'\n",
       "\twith 161 stored elements in Compressed Sparse Row format>"
      ]
     },
     "execution_count": 305,
     "metadata": {},
     "output_type": "execute_result"
    }
   ],
   "source": [
    "# Look at the review format\n",
    "bag_of_words[0]"
   ]
  },
  {
   "cell_type": "code",
   "execution_count": 306,
   "id": "b93b2fa6-582b-45f0-99ec-f18a234d9e1f",
   "metadata": {},
   "outputs": [],
   "source": [
    "# Define the term frequency-inverse document frequency (tf-idf) function\n",
    "def tfidf(text):\n",
    "    tfidf_func = TfidfVectorizer()\n",
    "    term_freq = tfidf_func.fit_transform(text)\n",
    "    return term_freq"
   ]
  },
  {
   "cell_type": "code",
   "execution_count": 307,
   "id": "62979ea3-ffa8-46fe-97ae-32776b7ba729",
   "metadata": {},
   "outputs": [],
   "source": [
    "# Apply the tfidf function\n",
    "movie_reviews['tfidf'] = movie_reviews['polished_text'].apply(tfidf)"
   ]
  },
  {
   "cell_type": "code",
   "execution_count": 308,
   "id": "92c0495e-915b-4064-9c95-663b4b86616d",
   "metadata": {},
   "outputs": [
    {
     "data": {
      "text/plain": [
       "<1x161 sparse matrix of type '<class 'numpy.float64'>'\n",
       "\twith 161 stored elements in Compressed Sparse Row format>"
      ]
     },
     "execution_count": 308,
     "metadata": {},
     "output_type": "execute_result"
    }
   ],
   "source": [
    "# Check that the tfidf shape matches the bag_of_words shape\n",
    "movie_reviews['tfidf'][0]"
   ]
  }
 ],
 "metadata": {
  "kernelspec": {
   "display_name": "Python 3 (ipykernel)",
   "language": "python",
   "name": "python3"
  },
  "language_info": {
   "codemirror_mode": {
    "name": "ipython",
    "version": 3
   },
   "file_extension": ".py",
   "mimetype": "text/x-python",
   "name": "python",
   "nbconvert_exporter": "python",
   "pygments_lexer": "ipython3",
   "version": "3.12.4"
  }
 },
 "nbformat": 4,
 "nbformat_minor": 5
}
