{
 "cells": [
  {
   "cell_type": "markdown",
   "id": "a5f33d4e-aa4c-485f-a369-02f2c2a2d027",
   "metadata": {},
   "source": [
    "# Author: Makayla McKibben\n",
    "## Course: DSC550 Data Mining\n",
    "## Assignment: Ex. 11.2\n",
    "## Date: 11.12.2024"
   ]
  },
  {
   "cell_type": "code",
   "execution_count": 2,
   "id": "ae088ec0-655e-40fa-ad85-ea02ec143023",
   "metadata": {},
   "outputs": [],
   "source": [
    "import pandas as pd\n",
    "import numpy as np\n",
    "import matplotlib.pyplot as plt\n",
    "import cv2\n",
    "import torch\n",
    "import torch.nn as nn\n",
    "from torchvision import transforms\n",
    "from keras.datasets import mnist\n",
    "from torch.utils.data import DataLoader, TensorDataset\n",
    "from torch.optim import RMSprop\n",
    "from sklearn.datasets import make_classification \n",
    "import torch._dynamo\n",
    "from sklearn.metrics import accuracy_score\n",
    "import warnings\n",
    "import torchmetrics as tm\n",
    "from sklearn.metrics import confusion_matrix\n",
    "from sklearn.metrics import multilabel_confusion_matrix\n",
    "from sklearn.metrics import ConfusionMatrixDisplay\n",
    "from ray import tune\n",
    "from ray.tune import CLIReporter\n",
    "from ray.tune.schedulers import ASHAScheduler"
   ]
  },
  {
   "cell_type": "code",
   "execution_count": 3,
   "id": "c7157e0d-7710-4476-8a27-c239f9496d0c",
   "metadata": {},
   "outputs": [],
   "source": [
    "# Suppress warnings\n",
    "torch._dynamo.config.suppress_errors = True\n",
    "warnings.filterwarnings('ignore')"
   ]
  },
  {
   "cell_type": "code",
   "execution_count": 4,
   "id": "5e6effa5-7fe6-4717-8f0c-3758f378a713",
   "metadata": {},
   "outputs": [
    {
     "data": {
      "image/png": "[encoded data removed]",
      "text/plain": [
       "<Figure size 640x480 with 1 Axes>"
      ]
     },
     "metadata": {},
     "output_type": "display_data"
    }
   ],
   "source": [
    "# Load and split the data into training and test\n",
    "(X_train, Y_train) ,(X_test, Y_test) = mnist.load_data()\n",
    "# Show first image in training set\n",
    "plt.imshow(X_train[0], cmap=\"gray\"), plt.axis(\"off\")\n",
    "plt.show()"
   ]
  },
  {
   "cell_type": "code",
   "execution_count": 5,
   "id": "992111ff-dbfb-4ccb-8304-dc90f3c93f27",
   "metadata": {},
   "outputs": [
    {
     "data": {
      "image/png": "[encoded data removed]",
      "text/plain": [
       "<Figure size 640x480 with 1 Axes>"
      ]
     },
     "metadata": {},
     "output_type": "display_data"
    }
   ],
   "source": [
    "# Show second image in training set\n",
    "plt.imshow(X_train[1],cmap=\"gray\"), plt.axis(\"off\")\n",
    "plt.show()"
   ]
  },
  {
   "cell_type": "code",
   "execution_count": 6,
   "id": "15aa396f-5b3b-4bd6-917c-3817d9d860c7",
   "metadata": {},
   "outputs": [
    {
     "data": {
      "image/png": "[encoded data removed]",
      "text/plain": [
       "<Figure size 640x480 with 1 Axes>"
      ]
     },
     "metadata": {},
     "output_type": "display_data"
    }
   ],
   "source": [
    "# Show third image in training set\n",
    "plt.imshow(X_train[2],cmap=\"gray\"), plt.axis(\"off\")\n",
    "plt.show()"
   ]
  },
  {
   "cell_type": "code",
   "execution_count": 7,
   "id": "fff78e53-c9cb-4279-9136-3db7b1d12fe2",
   "metadata": {},
   "outputs": [
    {
     "data": {
      "image/png": "[encoded data removed]",
      "text/plain": [
       "<Figure size 640x480 with 1 Axes>"
      ]
     },
     "metadata": {},
     "output_type": "display_data"
    }
   ],
   "source": [
    "# Show fourth image in training set\n",
    "plt.imshow(X_train[3],cmap=\"gray\"), plt.axis(\"off\")\n",
    "plt.show()"
   ]
  },
  {
   "cell_type": "code",
   "execution_count": 8,
   "id": "89c696ba-8ae9-4f98-9b01-e96bf91f787d",
   "metadata": {
    "scrolled": true
   },
   "outputs": [
    {
     "data": {
      "image/png": "[encoded data removed]",
      "text/plain": [
       "<Figure size 640x480 with 1 Axes>"
      ]
     },
     "metadata": {},
     "output_type": "display_data"
    }
   ],
   "source": [
    "# Show fifth image in training set\n",
    "plt.imshow(X_train[4],cmap=\"gray\"), plt.axis(\"off\")\n",
    "plt.show()"
   ]
  },
  {
   "cell_type": "code",
   "execution_count": 9,
   "id": "d9d007a7-928d-47c7-b124-84c164978d00",
   "metadata": {},
   "outputs": [],
   "source": [
    "# Set number of classes to 10 for each digit\n",
    "n_classes = 10\n",
    "# Set 8 epochs for 8 passes through the data forward and backward\n",
    "epochs = 8"
   ]
  },
  {
   "cell_type": "code",
   "execution_count": 10,
   "id": "f7fe4ca3-1b8a-48b8-b656-5361225c1e68",
   "metadata": {},
   "outputs": [],
   "source": [
    "# Convert to tensor floats\n",
    "x_train = torch.from_numpy(X_train).float()\n",
    "# One hot encode and convert to tensor\n",
    "y_train = torch.nn.functional.one_hot(torch.from_numpy(Y_train).long(), num_classes = n_classes).long()"
   ]
  },
  {
   "cell_type": "code",
   "execution_count": 11,
   "id": "41638488-94cb-4e66-a129-c5d7faca932c",
   "metadata": {},
   "outputs": [],
   "source": [
    "# Convert to tensor floats\n",
    "x_test = torch.from_numpy(X_test).float()\n",
    "# One hot encode and convert to tensor\n",
    "y_test = torch.nn.functional.one_hot(torch.from_numpy(Y_test).long(), num_classes = n_classes).float()"
   ]
  },
  {
   "cell_type": "code",
   "execution_count": 12,
   "id": "685eff4c-fbb0-478b-af7e-0baf95f10edd",
   "metadata": {},
   "outputs": [],
   "source": [
    "# Define neuralnet class/neural network\n",
    "class neuralnet(nn.Module):\n",
    "    def __init__(self):\n",
    "        super(neuralnet, self).__init__()\n",
    "        self.sequential = torch.nn.Sequential(torch.nn.Linear(28, 56), torch.nn.Softmax(), torch.nn.Linear(56, 56), torch.nn.Softmax(), torch.nn.Linear(56, 10), torch.nn.Softmax())\n",
    "    # Define the forward function of the neural network using sequential\n",
    "    def forward(self, x):\n",
    "        x = self.sequential(x)\n",
    "        return x"
   ]
  },
  {
   "cell_type": "code",
   "execution_count": 13,
   "id": "7321ce9b-9dae-405e-b3bc-1a9c3b4e1cf4",
   "metadata": {},
   "outputs": [],
   "source": [
    "# Create/initialize a neural network\n",
    "network = neuralnet()"
   ]
  },
  {
   "cell_type": "code",
   "execution_count": 14,
   "id": "74b5b3b8-3fe7-4c84-bce0-2a11d7595e8b",
   "metadata": {},
   "outputs": [],
   "source": [
    "# Define loss funtion\n",
    "criterion = nn.CrossEntropyLoss()\n",
    "# Define optimizer\n",
    "optimizer = RMSprop(network.parameters())"
   ]
  },
  {
   "cell_type": "code",
   "execution_count": 15,
   "id": "e9181977-8466-4f06-9fd0-4c250e680311",
   "metadata": {},
   "outputs": [],
   "source": [
    "# Define data loader\n",
    "train_data = TensorDataset(x_train, y_train)\n",
    "train_loader = DataLoader(train_data, batch_size = 80, shuffle = True)"
   ]
  },
  {
   "cell_type": "code",
   "execution_count": 16,
   "id": "7db49ea2-f62f-4616-aab6-dadee48a87ac",
   "metadata": {},
   "outputs": [],
   "source": [
    "# Complie the model\n",
    "network = torch.compile(network)"
   ]
  },
  {
   "cell_type": "code",
   "execution_count": 17,
   "id": "93540531-b735-4b40-9437-19d5bcaeb392",
   "metadata": {},
   "outputs": [
    {
     "name": "stderr",
     "output_type": "stream",
     "text": [
      "W1113 21:24:46.068000 10344 site-packages\\torch\\_dynamo\\convert_frame.py:1125] WON'T CONVERT forward C:\\Users\\makay\\AppData\\Local\\Temp\\ipykernel_10344\\173560878.py line 7 \n",
      "W1113 21:24:46.068000 10344 site-packages\\torch\\_dynamo\\convert_frame.py:1125] due to: \n",
      "W1113 21:24:46.068000 10344 site-packages\\torch\\_dynamo\\convert_frame.py:1125] Traceback (most recent call last):\n",
      "W1113 21:24:46.068000 10344 site-packages\\torch\\_dynamo\\convert_frame.py:1125]   File \"C:\\Users\\makay\\anaconda3\\Lib\\site-packages\\torch\\_inductor\\cpp_builder.py\", line 130, in check_compiler_exist_windows\n",
      "W1113 21:24:46.068000 10344 site-packages\\torch\\_dynamo\\convert_frame.py:1125]     subprocess.check_output([compiler, \"/help\"], stderr=subprocess.STDOUT)\n",
      "W1113 21:24:46.068000 10344 site-packages\\torch\\_dynamo\\convert_frame.py:1125]   File \"C:\\Users\\makay\\anaconda3\\Lib\\subprocess.py\", line 466, in check_output\n",
      "W1113 21:24:46.068000 10344 site-packages\\torch\\_dynamo\\convert_frame.py:1125]     return run(*popenargs, stdout=PIPE, timeout=timeout, check=True,\n",
      "W1113 21:24:46.068000 10344 site-packages\\torch\\_dynamo\\convert_frame.py:1125]            ^^^^^^^^^^^^^^^^^^^^^^^^^^^^^^^^^^^^^^^^^^^^^^^^^^^^^^^^^\n",
      "W1113 21:24:46.068000 10344 site-packages\\torch\\_dynamo\\convert_frame.py:1125]   File \"C:\\Users\\makay\\anaconda3\\Lib\\subprocess.py\", line 548, in run\n",
      "W1113 21:24:46.068000 10344 site-packages\\torch\\_dynamo\\convert_frame.py:1125]     with Popen(*popenargs, **kwargs) as process:\n",
      "W1113 21:24:46.068000 10344 site-packages\\torch\\_dynamo\\convert_frame.py:1125]          ^^^^^^^^^^^^^^^^^^^^^^^^^^^\n",
      "W1113 21:24:46.068000 10344 site-packages\\torch\\_dynamo\\convert_frame.py:1125]   File \"C:\\Users\\makay\\anaconda3\\Lib\\subprocess.py\", line 1026, in __init__\n",
      "W1113 21:24:46.068000 10344 site-packages\\torch\\_dynamo\\convert_frame.py:1125]     self._execute_child(args, executable, preexec_fn, close_fds,\n",
      "W1113 21:24:46.068000 10344 site-packages\\torch\\_dynamo\\convert_frame.py:1125]   File \"C:\\Users\\makay\\anaconda3\\Lib\\subprocess.py\", line 1538, in _execute_child\n",
      "W1113 21:24:46.068000 10344 site-packages\\torch\\_dynamo\\convert_frame.py:1125]     hp, ht, pid, tid = _winapi.CreateProcess(executable, args,\n",
      "W1113 21:24:46.068000 10344 site-packages\\torch\\_dynamo\\convert_frame.py:1125]                        ^^^^^^^^^^^^^^^^^^^^^^^^^^^^^^^^^^^^^^^\n",
      "W1113 21:24:46.068000 10344 site-packages\\torch\\_dynamo\\convert_frame.py:1125] FileNotFoundError: [WinError 2] The system cannot find the file specified\n",
      "W1113 21:24:46.068000 10344 site-packages\\torch\\_dynamo\\convert_frame.py:1125] \n",
      "W1113 21:24:46.068000 10344 site-packages\\torch\\_dynamo\\convert_frame.py:1125] The above exception was the direct cause of the following exception:\n",
      "W1113 21:24:46.068000 10344 site-packages\\torch\\_dynamo\\convert_frame.py:1125] \n",
      "W1113 21:24:46.068000 10344 site-packages\\torch\\_dynamo\\convert_frame.py:1125] Traceback (most recent call last):\n",
      "W1113 21:24:46.068000 10344 site-packages\\torch\\_dynamo\\convert_frame.py:1125]   File \"C:\\Users\\makay\\anaconda3\\Lib\\site-packages\\torch\\_dynamo\\output_graph.py\", line 1446, in _call_user_compiler\n",
      "W1113 21:24:46.068000 10344 site-packages\\torch\\_dynamo\\convert_frame.py:1125]     compiled_fn = compiler_fn(gm, self.example_inputs())\n",
      "W1113 21:24:46.068000 10344 site-packages\\torch\\_dynamo\\convert_frame.py:1125]                   ^^^^^^^^^^^^^^^^^^^^^^^^^^^^^^^^^^^^^^\n",
      "W1113 21:24:46.068000 10344 site-packages\\torch\\_dynamo\\convert_frame.py:1125]   File \"C:\\Users\\makay\\anaconda3\\Lib\\site-packages\\torch\\_dynamo\\repro\\after_dynamo.py\", line 129, in __call__\n",
      "W1113 21:24:46.068000 10344 site-packages\\torch\\_dynamo\\convert_frame.py:1125]     compiled_gm = compiler_fn(gm, example_inputs)\n",
      "W1113 21:24:46.068000 10344 site-packages\\torch\\_dynamo\\convert_frame.py:1125]                   ^^^^^^^^^^^^^^^^^^^^^^^^^^^^^^^\n",
      "W1113 21:24:46.068000 10344 site-packages\\torch\\_dynamo\\convert_frame.py:1125]   File \"C:\\Users\\makay\\anaconda3\\Lib\\site-packages\\torch\\__init__.py\", line 2234, in __call__\n",
      "W1113 21:24:46.068000 10344 site-packages\\torch\\_dynamo\\convert_frame.py:1125]     return compile_fx(model_, inputs_, config_patches=self.config)\n",
      "W1113 21:24:46.068000 10344 site-packages\\torch\\_dynamo\\convert_frame.py:1125]            ^^^^^^^^^^^^^^^^^^^^^^^^^^^^^^^^^^^^^^^^^^^^^^^^^^^^^^^\n",
      "W1113 21:24:46.068000 10344 site-packages\\torch\\_dynamo\\convert_frame.py:1125]   File \"C:\\Users\\makay\\anaconda3\\Lib\\site-packages\\torch\\_inductor\\compile_fx.py\", line 1521, in compile_fx\n",
      "W1113 21:24:46.068000 10344 site-packages\\torch\\_dynamo\\convert_frame.py:1125]     return aot_autograd(\n",
      "W1113 21:24:46.068000 10344 site-packages\\torch\\_dynamo\\convert_frame.py:1125]            ^^^^^^^^^^^^^\n",
      "W1113 21:24:46.068000 10344 site-packages\\torch\\_dynamo\\convert_frame.py:1125]   File \"C:\\Users\\makay\\anaconda3\\Lib\\site-packages\\torch\\_dynamo\\backends\\common.py\", line 72, in __call__\n",
      "W1113 21:24:46.068000 10344 site-packages\\torch\\_dynamo\\convert_frame.py:1125]     cg = aot_module_simplified(gm, example_inputs, **self.kwargs)\n",
      "W1113 21:24:46.068000 10344 site-packages\\torch\\_dynamo\\convert_frame.py:1125]          ^^^^^^^^^^^^^^^^^^^^^^^^^^^^^^^^^^^^^^^^^^^^^^^^^^^^^^^^\n",
      "W1113 21:24:46.068000 10344 site-packages\\torch\\_dynamo\\convert_frame.py:1125]   File \"C:\\Users\\makay\\anaconda3\\Lib\\site-packages\\torch\\_functorch\\aot_autograd.py\", line 1071, in aot_module_simplified\n",
      "W1113 21:24:46.068000 10344 site-packages\\torch\\_dynamo\\convert_frame.py:1125]     compiled_fn = dispatch_and_compile()\n",
      "W1113 21:24:46.068000 10344 site-packages\\torch\\_dynamo\\convert_frame.py:1125]                   ^^^^^^^^^^^^^^^^^^^^^^\n",
      "W1113 21:24:46.068000 10344 site-packages\\torch\\_dynamo\\convert_frame.py:1125]   File \"C:\\Users\\makay\\anaconda3\\Lib\\site-packages\\torch\\_functorch\\aot_autograd.py\", line 1056, in dispatch_and_compile\n",
      "W1113 21:24:46.068000 10344 site-packages\\torch\\_dynamo\\convert_frame.py:1125]     compiled_fn, _ = create_aot_dispatcher_function(\n",
      "W1113 21:24:46.068000 10344 site-packages\\torch\\_dynamo\\convert_frame.py:1125]                      ^^^^^^^^^^^^^^^^^^^^^^^^^^^^^^^\n",
      "W1113 21:24:46.068000 10344 site-packages\\torch\\_dynamo\\convert_frame.py:1125]   File \"C:\\Users\\makay\\anaconda3\\Lib\\site-packages\\torch\\_functorch\\aot_autograd.py\", line 522, in create_aot_dispatcher_function\n",
      "W1113 21:24:46.068000 10344 site-packages\\torch\\_dynamo\\convert_frame.py:1125]     return _create_aot_dispatcher_function(\n",
      "W1113 21:24:46.068000 10344 site-packages\\torch\\_dynamo\\convert_frame.py:1125]            ^^^^^^^^^^^^^^^^^^^^^^^^^^^^^^^^\n",
      "W1113 21:24:46.068000 10344 site-packages\\torch\\_dynamo\\convert_frame.py:1125]   File \"C:\\Users\\makay\\anaconda3\\Lib\\site-packages\\torch\\_functorch\\aot_autograd.py\", line 759, in _create_aot_dispatcher_function\n",
      "W1113 21:24:46.068000 10344 site-packages\\torch\\_dynamo\\convert_frame.py:1125]     compiled_fn, fw_metadata = compiler_fn(\n",
      "W1113 21:24:46.068000 10344 site-packages\\torch\\_dynamo\\convert_frame.py:1125]                                ^^^^^^^^^^^^\n",
      "W1113 21:24:46.068000 10344 site-packages\\torch\\_dynamo\\convert_frame.py:1125]   File \"C:\\Users\\makay\\anaconda3\\Lib\\site-packages\\torch\\_functorch\\_aot_autograd\\jit_compile_runtime_wrappers.py\", line 588, in aot_dispatch_autograd\n",
      "W1113 21:24:46.068000 10344 site-packages\\torch\\_dynamo\\convert_frame.py:1125]     compiled_fw_func = aot_config.fw_compiler(fw_module, adjusted_flat_args)\n",
      "W1113 21:24:46.068000 10344 site-packages\\torch\\_dynamo\\convert_frame.py:1125]                        ^^^^^^^^^^^^^^^^^^^^^^^^^^^^^^^^^^^^^^^^^^^^^^^^^^^^^\n",
      "W1113 21:24:46.068000 10344 site-packages\\torch\\_dynamo\\convert_frame.py:1125]   File \"C:\\Users\\makay\\anaconda3\\Lib\\site-packages\\torch\\_inductor\\compile_fx.py\", line 1350, in fw_compiler_base\n",
      "W1113 21:24:46.068000 10344 site-packages\\torch\\_dynamo\\convert_frame.py:1125]     return _fw_compiler_base(model, example_inputs, is_inference)\n",
      "W1113 21:24:46.068000 10344 site-packages\\torch\\_dynamo\\convert_frame.py:1125]            ^^^^^^^^^^^^^^^^^^^^^^^^^^^^^^^^^^^^^^^^^^^^^^^^^^^^^^\n",
      "W1113 21:24:46.068000 10344 site-packages\\torch\\_dynamo\\convert_frame.py:1125]   File \"C:\\Users\\makay\\anaconda3\\Lib\\site-packages\\torch\\_inductor\\compile_fx.py\", line 1421, in _fw_compiler_base\n",
      "W1113 21:24:46.068000 10344 site-packages\\torch\\_dynamo\\convert_frame.py:1125]     return inner_compile(\n",
      "W1113 21:24:46.068000 10344 site-packages\\torch\\_dynamo\\convert_frame.py:1125]            ^^^^^^^^^^^^^^\n",
      "W1113 21:24:46.068000 10344 site-packages\\torch\\_dynamo\\convert_frame.py:1125]   File \"C:\\Users\\makay\\anaconda3\\Lib\\site-packages\\torch\\_inductor\\compile_fx.py\", line 475, in compile_fx_inner\n",
      "W1113 21:24:46.068000 10344 site-packages\\torch\\_dynamo\\convert_frame.py:1125]     return wrap_compiler_debug(_compile_fx_inner, compiler_name=\"inductor\")(\n",
      "W1113 21:24:46.068000 10344 site-packages\\torch\\_dynamo\\convert_frame.py:1125]            ^^^^^^^^^^^^^^^^^^^^^^^^^^^^^^^^^^^^^^^^^^^^^^^^^^^^^^^^^^^^^^^^^\n",
      "W1113 21:24:46.068000 10344 site-packages\\torch\\_dynamo\\convert_frame.py:1125]   File \"C:\\Users\\makay\\anaconda3\\Lib\\site-packages\\torch\\_dynamo\\repro\\after_aot.py\", line 85, in debug_wrapper\n",
      "W1113 21:24:46.068000 10344 site-packages\\torch\\_dynamo\\convert_frame.py:1125]     inner_compiled_fn = compiler_fn(gm, example_inputs)\n",
      "W1113 21:24:46.068000 10344 site-packages\\torch\\_dynamo\\convert_frame.py:1125]                         ^^^^^^^^^^^^^^^^^^^^^^^^^^^^^^^\n",
      "W1113 21:24:46.068000 10344 site-packages\\torch\\_dynamo\\convert_frame.py:1125]   File \"C:\\Users\\makay\\anaconda3\\Lib\\site-packages\\torch\\_inductor\\compile_fx.py\", line 661, in _compile_fx_inner\n",
      "W1113 21:24:46.068000 10344 site-packages\\torch\\_dynamo\\convert_frame.py:1125]     compiled_graph = FxGraphCache.load(\n",
      "W1113 21:24:46.068000 10344 site-packages\\torch\\_dynamo\\convert_frame.py:1125]                      ^^^^^^^^^^^^^^^^^^\n",
      "W1113 21:24:46.068000 10344 site-packages\\torch\\_dynamo\\convert_frame.py:1125]   File \"C:\\Users\\makay\\anaconda3\\Lib\\site-packages\\torch\\_inductor\\codecache.py\", line 1334, in load\n",
      "W1113 21:24:46.068000 10344 site-packages\\torch\\_dynamo\\convert_frame.py:1125]     compiled_graph = compile_fx_fn(\n",
      "W1113 21:24:46.068000 10344 site-packages\\torch\\_dynamo\\convert_frame.py:1125]                      ^^^^^^^^^^^^^^\n",
      "W1113 21:24:46.068000 10344 site-packages\\torch\\_dynamo\\convert_frame.py:1125]   File \"C:\\Users\\makay\\anaconda3\\Lib\\site-packages\\torch\\_inductor\\compile_fx.py\", line 570, in codegen_and_compile\n",
      "W1113 21:24:46.068000 10344 site-packages\\torch\\_dynamo\\convert_frame.py:1125]     compiled_graph = fx_codegen_and_compile(gm, example_inputs, **fx_kwargs)\n",
      "W1113 21:24:46.068000 10344 site-packages\\torch\\_dynamo\\convert_frame.py:1125]                      ^^^^^^^^^^^^^^^^^^^^^^^^^^^^^^^^^^^^^^^^^^^^^^^^^^^^^^^\n",
      "W1113 21:24:46.068000 10344 site-packages\\torch\\_dynamo\\convert_frame.py:1125]   File \"C:\\Users\\makay\\anaconda3\\Lib\\site-packages\\torch\\_inductor\\compile_fx.py\", line 878, in fx_codegen_and_compile\n",
      "W1113 21:24:46.068000 10344 site-packages\\torch\\_dynamo\\convert_frame.py:1125]     compiled_fn = graph.compile_to_fn()\n",
      "W1113 21:24:46.068000 10344 site-packages\\torch\\_dynamo\\convert_frame.py:1125]                   ^^^^^^^^^^^^^^^^^^^^^\n",
      "W1113 21:24:46.068000 10344 site-packages\\torch\\_dynamo\\convert_frame.py:1125]   File \"C:\\Users\\makay\\anaconda3\\Lib\\site-packages\\torch\\_inductor\\graph.py\", line 1913, in compile_to_fn\n",
      "W1113 21:24:46.068000 10344 site-packages\\torch\\_dynamo\\convert_frame.py:1125]     return self.compile_to_module().call\n",
      "W1113 21:24:46.068000 10344 site-packages\\torch\\_dynamo\\convert_frame.py:1125]            ^^^^^^^^^^^^^^^^^^^^^^^^\n",
      "W1113 21:24:46.068000 10344 site-packages\\torch\\_dynamo\\convert_frame.py:1125]   File \"C:\\Users\\makay\\anaconda3\\Lib\\site-packages\\torch\\_inductor\\graph.py\", line 1839, in compile_to_module\n",
      "W1113 21:24:46.068000 10344 site-packages\\torch\\_dynamo\\convert_frame.py:1125]     return self._compile_to_module()\n",
      "W1113 21:24:46.068000 10344 site-packages\\torch\\_dynamo\\convert_frame.py:1125]            ^^^^^^^^^^^^^^^^^^^^^^^^^\n",
      "W1113 21:24:46.068000 10344 site-packages\\torch\\_dynamo\\convert_frame.py:1125]   File \"C:\\Users\\makay\\anaconda3\\Lib\\site-packages\\torch\\_inductor\\graph.py\", line 1845, in _compile_to_module\n",
      "W1113 21:24:46.068000 10344 site-packages\\torch\\_dynamo\\convert_frame.py:1125]     self.codegen_with_cpp_wrapper() if self.cpp_wrapper else self.codegen()\n",
      "W1113 21:24:46.068000 10344 site-packages\\torch\\_dynamo\\convert_frame.py:1125]                                                              ^^^^^^^^^^^^^^\n",
      "W1113 21:24:46.068000 10344 site-packages\\torch\\_dynamo\\convert_frame.py:1125]   File \"C:\\Users\\makay\\anaconda3\\Lib\\site-packages\\torch\\_inductor\\graph.py\", line 1784, in codegen\n",
      "W1113 21:24:46.068000 10344 site-packages\\torch\\_dynamo\\convert_frame.py:1125]     self.scheduler.codegen()\n",
      "W1113 21:24:46.068000 10344 site-packages\\torch\\_dynamo\\convert_frame.py:1125]   File \"C:\\Users\\makay\\anaconda3\\Lib\\site-packages\\torch\\_inductor\\scheduler.py\", line 3383, in codegen\n",
      "W1113 21:24:46.068000 10344 site-packages\\torch\\_dynamo\\convert_frame.py:1125]     return self._codegen()\n",
      "W1113 21:24:46.068000 10344 site-packages\\torch\\_dynamo\\convert_frame.py:1125]            ^^^^^^^^^^^^^^^\n",
      "W1113 21:24:46.068000 10344 site-packages\\torch\\_dynamo\\convert_frame.py:1125]   File \"C:\\Users\\makay\\anaconda3\\Lib\\site-packages\\torch\\_inductor\\scheduler.py\", line 3461, in _codegen\n",
      "W1113 21:24:46.068000 10344 site-packages\\torch\\_dynamo\\convert_frame.py:1125]     self.get_backend(device).codegen_node(node)\n",
      "W1113 21:24:46.068000 10344 site-packages\\torch\\_dynamo\\convert_frame.py:1125]   File \"C:\\Users\\makay\\anaconda3\\Lib\\site-packages\\torch\\_inductor\\codegen\\cpp.py\", line 4468, in codegen_node\n",
      "W1113 21:24:46.068000 10344 site-packages\\torch\\_dynamo\\convert_frame.py:1125]     cpp_kernel_proxy = CppKernelProxy(kernel_group)\n",
      "W1113 21:24:46.068000 10344 site-packages\\torch\\_dynamo\\convert_frame.py:1125]                        ^^^^^^^^^^^^^^^^^^^^^^^^^^^^\n",
      "W1113 21:24:46.068000 10344 site-packages\\torch\\_dynamo\\convert_frame.py:1125]   File \"C:\\Users\\makay\\anaconda3\\Lib\\site-packages\\torch\\_inductor\\codegen\\cpp.py\", line 3466, in __init__\n",
      "W1113 21:24:46.068000 10344 site-packages\\torch\\_dynamo\\convert_frame.py:1125]     self.picked_vec_isa: cpu_vec_isa.VecISA = cpu_vec_isa.pick_vec_isa()\n",
      "W1113 21:24:46.068000 10344 site-packages\\torch\\_dynamo\\convert_frame.py:1125]                                               ^^^^^^^^^^^^^^^^^^^^^^^^^^\n",
      "W1113 21:24:46.068000 10344 site-packages\\torch\\_dynamo\\convert_frame.py:1125]   File \"C:\\Users\\makay\\anaconda3\\Lib\\site-packages\\torch\\_inductor\\cpu_vec_isa.py\", line 360, in pick_vec_isa\n",
      "W1113 21:24:46.068000 10344 site-packages\\torch\\_dynamo\\convert_frame.py:1125]     _valid_vec_isa_list: List[VecISA] = valid_vec_isa_list()\n",
      "W1113 21:24:46.068000 10344 site-packages\\torch\\_dynamo\\convert_frame.py:1125]                                         ^^^^^^^^^^^^^^^^^^^^\n",
      "W1113 21:24:46.068000 10344 site-packages\\torch\\_dynamo\\convert_frame.py:1125]   File \"C:\\Users\\makay\\anaconda3\\Lib\\site-packages\\torch\\_inductor\\cpu_vec_isa.py\", line 350, in valid_vec_isa_list\n",
      "W1113 21:24:46.068000 10344 site-packages\\torch\\_dynamo\\convert_frame.py:1125]     if all(flag in _cpu_supported_x86_isa for flag in str(isa).split()) and isa:\n",
      "W1113 21:24:46.068000 10344 site-packages\\torch\\_dynamo\\convert_frame.py:1125]                                                                             ^^^\n",
      "W1113 21:24:46.068000 10344 site-packages\\torch\\_dynamo\\convert_frame.py:1125]   File \"C:\\Users\\makay\\anaconda3\\Lib\\site-packages\\torch\\_inductor\\cpu_vec_isa.py\", line 148, in __bool__\n",
      "W1113 21:24:46.068000 10344 site-packages\\torch\\_dynamo\\convert_frame.py:1125]     return self.check_build(VecISA._avx_code)\n",
      "W1113 21:24:46.068000 10344 site-packages\\torch\\_dynamo\\convert_frame.py:1125]            ^^^^^^^^^^^^^^^^^^^^^^^^^^^^^^^^^^\n",
      "W1113 21:24:46.068000 10344 site-packages\\torch\\_dynamo\\convert_frame.py:1125]   File \"C:\\Users\\makay\\anaconda3\\Lib\\site-packages\\torch\\_inductor\\cpu_vec_isa.py\", line 101, in check_build\n",
      "W1113 21:24:46.068000 10344 site-packages\\torch\\_dynamo\\convert_frame.py:1125]     extra=_get_isa_dry_compile_fingerprint(self._arch_flags),\n",
      "W1113 21:24:46.068000 10344 site-packages\\torch\\_dynamo\\convert_frame.py:1125]           ^^^^^^^^^^^^^^^^^^^^^^^^^^^^^^^^^^^^^^^^^^^^^^^^^^\n",
      "W1113 21:24:46.068000 10344 site-packages\\torch\\_dynamo\\convert_frame.py:1125]   File \"C:\\Users\\makay\\anaconda3\\Lib\\site-packages\\torch\\_inductor\\cpu_vec_isa.py\", line 27, in _get_isa_dry_compile_fingerprint\n",
      "W1113 21:24:46.068000 10344 site-packages\\torch\\_dynamo\\convert_frame.py:1125]     compiler_info = get_compiler_version_info(get_cpp_compiler())\n",
      "W1113 21:24:46.068000 10344 site-packages\\torch\\_dynamo\\convert_frame.py:1125]                                               ^^^^^^^^^^^^^^^^^^\n",
      "W1113 21:24:46.068000 10344 site-packages\\torch\\_dynamo\\convert_frame.py:1125]   File \"C:\\Users\\makay\\anaconda3\\Lib\\site-packages\\torch\\_inductor\\cpp_builder.py\", line 144, in get_cpp_compiler\n",
      "W1113 21:24:46.068000 10344 site-packages\\torch\\_dynamo\\convert_frame.py:1125]     check_compiler_exist_windows(compiler)\n",
      "W1113 21:24:46.068000 10344 site-packages\\torch\\_dynamo\\convert_frame.py:1125]   File \"C:\\Users\\makay\\anaconda3\\Lib\\site-packages\\torch\\_inductor\\cpp_builder.py\", line 135, in check_compiler_exist_windows\n",
      "W1113 21:24:46.068000 10344 site-packages\\torch\\_dynamo\\convert_frame.py:1125]     raise RuntimeError(f\"Compiler: {compiler} is not found.\") from exc\n",
      "W1113 21:24:46.068000 10344 site-packages\\torch\\_dynamo\\convert_frame.py:1125] RuntimeError: Compiler: cl is not found.\n",
      "W1113 21:24:46.068000 10344 site-packages\\torch\\_dynamo\\convert_frame.py:1125] \n",
      "W1113 21:24:46.068000 10344 site-packages\\torch\\_dynamo\\convert_frame.py:1125] The above exception was the direct cause of the following exception:\n",
      "W1113 21:24:46.068000 10344 site-packages\\torch\\_dynamo\\convert_frame.py:1125] \n",
      "W1113 21:24:46.068000 10344 site-packages\\torch\\_dynamo\\convert_frame.py:1125] Traceback (most recent call last):\n",
      "W1113 21:24:46.068000 10344 site-packages\\torch\\_dynamo\\convert_frame.py:1125]   File \"C:\\Users\\makay\\anaconda3\\Lib\\site-packages\\torch\\_dynamo\\convert_frame.py\", line 1064, in __call__\n",
      "W1113 21:24:46.068000 10344 site-packages\\torch\\_dynamo\\convert_frame.py:1125]     result = self._inner_convert(\n",
      "W1113 21:24:46.068000 10344 site-packages\\torch\\_dynamo\\convert_frame.py:1125]              ^^^^^^^^^^^^^^^^^^^^\n",
      "W1113 21:24:46.068000 10344 site-packages\\torch\\_dynamo\\convert_frame.py:1125]   File \"C:\\Users\\makay\\anaconda3\\Lib\\site-packages\\torch\\_dynamo\\convert_frame.py\", line 526, in __call__\n",
      "W1113 21:24:46.068000 10344 site-packages\\torch\\_dynamo\\convert_frame.py:1125]     return _compile(\n",
      "W1113 21:24:46.068000 10344 site-packages\\torch\\_dynamo\\convert_frame.py:1125]            ^^^^^^^^^\n",
      "W1113 21:24:46.068000 10344 site-packages\\torch\\_dynamo\\convert_frame.py:1125]   File \"C:\\Users\\makay\\anaconda3\\Lib\\site-packages\\torch\\_dynamo\\convert_frame.py\", line 924, in _compile\n",
      "W1113 21:24:46.068000 10344 site-packages\\torch\\_dynamo\\convert_frame.py:1125]     guarded_code = compile_inner(code, one_graph, hooks, transform)\n",
      "W1113 21:24:46.068000 10344 site-packages\\torch\\_dynamo\\convert_frame.py:1125]                    ^^^^^^^^^^^^^^^^^^^^^^^^^^^^^^^^^^^^^^^^^^^^^^^^\n",
      "W1113 21:24:46.068000 10344 site-packages\\torch\\_dynamo\\convert_frame.py:1125]   File \"C:\\Users\\makay\\anaconda3\\Lib\\site-packages\\torch\\_dynamo\\convert_frame.py\", line 666, in compile_inner\n",
      "W1113 21:24:46.068000 10344 site-packages\\torch\\_dynamo\\convert_frame.py:1125]     return _compile_inner(code, one_graph, hooks, transform)\n",
      "W1113 21:24:46.068000 10344 site-packages\\torch\\_dynamo\\convert_frame.py:1125]            ^^^^^^^^^^^^^^^^^^^^^^^^^^^^^^^^^^^^^^^^^^^^^^^^^\n",
      "W1113 21:24:46.068000 10344 site-packages\\torch\\_dynamo\\convert_frame.py:1125]   File \"C:\\Users\\makay\\anaconda3\\Lib\\site-packages\\torch\\_utils_internal.py\", line 87, in wrapper_function\n",
      "W1113 21:24:46.068000 10344 site-packages\\torch\\_dynamo\\convert_frame.py:1125]     return function(*args, **kwargs)\n",
      "W1113 21:24:46.068000 10344 site-packages\\torch\\_dynamo\\convert_frame.py:1125]            ^^^^^^^^^^^^^^^^^^^^^^^^^\n",
      "W1113 21:24:46.068000 10344 site-packages\\torch\\_dynamo\\convert_frame.py:1125]   File \"C:\\Users\\makay\\anaconda3\\Lib\\site-packages\\torch\\_dynamo\\convert_frame.py\", line 699, in _compile_inner\n",
      "W1113 21:24:46.068000 10344 site-packages\\torch\\_dynamo\\convert_frame.py:1125]     out_code = transform_code_object(code, transform)\n",
      "W1113 21:24:46.068000 10344 site-packages\\torch\\_dynamo\\convert_frame.py:1125]                ^^^^^^^^^^^^^^^^^^^^^^^^^^^^^^^^^^^^^^\n",
      "W1113 21:24:46.068000 10344 site-packages\\torch\\_dynamo\\convert_frame.py:1125]   File \"C:\\Users\\makay\\anaconda3\\Lib\\site-packages\\torch\\_dynamo\\bytecode_transformation.py\", line 1322, in transform_code_object\n",
      "W1113 21:24:46.068000 10344 site-packages\\torch\\_dynamo\\convert_frame.py:1125]     transformations(instructions, code_options)\n",
      "W1113 21:24:46.068000 10344 site-packages\\torch\\_dynamo\\convert_frame.py:1125]   File \"C:\\Users\\makay\\anaconda3\\Lib\\site-packages\\torch\\_dynamo\\convert_frame.py\", line 219, in _fn\n",
      "W1113 21:24:46.068000 10344 site-packages\\torch\\_dynamo\\convert_frame.py:1125]     return fn(*args, **kwargs)\n",
      "W1113 21:24:46.068000 10344 site-packages\\torch\\_dynamo\\convert_frame.py:1125]            ^^^^^^^^^^^^^^^^^^^\n",
      "W1113 21:24:46.068000 10344 site-packages\\torch\\_dynamo\\convert_frame.py:1125]   File \"C:\\Users\\makay\\anaconda3\\Lib\\site-packages\\torch\\_dynamo\\convert_frame.py\", line 634, in transform\n",
      "W1113 21:24:46.068000 10344 site-packages\\torch\\_dynamo\\convert_frame.py:1125]     tracer.run()\n",
      "W1113 21:24:46.068000 10344 site-packages\\torch\\_dynamo\\convert_frame.py:1125]   File \"C:\\Users\\makay\\anaconda3\\Lib\\site-packages\\torch\\_dynamo\\symbolic_convert.py\", line 2796, in run\n",
      "W1113 21:24:46.068000 10344 site-packages\\torch\\_dynamo\\convert_frame.py:1125]     super().run()\n",
      "W1113 21:24:46.068000 10344 site-packages\\torch\\_dynamo\\convert_frame.py:1125]   File \"C:\\Users\\makay\\anaconda3\\Lib\\site-packages\\torch\\_dynamo\\symbolic_convert.py\", line 983, in run\n",
      "W1113 21:24:46.068000 10344 site-packages\\torch\\_dynamo\\convert_frame.py:1125]     while self.step():\n",
      "W1113 21:24:46.068000 10344 site-packages\\torch\\_dynamo\\convert_frame.py:1125]           ^^^^^^^^^^^\n",
      "W1113 21:24:46.068000 10344 site-packages\\torch\\_dynamo\\convert_frame.py:1125]   File \"C:\\Users\\makay\\anaconda3\\Lib\\site-packages\\torch\\_dynamo\\symbolic_convert.py\", line 895, in step\n",
      "W1113 21:24:46.068000 10344 site-packages\\torch\\_dynamo\\convert_frame.py:1125]     self.dispatch_table[inst.opcode](self, inst)\n",
      "W1113 21:24:46.068000 10344 site-packages\\torch\\_dynamo\\convert_frame.py:1125]   File \"C:\\Users\\makay\\anaconda3\\Lib\\site-packages\\torch\\_dynamo\\symbolic_convert.py\", line 2987, in RETURN_VALUE\n",
      "W1113 21:24:46.068000 10344 site-packages\\torch\\_dynamo\\convert_frame.py:1125]     self._return(inst)\n",
      "W1113 21:24:46.068000 10344 site-packages\\torch\\_dynamo\\convert_frame.py:1125]   File \"C:\\Users\\makay\\anaconda3\\Lib\\site-packages\\torch\\_dynamo\\symbolic_convert.py\", line 2972, in _return\n",
      "W1113 21:24:46.068000 10344 site-packages\\torch\\_dynamo\\convert_frame.py:1125]     self.output.compile_subgraph(\n",
      "W1113 21:24:46.068000 10344 site-packages\\torch\\_dynamo\\convert_frame.py:1125]   File \"C:\\Users\\makay\\anaconda3\\Lib\\site-packages\\torch\\_dynamo\\output_graph.py\", line 1117, in compile_subgraph\n",
      "W1113 21:24:46.068000 10344 site-packages\\torch\\_dynamo\\convert_frame.py:1125]     self.compile_and_call_fx_graph(tx, list(reversed(stack_values)), root)\n",
      "W1113 21:24:46.068000 10344 site-packages\\torch\\_dynamo\\convert_frame.py:1125]   File \"C:\\Users\\makay\\anaconda3\\Lib\\site-packages\\torch\\_dynamo\\output_graph.py\", line 1369, in compile_and_call_fx_graph\n",
      "W1113 21:24:46.068000 10344 site-packages\\torch\\_dynamo\\convert_frame.py:1125]     compiled_fn = self.call_user_compiler(gm)\n",
      "W1113 21:24:46.068000 10344 site-packages\\torch\\_dynamo\\convert_frame.py:1125]                   ^^^^^^^^^^^^^^^^^^^^^^^^^^^\n",
      "W1113 21:24:46.068000 10344 site-packages\\torch\\_dynamo\\convert_frame.py:1125]   File \"C:\\Users\\makay\\anaconda3\\Lib\\site-packages\\torch\\_dynamo\\output_graph.py\", line 1416, in call_user_compiler\n",
      "W1113 21:24:46.068000 10344 site-packages\\torch\\_dynamo\\convert_frame.py:1125]     return self._call_user_compiler(gm)\n",
      "W1113 21:24:46.068000 10344 site-packages\\torch\\_dynamo\\convert_frame.py:1125]            ^^^^^^^^^^^^^^^^^^^^^^^^^^^^\n",
      "W1113 21:24:46.068000 10344 site-packages\\torch\\_dynamo\\convert_frame.py:1125]   File \"C:\\Users\\makay\\anaconda3\\Lib\\site-packages\\torch\\_dynamo\\output_graph.py\", line 1465, in _call_user_compiler\n",
      "W1113 21:24:46.068000 10344 site-packages\\torch\\_dynamo\\convert_frame.py:1125]     raise BackendCompilerFailed(self.compiler_fn, e) from e\n",
      "W1113 21:24:46.068000 10344 site-packages\\torch\\_dynamo\\convert_frame.py:1125] torch._dynamo.exc.BackendCompilerFailed: backend='inductor' raised:\n",
      "W1113 21:24:46.068000 10344 site-packages\\torch\\_dynamo\\convert_frame.py:1125] RuntimeError: Compiler: cl is not found.\n",
      "W1113 21:24:46.068000 10344 site-packages\\torch\\_dynamo\\convert_frame.py:1125] \n",
      "W1113 21:24:46.068000 10344 site-packages\\torch\\_dynamo\\convert_frame.py:1125] Set TORCH_LOGS=\"+dynamo\" and TORCHDYNAMO_VERBOSE=1 for more information\n",
      "W1113 21:24:46.068000 10344 site-packages\\torch\\_dynamo\\convert_frame.py:1125] \n",
      "W1113 21:24:46.068000 10344 site-packages\\torch\\_dynamo\\convert_frame.py:1125] Traceback (most recent call last):\n",
      "W1113 21:24:46.068000 10344 site-packages\\torch\\_dynamo\\convert_frame.py:1125]   File \"C:\\Users\\makay\\anaconda3\\Lib\\site-packages\\torch\\_inductor\\cpp_builder.py\", line 130, in check_compiler_exist_windows\n",
      "W1113 21:24:46.068000 10344 site-packages\\torch\\_dynamo\\convert_frame.py:1125]     subprocess.check_output([compiler, \"/help\"], stderr=subprocess.STDOUT)\n",
      "W1113 21:24:46.068000 10344 site-packages\\torch\\_dynamo\\convert_frame.py:1125]   File \"C:\\Users\\makay\\anaconda3\\Lib\\subprocess.py\", line 466, in check_output\n",
      "W1113 21:24:46.068000 10344 site-packages\\torch\\_dynamo\\convert_frame.py:1125]     return run(*popenargs, stdout=PIPE, timeout=timeout, check=True,\n",
      "W1113 21:24:46.068000 10344 site-packages\\torch\\_dynamo\\convert_frame.py:1125]            ^^^^^^^^^^^^^^^^^^^^^^^^^^^^^^^^^^^^^^^^^^^^^^^^^^^^^^^^^\n",
      "W1113 21:24:46.068000 10344 site-packages\\torch\\_dynamo\\convert_frame.py:1125]   File \"C:\\Users\\makay\\anaconda3\\Lib\\subprocess.py\", line 548, in run\n",
      "W1113 21:24:46.068000 10344 site-packages\\torch\\_dynamo\\convert_frame.py:1125]     with Popen(*popenargs, **kwargs) as process:\n",
      "W1113 21:24:46.068000 10344 site-packages\\torch\\_dynamo\\convert_frame.py:1125]          ^^^^^^^^^^^^^^^^^^^^^^^^^^^\n",
      "W1113 21:24:46.068000 10344 site-packages\\torch\\_dynamo\\convert_frame.py:1125]   File \"C:\\Users\\makay\\anaconda3\\Lib\\subprocess.py\", line 1026, in __init__\n",
      "W1113 21:24:46.068000 10344 site-packages\\torch\\_dynamo\\convert_frame.py:1125]     self._execute_child(args, executable, preexec_fn, close_fds,\n",
      "W1113 21:24:46.068000 10344 site-packages\\torch\\_dynamo\\convert_frame.py:1125]   File \"C:\\Users\\makay\\anaconda3\\Lib\\subprocess.py\", line 1538, in _execute_child\n",
      "W1113 21:24:46.068000 10344 site-packages\\torch\\_dynamo\\convert_frame.py:1125]     hp, ht, pid, tid = _winapi.CreateProcess(executable, args,\n",
      "W1113 21:24:46.068000 10344 site-packages\\torch\\_dynamo\\convert_frame.py:1125]                        ^^^^^^^^^^^^^^^^^^^^^^^^^^^^^^^^^^^^^^^\n",
      "W1113 21:24:46.068000 10344 site-packages\\torch\\_dynamo\\convert_frame.py:1125] FileNotFoundError: [WinError 2] The system cannot find the file specified\n",
      "W1113 21:24:46.068000 10344 site-packages\\torch\\_dynamo\\convert_frame.py:1125] \n",
      "W1113 21:24:46.068000 10344 site-packages\\torch\\_dynamo\\convert_frame.py:1125] The above exception was the direct cause of the following exception:\n",
      "W1113 21:24:46.068000 10344 site-packages\\torch\\_dynamo\\convert_frame.py:1125] \n",
      "W1113 21:24:46.068000 10344 site-packages\\torch\\_dynamo\\convert_frame.py:1125] Traceback (most recent call last):\n",
      "W1113 21:24:46.068000 10344 site-packages\\torch\\_dynamo\\convert_frame.py:1125]   File \"C:\\Users\\makay\\anaconda3\\Lib\\site-packages\\torch\\_dynamo\\output_graph.py\", line 1446, in _call_user_compiler\n",
      "W1113 21:24:46.068000 10344 site-packages\\torch\\_dynamo\\convert_frame.py:1125]     compiled_fn = compiler_fn(gm, self.example_inputs())\n",
      "W1113 21:24:46.068000 10344 site-packages\\torch\\_dynamo\\convert_frame.py:1125]                   ^^^^^^^^^^^^^^^^^^^^^^^^^^^^^^^^^^^^^^\n",
      "W1113 21:24:46.068000 10344 site-packages\\torch\\_dynamo\\convert_frame.py:1125]   File \"C:\\Users\\makay\\anaconda3\\Lib\\site-packages\\torch\\_dynamo\\repro\\after_dynamo.py\", line 129, in __call__\n",
      "W1113 21:24:46.068000 10344 site-packages\\torch\\_dynamo\\convert_frame.py:1125]     compiled_gm = compiler_fn(gm, example_inputs)\n",
      "W1113 21:24:46.068000 10344 site-packages\\torch\\_dynamo\\convert_frame.py:1125]                   ^^^^^^^^^^^^^^^^^^^^^^^^^^^^^^^\n",
      "W1113 21:24:46.068000 10344 site-packages\\torch\\_dynamo\\convert_frame.py:1125]   File \"C:\\Users\\makay\\anaconda3\\Lib\\site-packages\\torch\\__init__.py\", line 2234, in __call__\n",
      "W1113 21:24:46.068000 10344 site-packages\\torch\\_dynamo\\convert_frame.py:1125]     return compile_fx(model_, inputs_, config_patches=self.config)\n",
      "W1113 21:24:46.068000 10344 site-packages\\torch\\_dynamo\\convert_frame.py:1125]            ^^^^^^^^^^^^^^^^^^^^^^^^^^^^^^^^^^^^^^^^^^^^^^^^^^^^^^^\n",
      "W1113 21:24:46.068000 10344 site-packages\\torch\\_dynamo\\convert_frame.py:1125]   File \"C:\\Users\\makay\\anaconda3\\Lib\\site-packages\\torch\\_inductor\\compile_fx.py\", line 1521, in compile_fx\n",
      "W1113 21:24:46.068000 10344 site-packages\\torch\\_dynamo\\convert_frame.py:1125]     return aot_autograd(\n",
      "W1113 21:24:46.068000 10344 site-packages\\torch\\_dynamo\\convert_frame.py:1125]            ^^^^^^^^^^^^^\n",
      "W1113 21:24:46.068000 10344 site-packages\\torch\\_dynamo\\convert_frame.py:1125]   File \"C:\\Users\\makay\\anaconda3\\Lib\\site-packages\\torch\\_dynamo\\backends\\common.py\", line 72, in __call__\n",
      "W1113 21:24:46.068000 10344 site-packages\\torch\\_dynamo\\convert_frame.py:1125]     cg = aot_module_simplified(gm, example_inputs, **self.kwargs)\n",
      "W1113 21:24:46.068000 10344 site-packages\\torch\\_dynamo\\convert_frame.py:1125]          ^^^^^^^^^^^^^^^^^^^^^^^^^^^^^^^^^^^^^^^^^^^^^^^^^^^^^^^^\n",
      "W1113 21:24:46.068000 10344 site-packages\\torch\\_dynamo\\convert_frame.py:1125]   File \"C:\\Users\\makay\\anaconda3\\Lib\\site-packages\\torch\\_functorch\\aot_autograd.py\", line 1071, in aot_module_simplified\n",
      "W1113 21:24:46.068000 10344 site-packages\\torch\\_dynamo\\convert_frame.py:1125]     compiled_fn = dispatch_and_compile()\n",
      "W1113 21:24:46.068000 10344 site-packages\\torch\\_dynamo\\convert_frame.py:1125]                   ^^^^^^^^^^^^^^^^^^^^^^\n",
      "W1113 21:24:46.068000 10344 site-packages\\torch\\_dynamo\\convert_frame.py:1125]   File \"C:\\Users\\makay\\anaconda3\\Lib\\site-packages\\torch\\_functorch\\aot_autograd.py\", line 1056, in dispatch_and_compile\n",
      "W1113 21:24:46.068000 10344 site-packages\\torch\\_dynamo\\convert_frame.py:1125]     compiled_fn, _ = create_aot_dispatcher_function(\n",
      "W1113 21:24:46.068000 10344 site-packages\\torch\\_dynamo\\convert_frame.py:1125]                      ^^^^^^^^^^^^^^^^^^^^^^^^^^^^^^^\n",
      "W1113 21:24:46.068000 10344 site-packages\\torch\\_dynamo\\convert_frame.py:1125]   File \"C:\\Users\\makay\\anaconda3\\Lib\\site-packages\\torch\\_functorch\\aot_autograd.py\", line 522, in create_aot_dispatcher_function\n",
      "W1113 21:24:46.068000 10344 site-packages\\torch\\_dynamo\\convert_frame.py:1125]     return _create_aot_dispatcher_function(\n",
      "W1113 21:24:46.068000 10344 site-packages\\torch\\_dynamo\\convert_frame.py:1125]            ^^^^^^^^^^^^^^^^^^^^^^^^^^^^^^^^\n",
      "W1113 21:24:46.068000 10344 site-packages\\torch\\_dynamo\\convert_frame.py:1125]   File \"C:\\Users\\makay\\anaconda3\\Lib\\site-packages\\torch\\_functorch\\aot_autograd.py\", line 759, in _create_aot_dispatcher_function\n",
      "W1113 21:24:46.068000 10344 site-packages\\torch\\_dynamo\\convert_frame.py:1125]     compiled_fn, fw_metadata = compiler_fn(\n",
      "W1113 21:24:46.068000 10344 site-packages\\torch\\_dynamo\\convert_frame.py:1125]                                ^^^^^^^^^^^^\n",
      "W1113 21:24:46.068000 10344 site-packages\\torch\\_dynamo\\convert_frame.py:1125]   File \"C:\\Users\\makay\\anaconda3\\Lib\\site-packages\\torch\\_functorch\\_aot_autograd\\jit_compile_runtime_wrappers.py\", line 588, in aot_dispatch_autograd\n",
      "W1113 21:24:46.068000 10344 site-packages\\torch\\_dynamo\\convert_frame.py:1125]     compiled_fw_func = aot_config.fw_compiler(fw_module, adjusted_flat_args)\n",
      "W1113 21:24:46.068000 10344 site-packages\\torch\\_dynamo\\convert_frame.py:1125]                        ^^^^^^^^^^^^^^^^^^^^^^^^^^^^^^^^^^^^^^^^^^^^^^^^^^^^^\n",
      "W1113 21:24:46.068000 10344 site-packages\\torch\\_dynamo\\convert_frame.py:1125]   File \"C:\\Users\\makay\\anaconda3\\Lib\\site-packages\\torch\\_inductor\\compile_fx.py\", line 1350, in fw_compiler_base\n",
      "W1113 21:24:46.068000 10344 site-packages\\torch\\_dynamo\\convert_frame.py:1125]     return _fw_compiler_base(model, example_inputs, is_inference)\n",
      "W1113 21:24:46.068000 10344 site-packages\\torch\\_dynamo\\convert_frame.py:1125]            ^^^^^^^^^^^^^^^^^^^^^^^^^^^^^^^^^^^^^^^^^^^^^^^^^^^^^^\n",
      "W1113 21:24:46.068000 10344 site-packages\\torch\\_dynamo\\convert_frame.py:1125]   File \"C:\\Users\\makay\\anaconda3\\Lib\\site-packages\\torch\\_inductor\\compile_fx.py\", line 1421, in _fw_compiler_base\n",
      "W1113 21:24:46.068000 10344 site-packages\\torch\\_dynamo\\convert_frame.py:1125]     return inner_compile(\n",
      "W1113 21:24:46.068000 10344 site-packages\\torch\\_dynamo\\convert_frame.py:1125]            ^^^^^^^^^^^^^^\n",
      "W1113 21:24:46.068000 10344 site-packages\\torch\\_dynamo\\convert_frame.py:1125]   File \"C:\\Users\\makay\\anaconda3\\Lib\\site-packages\\torch\\_inductor\\compile_fx.py\", line 475, in compile_fx_inner\n",
      "W1113 21:24:46.068000 10344 site-packages\\torch\\_dynamo\\convert_frame.py:1125]     return wrap_compiler_debug(_compile_fx_inner, compiler_name=\"inductor\")(\n",
      "W1113 21:24:46.068000 10344 site-packages\\torch\\_dynamo\\convert_frame.py:1125]            ^^^^^^^^^^^^^^^^^^^^^^^^^^^^^^^^^^^^^^^^^^^^^^^^^^^^^^^^^^^^^^^^^\n",
      "W1113 21:24:46.068000 10344 site-packages\\torch\\_dynamo\\convert_frame.py:1125]   File \"C:\\Users\\makay\\anaconda3\\Lib\\site-packages\\torch\\_dynamo\\repro\\after_aot.py\", line 85, in debug_wrapper\n",
      "W1113 21:24:46.068000 10344 site-packages\\torch\\_dynamo\\convert_frame.py:1125]     inner_compiled_fn = compiler_fn(gm, example_inputs)\n",
      "W1113 21:24:46.068000 10344 site-packages\\torch\\_dynamo\\convert_frame.py:1125]                         ^^^^^^^^^^^^^^^^^^^^^^^^^^^^^^^\n",
      "W1113 21:24:46.068000 10344 site-packages\\torch\\_dynamo\\convert_frame.py:1125]   File \"C:\\Users\\makay\\anaconda3\\Lib\\site-packages\\torch\\_inductor\\compile_fx.py\", line 661, in _compile_fx_inner\n",
      "W1113 21:24:46.068000 10344 site-packages\\torch\\_dynamo\\convert_frame.py:1125]     compiled_graph = FxGraphCache.load(\n",
      "W1113 21:24:46.068000 10344 site-packages\\torch\\_dynamo\\convert_frame.py:1125]                      ^^^^^^^^^^^^^^^^^^\n",
      "W1113 21:24:46.068000 10344 site-packages\\torch\\_dynamo\\convert_frame.py:1125]   File \"C:\\Users\\makay\\anaconda3\\Lib\\site-packages\\torch\\_inductor\\codecache.py\", line 1334, in load\n",
      "W1113 21:24:46.068000 10344 site-packages\\torch\\_dynamo\\convert_frame.py:1125]     compiled_graph = compile_fx_fn(\n",
      "W1113 21:24:46.068000 10344 site-packages\\torch\\_dynamo\\convert_frame.py:1125]                      ^^^^^^^^^^^^^^\n",
      "W1113 21:24:46.068000 10344 site-packages\\torch\\_dynamo\\convert_frame.py:1125]   File \"C:\\Users\\makay\\anaconda3\\Lib\\site-packages\\torch\\_inductor\\compile_fx.py\", line 570, in codegen_and_compile\n",
      "W1113 21:24:46.068000 10344 site-packages\\torch\\_dynamo\\convert_frame.py:1125]     compiled_graph = fx_codegen_and_compile(gm, example_inputs, **fx_kwargs)\n",
      "W1113 21:24:46.068000 10344 site-packages\\torch\\_dynamo\\convert_frame.py:1125]                      ^^^^^^^^^^^^^^^^^^^^^^^^^^^^^^^^^^^^^^^^^^^^^^^^^^^^^^^\n",
      "W1113 21:24:46.068000 10344 site-packages\\torch\\_dynamo\\convert_frame.py:1125]   File \"C:\\Users\\makay\\anaconda3\\Lib\\site-packages\\torch\\_inductor\\compile_fx.py\", line 878, in fx_codegen_and_compile\n",
      "W1113 21:24:46.068000 10344 site-packages\\torch\\_dynamo\\convert_frame.py:1125]     compiled_fn = graph.compile_to_fn()\n",
      "W1113 21:24:46.068000 10344 site-packages\\torch\\_dynamo\\convert_frame.py:1125]                   ^^^^^^^^^^^^^^^^^^^^^\n",
      "W1113 21:24:46.068000 10344 site-packages\\torch\\_dynamo\\convert_frame.py:1125]   File \"C:\\Users\\makay\\anaconda3\\Lib\\site-packages\\torch\\_inductor\\graph.py\", line 1913, in compile_to_fn\n",
      "W1113 21:24:46.068000 10344 site-packages\\torch\\_dynamo\\convert_frame.py:1125]     return self.compile_to_module().call\n",
      "W1113 21:24:46.068000 10344 site-packages\\torch\\_dynamo\\convert_frame.py:1125]            ^^^^^^^^^^^^^^^^^^^^^^^^\n",
      "W1113 21:24:46.068000 10344 site-packages\\torch\\_dynamo\\convert_frame.py:1125]   File \"C:\\Users\\makay\\anaconda3\\Lib\\site-packages\\torch\\_inductor\\graph.py\", line 1839, in compile_to_module\n",
      "W1113 21:24:46.068000 10344 site-packages\\torch\\_dynamo\\convert_frame.py:1125]     return self._compile_to_module()\n",
      "W1113 21:24:46.068000 10344 site-packages\\torch\\_dynamo\\convert_frame.py:1125]            ^^^^^^^^^^^^^^^^^^^^^^^^^\n",
      "W1113 21:24:46.068000 10344 site-packages\\torch\\_dynamo\\convert_frame.py:1125]   File \"C:\\Users\\makay\\anaconda3\\Lib\\site-packages\\torch\\_inductor\\graph.py\", line 1845, in _compile_to_module\n",
      "W1113 21:24:46.068000 10344 site-packages\\torch\\_dynamo\\convert_frame.py:1125]     self.codegen_with_cpp_wrapper() if self.cpp_wrapper else self.codegen()\n",
      "W1113 21:24:46.068000 10344 site-packages\\torch\\_dynamo\\convert_frame.py:1125]                                                              ^^^^^^^^^^^^^^\n",
      "W1113 21:24:46.068000 10344 site-packages\\torch\\_dynamo\\convert_frame.py:1125]   File \"C:\\Users\\makay\\anaconda3\\Lib\\site-packages\\torch\\_inductor\\graph.py\", line 1784, in codegen\n",
      "W1113 21:24:46.068000 10344 site-packages\\torch\\_dynamo\\convert_frame.py:1125]     self.scheduler.codegen()\n",
      "W1113 21:24:46.068000 10344 site-packages\\torch\\_dynamo\\convert_frame.py:1125]   File \"C:\\Users\\makay\\anaconda3\\Lib\\site-packages\\torch\\_inductor\\scheduler.py\", line 3383, in codegen\n",
      "W1113 21:24:46.068000 10344 site-packages\\torch\\_dynamo\\convert_frame.py:1125]     return self._codegen()\n",
      "W1113 21:24:46.068000 10344 site-packages\\torch\\_dynamo\\convert_frame.py:1125]            ^^^^^^^^^^^^^^^\n",
      "W1113 21:24:46.068000 10344 site-packages\\torch\\_dynamo\\convert_frame.py:1125]   File \"C:\\Users\\makay\\anaconda3\\Lib\\site-packages\\torch\\_inductor\\scheduler.py\", line 3461, in _codegen\n",
      "W1113 21:24:46.068000 10344 site-packages\\torch\\_dynamo\\convert_frame.py:1125]     self.get_backend(device).codegen_node(node)\n",
      "W1113 21:24:46.068000 10344 site-packages\\torch\\_dynamo\\convert_frame.py:1125]   File \"C:\\Users\\makay\\anaconda3\\Lib\\site-packages\\torch\\_inductor\\codegen\\cpp.py\", line 4468, in codegen_node\n",
      "W1113 21:24:46.068000 10344 site-packages\\torch\\_dynamo\\convert_frame.py:1125]     cpp_kernel_proxy = CppKernelProxy(kernel_group)\n",
      "W1113 21:24:46.068000 10344 site-packages\\torch\\_dynamo\\convert_frame.py:1125]                        ^^^^^^^^^^^^^^^^^^^^^^^^^^^^\n",
      "W1113 21:24:46.068000 10344 site-packages\\torch\\_dynamo\\convert_frame.py:1125]   File \"C:\\Users\\makay\\anaconda3\\Lib\\site-packages\\torch\\_inductor\\codegen\\cpp.py\", line 3466, in __init__\n",
      "W1113 21:24:46.068000 10344 site-packages\\torch\\_dynamo\\convert_frame.py:1125]     self.picked_vec_isa: cpu_vec_isa.VecISA = cpu_vec_isa.pick_vec_isa()\n",
      "W1113 21:24:46.068000 10344 site-packages\\torch\\_dynamo\\convert_frame.py:1125]                                               ^^^^^^^^^^^^^^^^^^^^^^^^^^\n",
      "W1113 21:24:46.068000 10344 site-packages\\torch\\_dynamo\\convert_frame.py:1125]   File \"C:\\Users\\makay\\anaconda3\\Lib\\site-packages\\torch\\_inductor\\cpu_vec_isa.py\", line 360, in pick_vec_isa\n",
      "W1113 21:24:46.068000 10344 site-packages\\torch\\_dynamo\\convert_frame.py:1125]     _valid_vec_isa_list: List[VecISA] = valid_vec_isa_list()\n",
      "W1113 21:24:46.068000 10344 site-packages\\torch\\_dynamo\\convert_frame.py:1125]                                         ^^^^^^^^^^^^^^^^^^^^\n",
      "W1113 21:24:46.068000 10344 site-packages\\torch\\_dynamo\\convert_frame.py:1125]   File \"C:\\Users\\makay\\anaconda3\\Lib\\site-packages\\torch\\_inductor\\cpu_vec_isa.py\", line 350, in valid_vec_isa_list\n",
      "W1113 21:24:46.068000 10344 site-packages\\torch\\_dynamo\\convert_frame.py:1125]     if all(flag in _cpu_supported_x86_isa for flag in str(isa).split()) and isa:\n",
      "W1113 21:24:46.068000 10344 site-packages\\torch\\_dynamo\\convert_frame.py:1125]                                                                             ^^^\n",
      "W1113 21:24:46.068000 10344 site-packages\\torch\\_dynamo\\convert_frame.py:1125]   File \"C:\\Users\\makay\\anaconda3\\Lib\\site-packages\\torch\\_inductor\\cpu_vec_isa.py\", line 148, in __bool__\n",
      "W1113 21:24:46.068000 10344 site-packages\\torch\\_dynamo\\convert_frame.py:1125]     return self.check_build(VecISA._avx_code)\n",
      "W1113 21:24:46.068000 10344 site-packages\\torch\\_dynamo\\convert_frame.py:1125]            ^^^^^^^^^^^^^^^^^^^^^^^^^^^^^^^^^^\n",
      "W1113 21:24:46.068000 10344 site-packages\\torch\\_dynamo\\convert_frame.py:1125]   File \"C:\\Users\\makay\\anaconda3\\Lib\\site-packages\\torch\\_inductor\\cpu_vec_isa.py\", line 101, in check_build\n",
      "W1113 21:24:46.068000 10344 site-packages\\torch\\_dynamo\\convert_frame.py:1125]     extra=_get_isa_dry_compile_fingerprint(self._arch_flags),\n",
      "W1113 21:24:46.068000 10344 site-packages\\torch\\_dynamo\\convert_frame.py:1125]           ^^^^^^^^^^^^^^^^^^^^^^^^^^^^^^^^^^^^^^^^^^^^^^^^^^\n",
      "W1113 21:24:46.068000 10344 site-packages\\torch\\_dynamo\\convert_frame.py:1125]   File \"C:\\Users\\makay\\anaconda3\\Lib\\site-packages\\torch\\_inductor\\cpu_vec_isa.py\", line 27, in _get_isa_dry_compile_fingerprint\n",
      "W1113 21:24:46.068000 10344 site-packages\\torch\\_dynamo\\convert_frame.py:1125]     compiler_info = get_compiler_version_info(get_cpp_compiler())\n",
      "W1113 21:24:46.068000 10344 site-packages\\torch\\_dynamo\\convert_frame.py:1125]                                               ^^^^^^^^^^^^^^^^^^\n",
      "W1113 21:24:46.068000 10344 site-packages\\torch\\_dynamo\\convert_frame.py:1125]   File \"C:\\Users\\makay\\anaconda3\\Lib\\site-packages\\torch\\_inductor\\cpp_builder.py\", line 144, in get_cpp_compiler\n",
      "W1113 21:24:46.068000 10344 site-packages\\torch\\_dynamo\\convert_frame.py:1125]     check_compiler_exist_windows(compiler)\n",
      "W1113 21:24:46.068000 10344 site-packages\\torch\\_dynamo\\convert_frame.py:1125]   File \"C:\\Users\\makay\\anaconda3\\Lib\\site-packages\\torch\\_inductor\\cpp_builder.py\", line 135, in check_compiler_exist_windows\n",
      "W1113 21:24:46.068000 10344 site-packages\\torch\\_dynamo\\convert_frame.py:1125]     raise RuntimeError(f\"Compiler: {compiler} is not found.\") from exc\n",
      "W1113 21:24:46.068000 10344 site-packages\\torch\\_dynamo\\convert_frame.py:1125] RuntimeError: Compiler: cl is not found.\n",
      "W1113 21:24:46.068000 10344 site-packages\\torch\\_dynamo\\convert_frame.py:1125] \n",
      "W1113 21:24:46.068000 10344 site-packages\\torch\\_dynamo\\convert_frame.py:1125] The above exception was the direct cause of the following exception:\n",
      "W1113 21:24:46.068000 10344 site-packages\\torch\\_dynamo\\convert_frame.py:1125] \n",
      "W1113 21:24:46.068000 10344 site-packages\\torch\\_dynamo\\convert_frame.py:1125] Traceback (most recent call last):\n",
      "W1113 21:24:46.068000 10344 site-packages\\torch\\_dynamo\\convert_frame.py:1125]   File \"C:\\Users\\makay\\anaconda3\\Lib\\site-packages\\torch\\_dynamo\\convert_frame.py\", line 1064, in __call__\n",
      "W1113 21:24:46.068000 10344 site-packages\\torch\\_dynamo\\convert_frame.py:1125]     result = self._inner_convert(\n",
      "W1113 21:24:46.068000 10344 site-packages\\torch\\_dynamo\\convert_frame.py:1125]              ^^^^^^^^^^^^^^^^^^^^\n",
      "W1113 21:24:46.068000 10344 site-packages\\torch\\_dynamo\\convert_frame.py:1125]   File \"C:\\Users\\makay\\anaconda3\\Lib\\site-packages\\torch\\_dynamo\\convert_frame.py\", line 526, in __call__\n",
      "W1113 21:24:46.068000 10344 site-packages\\torch\\_dynamo\\convert_frame.py:1125]     return _compile(\n",
      "W1113 21:24:46.068000 10344 site-packages\\torch\\_dynamo\\convert_frame.py:1125]            ^^^^^^^^^\n",
      "W1113 21:24:46.068000 10344 site-packages\\torch\\_dynamo\\convert_frame.py:1125]   File \"C:\\Users\\makay\\anaconda3\\Lib\\site-packages\\torch\\_dynamo\\convert_frame.py\", line 924, in _compile\n",
      "W1113 21:24:46.068000 10344 site-packages\\torch\\_dynamo\\convert_frame.py:1125]     guarded_code = compile_inner(code, one_graph, hooks, transform)\n",
      "W1113 21:24:46.068000 10344 site-packages\\torch\\_dynamo\\convert_frame.py:1125]                    ^^^^^^^^^^^^^^^^^^^^^^^^^^^^^^^^^^^^^^^^^^^^^^^^\n",
      "W1113 21:24:46.068000 10344 site-packages\\torch\\_dynamo\\convert_frame.py:1125]   File \"C:\\Users\\makay\\anaconda3\\Lib\\site-packages\\torch\\_dynamo\\convert_frame.py\", line 666, in compile_inner\n",
      "W1113 21:24:46.068000 10344 site-packages\\torch\\_dynamo\\convert_frame.py:1125]     return _compile_inner(code, one_graph, hooks, transform)\n",
      "W1113 21:24:46.068000 10344 site-packages\\torch\\_dynamo\\convert_frame.py:1125]            ^^^^^^^^^^^^^^^^^^^^^^^^^^^^^^^^^^^^^^^^^^^^^^^^^\n",
      "W1113 21:24:46.068000 10344 site-packages\\torch\\_dynamo\\convert_frame.py:1125]   File \"C:\\Users\\makay\\anaconda3\\Lib\\site-packages\\torch\\_utils_internal.py\", line 87, in wrapper_function\n",
      "W1113 21:24:46.068000 10344 site-packages\\torch\\_dynamo\\convert_frame.py:1125]     return function(*args, **kwargs)\n",
      "W1113 21:24:46.068000 10344 site-packages\\torch\\_dynamo\\convert_frame.py:1125]            ^^^^^^^^^^^^^^^^^^^^^^^^^\n",
      "W1113 21:24:46.068000 10344 site-packages\\torch\\_dynamo\\convert_frame.py:1125]   File \"C:\\Users\\makay\\anaconda3\\Lib\\site-packages\\torch\\_dynamo\\convert_frame.py\", line 699, in _compile_inner\n",
      "W1113 21:24:46.068000 10344 site-packages\\torch\\_dynamo\\convert_frame.py:1125]     out_code = transform_code_object(code, transform)\n",
      "W1113 21:24:46.068000 10344 site-packages\\torch\\_dynamo\\convert_frame.py:1125]                ^^^^^^^^^^^^^^^^^^^^^^^^^^^^^^^^^^^^^^\n",
      "W1113 21:24:46.068000 10344 site-packages\\torch\\_dynamo\\convert_frame.py:1125]   File \"C:\\Users\\makay\\anaconda3\\Lib\\site-packages\\torch\\_dynamo\\bytecode_transformation.py\", line 1322, in transform_code_object\n",
      "W1113 21:24:46.068000 10344 site-packages\\torch\\_dynamo\\convert_frame.py:1125]     transformations(instructions, code_options)\n",
      "W1113 21:24:46.068000 10344 site-packages\\torch\\_dynamo\\convert_frame.py:1125]   File \"C:\\Users\\makay\\anaconda3\\Lib\\site-packages\\torch\\_dynamo\\convert_frame.py\", line 219, in _fn\n",
      "W1113 21:24:46.068000 10344 site-packages\\torch\\_dynamo\\convert_frame.py:1125]     return fn(*args, **kwargs)\n",
      "W1113 21:24:46.068000 10344 site-packages\\torch\\_dynamo\\convert_frame.py:1125]            ^^^^^^^^^^^^^^^^^^^\n",
      "W1113 21:24:46.068000 10344 site-packages\\torch\\_dynamo\\convert_frame.py:1125]   File \"C:\\Users\\makay\\anaconda3\\Lib\\site-packages\\torch\\_dynamo\\convert_frame.py\", line 634, in transform\n",
      "W1113 21:24:46.068000 10344 site-packages\\torch\\_dynamo\\convert_frame.py:1125]     tracer.run()\n",
      "W1113 21:24:46.068000 10344 site-packages\\torch\\_dynamo\\convert_frame.py:1125]   File \"C:\\Users\\makay\\anaconda3\\Lib\\site-packages\\torch\\_dynamo\\symbolic_convert.py\", line 2796, in run\n",
      "W1113 21:24:46.068000 10344 site-packages\\torch\\_dynamo\\convert_frame.py:1125]     super().run()\n",
      "W1113 21:24:46.068000 10344 site-packages\\torch\\_dynamo\\convert_frame.py:1125]   File \"C:\\Users\\makay\\anaconda3\\Lib\\site-packages\\torch\\_dynamo\\symbolic_convert.py\", line 983, in run\n",
      "W1113 21:24:46.068000 10344 site-packages\\torch\\_dynamo\\convert_frame.py:1125]     while self.step():\n",
      "W1113 21:24:46.068000 10344 site-packages\\torch\\_dynamo\\convert_frame.py:1125]           ^^^^^^^^^^^\n",
      "W1113 21:24:46.068000 10344 site-packages\\torch\\_dynamo\\convert_frame.py:1125]   File \"C:\\Users\\makay\\anaconda3\\Lib\\site-packages\\torch\\_dynamo\\symbolic_convert.py\", line 895, in step\n",
      "W1113 21:24:46.068000 10344 site-packages\\torch\\_dynamo\\convert_frame.py:1125]     self.dispatch_table[inst.opcode](self, inst)\n",
      "W1113 21:24:46.068000 10344 site-packages\\torch\\_dynamo\\convert_frame.py:1125]   File \"C:\\Users\\makay\\anaconda3\\Lib\\site-packages\\torch\\_dynamo\\symbolic_convert.py\", line 2987, in RETURN_VALUE\n",
      "W1113 21:24:46.068000 10344 site-packages\\torch\\_dynamo\\convert_frame.py:1125]     self._return(inst)\n",
      "W1113 21:24:46.068000 10344 site-packages\\torch\\_dynamo\\convert_frame.py:1125]   File \"C:\\Users\\makay\\anaconda3\\Lib\\site-packages\\torch\\_dynamo\\symbolic_convert.py\", line 2972, in _return\n",
      "W1113 21:24:46.068000 10344 site-packages\\torch\\_dynamo\\convert_frame.py:1125]     self.output.compile_subgraph(\n",
      "W1113 21:24:46.068000 10344 site-packages\\torch\\_dynamo\\convert_frame.py:1125]   File \"C:\\Users\\makay\\anaconda3\\Lib\\site-packages\\torch\\_dynamo\\output_graph.py\", line 1117, in compile_subgraph\n",
      "W1113 21:24:46.068000 10344 site-packages\\torch\\_dynamo\\convert_frame.py:1125]     self.compile_and_call_fx_graph(tx, list(reversed(stack_values)), root)\n",
      "W1113 21:24:46.068000 10344 site-packages\\torch\\_dynamo\\convert_frame.py:1125]   File \"C:\\Users\\makay\\anaconda3\\Lib\\site-packages\\torch\\_dynamo\\output_graph.py\", line 1369, in compile_and_call_fx_graph\n",
      "W1113 21:24:46.068000 10344 site-packages\\torch\\_dynamo\\convert_frame.py:1125]     compiled_fn = self.call_user_compiler(gm)\n",
      "W1113 21:24:46.068000 10344 site-packages\\torch\\_dynamo\\convert_frame.py:1125]                   ^^^^^^^^^^^^^^^^^^^^^^^^^^^\n",
      "W1113 21:24:46.068000 10344 site-packages\\torch\\_dynamo\\convert_frame.py:1125]   File \"C:\\Users\\makay\\anaconda3\\Lib\\site-packages\\torch\\_dynamo\\output_graph.py\", line 1416, in call_user_compiler\n",
      "W1113 21:24:46.068000 10344 site-packages\\torch\\_dynamo\\convert_frame.py:1125]     return self._call_user_compiler(gm)\n",
      "W1113 21:24:46.068000 10344 site-packages\\torch\\_dynamo\\convert_frame.py:1125]            ^^^^^^^^^^^^^^^^^^^^^^^^^^^^\n",
      "W1113 21:24:46.068000 10344 site-packages\\torch\\_dynamo\\convert_frame.py:1125]   File \"C:\\Users\\makay\\anaconda3\\Lib\\site-packages\\torch\\_dynamo\\output_graph.py\", line 1465, in _call_user_compiler\n",
      "W1113 21:24:46.068000 10344 site-packages\\torch\\_dynamo\\convert_frame.py:1125]     raise BackendCompilerFailed(self.compiler_fn, e) from e\n",
      "W1113 21:24:46.068000 10344 site-packages\\torch\\_dynamo\\convert_frame.py:1125] torch._dynamo.exc.BackendCompilerFailed: backend='inductor' raised:\n",
      "W1113 21:24:46.068000 10344 site-packages\\torch\\_dynamo\\convert_frame.py:1125] RuntimeError: Compiler: cl is not found.\n",
      "W1113 21:24:46.068000 10344 site-packages\\torch\\_dynamo\\convert_frame.py:1125] \n",
      "W1113 21:24:46.068000 10344 site-packages\\torch\\_dynamo\\convert_frame.py:1125] Set TORCH_LOGS=\"+dynamo\" and TORCHDYNAMO_VERBOSE=1 for more information\n",
      "W1113 21:24:46.068000 10344 site-packages\\torch\\_dynamo\\convert_frame.py:1125] \n"
     ]
    }
   ],
   "source": [
    "# Train the neural network\n",
    "for epoch in range(epochs):\n",
    "    for batch_idx, (data, target) in enumerate(train_loader):\n",
    "        optimizer.zero_grad()\n",
    "        output = network(data)\n",
    "        loss = criterion(output, target)\n",
    "        loss.backward()\n",
    "        optimizer.step()"
   ]
  },
  {
   "cell_type": "code",
   "execution_count": 18,
   "id": "924c1e7c-58b9-4e00-a98e-42058d166e1f",
   "metadata": {},
   "outputs": [],
   "source": [
    "# Make predictions on our test set using the neural network we've made\n",
    "with torch.no_grad():\n",
    "    preds = network.forward(x_test).round()"
   ]
  },
  {
   "cell_type": "code",
   "execution_count": 19,
   "id": "50ec4e75-866e-4895-ad06-8fd4fc418785",
   "metadata": {},
   "outputs": [
    {
     "data": {
      "text/plain": [
       "(torch.Size([10000, 28, 10]), torch.Size([10000, 10]))"
      ]
     },
     "execution_count": 19,
     "metadata": {},
     "output_type": "execute_result"
    }
   ],
   "source": [
    "# Check shapes\n",
    "preds.shape, y_test.shape"
   ]
  },
  {
   "cell_type": "code",
   "execution_count": 20,
   "id": "82e44793-252f-4568-b039-2a3c9037f9ff",
   "metadata": {},
   "outputs": [],
   "source": [
    "# Drop dimension\n",
    "preds = preds[:, 0, :]"
   ]
  },
  {
   "cell_type": "code",
   "execution_count": 21,
   "id": "df7bb9d4-16e0-42c4-bc53-86341c793471",
   "metadata": {},
   "outputs": [],
   "source": [
    "# Use argmax to undo the one_hot encoding\n",
    "preds = torch.argmax(preds, dim = 1)\n",
    "y_test = torch.argmax(y_test, dim = 1)"
   ]
  },
  {
   "cell_type": "code",
   "execution_count": 22,
   "id": "2a4d2880-9eda-4422-b271-d506b46a3465",
   "metadata": {},
   "outputs": [
    {
     "name": "stdout",
     "output_type": "stream",
     "text": [
      "Accuracy is:  9.8 %\n"
     ]
    }
   ],
   "source": [
    "# Calculate and print the accuracy\n",
    "print('Accuracy is: ', accuracy_score(preds, y_test) * 100, '%')"
   ]
  },
  {
   "cell_type": "code",
   "execution_count": 23,
   "id": "d5b649ee-f83a-4fb1-a312-d1b36698c95f",
   "metadata": {},
   "outputs": [],
   "source": [
    "# Create confusion matrix\n",
    "cm = confusion_matrix(y_test, preds)"
   ]
  },
  {
   "cell_type": "code",
   "execution_count": 24,
   "id": "4b2401da-b6f6-42c0-81e5-58c82bf99ee9",
   "metadata": {},
   "outputs": [],
   "source": [
    "# Make labels\n",
    "labels = [0, 1, 2, 3, 4, 5, 6, 7, 8, 9]"
   ]
  },
  {
   "cell_type": "code",
   "execution_count": 25,
   "id": "2410a9da-c95a-4835-9962-93cc68a753bb",
   "metadata": {},
   "outputs": [],
   "source": [
    "# Set up confusion matrix for display\n",
    "disp = ConfusionMatrixDisplay(cm, display_labels = labels)"
   ]
  },
  {
   "cell_type": "code",
   "execution_count": 26,
   "id": "37985838-2442-41a4-a757-96f37ad54259",
   "metadata": {},
   "outputs": [
    {
     "data": {
      "image/png": "[encoded data removed]",
      "text/plain": [
       "<Figure size 640x480 with 2 Axes>"
      ]
     },
     "metadata": {},
     "output_type": "display_data"
    }
   ],
   "source": [
    "# Show the confusion matrix\n",
    "disp.plot()\n",
    "plt.show()"
   ]
  },
  {
   "cell_type": "markdown",
   "id": "67ddcb8c-4959-4b8e-8476-f2fd0a4fc981",
   "metadata": {},
   "source": [
    "I realize only now that I skimmed the instructions and used Pytorch to create my model instead of Keras, sorry about that that's on me. To summarize my results, my confusion matrix I think is a bit misleading. It's showing the predicted accuracy at ~10% because it is saying all the predictions were zero. I think it's not actually predicting only zero but because of the argmax function it's pulling the indices which are zero. I'm hoping to go over this with you to try and get a better grasp on how I could actually calculate accuracy correctly and not skew my confusion matrix."
   ]
  },
  {
   "cell_type": "code",
   "execution_count": null,
   "id": "dd808071-088b-44b1-bcee-ffe289fd6721",
   "metadata": {},
   "outputs": [],
   "source": []
  }
 ],
 "metadata": {
  "kernelspec": {
   "display_name": "Python 3 (ipykernel)",
   "language": "python",
   "name": "python3"
  },
  "language_info": {
   "codemirror_mode": {
    "name": "ipython",
    "version": 3
   },
   "file_extension": ".py",
   "mimetype": "text/x-python",
   "name": "python",
   "nbconvert_exporter": "python",
   "pygments_lexer": "ipython3",
   "version": "3.12.4"
  }
 },
 "nbformat": 4,
 "nbformat_minor": 5
}
