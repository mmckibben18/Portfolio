{
 "cells": [
  {
   "cell_type": "markdown",
   "id": "2695cf8f-ec83-4295-8716-6abda8f53060",
   "metadata": {},
   "source": [
    "### Author: Makayla McKibben\n",
    "## Course: DSC 550 Data Mining\n",
    "## Date: 09.29.2024\n",
    "## Exercise: Ex. 5.2"
   ]
  },
  {
   "cell_type": "code",
   "execution_count": 2,
   "id": "6f646c12-daee-4261-b705-5033c2a9f44a",
   "metadata": {},
   "outputs": [
    {
     "name": "stderr",
     "output_type": "stream",
     "text": [
      "[nltk_data] Downloading package punkt to\n",
      "[nltk_data]     C:\\Users\\makay\\AppData\\Roaming\\nltk_data...\n",
      "[nltk_data]   Package punkt is already up-to-date!\n",
      "[nltk_data] Downloading package stopwords to\n",
      "[nltk_data]     C:\\Users\\makay\\AppData\\Roaming\\nltk_data...\n",
      "[nltk_data]   Package stopwords is already up-to-date!\n"
     ]
    },
    {
     "data": {
      "text/plain": [
       "True"
      ]
     },
     "execution_count": 2,
     "metadata": {},
     "output_type": "execute_result"
    }
   ],
   "source": [
    "# Import relevant libraries and modules\n",
    "import pandas as pd\n",
    "import numpy as np\n",
    "import seaborn as sns\n",
    "import string\n",
    "import nltk\n",
    "import matplotlib.pyplot as plt\n",
    "from sklearn.model_selection import train_test_split\n",
    "from sklearn.datasets import make_classification\n",
    "from sklearn.linear_model import LogisticRegression\n",
    "from sklearn.metrics import roc_curve, roc_auc_score\n",
    "from sklearn.metrics import confusion_matrix\n",
    "from sklearn.ensemble import RandomForestClassifier\n",
    "from nltk.stem.porter import PorterStemmer\n",
    "from nltk.corpus import stopwords\n",
    "from nltk.tokenize import word_tokenize\n",
    "from sklearn.feature_extraction import DictVectorizer\n",
    "from sklearn.feature_extraction.text import CountVectorizer\n",
    "from sklearn.feature_extraction.text import TfidfVectorizer\n",
    "\n",
    "nltk.download('punkt')\n",
    "nltk.download('stopwords')"
   ]
  },
  {
   "cell_type": "code",
   "execution_count": 3,
   "id": "c4a44669-ebf4-4d69-97c2-316445d2776a",
   "metadata": {},
   "outputs": [
    {
     "name": "stdout",
     "output_type": "stream",
     "text": [
      "Requirement already satisfied: textblob in c:\\users\\makay\\anaconda3\\lib\\site-packages (0.18.0.post0)\n",
      "Requirement already satisfied: nltk>=3.8 in c:\\users\\makay\\anaconda3\\lib\\site-packages (from textblob) (3.8.1)\n",
      "Requirement already satisfied: click in c:\\users\\makay\\anaconda3\\lib\\site-packages (from nltk>=3.8->textblob) (8.1.7)\n",
      "Requirement already satisfied: joblib in c:\\users\\makay\\anaconda3\\lib\\site-packages (from nltk>=3.8->textblob) (1.4.2)\n",
      "Requirement already satisfied: regex>=2021.8.3 in c:\\users\\makay\\anaconda3\\lib\\site-packages (from nltk>=3.8->textblob) (2023.10.3)\n",
      "Requirement already satisfied: tqdm in c:\\users\\makay\\anaconda3\\lib\\site-packages (from nltk>=3.8->textblob) (4.66.4)\n",
      "Requirement already satisfied: colorama in c:\\users\\makay\\anaconda3\\lib\\site-packages (from click->nltk>=3.8->textblob) (0.4.6)\n",
      "Note: you may need to restart the kernel to use updated packages.\n"
     ]
    }
   ],
   "source": [
    "pip install textblob"
   ]
  },
  {
   "cell_type": "code",
   "execution_count": 4,
   "id": "4ee78e22-4aa2-4abb-98f0-323369ae2e66",
   "metadata": {},
   "outputs": [],
   "source": [
    "from textblob import TextBlob"
   ]
  },
  {
   "cell_type": "markdown",
   "id": "fb4d0e68-0f11-4bc3-9cfa-64e784202979",
   "metadata": {},
   "source": [
    "## Part 1 Getting the Stemmed Reviews"
   ]
  },
  {
   "cell_type": "code",
   "execution_count": 6,
   "id": "fb037221-3912-4120-bef0-c67de14fe769",
   "metadata": {},
   "outputs": [],
   "source": [
    "# Read the file into a dataframe\n",
    "movie_reviews = pd.read_csv('labeledTrainData.tsv', sep = '\\t')"
   ]
  },
  {
   "cell_type": "code",
   "execution_count": 7,
   "id": "8e4b3362-4ddf-40b6-9772-5a848a7c364c",
   "metadata": {},
   "outputs": [],
   "source": [
    "# Define the function to make all text lowercase\n",
    "def lowercase(text):\n",
    "    return text.lower()"
   ]
  },
  {
   "cell_type": "code",
   "execution_count": 8,
   "id": "c84bac1a-2ca7-4d03-8571-6f546cbac498",
   "metadata": {},
   "outputs": [],
   "source": [
    "# Apply the lowercase function\n",
    "movie_reviews['processed_text'] = movie_reviews['review'].apply(lowercase)"
   ]
  },
  {
   "cell_type": "code",
   "execution_count": 9,
   "id": "1de4058d-b8e4-4751-aca0-291a093f4d2c",
   "metadata": {},
   "outputs": [],
   "source": [
    "# Define the function to remove punctuation\n",
    "def remove_punc(text):\n",
    "    text = text.translate(str.maketrans('', '', string.punctuation))\n",
    "    return text"
   ]
  },
  {
   "cell_type": "code",
   "execution_count": 10,
   "id": "6217baae-5bd8-4a51-a23b-8f3fcb11d4ae",
   "metadata": {},
   "outputs": [],
   "source": [
    "# Apply function that removes punctuation\n",
    "movie_reviews['processed_text'] = movie_reviews['processed_text'].apply(remove_punc)"
   ]
  },
  {
   "cell_type": "code",
   "execution_count": 11,
   "id": "5d83eb9e-c766-492f-86c2-e93d8feecedf",
   "metadata": {},
   "outputs": [],
   "source": [
    "# Set up the stop words values\n",
    "stop_words = stopwords.words('english')"
   ]
  },
  {
   "cell_type": "code",
   "execution_count": 12,
   "id": "cffca62f-5889-4af8-b3bb-224d90bed3c8",
   "metadata": {},
   "outputs": [],
   "source": [
    "# Define the function that removes the stop words from the text\n",
    "def remove_stop_words(text):\n",
    "    tokenized_words = word_tokenize(text)\n",
    "    no_stops = [word for word in tokenized_words if word not in stop_words]\n",
    "    return no_stops"
   ]
  },
  {
   "cell_type": "code",
   "execution_count": 13,
   "id": "386554f5-a2e3-40c9-8fdd-ed3da9afde1e",
   "metadata": {},
   "outputs": [],
   "source": [
    "# Remove the stop words\n",
    "movie_reviews['processed_text'] = movie_reviews['processed_text'].apply(remove_stop_words)"
   ]
  },
  {
   "cell_type": "code",
   "execution_count": 14,
   "id": "bd33354e-08cd-4fdc-9429-9ae603b67799",
   "metadata": {},
   "outputs": [],
   "source": [
    "# Set up stem function\n",
    "porter = PorterStemmer()"
   ]
  },
  {
   "cell_type": "code",
   "execution_count": 15,
   "id": "90dba583-c5f7-4731-8b13-cba875127ed8",
   "metadata": {},
   "outputs": [],
   "source": [
    "# Define stemming function\n",
    "def stems(list_of_words):\n",
    "    stemmed = [porter.stem(word) for word in list_of_words]\n",
    "    return stemmed"
   ]
  },
  {
   "cell_type": "code",
   "execution_count": 16,
   "id": "3dd17419-54a0-4f17-b59d-ba0a1693ef53",
   "metadata": {},
   "outputs": [],
   "source": [
    "# Apply stem function\n",
    "movie_reviews['stemmed_text'] = movie_reviews['processed_text'].apply(stems)"
   ]
  },
  {
   "cell_type": "code",
   "execution_count": 17,
   "id": "c3048f89-5631-4522-921e-9bd51090c69b",
   "metadata": {},
   "outputs": [
    {
     "data": {
      "text/plain": [
       "0    [stuff, go, moment, mj, ive, start, listen, mu...\n",
       "1    [classic, war, world, timothi, hine, entertain...\n",
       "2    [film, start, manag, nichola, bell, give, welc...\n",
       "3    [must, assum, prais, film, greatest, film, ope...\n",
       "4    [superbl, trashi, wondrous, unpretenti, 80, ex...\n",
       "Name: stemmed_text, dtype: object"
      ]
     },
     "execution_count": 17,
     "metadata": {},
     "output_type": "execute_result"
    }
   ],
   "source": [
    "# Look at the processed reviews\n",
    "movie_reviews['stemmed_text'].head()"
   ]
  },
  {
   "cell_type": "code",
   "execution_count": 18,
   "id": "61afcd59-c97c-4f80-ae5e-4648029671f3",
   "metadata": {},
   "outputs": [],
   "source": [
    "# Join reviews into a single string for each row\n",
    "movie_reviews['stemmed_text'] = movie_reviews['stemmed_text'].apply(lambda lst: \" \". join(lst))"
   ]
  },
  {
   "cell_type": "markdown",
   "id": "be1c46c5-d448-4e0d-8f17-626e38e89550",
   "metadata": {},
   "source": [
    "## Part 2 Fit and Test Logistic Regression"
   ]
  },
  {
   "cell_type": "code",
   "execution_count": 20,
   "id": "35056286-7bc6-4428-a120-351f6c4be5e1",
   "metadata": {},
   "outputs": [],
   "source": [
    "# Set the features and target for the model\n",
    "target = movie_reviews['sentiment']\n",
    "movie_reviews.drop('sentiment', axis = 1, inplace = True)\n",
    "features = movie_reviews['stemmed_text']"
   ]
  },
  {
   "cell_type": "code",
   "execution_count": 21,
   "id": "fcec4c8f-5b87-41e8-914d-83a078377354",
   "metadata": {},
   "outputs": [],
   "source": [
    "# Split the data into training and test sets\n",
    "features_train, features_test, target_train, target_test = train_test_split(features, target, test_size = 0.2, random_state = 18)"
   ]
  },
  {
   "cell_type": "code",
   "execution_count": 22,
   "id": "b93b2fa6-582b-45f0-99ec-f18a234d9e1f",
   "metadata": {},
   "outputs": [],
   "source": [
    "# Define the term frequency-inverse document frequency (tf-idf) \n",
    "tfidf = TfidfVectorizer()"
   ]
  },
  {
   "cell_type": "code",
   "execution_count": 23,
   "id": "2a2f119b-2a93-429c-9877-fba0033a22dc",
   "metadata": {},
   "outputs": [],
   "source": [
    "# Vectorize training data\n",
    "training_vector = tfidf.fit_transform(features_train)"
   ]
  },
  {
   "cell_type": "code",
   "execution_count": 24,
   "id": "78bd7d7f-7fe3-42f3-92af-b51d11e789da",
   "metadata": {},
   "outputs": [
    {
     "data": {
      "text/plain": [
       "<20000x81063 sparse matrix of type '<class 'numpy.float64'>'\n",
       "\twith 1955512 stored elements in Compressed Sparse Row format>"
      ]
     },
     "execution_count": 24,
     "metadata": {},
     "output_type": "execute_result"
    }
   ],
   "source": [
    "# Verify shape\n",
    "training_vector"
   ]
  },
  {
   "cell_type": "code",
   "execution_count": 25,
   "id": "48f84b4d-d85d-45eb-936f-023a2f23d86b",
   "metadata": {},
   "outputs": [],
   "source": [
    "# Vectorize test set\n",
    "test_vector = tfidf.transform(features_test)"
   ]
  },
  {
   "cell_type": "markdown",
   "id": "fe44f630-7988-4f3c-8d46-57012cad0a43",
   "metadata": {},
   "source": [
    "We do not fit the test data so that our test data are still unknown, not part of the model."
   ]
  },
  {
   "cell_type": "code",
   "execution_count": 27,
   "id": "799095d2-5953-4a5f-81e1-3c42a9be0c7b",
   "metadata": {},
   "outputs": [
    {
     "data": {
      "text/plain": [
       "<5000x81063 sparse matrix of type '<class 'numpy.float64'>'\n",
       "\twith 471569 stored elements in Compressed Sparse Row format>"
      ]
     },
     "execution_count": 27,
     "metadata": {},
     "output_type": "execute_result"
    }
   ],
   "source": [
    "# Verify Shape\n",
    "test_vector"
   ]
  },
  {
   "cell_type": "code",
   "execution_count": 28,
   "id": "8f794128-6352-461f-9850-9489856f3f14",
   "metadata": {},
   "outputs": [],
   "source": [
    "# Create logistic regression object\n",
    "logreg = LogisticRegression()"
   ]
  },
  {
   "cell_type": "code",
   "execution_count": 29,
   "id": "cca94ed1-65e2-48ce-bee0-ac5fc46628e2",
   "metadata": {},
   "outputs": [
    {
     "data": {
      "text/html": [
       "<style>#sk-container-id-1 {\n",
       "  /* Definition of color scheme common for light and dark mode */\n",
       "  --sklearn-color-text: black;\n",
       "  --sklearn-color-line: gray;\n",
       "  /* Definition of color scheme for unfitted estimators */\n",
       "  --sklearn-color-unfitted-level-0: #fff5e6;\n",
       "  --sklearn-color-unfitted-level-1: #f6e4d2;\n",
       "  --sklearn-color-unfitted-level-2: #ffe0b3;\n",
       "  --sklearn-color-unfitted-level-3: chocolate;\n",
       "  /* Definition of color scheme for fitted estimators */\n",
       "  --sklearn-color-fitted-level-0: #f0f8ff;\n",
       "  --sklearn-color-fitted-level-1: #d4ebff;\n",
       "  --sklearn-color-fitted-level-2: #b3dbfd;\n",
       "  --sklearn-color-fitted-level-3: cornflowerblue;\n",
       "\n",
       "  /* Specific color for light theme */\n",
       "  --sklearn-color-text-on-default-background: var(--sg-text-color, var(--theme-code-foreground, var(--jp-content-font-color1, black)));\n",
       "  --sklearn-color-background: var(--sg-background-color, var(--theme-background, var(--jp-layout-color0, white)));\n",
       "  --sklearn-color-border-box: var(--sg-text-color, var(--theme-code-foreground, var(--jp-content-font-color1, black)));\n",
       "  --sklearn-color-icon: #696969;\n",
       "\n",
       "  @media (prefers-color-scheme: dark) {\n",
       "    /* Redefinition of color scheme for dark theme */\n",
       "    --sklearn-color-text-on-default-background: var(--sg-text-color, var(--theme-code-foreground, var(--jp-content-font-color1, white)));\n",
       "    --sklearn-color-background: var(--sg-background-color, var(--theme-background, var(--jp-layout-color0, #111)));\n",
       "    --sklearn-color-border-box: var(--sg-text-color, var(--theme-code-foreground, var(--jp-content-font-color1, white)));\n",
       "    --sklearn-color-icon: #878787;\n",
       "  }\n",
       "}\n",
       "\n",
       "#sk-container-id-1 {\n",
       "  color: var(--sklearn-color-text);\n",
       "}\n",
       "\n",
       "#sk-container-id-1 pre {\n",
       "  padding: 0;\n",
       "}\n",
       "\n",
       "#sk-container-id-1 input.sk-hidden--visually {\n",
       "  border: 0;\n",
       "  clip: rect(1px 1px 1px 1px);\n",
       "  clip: rect(1px, 1px, 1px, 1px);\n",
       "  height: 1px;\n",
       "  margin: -1px;\n",
       "  overflow: hidden;\n",
       "  padding: 0;\n",
       "  position: absolute;\n",
       "  width: 1px;\n",
       "}\n",
       "\n",
       "#sk-container-id-1 div.sk-dashed-wrapped {\n",
       "  border: 1px dashed var(--sklearn-color-line);\n",
       "  margin: 0 0.4em 0.5em 0.4em;\n",
       "  box-sizing: border-box;\n",
       "  padding-bottom: 0.4em;\n",
       "  background-color: var(--sklearn-color-background);\n",
       "}\n",
       "\n",
       "#sk-container-id-1 div.sk-container {\n",
       "  /* jupyter's `normalize.less` sets `[hidden] { display: none; }`\n",
       "     but bootstrap.min.css set `[hidden] { display: none !important; }`\n",
       "     so we also need the `!important` here to be able to override the\n",
       "     default hidden behavior on the sphinx rendered scikit-learn.org.\n",
       "     See: https://github.com/scikit-learn/scikit-learn/issues/21755 */\n",
       "  display: inline-block !important;\n",
       "  position: relative;\n",
       "}\n",
       "\n",
       "#sk-container-id-1 div.sk-text-repr-fallback {\n",
       "  display: none;\n",
       "}\n",
       "\n",
       "div.sk-parallel-item,\n",
       "div.sk-serial,\n",
       "div.sk-item {\n",
       "  /* draw centered vertical line to link estimators */\n",
       "  background-image: linear-gradient(var(--sklearn-color-text-on-default-background), var(--sklearn-color-text-on-default-background));\n",
       "  background-size: 2px 100%;\n",
       "  background-repeat: no-repeat;\n",
       "  background-position: center center;\n",
       "}\n",
       "\n",
       "/* Parallel-specific style estimator block */\n",
       "\n",
       "#sk-container-id-1 div.sk-parallel-item::after {\n",
       "  content: \"\";\n",
       "  width: 100%;\n",
       "  border-bottom: 2px solid var(--sklearn-color-text-on-default-background);\n",
       "  flex-grow: 1;\n",
       "}\n",
       "\n",
       "#sk-container-id-1 div.sk-parallel {\n",
       "  display: flex;\n",
       "  align-items: stretch;\n",
       "  justify-content: center;\n",
       "  background-color: var(--sklearn-color-background);\n",
       "  position: relative;\n",
       "}\n",
       "\n",
       "#sk-container-id-1 div.sk-parallel-item {\n",
       "  display: flex;\n",
       "  flex-direction: column;\n",
       "}\n",
       "\n",
       "#sk-container-id-1 div.sk-parallel-item:first-child::after {\n",
       "  align-self: flex-end;\n",
       "  width: 50%;\n",
       "}\n",
       "\n",
       "#sk-container-id-1 div.sk-parallel-item:last-child::after {\n",
       "  align-self: flex-start;\n",
       "  width: 50%;\n",
       "}\n",
       "\n",
       "#sk-container-id-1 div.sk-parallel-item:only-child::after {\n",
       "  width: 0;\n",
       "}\n",
       "\n",
       "/* Serial-specific style estimator block */\n",
       "\n",
       "#sk-container-id-1 div.sk-serial {\n",
       "  display: flex;\n",
       "  flex-direction: column;\n",
       "  align-items: center;\n",
       "  background-color: var(--sklearn-color-background);\n",
       "  padding-right: 1em;\n",
       "  padding-left: 1em;\n",
       "}\n",
       "\n",
       "\n",
       "/* Toggleable style: style used for estimator/Pipeline/ColumnTransformer box that is\n",
       "clickable and can be expanded/collapsed.\n",
       "- Pipeline and ColumnTransformer use this feature and define the default style\n",
       "- Estimators will overwrite some part of the style using the `sk-estimator` class\n",
       "*/\n",
       "\n",
       "/* Pipeline and ColumnTransformer style (default) */\n",
       "\n",
       "#sk-container-id-1 div.sk-toggleable {\n",
       "  /* Default theme specific background. It is overwritten whether we have a\n",
       "  specific estimator or a Pipeline/ColumnTransformer */\n",
       "  background-color: var(--sklearn-color-background);\n",
       "}\n",
       "\n",
       "/* Toggleable label */\n",
       "#sk-container-id-1 label.sk-toggleable__label {\n",
       "  cursor: pointer;\n",
       "  display: block;\n",
       "  width: 100%;\n",
       "  margin-bottom: 0;\n",
       "  padding: 0.5em;\n",
       "  box-sizing: border-box;\n",
       "  text-align: center;\n",
       "}\n",
       "\n",
       "#sk-container-id-1 label.sk-toggleable__label-arrow:before {\n",
       "  /* Arrow on the left of the label */\n",
       "  content: \"▸\";\n",
       "  float: left;\n",
       "  margin-right: 0.25em;\n",
       "  color: var(--sklearn-color-icon);\n",
       "}\n",
       "\n",
       "#sk-container-id-1 label.sk-toggleable__label-arrow:hover:before {\n",
       "  color: var(--sklearn-color-text);\n",
       "}\n",
       "\n",
       "/* Toggleable content - dropdown */\n",
       "\n",
       "#sk-container-id-1 div.sk-toggleable__content {\n",
       "  max-height: 0;\n",
       "  max-width: 0;\n",
       "  overflow: hidden;\n",
       "  text-align: left;\n",
       "  /* unfitted */\n",
       "  background-color: var(--sklearn-color-unfitted-level-0);\n",
       "}\n",
       "\n",
       "#sk-container-id-1 div.sk-toggleable__content.fitted {\n",
       "  /* fitted */\n",
       "  background-color: var(--sklearn-color-fitted-level-0);\n",
       "}\n",
       "\n",
       "#sk-container-id-1 div.sk-toggleable__content pre {\n",
       "  margin: 0.2em;\n",
       "  border-radius: 0.25em;\n",
       "  color: var(--sklearn-color-text);\n",
       "  /* unfitted */\n",
       "  background-color: var(--sklearn-color-unfitted-level-0);\n",
       "}\n",
       "\n",
       "#sk-container-id-1 div.sk-toggleable__content.fitted pre {\n",
       "  /* unfitted */\n",
       "  background-color: var(--sklearn-color-fitted-level-0);\n",
       "}\n",
       "\n",
       "#sk-container-id-1 input.sk-toggleable__control:checked~div.sk-toggleable__content {\n",
       "  /* Expand drop-down */\n",
       "  max-height: 200px;\n",
       "  max-width: 100%;\n",
       "  overflow: auto;\n",
       "}\n",
       "\n",
       "#sk-container-id-1 input.sk-toggleable__control:checked~label.sk-toggleable__label-arrow:before {\n",
       "  content: \"▾\";\n",
       "}\n",
       "\n",
       "/* Pipeline/ColumnTransformer-specific style */\n",
       "\n",
       "#sk-container-id-1 div.sk-label input.sk-toggleable__control:checked~label.sk-toggleable__label {\n",
       "  color: var(--sklearn-color-text);\n",
       "  background-color: var(--sklearn-color-unfitted-level-2);\n",
       "}\n",
       "\n",
       "#sk-container-id-1 div.sk-label.fitted input.sk-toggleable__control:checked~label.sk-toggleable__label {\n",
       "  background-color: var(--sklearn-color-fitted-level-2);\n",
       "}\n",
       "\n",
       "/* Estimator-specific style */\n",
       "\n",
       "/* Colorize estimator box */\n",
       "#sk-container-id-1 div.sk-estimator input.sk-toggleable__control:checked~label.sk-toggleable__label {\n",
       "  /* unfitted */\n",
       "  background-color: var(--sklearn-color-unfitted-level-2);\n",
       "}\n",
       "\n",
       "#sk-container-id-1 div.sk-estimator.fitted input.sk-toggleable__control:checked~label.sk-toggleable__label {\n",
       "  /* fitted */\n",
       "  background-color: var(--sklearn-color-fitted-level-2);\n",
       "}\n",
       "\n",
       "#sk-container-id-1 div.sk-label label.sk-toggleable__label,\n",
       "#sk-container-id-1 div.sk-label label {\n",
       "  /* The background is the default theme color */\n",
       "  color: var(--sklearn-color-text-on-default-background);\n",
       "}\n",
       "\n",
       "/* On hover, darken the color of the background */\n",
       "#sk-container-id-1 div.sk-label:hover label.sk-toggleable__label {\n",
       "  color: var(--sklearn-color-text);\n",
       "  background-color: var(--sklearn-color-unfitted-level-2);\n",
       "}\n",
       "\n",
       "/* Label box, darken color on hover, fitted */\n",
       "#sk-container-id-1 div.sk-label.fitted:hover label.sk-toggleable__label.fitted {\n",
       "  color: var(--sklearn-color-text);\n",
       "  background-color: var(--sklearn-color-fitted-level-2);\n",
       "}\n",
       "\n",
       "/* Estimator label */\n",
       "\n",
       "#sk-container-id-1 div.sk-label label {\n",
       "  font-family: monospace;\n",
       "  font-weight: bold;\n",
       "  display: inline-block;\n",
       "  line-height: 1.2em;\n",
       "}\n",
       "\n",
       "#sk-container-id-1 div.sk-label-container {\n",
       "  text-align: center;\n",
       "}\n",
       "\n",
       "/* Estimator-specific */\n",
       "#sk-container-id-1 div.sk-estimator {\n",
       "  font-family: monospace;\n",
       "  border: 1px dotted var(--sklearn-color-border-box);\n",
       "  border-radius: 0.25em;\n",
       "  box-sizing: border-box;\n",
       "  margin-bottom: 0.5em;\n",
       "  /* unfitted */\n",
       "  background-color: var(--sklearn-color-unfitted-level-0);\n",
       "}\n",
       "\n",
       "#sk-container-id-1 div.sk-estimator.fitted {\n",
       "  /* fitted */\n",
       "  background-color: var(--sklearn-color-fitted-level-0);\n",
       "}\n",
       "\n",
       "/* on hover */\n",
       "#sk-container-id-1 div.sk-estimator:hover {\n",
       "  /* unfitted */\n",
       "  background-color: var(--sklearn-color-unfitted-level-2);\n",
       "}\n",
       "\n",
       "#sk-container-id-1 div.sk-estimator.fitted:hover {\n",
       "  /* fitted */\n",
       "  background-color: var(--sklearn-color-fitted-level-2);\n",
       "}\n",
       "\n",
       "/* Specification for estimator info (e.g. \"i\" and \"?\") */\n",
       "\n",
       "/* Common style for \"i\" and \"?\" */\n",
       "\n",
       ".sk-estimator-doc-link,\n",
       "a:link.sk-estimator-doc-link,\n",
       "a:visited.sk-estimator-doc-link {\n",
       "  float: right;\n",
       "  font-size: smaller;\n",
       "  line-height: 1em;\n",
       "  font-family: monospace;\n",
       "  background-color: var(--sklearn-color-background);\n",
       "  border-radius: 1em;\n",
       "  height: 1em;\n",
       "  width: 1em;\n",
       "  text-decoration: none !important;\n",
       "  margin-left: 1ex;\n",
       "  /* unfitted */\n",
       "  border: var(--sklearn-color-unfitted-level-1) 1pt solid;\n",
       "  color: var(--sklearn-color-unfitted-level-1);\n",
       "}\n",
       "\n",
       ".sk-estimator-doc-link.fitted,\n",
       "a:link.sk-estimator-doc-link.fitted,\n",
       "a:visited.sk-estimator-doc-link.fitted {\n",
       "  /* fitted */\n",
       "  border: var(--sklearn-color-fitted-level-1) 1pt solid;\n",
       "  color: var(--sklearn-color-fitted-level-1);\n",
       "}\n",
       "\n",
       "/* On hover */\n",
       "div.sk-estimator:hover .sk-estimator-doc-link:hover,\n",
       ".sk-estimator-doc-link:hover,\n",
       "div.sk-label-container:hover .sk-estimator-doc-link:hover,\n",
       ".sk-estimator-doc-link:hover {\n",
       "  /* unfitted */\n",
       "  background-color: var(--sklearn-color-unfitted-level-3);\n",
       "  color: var(--sklearn-color-background);\n",
       "  text-decoration: none;\n",
       "}\n",
       "\n",
       "div.sk-estimator.fitted:hover .sk-estimator-doc-link.fitted:hover,\n",
       ".sk-estimator-doc-link.fitted:hover,\n",
       "div.sk-label-container:hover .sk-estimator-doc-link.fitted:hover,\n",
       ".sk-estimator-doc-link.fitted:hover {\n",
       "  /* fitted */\n",
       "  background-color: var(--sklearn-color-fitted-level-3);\n",
       "  color: var(--sklearn-color-background);\n",
       "  text-decoration: none;\n",
       "}\n",
       "\n",
       "/* Span, style for the box shown on hovering the info icon */\n",
       ".sk-estimator-doc-link span {\n",
       "  display: none;\n",
       "  z-index: 9999;\n",
       "  position: relative;\n",
       "  font-weight: normal;\n",
       "  right: .2ex;\n",
       "  padding: .5ex;\n",
       "  margin: .5ex;\n",
       "  width: min-content;\n",
       "  min-width: 20ex;\n",
       "  max-width: 50ex;\n",
       "  color: var(--sklearn-color-text);\n",
       "  box-shadow: 2pt 2pt 4pt #999;\n",
       "  /* unfitted */\n",
       "  background: var(--sklearn-color-unfitted-level-0);\n",
       "  border: .5pt solid var(--sklearn-color-unfitted-level-3);\n",
       "}\n",
       "\n",
       ".sk-estimator-doc-link.fitted span {\n",
       "  /* fitted */\n",
       "  background: var(--sklearn-color-fitted-level-0);\n",
       "  border: var(--sklearn-color-fitted-level-3);\n",
       "}\n",
       "\n",
       ".sk-estimator-doc-link:hover span {\n",
       "  display: block;\n",
       "}\n",
       "\n",
       "/* \"?\"-specific style due to the `<a>` HTML tag */\n",
       "\n",
       "#sk-container-id-1 a.estimator_doc_link {\n",
       "  float: right;\n",
       "  font-size: 1rem;\n",
       "  line-height: 1em;\n",
       "  font-family: monospace;\n",
       "  background-color: var(--sklearn-color-background);\n",
       "  border-radius: 1rem;\n",
       "  height: 1rem;\n",
       "  width: 1rem;\n",
       "  text-decoration: none;\n",
       "  /* unfitted */\n",
       "  color: var(--sklearn-color-unfitted-level-1);\n",
       "  border: var(--sklearn-color-unfitted-level-1) 1pt solid;\n",
       "}\n",
       "\n",
       "#sk-container-id-1 a.estimator_doc_link.fitted {\n",
       "  /* fitted */\n",
       "  border: var(--sklearn-color-fitted-level-1) 1pt solid;\n",
       "  color: var(--sklearn-color-fitted-level-1);\n",
       "}\n",
       "\n",
       "/* On hover */\n",
       "#sk-container-id-1 a.estimator_doc_link:hover {\n",
       "  /* unfitted */\n",
       "  background-color: var(--sklearn-color-unfitted-level-3);\n",
       "  color: var(--sklearn-color-background);\n",
       "  text-decoration: none;\n",
       "}\n",
       "\n",
       "#sk-container-id-1 a.estimator_doc_link.fitted:hover {\n",
       "  /* fitted */\n",
       "  background-color: var(--sklearn-color-fitted-level-3);\n",
       "}\n",
       "</style><div id=\"sk-container-id-1\" class=\"sk-top-container\"><div class=\"sk-text-repr-fallback\"><pre>LogisticRegression()</pre><b>In a Jupyter environment, please rerun this cell to show the HTML representation or trust the notebook. <br />On GitHub, the HTML representation is unable to render, please try loading this page with nbviewer.org.</b></div><div class=\"sk-container\" hidden><div class=\"sk-item\"><div class=\"sk-estimator fitted sk-toggleable\"><input class=\"sk-toggleable__control sk-hidden--visually\" id=\"sk-estimator-id-1\" type=\"checkbox\" checked><label for=\"sk-estimator-id-1\" class=\"sk-toggleable__label fitted sk-toggleable__label-arrow fitted\">&nbsp;&nbsp;LogisticRegression<a class=\"sk-estimator-doc-link fitted\" rel=\"noreferrer\" target=\"_blank\" href=\"https://scikit-learn.org/1.4/modules/generated/sklearn.linear_model.LogisticRegression.html\">?<span>Documentation for LogisticRegression</span></a><span class=\"sk-estimator-doc-link fitted\">i<span>Fitted</span></span></label><div class=\"sk-toggleable__content fitted\"><pre>LogisticRegression()</pre></div> </div></div></div></div>"
      ],
      "text/plain": [
       "LogisticRegression()"
      ]
     },
     "execution_count": 29,
     "metadata": {},
     "output_type": "execute_result"
    }
   ],
   "source": [
    "# Fit the model to the training data\n",
    "logreg.fit(training_vector, target_train)"
   ]
  },
  {
   "cell_type": "code",
   "execution_count": 30,
   "id": "7d5b84f2-849a-485b-af6c-a34db9d02070",
   "metadata": {},
   "outputs": [],
   "source": [
    "# Predict target test values\n",
    "log_pred_test = logreg.predict(test_vector)"
   ]
  },
  {
   "cell_type": "code",
   "execution_count": 31,
   "id": "52cf256e-bde4-4d5d-97cb-8c21250a0ac8",
   "metadata": {},
   "outputs": [],
   "source": [
    "# Add components so we can check accuracy\n",
    "test_logreg_acc = target_test + log_pred_test"
   ]
  },
  {
   "cell_type": "code",
   "execution_count": 32,
   "id": "2eec4c55-6dc5-4328-aa6d-d488ad674155",
   "metadata": {},
   "outputs": [],
   "source": [
    "# Create confusion matrix\n",
    "test_logreg_confusion = confusion_matrix(target_test, log_pred_test)"
   ]
  },
  {
   "cell_type": "code",
   "execution_count": 33,
   "id": "93bf9a3a-b65d-4f51-b208-aef31432477b",
   "metadata": {},
   "outputs": [],
   "source": [
    "# Create df from confusion matrix\n",
    "test_logreg_df = pd.DataFrame(test_logreg_confusion)"
   ]
  },
  {
   "cell_type": "code",
   "execution_count": 34,
   "id": "adee242b-3f8c-495a-a648-14054d43a14d",
   "metadata": {},
   "outputs": [
    {
     "data": {
      "text/plain": [
       "<function matplotlib.pyplot.show(close=None, block=None)>"
      ]
     },
     "execution_count": 34,
     "metadata": {},
     "output_type": "execute_result"
    },
    {
     "data": {
      "image/png": "[encoded data removed]",
      "text/plain": [
       "<Figure size 640x480 with 1 Axes>"
      ]
     },
     "metadata": {},
     "output_type": "display_data"
    }
   ],
   "source": [
    "# Plot confusion matrix\n",
    "sns.heatmap(test_logreg_df, annot = True, cbar = None, cmap = 'Blues', fmt = 'g')\n",
    "plt.title('Confusion Matrix for Logistic Regression') \n",
    "plt.tight_layout()\n",
    "plt.ylabel('True Values')\n",
    "plt.xlabel('Predicted Values')\n",
    "plt.show"
   ]
  },
  {
   "cell_type": "code",
   "execution_count": 35,
   "id": "67c9f73b-fb58-45b2-8a22-56d5a066ca2c",
   "metadata": {},
   "outputs": [],
   "source": [
    "# Tally up values that are 0\n",
    "zero_values_logreg = test_logreg_acc[(test_logreg_acc == 0)].count()"
   ]
  },
  {
   "cell_type": "code",
   "execution_count": 36,
   "id": "904b8bb8-d1ee-4681-b843-5b5a81160387",
   "metadata": {},
   "outputs": [],
   "source": [
    "# Tally up values that are 2\n",
    "two_values_logreg = test_logreg_acc[(test_logreg_acc == 2)].count()"
   ]
  },
  {
   "cell_type": "code",
   "execution_count": 37,
   "id": "2f0e223b-8485-413d-860a-6a78e075fef7",
   "metadata": {},
   "outputs": [],
   "source": [
    "# Find logistic regression precision\n",
    "test_logreg_precision = 2225 / (2225 + 326)"
   ]
  },
  {
   "cell_type": "code",
   "execution_count": 38,
   "id": "777ec7e0-569e-402c-b0be-009bafa5907e",
   "metadata": {},
   "outputs": [],
   "source": [
    "# Find logistic regression recall\n",
    "test_logreg_recall = 2225 / (2225 + 223)"
   ]
  },
  {
   "cell_type": "code",
   "execution_count": 39,
   "id": "da73342c-fb7e-49c8-9d0a-bf175b4fdc84",
   "metadata": {},
   "outputs": [],
   "source": [
    "# Find Logistic regression f1\n",
    "test_logreg_f1 = 2 * (test_logreg_precision * test_logreg_recall) / (test_logreg_precision + test_logreg_recall)"
   ]
  },
  {
   "cell_type": "code",
   "execution_count": 40,
   "id": "d7d4d59d-6200-460b-8f5f-ef57b59bc2dd",
   "metadata": {},
   "outputs": [
    {
     "name": "stdout",
     "output_type": "stream",
     "text": [
      "Accuracy is:  89.02 %\n",
      "Precision is:  0.87\n",
      "Recall is:  0.91\n",
      "F1-score is:  0.89\n"
     ]
    }
   ],
   "source": [
    "# Print stats\n",
    "print('Accuracy is: ', ((zero_values_logreg + two_values_logreg)/len(test_logreg_acc)*100), '%')\n",
    "print('Precision is: ', round(test_logreg_precision, 2))\n",
    "print('Recall is: ', round(test_logreg_recall, 2))\n",
    "print('F1-score is: ', round(test_logreg_f1, 2))"
   ]
  },
  {
   "cell_type": "code",
   "execution_count": 41,
   "id": "b5c19b49-a25d-4102-b8b7-497c14cc55f3",
   "metadata": {},
   "outputs": [],
   "source": [
    "# Find probabilities for test vector\n",
    "target_logreg_prob = logreg.predict_proba(test_vector)[:, 1]"
   ]
  },
  {
   "cell_type": "code",
   "execution_count": 42,
   "id": "31cdaf2f-61a8-4ca3-be8d-3202971b78e7",
   "metadata": {},
   "outputs": [],
   "source": [
    "# Find ROC curve\n",
    "false_pos_rate_logreg, true_pos_rate_logreg, threshold_logreg = roc_curve(target_test, target_logreg_prob)"
   ]
  },
  {
   "cell_type": "code",
   "execution_count": 43,
   "id": "f8aeeea2-c124-47ac-a05c-aed69ce97c1d",
   "metadata": {},
   "outputs": [
    {
     "data": {
      "text/plain": [
       "<function matplotlib.pyplot.show(close=None, block=None)>"
      ]
     },
     "execution_count": 43,
     "metadata": {},
     "output_type": "execute_result"
    },
    {
     "data": {
      "image/png": "[encoded data removed]",
      "text/plain": [
       "<Figure size 640x480 with 1 Axes>"
      ]
     },
     "metadata": {},
     "output_type": "display_data"
    }
   ],
   "source": [
    "# Plot ROC curve\n",
    "plt.title('Receiver Operating Characteristic Logistic Regression')\n",
    "plt.plot(false_pos_rate_logreg, true_pos_rate_logreg)\n",
    "plt.plot([0, 1], ls = '--')\n",
    "plt.plot([0, 0], [1, 0], c = '0.7')\n",
    "plt.plot([1, 1], c = '0.7')\n",
    "plt.ylabel('True Positive Rate')\n",
    "plt.xlabel('False Positive Rate')\n",
    "plt.show"
   ]
  },
  {
   "cell_type": "markdown",
   "id": "fa766417-4f24-457f-bf36-d0bc107de063",
   "metadata": {},
   "source": [
    "## Part 3 Fit and Test Random Forest Model"
   ]
  },
  {
   "cell_type": "code",
   "execution_count": 45,
   "id": "8e5ebdca-a2a2-49ca-af80-15ee11f4419b",
   "metadata": {},
   "outputs": [],
   "source": [
    "# Create random forest classifier object\n",
    "randomforest = RandomForestClassifier(random_state = 18, n_jobs = -1)"
   ]
  },
  {
   "cell_type": "code",
   "execution_count": 46,
   "id": "e9eeb97f-751c-46cc-9c02-3cad01d65666",
   "metadata": {},
   "outputs": [],
   "source": [
    "# Fit random forest to training data\n",
    "forest_rand = randomforest.fit(training_vector, target_train)"
   ]
  },
  {
   "cell_type": "code",
   "execution_count": 47,
   "id": "ada71db2-d440-4f26-bf5f-7a406d131331",
   "metadata": {},
   "outputs": [],
   "source": [
    "# Predict test results from random forest\n",
    "forest_test_pred = forest_rand.predict(test_vector)"
   ]
  },
  {
   "cell_type": "code",
   "execution_count": 48,
   "id": "05896f36-9661-4992-8109-dfd496da0f67",
   "metadata": {},
   "outputs": [],
   "source": [
    "# Add components so we can check accuracy\n",
    "forest_test_acc = forest_test_pred + target_test"
   ]
  },
  {
   "cell_type": "code",
   "execution_count": 49,
   "id": "b49e33db-ab00-4f45-84f1-fbfffbb32f87",
   "metadata": {},
   "outputs": [],
   "source": [
    "# Create confusion matrix from random forest results\n",
    "forest_confusion = confusion_matrix(target_test, forest_test_pred)"
   ]
  },
  {
   "cell_type": "code",
   "execution_count": 50,
   "id": "36ae67dd-0deb-45b8-bd58-d8521c5c4fdd",
   "metadata": {},
   "outputs": [],
   "source": [
    "# Create dataframe from confusion matrix\n",
    "forest_test_df = pd.DataFrame(forest_confusion)"
   ]
  },
  {
   "cell_type": "code",
   "execution_count": 51,
   "id": "ddf08672-e7da-476f-8a51-8ba785e555f8",
   "metadata": {},
   "outputs": [
    {
     "data": {
      "text/plain": [
       "<function matplotlib.pyplot.show(close=None, block=None)>"
      ]
     },
     "execution_count": 51,
     "metadata": {},
     "output_type": "execute_result"
    },
    {
     "data": {
      "image/png": "[encoded data removed]",
      "text/plain": [
       "<Figure size 640x480 with 1 Axes>"
      ]
     },
     "metadata": {},
     "output_type": "display_data"
    }
   ],
   "source": [
    "# Plot confusion matrix\n",
    "sns.heatmap(forest_test_df, annot = True, cbar = None, cmap = 'Blues', fmt = 'g')\n",
    "plt.title('Confusion Matrix for Random Forest') \n",
    "plt.tight_layout()\n",
    "plt.ylabel('True Values')\n",
    "plt.xlabel('Predicted Values')\n",
    "plt.show"
   ]
  },
  {
   "cell_type": "code",
   "execution_count": 52,
   "id": "40566cb8-455e-4693-b6e1-e3f9ec823e39",
   "metadata": {},
   "outputs": [],
   "source": [
    "# Find all values of 0 for random forest\n",
    "zero_values_forest = forest_test_acc[(forest_test_acc == 0)].count()"
   ]
  },
  {
   "cell_type": "code",
   "execution_count": 53,
   "id": "151555d0-ebce-423b-8292-302b58574760",
   "metadata": {},
   "outputs": [],
   "source": [
    "# Find all values of 2 for random forest\n",
    "two_values_forest = forest_test_acc[(forest_test_acc == 2)].count()"
   ]
  },
  {
   "cell_type": "code",
   "execution_count": 54,
   "id": "e50d9068-e738-47fd-b66b-39d324a30fcf",
   "metadata": {},
   "outputs": [],
   "source": [
    "# Find precision of random forest\n",
    "forest_precision = 2085 / (2085 + 377)"
   ]
  },
  {
   "cell_type": "code",
   "execution_count": 55,
   "id": "2b2deddf-18a3-4375-a6d4-c75374d8bdcc",
   "metadata": {},
   "outputs": [],
   "source": [
    "# Find recall for random forest\n",
    "forest_recall = 2085 / (2085 + 363)"
   ]
  },
  {
   "cell_type": "code",
   "execution_count": 56,
   "id": "1a0d75ff-ee10-4182-af68-5d87ca9dc8c4",
   "metadata": {},
   "outputs": [],
   "source": [
    "# Find f1 for random forest\n",
    "forest_f1 = 2 * (forest_precision * forest_recall) / (forest_precision + forest_recall)"
   ]
  },
  {
   "cell_type": "code",
   "execution_count": 57,
   "id": "04f9004e-4475-41fc-93a4-add8f0eb6a67",
   "metadata": {},
   "outputs": [
    {
     "name": "stdout",
     "output_type": "stream",
     "text": [
      "Accuracy is:  85.2 %\n",
      "Precision is:  0.85\n",
      "Recall is:  0.85\n",
      "F1-score is:  0.85\n"
     ]
    }
   ],
   "source": [
    "# Print stats\n",
    "print('Accuracy is: ', ((zero_values_forest + two_values_forest)/len(forest_test_acc)*100), '%')\n",
    "print('Precision is: ', round(forest_precision, 2))\n",
    "print('Recall is: ', round(forest_recall, 2))\n",
    "print('F1-score is: ', round(forest_f1, 2))"
   ]
  },
  {
   "cell_type": "code",
   "execution_count": 58,
   "id": "2b806f2d-d6a5-413c-b200-3eae5cc20699",
   "metadata": {},
   "outputs": [],
   "source": [
    "# Find probabilities from test vector for random forest model\n",
    "forest_target_prob = forest_rand.predict_proba(test_vector)[:, 1]"
   ]
  },
  {
   "cell_type": "code",
   "execution_count": 59,
   "id": "bed6d743-8f1c-44d1-b322-852f8fe53d43",
   "metadata": {},
   "outputs": [],
   "source": [
    "# Find ROC curve\n",
    "forest_false_pos_rate, true_pos_rate_forest, threshold_forest = roc_curve(target_test, forest_target_prob)"
   ]
  },
  {
   "cell_type": "code",
   "execution_count": 60,
   "id": "fb25aac1-6bec-4663-9218-e57409c32ed0",
   "metadata": {},
   "outputs": [
    {
     "data": {
      "text/plain": [
       "<function matplotlib.pyplot.show(close=None, block=None)>"
      ]
     },
     "execution_count": 60,
     "metadata": {},
     "output_type": "execute_result"
    },
    {
     "data": {
      "image/png": "[encoded data removed]",
      "text/plain": [
       "<Figure size 640x480 with 1 Axes>"
      ]
     },
     "metadata": {},
     "output_type": "display_data"
    }
   ],
   "source": [
    "# Plot ROC curve\n",
    "plt.title('Receiver Operating Characteristic Random Forest')\n",
    "plt.plot(forest_false_pos_rate, true_pos_rate_forest)\n",
    "plt.plot([0, 1], ls = '--')\n",
    "plt.plot([0, 0], [1, 0], c = '0.7')\n",
    "plt.plot([1, 1], c = '0.7')\n",
    "plt.ylabel('True Positive Rate')\n",
    "plt.xlabel('False Positive Rate')\n",
    "plt.show"
   ]
  },
  {
   "cell_type": "markdown",
   "id": "70adef22-12b0-42b5-b57c-ae7c39d5866d",
   "metadata": {},
   "source": [
    "## Part 4 Compare ROC"
   ]
  },
  {
   "cell_type": "code",
   "execution_count": 62,
   "id": "82fe8056-11a0-4d71-9b07-2e7c39c67cfc",
   "metadata": {},
   "outputs": [
    {
     "data": {
      "text/plain": [
       "<function matplotlib.pyplot.show(close=None, block=None)>"
      ]
     },
     "execution_count": 62,
     "metadata": {},
     "output_type": "execute_result"
    },
    {
     "data": {
      "image/png": "[encoded data removed]",
      "text/plain": [
       "<Figure size 640x480 with 1 Axes>"
      ]
     },
     "metadata": {},
     "output_type": "display_data"
    }
   ],
   "source": [
    "# Create one plot for both ROC curves to compare\n",
    "plt.title('Receiver Operating Characteristic Random Forest and Logistic Regression')\n",
    "plt.plot(forest_false_pos_rate, true_pos_rate_forest, label = 'Random Forest')\n",
    "plt.plot(false_pos_rate_logreg, true_pos_rate_logreg, label = 'Logistic Regression')\n",
    "plt.plot([0, 1], ls = '--')\n",
    "plt.plot([0, 0], [1, 0], c = '0.7')\n",
    "plt.plot([1, 1], c = '0.7')\n",
    "plt.ylabel('True Positive Rate')\n",
    "plt.xlabel('False Positive Rate')\n",
    "plt.legend()\n",
    "plt.show"
   ]
  },
  {
   "cell_type": "code",
   "execution_count": null,
   "id": "6a6ddffc-c614-4e0b-b8dc-29e71d308bfe",
   "metadata": {},
   "outputs": [],
   "source": []
  }
 ],
 "metadata": {
  "kernelspec": {
   "display_name": "Python 3 (ipykernel)",
   "language": "python",
   "name": "python3"
  },
  "language_info": {
   "codemirror_mode": {
    "name": "ipython",
    "version": 3
   },
   "file_extension": ".py",
   "mimetype": "text/x-python",
   "name": "python",
   "nbconvert_exporter": "python",
   "pygments_lexer": "ipython3",
   "version": "3.12.4"
  }
 },
 "nbformat": 4,
 "nbformat_minor": 5
}
